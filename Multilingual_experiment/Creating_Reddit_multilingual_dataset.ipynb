{
  "nbformat": 4,
  "nbformat_minor": 0,
  "metadata": {
    "colab": {
      "name": "Creating Reddit multilingual dataset.ipynb",
      "provenance": [],
      "collapsed_sections": [],
      "toc_visible": true
    },
    "kernelspec": {
      "name": "python3",
      "display_name": "Python 3"
    }
  },
  "cells": [
    {
      "cell_type": "markdown",
      "metadata": {
        "id": "Olw0uoDQopuK"
      },
      "source": [
        "# Creating a multilingual dataset from Reddit\n",
        "In this notebook we will be building a multilingual dataset divided in categories from Reddit.\n",
        "\n",
        "The chosen categories are:\n",
        " - Politics\n",
        " - Science\n",
        " - Sport\n",
        " - Videogame\n",
        "\n",
        "The chosen languages are:\n",
        " - English\n",
        " - German\n",
        " - Italian\n",
        " - Spanish\n",
        " - Portuguese\n",
        "\n",
        "Finally, we download some more control data in French, to test the performances of the models on an unknown language"
      ]
    },
    {
      "cell_type": "markdown",
      "metadata": {
        "id": "l7g0eK_oN6LB"
      },
      "source": [
        "## Import"
      ]
    },
    {
      "cell_type": "code",
      "metadata": {
        "id": "rxB3GwlWX6bS"
      },
      "source": [
        "import requests\n",
        "import pandas as pd\n",
        "import time"
      ],
      "execution_count": null,
      "outputs": []
    },
    {
      "cell_type": "code",
      "metadata": {
        "id": "0tb5q_t_U8LB"
      },
      "source": [
        "from pydrive.auth import GoogleAuth\n",
        "from pydrive.drive import GoogleDrive\n",
        "from google.colab import auth\n",
        "from oauth2client.client import GoogleCredentials\n",
        "from googleapiclient.http import MediaFileUpload\n",
        "from googleapiclient.discovery import build\n",
        "\n",
        "auth.authenticate_user()\n",
        "gauth = GoogleAuth()\n",
        "gauth.credentials = GoogleCredentials.get_application_default()\n",
        "drive = GoogleDrive(gauth)"
      ],
      "execution_count": null,
      "outputs": []
    },
    {
      "cell_type": "code",
      "metadata": {
        "id": "5TXjjaUEU93n"
      },
      "source": [
        "from google.colab import auth\n",
        "from googleapiclient.http import MediaFileUpload\n",
        "from googleapiclient.discovery import build\n",
        "\n",
        "auth.authenticate_user()\n",
        "\n",
        "drive_service = build('drive', 'v3', cache_discovery=False)\n",
        "\n",
        "def save_file_to_drive(name, path):\n",
        "  file_metadata = {\n",
        "    'name': name,\n",
        "    'mimeType': 'application/octet-stream'\n",
        "  }\n",
        "\n",
        "  media = MediaFileUpload(path, mimetype='application/octet-stream', resumable=True)\n",
        "\n",
        "  created = drive_service.files().create(body=file_metadata, media_body=media, fields='id').execute()\n",
        "\n",
        "  print('File ID: {}'.format(created.get('id')))\n",
        "\n",
        "  return created"
      ],
      "execution_count": null,
      "outputs": []
    },
    {
      "cell_type": "code",
      "metadata": {
        "id": "zfW2obFTRic2"
      },
      "source": [
        "from pydrive.auth import GoogleAuth\n",
        "from pydrive.drive import GoogleDrive\n",
        "from google.colab import auth\n",
        "from oauth2client.client import GoogleCredentials\n",
        "from googleapiclient.http import MediaFileUpload\n",
        "from googleapiclient.discovery import build\n",
        "\n",
        "auth.authenticate_user()\n",
        "gauth = GoogleAuth()\n",
        "gauth.credentials = GoogleCredentials.get_application_default()\n",
        "drive = GoogleDrive(gauth)"
      ],
      "execution_count": null,
      "outputs": []
    },
    {
      "cell_type": "code",
      "metadata": {
        "id": "Ls32XdbARtBa"
      },
      "source": [
        "def upload_from_drive(link, name):\n",
        "  id = link.split('file/d/')[1].split('/view?usp=sharing')[0]\n",
        "  downloaded = drive.CreateFile({'id': id}) \n",
        "  downloaded.GetContentFile(name) "
      ],
      "execution_count": null,
      "outputs": []
    },
    {
      "cell_type": "markdown",
      "metadata": {
        "id": "nSPkCp_GOEM1"
      },
      "source": [
        "## Reddit scraping"
      ]
    },
    {
      "cell_type": "code",
      "metadata": {
        "id": "7q_bXy8zoRkh"
      },
      "source": [
        "url = \"https://api.pushshift.io/reddit/search/submission\"\n",
        "\n",
        "def crawl_page(subreddit: str, sort_by: str, last_page = None):\n",
        "  \n",
        "  params = {\"subreddit\": subreddit, \"size\": 500, \"sort\": \"desc\", \"sort_type\": sort_by}\n",
        "  if last_page is not None:\n",
        "    if len(last_page) > 0:\n",
        "      # resume from where we left at the last page\n",
        "      params[\"before\"] = last_page[-1][sort_by]\n",
        "    else:\n",
        "      # the last page was empty, we are past the last page\n",
        "      return []\n",
        "  results = requests.get(url, params)\n",
        "  if not results.ok:\n",
        "    # something wrong happened\n",
        "    raise Exception(\"Server returned status code {}\".format(results.status_code))\n",
        "  return results.json()[\"data\"]\n",
        "\n",
        "def crawl_subreddit(subreddit, sort_by, max_submissions = 10000):\n",
        "  \n",
        "  submissions = []\n",
        "  last_page = None\n",
        "  while last_page != [] and len(submissions) < max_submissions:\n",
        "    try:\n",
        "      last_page = crawl_page(subreddit, sort_by, last_page)\n",
        "    except:\n",
        "      break\n",
        "    submissions += last_page\n",
        "    print(str(len(submissions)) + str(\" posts obtained out of \") + str(max_submissions))\n",
        "    time.sleep(2)\n",
        "  return submissions[:max_submissions]\n"
      ],
      "execution_count": null,
      "outputs": []
    },
    {
      "cell_type": "markdown",
      "metadata": {
        "id": "81LyoRiIOHKI"
      },
      "source": [
        "## Chosen subreddits"
      ]
    },
    {
      "cell_type": "markdown",
      "metadata": {
        "id": "68Vu5oURpCjm"
      },
      "source": [
        "The chosen subreddits are:\n",
        " - For English\n",
        "    - Politics: r/politics\n",
        "    - Science & Technology: r/science \n",
        "    - Sport: r/sports\n",
        "    - Videogame: r/Games\n",
        " - For Italian\n",
        "    - Politics: r/politicaITA + (r/leganord, r/M5S, r/osservatoriorenzi, r/partitoDemocratico, r/POL_IT)\n",
        "    - Science: r/scienzaItalia + (r/AndroidItalia, r/ItalyInformatica, r/programmazione)\n",
        "    - Sport: r/ItalyCalcio è r/Italy-flair \"Sport\"\n",
        "    - Games & Videogames: r/craftitaly, r/gdr, r/ItalianGaming\n",
        " - For German\n",
        "    - Politics: r/de flair:politik\n",
        "    - Science: r/Wissenschaft + (r/Physik, r/de_IT, r/de_android, r/informatik)\n",
        "    - Sport: r/bundesliga + (r/FCBayern, r/BorussiaDortmund)\n",
        "    - Videogame: zocken\n",
        " - For Spanish\n",
        "    - Politics: r/podemos, r/libertario, r/Mexico_news-flair \"politica\"(vari) + (r/MundoEnEspanol,r/noticias_en_espanol,r/noticiasdelmundo)\n",
        "    - Science: r/ciencia + (r/techES, r/androidES, r/MundoGeek)\n",
        "    - Sport: r/futbol + (r/fulbo, r/futbolmx)\n",
        "    - Videogame: r/Argaming + (r/gamingESP, r/videojuegos, r/videojuego)\n",
        " - For Portuguese\n",
        "    - Politics: r/politicaBrasileira + (r/brasil-flair:\"noticia\" o \"politica\", r/portugal-flair:)\n",
        "    - Science: r/cienciabrasil\n",
        "    - Sport: r/futebol\n",
        "    - Videogame: r/gamesEcultura + (r/rpg_brasil)\n"
      ]
    },
    {
      "cell_type": "code",
      "metadata": {
        "id": "O39GFqeho_KC"
      },
      "source": [
        "subreddit_list = ['politics', 'science', 'sports', 'Games',\n",
        "                  'politicaITA', 'scienzaItalia', 'ItalyCalcio','ItalianGaming',\n",
        "                  'de', 'Wissenschaft', 'bundesliga', 'zocken',\n",
        "                  'Mexico_news', 'ciencia', 'futbol', 'Argaming',\n",
        "                  'politicaBrasileira', 'futebol', 'gamesEcultura', 'cienciabrasil',\n",
        "                  'de_IT', 'informatik', 'de_android',\n",
        "                  'techES', 'fulbo', 'futbolmx', 'gamingESP',\n",
        "                  'corinthians','coronabr']"
      ],
      "execution_count": null,
      "outputs": []
    },
    {
      "cell_type": "code",
      "metadata": {
        "id": "MY0tX-LkX-bU",
        "colab": {
          "base_uri": "https://localhost:8080/",
          "height": 1000
        },
        "outputId": "5e9307b4-0a5d-433e-e934-95242c7a6b13"
      },
      "source": [
        "df = pd.DataFrame()\n",
        "for subreddit in subreddit_list:\n",
        "  print(\"\\nDownloading subreddit \", subreddit)\n",
        "  print(\"\\n\")\n",
        "  latest_submissions = []\n",
        "  latest_submissions = crawl_subreddit(subreddit, 'created_utc')\n",
        "  df = pd.concat([df, pd.DataFrame(latest_submissions)])\n",
        "df.to_csv('multilingual_reddit.csv', index=False)\n",
        "save_file_to_drive('multilingual_reddit.csv', 'multilingual_reddit.csv')"
      ],
      "execution_count": null,
      "outputs": [
        {
          "output_type": "stream",
          "text": [
            "\n",
            "Downloading subreddit  politics\n",
            "\n",
            "\n",
            "100 posts obtained out of 10000\n",
            "200 posts obtained out of 10000\n",
            "300 posts obtained out of 10000\n",
            "400 posts obtained out of 10000\n",
            "500 posts obtained out of 10000\n",
            "600 posts obtained out of 10000\n",
            "700 posts obtained out of 10000\n",
            "800 posts obtained out of 10000\n",
            "900 posts obtained out of 10000\n",
            "1000 posts obtained out of 10000\n",
            "1100 posts obtained out of 10000\n",
            "1200 posts obtained out of 10000\n",
            "1300 posts obtained out of 10000\n",
            "1400 posts obtained out of 10000\n",
            "1500 posts obtained out of 10000\n",
            "1600 posts obtained out of 10000\n",
            "1700 posts obtained out of 10000\n",
            "1800 posts obtained out of 10000\n",
            "1900 posts obtained out of 10000\n",
            "2000 posts obtained out of 10000\n",
            "2100 posts obtained out of 10000\n",
            "2200 posts obtained out of 10000\n",
            "2300 posts obtained out of 10000\n",
            "2400 posts obtained out of 10000\n",
            "2500 posts obtained out of 10000\n",
            "2600 posts obtained out of 10000\n",
            "\n",
            "Downloading subreddit  science\n",
            "\n",
            "\n",
            "100 posts obtained out of 10000\n",
            "200 posts obtained out of 10000\n",
            "300 posts obtained out of 10000\n",
            "400 posts obtained out of 10000\n",
            "500 posts obtained out of 10000\n",
            "600 posts obtained out of 10000\n",
            "700 posts obtained out of 10000\n",
            "800 posts obtained out of 10000\n",
            "900 posts obtained out of 10000\n",
            "1000 posts obtained out of 10000\n",
            "1100 posts obtained out of 10000\n",
            "1200 posts obtained out of 10000\n",
            "1300 posts obtained out of 10000\n",
            "1400 posts obtained out of 10000\n",
            "1500 posts obtained out of 10000\n",
            "1600 posts obtained out of 10000\n",
            "1700 posts obtained out of 10000\n",
            "1800 posts obtained out of 10000\n",
            "1900 posts obtained out of 10000\n",
            "\n",
            "Downloading subreddit  sports\n",
            "\n",
            "\n",
            "100 posts obtained out of 10000\n",
            "200 posts obtained out of 10000\n",
            "300 posts obtained out of 10000\n",
            "400 posts obtained out of 10000\n",
            "500 posts obtained out of 10000\n",
            "600 posts obtained out of 10000\n",
            "700 posts obtained out of 10000\n",
            "800 posts obtained out of 10000\n",
            "900 posts obtained out of 10000\n",
            "1000 posts obtained out of 10000\n",
            "1100 posts obtained out of 10000\n",
            "1200 posts obtained out of 10000\n",
            "1300 posts obtained out of 10000\n",
            "1400 posts obtained out of 10000\n",
            "1500 posts obtained out of 10000\n",
            "1600 posts obtained out of 10000\n",
            "1700 posts obtained out of 10000\n",
            "1800 posts obtained out of 10000\n",
            "1900 posts obtained out of 10000\n",
            "2000 posts obtained out of 10000\n",
            "2100 posts obtained out of 10000\n",
            "2200 posts obtained out of 10000\n",
            "2300 posts obtained out of 10000\n",
            "2400 posts obtained out of 10000\n",
            "2500 posts obtained out of 10000\n",
            "2600 posts obtained out of 10000\n",
            "2700 posts obtained out of 10000\n",
            "2800 posts obtained out of 10000\n",
            "2900 posts obtained out of 10000\n",
            "3000 posts obtained out of 10000\n",
            "3100 posts obtained out of 10000\n",
            "3200 posts obtained out of 10000\n",
            "3300 posts obtained out of 10000\n",
            "3400 posts obtained out of 10000\n",
            "3500 posts obtained out of 10000\n",
            "3600 posts obtained out of 10000\n",
            "3700 posts obtained out of 10000\n",
            "3800 posts obtained out of 10000\n",
            "\n",
            "Downloading subreddit  Games\n",
            "\n",
            "\n",
            "100 posts obtained out of 10000\n",
            "200 posts obtained out of 10000\n",
            "300 posts obtained out of 10000\n",
            "400 posts obtained out of 10000\n",
            "500 posts obtained out of 10000\n",
            "600 posts obtained out of 10000\n",
            "700 posts obtained out of 10000\n",
            "800 posts obtained out of 10000\n",
            "900 posts obtained out of 10000\n",
            "1000 posts obtained out of 10000\n",
            "1100 posts obtained out of 10000\n",
            "1200 posts obtained out of 10000\n",
            "1300 posts obtained out of 10000\n",
            "1400 posts obtained out of 10000\n",
            "1500 posts obtained out of 10000\n",
            "1600 posts obtained out of 10000\n",
            "1700 posts obtained out of 10000\n",
            "1800 posts obtained out of 10000\n",
            "1900 posts obtained out of 10000\n",
            "2000 posts obtained out of 10000\n",
            "2100 posts obtained out of 10000\n",
            "2200 posts obtained out of 10000\n",
            "2300 posts obtained out of 10000\n",
            "2400 posts obtained out of 10000\n",
            "2500 posts obtained out of 10000\n",
            "2600 posts obtained out of 10000\n",
            "2700 posts obtained out of 10000\n",
            "2800 posts obtained out of 10000\n",
            "2900 posts obtained out of 10000\n",
            "3000 posts obtained out of 10000\n",
            "3100 posts obtained out of 10000\n",
            "3200 posts obtained out of 10000\n",
            "3300 posts obtained out of 10000\n",
            "3400 posts obtained out of 10000\n",
            "3500 posts obtained out of 10000\n",
            "3600 posts obtained out of 10000\n",
            "3700 posts obtained out of 10000\n",
            "3800 posts obtained out of 10000\n",
            "\n",
            "Downloading subreddit  politicaITA\n",
            "\n",
            "\n",
            "100 posts obtained out of 10000\n",
            "200 posts obtained out of 10000\n",
            "300 posts obtained out of 10000\n",
            "400 posts obtained out of 10000\n",
            "500 posts obtained out of 10000\n",
            "600 posts obtained out of 10000\n",
            "700 posts obtained out of 10000\n",
            "800 posts obtained out of 10000\n",
            "900 posts obtained out of 10000\n",
            "1000 posts obtained out of 10000\n",
            "1100 posts obtained out of 10000\n",
            "1200 posts obtained out of 10000\n",
            "1300 posts obtained out of 10000\n",
            "1398 posts obtained out of 10000\n",
            "1498 posts obtained out of 10000\n",
            "1598 posts obtained out of 10000\n",
            "1698 posts obtained out of 10000\n",
            "1798 posts obtained out of 10000\n",
            "1898 posts obtained out of 10000\n",
            "1998 posts obtained out of 10000\n",
            "2098 posts obtained out of 10000\n",
            "2198 posts obtained out of 10000\n",
            "2298 posts obtained out of 10000\n",
            "2398 posts obtained out of 10000\n",
            "2498 posts obtained out of 10000\n",
            "2598 posts obtained out of 10000\n",
            "2698 posts obtained out of 10000\n",
            "2798 posts obtained out of 10000\n",
            "2898 posts obtained out of 10000\n",
            "2998 posts obtained out of 10000\n",
            "3098 posts obtained out of 10000\n",
            "3198 posts obtained out of 10000\n",
            "3298 posts obtained out of 10000\n",
            "3398 posts obtained out of 10000\n",
            "3498 posts obtained out of 10000\n",
            "3598 posts obtained out of 10000\n",
            "3698 posts obtained out of 10000\n",
            "3798 posts obtained out of 10000\n",
            "3898 posts obtained out of 10000\n",
            "3998 posts obtained out of 10000\n",
            "4098 posts obtained out of 10000\n",
            "4198 posts obtained out of 10000\n",
            "4298 posts obtained out of 10000\n",
            "4398 posts obtained out of 10000\n",
            "4498 posts obtained out of 10000\n",
            "4598 posts obtained out of 10000\n",
            "4698 posts obtained out of 10000\n",
            "4798 posts obtained out of 10000\n",
            "4898 posts obtained out of 10000\n",
            "4998 posts obtained out of 10000\n",
            "5098 posts obtained out of 10000\n",
            "5198 posts obtained out of 10000\n",
            "5298 posts obtained out of 10000\n",
            "5398 posts obtained out of 10000\n",
            "5498 posts obtained out of 10000\n",
            "5598 posts obtained out of 10000\n",
            "5698 posts obtained out of 10000\n",
            "5798 posts obtained out of 10000\n",
            "\n",
            "Downloading subreddit  scienzaItalia\n",
            "\n",
            "\n",
            "100 posts obtained out of 10000\n",
            "200 posts obtained out of 10000\n",
            "300 posts obtained out of 10000\n",
            "400 posts obtained out of 10000\n",
            "499 posts obtained out of 10000\n",
            "599 posts obtained out of 10000\n",
            "699 posts obtained out of 10000\n",
            "799 posts obtained out of 10000\n",
            "899 posts obtained out of 10000\n",
            "999 posts obtained out of 10000\n",
            "1099 posts obtained out of 10000\n",
            "1199 posts obtained out of 10000\n",
            "1299 posts obtained out of 10000\n",
            "1364 posts obtained out of 10000\n",
            "1364 posts obtained out of 10000\n",
            "\n",
            "Downloading subreddit  ItalyCalcio\n",
            "\n",
            "\n",
            "100 posts obtained out of 10000\n",
            "200 posts obtained out of 10000\n",
            "300 posts obtained out of 10000\n",
            "400 posts obtained out of 10000\n",
            "500 posts obtained out of 10000\n",
            "600 posts obtained out of 10000\n",
            "700 posts obtained out of 10000\n",
            "800 posts obtained out of 10000\n",
            "900 posts obtained out of 10000\n",
            "1000 posts obtained out of 10000\n",
            "1100 posts obtained out of 10000\n",
            "1200 posts obtained out of 10000\n",
            "1300 posts obtained out of 10000\n",
            "1400 posts obtained out of 10000\n",
            "1500 posts obtained out of 10000\n",
            "1600 posts obtained out of 10000\n",
            "1699 posts obtained out of 10000\n",
            "1799 posts obtained out of 10000\n",
            "1861 posts obtained out of 10000\n",
            "\n",
            "Downloading subreddit  ItalianGaming\n",
            "\n",
            "\n",
            "100 posts obtained out of 10000\n",
            "200 posts obtained out of 10000\n",
            "239 posts obtained out of 10000\n",
            "239 posts obtained out of 10000\n",
            "\n",
            "Downloading subreddit  de\n",
            "\n",
            "\n",
            "100 posts obtained out of 10000\n",
            "200 posts obtained out of 10000\n",
            "300 posts obtained out of 10000\n",
            "400 posts obtained out of 10000\n",
            "500 posts obtained out of 10000\n",
            "600 posts obtained out of 10000\n",
            "700 posts obtained out of 10000\n",
            "800 posts obtained out of 10000\n",
            "900 posts obtained out of 10000\n",
            "1000 posts obtained out of 10000\n",
            "1100 posts obtained out of 10000\n",
            "1200 posts obtained out of 10000\n",
            "1300 posts obtained out of 10000\n",
            "1400 posts obtained out of 10000\n",
            "1500 posts obtained out of 10000\n",
            "1600 posts obtained out of 10000\n",
            "1700 posts obtained out of 10000\n",
            "1800 posts obtained out of 10000\n",
            "1900 posts obtained out of 10000\n",
            "2000 posts obtained out of 10000\n",
            "2100 posts obtained out of 10000\n",
            "2200 posts obtained out of 10000\n",
            "2300 posts obtained out of 10000\n",
            "2400 posts obtained out of 10000\n",
            "2500 posts obtained out of 10000\n",
            "2600 posts obtained out of 10000\n",
            "2700 posts obtained out of 10000\n",
            "2800 posts obtained out of 10000\n",
            "2900 posts obtained out of 10000\n",
            "3000 posts obtained out of 10000\n",
            "3100 posts obtained out of 10000\n",
            "3200 posts obtained out of 10000\n",
            "3300 posts obtained out of 10000\n",
            "\n",
            "Downloading subreddit  Wissenschaft\n",
            "\n",
            "\n",
            "100 posts obtained out of 10000\n",
            "200 posts obtained out of 10000\n",
            "300 posts obtained out of 10000\n",
            "400 posts obtained out of 10000\n",
            "500 posts obtained out of 10000\n",
            "\n",
            "Downloading subreddit  bundesliga\n",
            "\n",
            "\n",
            "100 posts obtained out of 10000\n",
            "200 posts obtained out of 10000\n",
            "300 posts obtained out of 10000\n",
            "400 posts obtained out of 10000\n",
            "500 posts obtained out of 10000\n",
            "600 posts obtained out of 10000\n",
            "700 posts obtained out of 10000\n",
            "800 posts obtained out of 10000\n",
            "900 posts obtained out of 10000\n",
            "1000 posts obtained out of 10000\n",
            "1100 posts obtained out of 10000\n",
            "1200 posts obtained out of 10000\n",
            "1300 posts obtained out of 10000\n",
            "1400 posts obtained out of 10000\n",
            "1500 posts obtained out of 10000\n",
            "1600 posts obtained out of 10000\n",
            "1700 posts obtained out of 10000\n",
            "1800 posts obtained out of 10000\n",
            "1900 posts obtained out of 10000\n",
            "2000 posts obtained out of 10000\n",
            "2100 posts obtained out of 10000\n",
            "2200 posts obtained out of 10000\n",
            "2300 posts obtained out of 10000\n",
            "2400 posts obtained out of 10000\n",
            "2500 posts obtained out of 10000\n",
            "2600 posts obtained out of 10000\n",
            "2700 posts obtained out of 10000\n",
            "2800 posts obtained out of 10000\n",
            "2900 posts obtained out of 10000\n",
            "3000 posts obtained out of 10000\n",
            "3100 posts obtained out of 10000\n",
            "3200 posts obtained out of 10000\n",
            "3300 posts obtained out of 10000\n",
            "3400 posts obtained out of 10000\n",
            "3500 posts obtained out of 10000\n",
            "3600 posts obtained out of 10000\n",
            "3700 posts obtained out of 10000\n",
            "3800 posts obtained out of 10000\n",
            "3900 posts obtained out of 10000\n",
            "4000 posts obtained out of 10000\n",
            "4100 posts obtained out of 10000\n",
            "4200 posts obtained out of 10000\n",
            "4300 posts obtained out of 10000\n",
            "\n",
            "Downloading subreddit  Mexico_news\n",
            "\n",
            "\n",
            "100 posts obtained out of 10000\n",
            "200 posts obtained out of 10000\n",
            "300 posts obtained out of 10000\n",
            "400 posts obtained out of 10000\n",
            "500 posts obtained out of 10000\n",
            "600 posts obtained out of 10000\n",
            "700 posts obtained out of 10000\n",
            "800 posts obtained out of 10000\n",
            "900 posts obtained out of 10000\n",
            "1000 posts obtained out of 10000\n",
            "1100 posts obtained out of 10000\n",
            "1200 posts obtained out of 10000\n",
            "1300 posts obtained out of 10000\n",
            "1400 posts obtained out of 10000\n",
            "1500 posts obtained out of 10000\n",
            "1600 posts obtained out of 10000\n",
            "1700 posts obtained out of 10000\n",
            "1800 posts obtained out of 10000\n",
            "1900 posts obtained out of 10000\n",
            "2000 posts obtained out of 10000\n",
            "2100 posts obtained out of 10000\n",
            "2200 posts obtained out of 10000\n",
            "2300 posts obtained out of 10000\n",
            "2400 posts obtained out of 10000\n",
            "2500 posts obtained out of 10000\n",
            "2600 posts obtained out of 10000\n",
            "2700 posts obtained out of 10000\n",
            "2800 posts obtained out of 10000\n",
            "2900 posts obtained out of 10000\n",
            "3000 posts obtained out of 10000\n",
            "3100 posts obtained out of 10000\n",
            "3200 posts obtained out of 10000\n",
            "3300 posts obtained out of 10000\n",
            "3400 posts obtained out of 10000\n",
            "3500 posts obtained out of 10000\n",
            "3600 posts obtained out of 10000\n",
            "3700 posts obtained out of 10000\n",
            "3800 posts obtained out of 10000\n",
            "3900 posts obtained out of 10000\n",
            "4000 posts obtained out of 10000\n",
            "4100 posts obtained out of 10000\n",
            "4200 posts obtained out of 10000\n",
            "4300 posts obtained out of 10000\n",
            "4400 posts obtained out of 10000\n",
            "4500 posts obtained out of 10000\n",
            "4600 posts obtained out of 10000\n",
            "4700 posts obtained out of 10000\n",
            "4800 posts obtained out of 10000\n",
            "4900 posts obtained out of 10000\n",
            "5000 posts obtained out of 10000\n",
            "5100 posts obtained out of 10000\n",
            "5200 posts obtained out of 10000\n",
            "5300 posts obtained out of 10000\n",
            "5400 posts obtained out of 10000\n",
            "5500 posts obtained out of 10000\n",
            "5600 posts obtained out of 10000\n",
            "5700 posts obtained out of 10000\n",
            "5800 posts obtained out of 10000\n",
            "5900 posts obtained out of 10000\n",
            "6000 posts obtained out of 10000\n",
            "6100 posts obtained out of 10000\n",
            "6200 posts obtained out of 10000\n",
            "6300 posts obtained out of 10000\n",
            "6400 posts obtained out of 10000\n",
            "6500 posts obtained out of 10000\n",
            "6600 posts obtained out of 10000\n",
            "6700 posts obtained out of 10000\n",
            "6800 posts obtained out of 10000\n",
            "6900 posts obtained out of 10000\n",
            "7000 posts obtained out of 10000\n",
            "7100 posts obtained out of 10000\n",
            "7200 posts obtained out of 10000\n",
            "7300 posts obtained out of 10000\n",
            "7400 posts obtained out of 10000\n",
            "7500 posts obtained out of 10000\n",
            "7600 posts obtained out of 10000\n",
            "7700 posts obtained out of 10000\n",
            "7800 posts obtained out of 10000\n",
            "7900 posts obtained out of 10000\n",
            "8000 posts obtained out of 10000\n",
            "8100 posts obtained out of 10000\n",
            "8200 posts obtained out of 10000\n",
            "8300 posts obtained out of 10000\n",
            "8400 posts obtained out of 10000\n",
            "8500 posts obtained out of 10000\n",
            "8600 posts obtained out of 10000\n",
            "8700 posts obtained out of 10000\n",
            "8800 posts obtained out of 10000\n",
            "8900 posts obtained out of 10000\n",
            "9000 posts obtained out of 10000\n",
            "9100 posts obtained out of 10000\n",
            "9200 posts obtained out of 10000\n",
            "\n",
            "Downloading subreddit  ciencia\n",
            "\n",
            "\n",
            "100 posts obtained out of 10000\n",
            "200 posts obtained out of 10000\n",
            "300 posts obtained out of 10000\n",
            "398 posts obtained out of 10000\n",
            "\n",
            "Downloading subreddit  futbol\n",
            "\n",
            "\n",
            "100 posts obtained out of 10000\n",
            "200 posts obtained out of 10000\n",
            "300 posts obtained out of 10000\n",
            "400 posts obtained out of 10000\n",
            "500 posts obtained out of 10000\n",
            "600 posts obtained out of 10000\n",
            "\n",
            "Downloading subreddit  Argaming\n",
            "\n",
            "\n",
            "100 posts obtained out of 10000\n",
            "200 posts obtained out of 10000\n",
            "300 posts obtained out of 10000\n",
            "400 posts obtained out of 10000\n",
            "500 posts obtained out of 10000\n",
            "600 posts obtained out of 10000\n",
            "700 posts obtained out of 10000\n",
            "\n",
            "Downloading subreddit  politicaBrasileira\n",
            "\n",
            "\n",
            "100 posts obtained out of 10000\n",
            "200 posts obtained out of 10000\n",
            "300 posts obtained out of 10000\n",
            "400 posts obtained out of 10000\n",
            "500 posts obtained out of 10000\n",
            "600 posts obtained out of 10000\n",
            "700 posts obtained out of 10000\n",
            "800 posts obtained out of 10000\n",
            "900 posts obtained out of 10000\n",
            "1000 posts obtained out of 10000\n",
            "1100 posts obtained out of 10000\n",
            "1200 posts obtained out of 10000\n",
            "1300 posts obtained out of 10000\n",
            "1400 posts obtained out of 10000\n",
            "1500 posts obtained out of 10000\n",
            "1600 posts obtained out of 10000\n",
            "1609 posts obtained out of 10000\n",
            "1609 posts obtained out of 10000\n",
            "\n",
            "Downloading subreddit  futebol\n",
            "\n",
            "\n",
            "100 posts obtained out of 10000\n",
            "200 posts obtained out of 10000\n",
            "300 posts obtained out of 10000\n",
            "400 posts obtained out of 10000\n",
            "500 posts obtained out of 10000\n",
            "\n",
            "Downloading subreddit  gamesEcultura\n",
            "\n",
            "\n",
            "100 posts obtained out of 10000\n",
            "200 posts obtained out of 10000\n",
            "300 posts obtained out of 10000\n",
            "400 posts obtained out of 10000\n",
            "500 posts obtained out of 10000\n",
            "600 posts obtained out of 10000\n",
            "700 posts obtained out of 10000\n",
            "800 posts obtained out of 10000\n",
            "900 posts obtained out of 10000\n",
            "1000 posts obtained out of 10000\n",
            "1100 posts obtained out of 10000\n",
            "File ID: 125e8wxg056ekpsdRnrVqSbSPWasoiqSc\n"
          ],
          "name": "stdout"
        },
        {
          "output_type": "execute_result",
          "data": {
            "text/plain": [
              "{'id': '125e8wxg056ekpsdRnrVqSbSPWasoiqSc'}"
            ]
          },
          "metadata": {
            "tags": []
          },
          "execution_count": 19
        }
      ]
    },
    {
      "cell_type": "markdown",
      "metadata": {
        "id": "UWzc9W54OaT-"
      },
      "source": [
        "## Adding more rows and adjusting categories"
      ]
    },
    {
      "cell_type": "code",
      "metadata": {
        "id": "R1yHx9CmDaCy",
        "colab": {
          "base_uri": "https://localhost:8080/",
          "height": 70
        },
        "outputId": "68a569b5-fc08-4cd1-82b0-dec48ade0ac3"
      },
      "source": [
        "#upload_from_drive('https://drive.google.com/file/d/1ySksz7xV1H7-l4gAMNOS7R0nAVJJHGI9/view?usp=sharing', 'multilingual_reddit.csv')\n",
        "df = pd.read_csv('multilingual_reddit.csv')"
      ],
      "execution_count": null,
      "outputs": [
        {
          "output_type": "stream",
          "text": [
            "/usr/local/lib/python3.6/dist-packages/IPython/core/interactiveshell.py:2718: DtypeWarning: Columns (1,11,12,18,19,20,21,22,24,26,31,32,33,37,39,47,48,49,59,62,63,71,75,77,78,79,81,82,84,89,90,91,96,100,101,102,104) have mixed types.Specify dtype option on import or set low_memory=False.\n",
            "  interactivity=interactivity, compiler=compiler, result=result)\n"
          ],
          "name": "stderr"
        }
      ]
    },
    {
      "cell_type": "code",
      "metadata": {
        "id": "-NMvD2BgOvvQ"
      },
      "source": [
        "columns_to_keep = ['domain', 'link_flair_text', 'selftext', 'subreddit', 'url', 'title']\n",
        "df = df.drop(df.columns.difference(columns_to_keep), axis=1)"
      ],
      "execution_count": null,
      "outputs": []
    },
    {
      "cell_type": "code",
      "metadata": {
        "id": "032INhAJOmwy",
        "colab": {
          "base_uri": "https://localhost:8080/",
          "height": 235
        },
        "outputId": "af4217ad-b745-4691-c903-45e0d991e656"
      },
      "source": [
        "df.info()"
      ],
      "execution_count": null,
      "outputs": [
        {
          "output_type": "stream",
          "text": [
            "<class 'pandas.core.frame.DataFrame'>\n",
            "RangeIndex: 60244 entries, 0 to 60243\n",
            "Data columns (total 6 columns):\n",
            " #   Column           Non-Null Count  Dtype \n",
            "---  ------           --------------  ----- \n",
            " 0   domain           60241 non-null  object\n",
            " 1   link_flair_text  30712 non-null  object\n",
            " 2   selftext         11075 non-null  object\n",
            " 3   subreddit        60244 non-null  object\n",
            " 4   title            60244 non-null  object\n",
            " 5   url              60244 non-null  object\n",
            "dtypes: object(6)\n",
            "memory usage: 2.8+ MB\n"
          ],
          "name": "stdout"
        }
      ]
    },
    {
      "cell_type": "code",
      "metadata": {
        "id": "A-AxHKE6OpjB",
        "colab": {
          "base_uri": "https://localhost:8080/",
          "height": 118
        },
        "outputId": "439c313b-f3c1-470e-8002-7ef38f00fa63"
      },
      "source": [
        "df['subreddit'].unique()"
      ],
      "execution_count": null,
      "outputs": [
        {
          "output_type": "execute_result",
          "data": {
            "text/plain": [
              "array(['politics', 'science', 'sports', 'Games', 'politicaITA',\n",
              "       'ScienzaItalia', 'ItalyCalcio', 'ItalianGaming', 'de',\n",
              "       'Wissenschaft', 'Bundesliga', 'Mexico_News', 'ciencia', 'futbol',\n",
              "       'Argaming', 'PoliticaBrasileira', 'futebol', 'gamesEcultura',\n",
              "       'zocken', 'cienciabrasil', 'GDR', 'Physik', 'techES', 'fulbo',\n",
              "       'futbolmx', 'gamingesp', 'Corinthians', 'coronabr'], dtype=object)"
            ]
          },
          "metadata": {
            "tags": []
          },
          "execution_count": 103
        }
      ]
    },
    {
      "cell_type": "code",
      "metadata": {
        "id": "dT7o0dqaP_V8"
      },
      "source": [
        "subreddit_info = {\n",
        "    'politics':           {'lang': 'en', 'category': 'politics'},\n",
        "    'science':            {'lang': 'en', 'category': 'science'},\n",
        "    'sports':             {'lang': 'en', 'category': 'sports'},\n",
        "    'Games':              {'lang': 'en', 'category': 'games'},\n",
        "    'politicaITA':        {'lang': 'it', 'category': 'politics'},\n",
        "    'ScienzaItalia':      {'lang': 'it', 'category': 'science'},\n",
        "    'ItalyCalcio':        {'lang': 'it', 'category': 'sports'},\n",
        "    'ItalianGaming':      {'lang': 'it', 'category': 'games'},\n",
        "    'de':                 {'lang': 'de', 'category': 'various'},\n",
        "    'Wissenschaft':       {'lang': 'de', 'category': 'science'},\n",
        "    'Bundesliga':         {'lang': 'de', 'category': 'sports'},\n",
        "    'Mexico_News':        {'lang': 'sp', 'category': 'politics'},\n",
        "    'ciencia':            {'lang': 'sp', 'category': 'science'},\n",
        "    'futbol':             {'lang': 'sp', 'category': 'sports'},\n",
        "    'Argaming':           {'lang': 'sp', 'category': 'games'},\n",
        "    'PoliticaBrasileira': {'lang': 'pt', 'category': 'politics'}, \n",
        "    'futebol':            {'lang': 'pt', 'category': 'sports'},\n",
        "    'gamesEcultura':      {'lang': 'pt', 'category': 'games'},\n",
        "    'zocken':             {'lang': 'de', 'category': 'games'},\n",
        "    'cienciabrasil':      {'lang': 'pt', 'category': 'science'},\n",
        "    'GDR':                {'lang': 'it', 'category': 'games'},\n",
        "    'Physik':             {'lang': 'de', 'category': 'science'},\n",
        "    'techES':             {'lang': 'sp', 'category': 'science'},\n",
        "    'fulbo':              {'lang': 'sp', 'category': 'sports'},\n",
        "    'futbolmx':           {'lang': 'sp', 'category': 'sports'},\n",
        "    'gamingesp':          {'lang': 'sp', 'category': 'games'},       \n",
        "    'Corinthians':        {'lang': 'pt', 'category': 'sports'},\n",
        "    'coronabr':           {'lang': 'pt', 'category': 'science'},\n",
        "    'brasil':             {'lang': 'pt', 'category': 'various'},\n",
        "    'portugal':           {'lang': 'pt', 'category': 'various'},\n",
        "    'soccer':             {'lang': 'en', 'category': 'sports'}\n",
        "}"
      ],
      "execution_count": null,
      "outputs": []
    },
    {
      "cell_type": "markdown",
      "metadata": {
        "id": "m-uh-ASkVyhC"
      },
      "source": [
        "To adjust:\n",
        " - drop coronabr, techES\n",
        " - flair mexico_news\n",
        " - substitute r/sports with r/soccer\n",
        " - science portuguese -> r/brasil (flair: ciencia & tecnologia), r/portugal (flair: ciencia)"
      ]
    },
    {
      "cell_type": "code",
      "metadata": {
        "id": "9-dcAp6gPZVx"
      },
      "source": [
        "df['language'] = df['subreddit'].apply(lambda row: subreddit_info[row]['lang'])\n",
        "df['category'] = df['subreddit'].apply(lambda row: subreddit_info[row]['category'])"
      ],
      "execution_count": null,
      "outputs": []
    },
    {
      "cell_type": "markdown",
      "metadata": {
        "id": "4nQzJvHMRryG"
      },
      "source": [
        "We need to clean subreddits 'de' and 'Mexico_News'"
      ]
    },
    {
      "cell_type": "code",
      "metadata": {
        "id": "oBHHLdAcRj30"
      },
      "source": [
        "de_flairs = {\n",
        " 'Interessant':              'None',\n",
        " 'Bildung':                  'None',\n",
        " 'Frage/Diskussion':         'None',\n",
        " 'Corona':                   'None',\n",
        " 'Musik':                    'None',\n",
        " 'Wissenschaft&amp;Technik': 'science',\n",
        " 'Wirtschaft':               'politics',\n",
        " 'Humor':                    'None',\n",
        " 'Hilfe':                    'None',\n",
        " 'Fotos':                    'None',\n",
        " 'Nachrichten DE':           'None',\n",
        " 'Feuilleton/Kultur':        'None',\n",
        " 'Politik':                  'politics',\n",
        " 'Nachrichten Europa':       'None',\n",
        " 'Gesellschaft':             'politics',\n",
        " 'Geschichte':               'None',\n",
        " 'TIRADE':                   'None',\n",
        " 'Nachrichten Welt':         'None',\n",
        " 'Medien':                   'None',\n",
        " 'Sport':                    'sports',\n",
        " 'Umwelt':                   'science',\n",
        " 'Essen&amp;Trinken':        'None',\n",
        " 'Zocken':                   'games',\n",
        " 'US-Wahl':                  'politics',\n",
        " 'Internet':                 'None',\n",
        " 'Kriminalität':             'politics',\n",
        " 'Social Media':             'None',\n",
        " 'Kolumne':                  'None',\n",
        " 'Terrorismus':              'politics',\n",
        " 'Paywall':                  'None',\n",
        " 'Nachrichten A':            'None',\n",
        " 'US-Politik':               'politics',\n",
        " 'Boulevard':                'None',\n",
        " 'Dienstmeldung':            'None',\n",
        " 'Meta/Reddit':              'None',\n",
        " 'Nachrichten CH':           'None',\n",
        " 'NSFL':                     'None'\n",
        "}\n",
        "\n",
        "def assign_category_de(row):\n",
        "  if row['subreddit'] != 'de':\n",
        "    return row['category']\n",
        "  \n",
        "  if row['link_flair_text'] in de_flairs:\n",
        "    return de_flairs[row['link_flair_text']]\n",
        "  else:\n",
        "    return 'None'\n",
        "\n",
        "df['category'] = df.apply(assign_category_de, axis=1)\n"
      ],
      "execution_count": null,
      "outputs": []
    },
    {
      "cell_type": "code",
      "metadata": {
        "id": "poIUCN39R2PW",
        "colab": {
          "base_uri": "https://localhost:8080/",
          "height": 34
        },
        "outputId": "a9d36a3a-e2f3-4588-e3fc-4d390a2c7f78"
      },
      "source": [
        "len(df[(df['language'] == 'de') & (df['category'] == 'politics')])"
      ],
      "execution_count": null,
      "outputs": [
        {
          "output_type": "execute_result",
          "data": {
            "text/plain": [
              "3041"
            ]
          },
          "metadata": {
            "tags": []
          },
          "execution_count": 129
        }
      ]
    },
    {
      "cell_type": "markdown",
      "metadata": {
        "id": "iRCiJgybbJec"
      },
      "source": [
        "We need to modify science portuguese"
      ]
    },
    {
      "cell_type": "code",
      "metadata": {
        "id": "i-3Zps55bGwo"
      },
      "source": [
        "df = df[df['subreddit'] != 'coronabr']\n",
        "df = df[df['subreddit'] != 'brasil']\n",
        "df = df[df['subreddit'] != 'portugal']"
      ],
      "execution_count": null,
      "outputs": []
    },
    {
      "cell_type": "code",
      "metadata": {
        "id": "igO4ybf4bO9T",
        "colab": {
          "base_uri": "https://localhost:8080/",
          "height": 924
        },
        "outputId": "3cd2afef-747d-4c11-b700-7cd17eb24604"
      },
      "source": [
        "latest_submissions = pd.DataFrame(crawl_subreddit('brasil', 'created_utc', max_submissions=30000))\n",
        "latest_submissions = latest_submissions.drop(latest_submissions.columns.difference(columns_to_keep), axis=1)\n",
        "latest_submissions['language'] = 'pt'\n",
        "latest_submissions['category'] = 'various'\n",
        "df = pd.concat([df, latest_submissions])"
      ],
      "execution_count": null,
      "outputs": [
        {
          "output_type": "stream",
          "text": [
            "100 posts obtained out of 30000\n",
            "200 posts obtained out of 30000\n",
            "300 posts obtained out of 30000\n",
            "400 posts obtained out of 30000\n",
            "500 posts obtained out of 30000\n",
            "600 posts obtained out of 30000\n",
            "700 posts obtained out of 30000\n",
            "800 posts obtained out of 30000\n",
            "900 posts obtained out of 30000\n",
            "1000 posts obtained out of 30000\n",
            "1100 posts obtained out of 30000\n",
            "1200 posts obtained out of 30000\n",
            "1300 posts obtained out of 30000\n",
            "1400 posts obtained out of 30000\n",
            "1500 posts obtained out of 30000\n",
            "1600 posts obtained out of 30000\n",
            "1700 posts obtained out of 30000\n",
            "1800 posts obtained out of 30000\n",
            "1900 posts obtained out of 30000\n",
            "2000 posts obtained out of 30000\n",
            "2100 posts obtained out of 30000\n",
            "2200 posts obtained out of 30000\n",
            "2300 posts obtained out of 30000\n",
            "2400 posts obtained out of 30000\n",
            "2500 posts obtained out of 30000\n",
            "2600 posts obtained out of 30000\n",
            "2700 posts obtained out of 30000\n",
            "2800 posts obtained out of 30000\n",
            "2900 posts obtained out of 30000\n",
            "3000 posts obtained out of 30000\n",
            "3100 posts obtained out of 30000\n",
            "3200 posts obtained out of 30000\n",
            "3300 posts obtained out of 30000\n",
            "3400 posts obtained out of 30000\n",
            "3500 posts obtained out of 30000\n",
            "3600 posts obtained out of 30000\n",
            "3700 posts obtained out of 30000\n",
            "3800 posts obtained out of 30000\n",
            "3900 posts obtained out of 30000\n",
            "4000 posts obtained out of 30000\n",
            "4100 posts obtained out of 30000\n",
            "4200 posts obtained out of 30000\n",
            "4300 posts obtained out of 30000\n",
            "4400 posts obtained out of 30000\n",
            "4500 posts obtained out of 30000\n",
            "4600 posts obtained out of 30000\n",
            "4700 posts obtained out of 30000\n",
            "4800 posts obtained out of 30000\n",
            "4900 posts obtained out of 30000\n",
            "5000 posts obtained out of 30000\n",
            "5100 posts obtained out of 30000\n",
            "5200 posts obtained out of 30000\n",
            "5300 posts obtained out of 30000\n",
            "5400 posts obtained out of 30000\n"
          ],
          "name": "stdout"
        }
      ]
    },
    {
      "cell_type": "code",
      "metadata": {
        "id": "oNfLEMKprKg2",
        "colab": {
          "base_uri": "https://localhost:8080/",
          "height": 588
        },
        "outputId": "df254399-7b73-4a7f-97ec-3051c0afd4de"
      },
      "source": [
        "latest_submissions = pd.DataFrame(crawl_subreddit('portugal', 'created_utc', max_submissions=30000))\n",
        "latest_submissions = latest_submissions.drop(latest_submissions.columns.difference(columns_to_keep), axis=1)\n",
        "latest_submissions['language'] = 'pt'\n",
        "latest_submissions['category'] = 'various'\n",
        "df = pd.concat([df, latest_submissions])"
      ],
      "execution_count": null,
      "outputs": [
        {
          "output_type": "stream",
          "text": [
            "100 posts obtained out of 30000\n",
            "200 posts obtained out of 30000\n",
            "300 posts obtained out of 30000\n",
            "400 posts obtained out of 30000\n",
            "500 posts obtained out of 30000\n",
            "600 posts obtained out of 30000\n",
            "700 posts obtained out of 30000\n",
            "800 posts obtained out of 30000\n",
            "900 posts obtained out of 30000\n",
            "1000 posts obtained out of 30000\n",
            "1100 posts obtained out of 30000\n",
            "1200 posts obtained out of 30000\n",
            "1300 posts obtained out of 30000\n",
            "1400 posts obtained out of 30000\n",
            "1500 posts obtained out of 30000\n",
            "1600 posts obtained out of 30000\n",
            "1700 posts obtained out of 30000\n",
            "1800 posts obtained out of 30000\n",
            "1900 posts obtained out of 30000\n",
            "2000 posts obtained out of 30000\n",
            "2100 posts obtained out of 30000\n",
            "2200 posts obtained out of 30000\n",
            "2300 posts obtained out of 30000\n",
            "2400 posts obtained out of 30000\n",
            "2500 posts obtained out of 30000\n",
            "2600 posts obtained out of 30000\n",
            "2700 posts obtained out of 30000\n",
            "2800 posts obtained out of 30000\n",
            "2900 posts obtained out of 30000\n",
            "3000 posts obtained out of 30000\n",
            "3100 posts obtained out of 30000\n",
            "3200 posts obtained out of 30000\n",
            "3300 posts obtained out of 30000\n",
            "3400 posts obtained out of 30000\n"
          ],
          "name": "stdout"
        }
      ]
    },
    {
      "cell_type": "code",
      "metadata": {
        "id": "WDZXESGndmDa"
      },
      "source": [
        "def assign_category_pt(row):\n",
        "  if row['subreddit'] not in ['brasil','portugal']:\n",
        "    return row['category']\n",
        "  if row['link_flair_text'] in ['Ciência &amp; Tecnologia', 'Ciência']:\n",
        "    return 'science'\n",
        "  if row['link_flair_text'] in ['Economia', 'Política', 'Política (Opinião)', 'Sociedade']:\n",
        "    return 'politics'\n",
        "  if row['link_flair_text'] in ['Desporto']:\n",
        "    return 'sports'  \n",
        "  return 'None'\n",
        "\n",
        "df['category'] = df.apply(assign_category_pt, axis=1)"
      ],
      "execution_count": null,
      "outputs": []
    },
    {
      "cell_type": "markdown",
      "metadata": {
        "id": "VyusVEDBfO-V"
      },
      "source": [
        "In the end, it's better to have fewer entries all about science, rather than more but mixed with technology"
      ]
    },
    {
      "cell_type": "code",
      "metadata": {
        "id": "_HK-qhype6a7"
      },
      "source": [
        "df = df[df['subreddit'] != 'techES']"
      ],
      "execution_count": null,
      "outputs": []
    },
    {
      "cell_type": "markdown",
      "metadata": {
        "id": "DGir4cgPfOMa"
      },
      "source": [
        "Since most sports subreddit we found are about soccer, I think it's better to change subreddit 'r/sports' with 'r/soccer'"
      ]
    },
    {
      "cell_type": "code",
      "metadata": {
        "id": "jcroolvhfNbs"
      },
      "source": [
        "df = df[df['subreddit'] != 'sports']"
      ],
      "execution_count": null,
      "outputs": []
    },
    {
      "cell_type": "code",
      "metadata": {
        "id": "HApgvRjKfiJF",
        "colab": {
          "base_uri": "https://localhost:8080/",
          "height": 521
        },
        "outputId": "373f2b0e-8f95-48c4-e9dd-03b6714031fe"
      },
      "source": [
        "latest_submissions = pd.DataFrame(crawl_subreddit('soccer', 'created_utc', max_submissions=3000))\n",
        "latest_submissions = latest_submissions.drop(latest_submissions.columns.difference(columns_to_keep), axis=1)\n",
        "latest_submissions['language'] = 'en'\n",
        "latest_submissions['category'] = 'sports'\n",
        "df = pd.concat([df, latest_submissions])"
      ],
      "execution_count": null,
      "outputs": [
        {
          "output_type": "stream",
          "text": [
            "100 posts obtained out of 3000\n",
            "200 posts obtained out of 3000\n",
            "300 posts obtained out of 3000\n",
            "400 posts obtained out of 3000\n",
            "500 posts obtained out of 3000\n",
            "600 posts obtained out of 3000\n",
            "700 posts obtained out of 3000\n",
            "800 posts obtained out of 3000\n",
            "900 posts obtained out of 3000\n",
            "1000 posts obtained out of 3000\n",
            "1100 posts obtained out of 3000\n",
            "1200 posts obtained out of 3000\n",
            "1300 posts obtained out of 3000\n",
            "1400 posts obtained out of 3000\n",
            "1500 posts obtained out of 3000\n",
            "1600 posts obtained out of 3000\n",
            "1700 posts obtained out of 3000\n",
            "1800 posts obtained out of 3000\n",
            "1900 posts obtained out of 3000\n",
            "2000 posts obtained out of 3000\n",
            "2100 posts obtained out of 3000\n",
            "2200 posts obtained out of 3000\n",
            "2300 posts obtained out of 3000\n",
            "2400 posts obtained out of 3000\n",
            "2500 posts obtained out of 3000\n",
            "2600 posts obtained out of 3000\n",
            "2700 posts obtained out of 3000\n",
            "2800 posts obtained out of 3000\n",
            "2900 posts obtained out of 3000\n",
            "3000 posts obtained out of 3000\n"
          ],
          "name": "stdout"
        }
      ]
    },
    {
      "cell_type": "markdown",
      "metadata": {
        "id": "zKWjclPFgAgJ"
      },
      "source": [
        "Mexico news"
      ]
    },
    {
      "cell_type": "code",
      "metadata": {
        "id": "g-Y3-B8vfzHu",
        "colab": {
          "base_uri": "https://localhost:8080/",
          "height": 470
        },
        "outputId": "b9963926-8c56-4ad6-8144-e99805d2ce12"
      },
      "source": [
        "df[df['subreddit'] == 'Mexico_News']['link_flair_text'].unique()"
      ],
      "execution_count": null,
      "outputs": [
        {
          "output_type": "execute_result",
          "data": {
            "text/plain": [
              "array(['Alerta', nan, 'Opinion y analisis', 'Política/López Obrador',\n",
              "       'Ciencia', 'Negocios/Economía', 'Política/4T', 'Noticias y humor',\n",
              "       'Salud/EMERGENCIA/COVID-19', 'Historia de México', 'Política',\n",
              "       'Salud/COVID-19', 'Crimen/Narcotráfico/Terrorismo',\n",
              "       'Crimen/Homicidios', 'Negocios/Empresas/CFE', 'Crimen',\n",
              "       'Indigenas', 'Mexico', 'Política/Protestas', 'COFEPRIS',\n",
              "       'Crimen/Linchamiento', 'Crimen/Corrupción', 'Estados Unidos/T-MEC',\n",
              "       'Negocios', 'Fact-Check', 'Historias COVID-19',\n",
              "       'Libertad de Expresión', ' Migrantes', 'Crimen/Feminicidios',\n",
              "       'Política/Fraude', ' Instituto Nacional Electoral', 'Salud',\n",
              "       'Crimen/Extorsión', 'Negocios/Empresas PEMEX',\n",
              "       'Diario Oficial de la Federación', 'Crimen/Secuestros',\n",
              "       'Humor/Cartones', 'Salud/Crisis', 'Salud/Sarampion',\n",
              "       'Salud/Desabasto', 'Política/López Obrador/Autoritarismo',\n",
              "       'Crimen/Masacres', 'Política/Derechos Humanos',\n",
              "       'Entretenimiento y Artes ', 'Política/Elecciones', 'Ejercito',\n",
              "       'Salud/Ataques Personal Medico', 'Crimen/Abuso de autoridad',\n",
              "       'Crimen/Desaparecidos', 'Humor',\n",
              "       'Política/López Obrador/Represión', 'Estados Unidos', 'Educación',\n",
              "       'Salud/Protestas', 'Salud/Dengue', 'Obituario', 'Ciencia/Ecología',\n",
              "       'Internacional', 'Ciencia/Ambiente', 'Política/Huelga',\n",
              "       'Crimen/Narcotráfico', ' Migrantes/Crisis', 'Internacional ',\n",
              "       'SCJN', 'Mexico Pacifico', 'Crimen/Violencia de Genero',\n",
              "       'Política/López Obrador/Austericidio', 'Mexico Centro',\n",
              "       'Humor/Viral', 'Periodismo', 'Negocios/Compañías',\n",
              "       'Humor/Insolito Bizarro', 'Crimen/Tortura', 'Mexico Sur',\n",
              "       'Mexico Norte', 'Política ', 'Mexico Golfo'], dtype=object)"
            ]
          },
          "metadata": {
            "tags": []
          },
          "execution_count": 78
        }
      ]
    },
    {
      "cell_type": "code",
      "metadata": {
        "id": "Myx_HNiBgMGC"
      },
      "source": [
        "flair_mexico = {\n",
        "    'Política/López Obrador': 'politics',\n",
        "    'Ciencia': 'science', \n",
        "    'Política/4T': 'politics', \n",
        "    'Política': 'politics',\n",
        "    'Política/Protestas': 'politics',  \n",
        "    'Fact-Check': 'politics',\n",
        "    'Política/Fraude': 'politics', \n",
        "    'Política/López Obrador/Autoritarismo': 'politics',\n",
        "    'Política/Derechos Humanos': 'politics',\n",
        "    'Política/Elecciones': 'politics',\n",
        "    'Política/López Obrador/Represión': 'politics', \n",
        "    'Ciencia/Ecología': 'science',\n",
        "    'Ciencia/Ambiente': 'science', \n",
        "    'Política/Huelga': 'politics',\n",
        "    'Política/López Obrador/Austericidio': 'politics', \n",
        "    'Política ': 'politics',\n",
        "}\n",
        "\n",
        "def assign_category_mx(row):\n",
        "  if row['subreddit'] != 'Mexico_News':\n",
        "    return row['category']\n",
        "  \n",
        "  if row['link_flair_text'] not in flair_mexico:\n",
        "    return 'None'\n",
        "  \n",
        "  return flair_mexico[row['link_flair_text']]\n",
        "\n",
        "df['category'] = df.apply(assign_category_mx, axis=1)\n"
      ],
      "execution_count": null,
      "outputs": []
    },
    {
      "cell_type": "code",
      "metadata": {
        "id": "QLaXIEgxjcVy"
      },
      "source": [
        "df = df[df['category'] != 'None']"
      ],
      "execution_count": null,
      "outputs": []
    },
    {
      "cell_type": "code",
      "metadata": {
        "id": "Vs-cFxnOjfbf"
      },
      "source": [
        "df['language'] = df['language'].apply(lambda row: 'es' if row == 'sp' else row)"
      ],
      "execution_count": null,
      "outputs": []
    },
    {
      "cell_type": "markdown",
      "metadata": {
        "id": "3hsIATuAiQKY"
      },
      "source": [
        "## Analysis on the dataset"
      ]
    },
    {
      "cell_type": "code",
      "metadata": {
        "id": "WNIAvQ41ifL6"
      },
      "source": [
        "import matplotlib.pyplot as plt\n",
        "import seaborn as sns"
      ],
      "execution_count": null,
      "outputs": []
    },
    {
      "cell_type": "code",
      "metadata": {
        "id": "EV7o-rJyicQO",
        "colab": {
          "base_uri": "https://localhost:8080/",
          "height": 269
        },
        "outputId": "43ab803d-b507-42bf-9037-528c74fb8618"
      },
      "source": [
        "df = pd.read_csv('reddit_multilingual_clean.csv')\n",
        "df.info()"
      ],
      "execution_count": null,
      "outputs": [
        {
          "output_type": "stream",
          "text": [
            "<class 'pandas.core.frame.DataFrame'>\n",
            "RangeIndex: 46990 entries, 0 to 46989\n",
            "Data columns (total 8 columns):\n",
            " #   Column           Non-Null Count  Dtype \n",
            "---  ------           --------------  ----- \n",
            " 0   domain           46987 non-null  object\n",
            " 1   link_flair_text  18469 non-null  object\n",
            " 2   selftext         7881 non-null   object\n",
            " 3   subreddit        46990 non-null  object\n",
            " 4   title            46990 non-null  object\n",
            " 5   url              46990 non-null  object\n",
            " 6   language         46990 non-null  object\n",
            " 7   category         46990 non-null  object\n",
            "dtypes: object(8)\n",
            "memory usage: 2.9+ MB\n"
          ],
          "name": "stdout"
        }
      ]
    },
    {
      "cell_type": "code",
      "metadata": {
        "id": "MGBbDoGci3Rq",
        "colab": {
          "base_uri": "https://localhost:8080/",
          "height": 557
        },
        "outputId": "39c711d0-07f7-4a28-d99e-d469bccf66b3"
      },
      "source": [
        "plt.figure(figsize = (15,8))\n",
        "plt.xticks(rotation=45, fontsize=10)\n",
        "g = sns.countplot(data=df, x='language', order = df['language'].value_counts().index.sort_values())\n",
        "g.set_xlabel('', fontsize = 20)\n",
        "g.set_ylabel('', fontsize = 20)\n",
        "g.set_title('Number of entries per language', fontsize = 40, pad=20)"
      ],
      "execution_count": null,
      "outputs": [
        {
          "output_type": "execute_result",
          "data": {
            "text/plain": [
              "Text(0.5, 1.0, 'Number of entries per language')"
            ]
          },
          "metadata": {
            "tags": []
          },
          "execution_count": 151
        },
        {
          "output_type": "display_data",
          "data": {
            "image/png": "[encoded data removed]",
            "text/plain": [
              "<Figure size 1080x576 with 1 Axes>"
            ]
          },
          "metadata": {
            "tags": [],
            "needs_background": "light"
          }
        }
      ]
    },
    {
      "cell_type": "code",
      "metadata": {
        "id": "8izPPqyJjDtX",
        "colab": {
          "base_uri": "https://localhost:8080/",
          "height": 624
        },
        "outputId": "ffc861c3-66a8-4f32-c25c-747d0507956d"
      },
      "source": [
        "plt.figure(figsize = (15,8))\n",
        "plt.xticks(rotation=90, fontsize=10)\n",
        "g = sns.countplot(data=df, x='subreddit', order = df['subreddit'].value_counts().index.sort_values())\n",
        "g.set_xlabel('', fontsize = 20)\n",
        "g.set_ylabel('', fontsize = 20)\n",
        "g.set_title('Number of entries per subreddit', fontsize = 40, pad=20)"
      ],
      "execution_count": null,
      "outputs": [
        {
          "output_type": "execute_result",
          "data": {
            "text/plain": [
              "Text(0.5, 1.0, 'Number of entries per subreddit')"
            ]
          },
          "metadata": {
            "tags": []
          },
          "execution_count": 152
        },
        {
          "output_type": "display_data",
          "data": {
            "image/png": "[encoded data removed]",
            "text/plain": [
              "<Figure size 1080x576 with 1 Axes>"
            ]
          },
          "metadata": {
            "tags": [],
            "needs_background": "light"
          }
        }
      ]
    },
    {
      "cell_type": "code",
      "metadata": {
        "id": "gjOl0WQGjQ3p",
        "colab": {
          "base_uri": "https://localhost:8080/",
          "height": 575
        },
        "outputId": "4868c5d2-d9ff-4d63-b0c6-d059f91a98c7"
      },
      "source": [
        "plt.figure(figsize = (15,8))\n",
        "plt.xticks(rotation=45, fontsize=10)\n",
        "g = sns.countplot(data=df, x='category', hue='language')\n",
        "g.set_xlabel('', fontsize = 20)\n",
        "g.set_ylabel('', fontsize = 20)\n",
        "g.set_title('Number of entries per category', fontsize = 40, pad=20)"
      ],
      "execution_count": null,
      "outputs": [
        {
          "output_type": "execute_result",
          "data": {
            "text/plain": [
              "Text(0.5, 1.0, 'Number of entries per category')"
            ]
          },
          "metadata": {
            "tags": []
          },
          "execution_count": 153
        },
        {
          "output_type": "display_data",
          "data": {
            "image/png": "[encoded data removed]",
            "text/plain": [
              "<Figure size 1080x576 with 1 Axes>"
            ]
          },
          "metadata": {
            "tags": [],
            "needs_background": "light"
          }
        }
      ]
    },
    {
      "cell_type": "markdown",
      "metadata": {
        "id": "2lxrOAm4j0uL"
      },
      "source": [
        "Let's make the dataset more balanced"
      ]
    },
    {
      "cell_type": "code",
      "metadata": {
        "id": "JOAT7Dxkj3pY"
      },
      "source": [
        "df_politics_it = df[(df['language'] == 'it') & (df['category'] == 'politics')].sample(n=2800)\n",
        "df = pd.concat([df[~((df['language'] == 'it') & (df['category'] == 'politics'))], df_politics_it])"
      ],
      "execution_count": null,
      "outputs": []
    },
    {
      "cell_type": "code",
      "metadata": {
        "id": "ji9-pWZyuz_n"
      },
      "source": [
        "df_games_en = df[(df['language'] == 'en') & (df['category'] == 'games')].sample(n=1200)\n",
        "df = pd.concat([df[~((df['language'] == 'en') & (df['category'] == 'games'))], df_games_en])"
      ],
      "execution_count": null,
      "outputs": []
    },
    {
      "cell_type": "code",
      "metadata": {
        "id": "pnWG_XxUu9AY"
      },
      "source": [
        "df_sports_es = df[(df['language'] == 'es') & (df['category'] == 'sports')].sample(n=3000)\n",
        "df = pd.concat([df[~((df['language'] == 'es') & (df['category'] == 'sports'))], df_sports_es])"
      ],
      "execution_count": null,
      "outputs": []
    },
    {
      "cell_type": "code",
      "metadata": {
        "id": "Mc4cOjQVvxi_"
      },
      "source": [
        "df_sports_en = df[(df['language'] == 'en') & (df['category'] == 'sports')].sample(n=2500)\n",
        "df = pd.concat([df[~((df['language'] == 'en') & (df['category'] == 'sports'))], df_sports_en])"
      ],
      "execution_count": null,
      "outputs": []
    },
    {
      "cell_type": "code",
      "metadata": {
        "id": "d-IgOjwuv1b4"
      },
      "source": [
        "df_sports_de = df[(df['language'] == 'de') & (df['category'] == 'sports')].sample(n=2500)\n",
        "df = pd.concat([df[~((df['language'] == 'de') & (df['category'] == 'sports'))], df_sports_de])"
      ],
      "execution_count": null,
      "outputs": []
    },
    {
      "cell_type": "code",
      "metadata": {
        "id": "IlY2fX8AvX3Y",
        "colab": {
          "base_uri": "https://localhost:8080/",
          "height": 575
        },
        "outputId": "ad8764d4-aeab-4cf3-e6ef-fee71d0e50da"
      },
      "source": [
        "plt.figure(figsize = (15,8))\n",
        "plt.xticks(rotation=45, fontsize=10)\n",
        "g = sns.countplot(data=df, x='category', hue='language')\n",
        "g.set_xlabel('', fontsize = 20)\n",
        "g.set_ylabel('', fontsize = 20)\n",
        "g.set_title('Number of entries per category', fontsize = 40, pad=20)"
      ],
      "execution_count": null,
      "outputs": [
        {
          "output_type": "execute_result",
          "data": {
            "text/plain": [
              "Text(0.5, 1.0, 'Number of entries per category')"
            ]
          },
          "metadata": {
            "tags": []
          },
          "execution_count": 160
        },
        {
          "output_type": "display_data",
          "data": {
            "image/png": "[encoded data removed]",
            "text/plain": [
              "<Figure size 1080x576 with 1 Axes>"
            ]
          },
          "metadata": {
            "tags": [],
            "needs_background": "light"
          }
        }
      ]
    },
    {
      "cell_type": "code",
      "metadata": {
        "id": "0OdVAM4Gh8id",
        "colab": {
          "base_uri": "https://localhost:8080/",
          "height": 50
        },
        "outputId": "5dcdb04c-781e-4a21-8e11-9a983a31e6b1"
      },
      "source": [
        "df.to_csv('reddit_multilingual_clean.csv', index=False)\n",
        "save_file_to_drive('reddit_multilingual_clean.csv', 'reddit_multilingual_clean.csv')"
      ],
      "execution_count": null,
      "outputs": [
        {
          "output_type": "stream",
          "text": [
            "File ID: 1Py8tLtaV5cMPoy6Nw8GO8LBdjNKjXCSg\n"
          ],
          "name": "stdout"
        },
        {
          "output_type": "execute_result",
          "data": {
            "text/plain": [
              "{'id': '1Py8tLtaV5cMPoy6Nw8GO8LBdjNKjXCSg'}"
            ]
          },
          "metadata": {
            "tags": []
          },
          "execution_count": 161
        }
      ]
    },
    {
      "cell_type": "code",
      "metadata": {
        "id": "qYBy_3YHujeK"
      },
      "source": [
        ""
      ],
      "execution_count": null,
      "outputs": []
    },
    {
      "cell_type": "markdown",
      "metadata": {
        "id": "am7gPyPBJE2p"
      },
      "source": [
        "## Control data"
      ]
    },
    {
      "cell_type": "code",
      "metadata": {
        "id": "TO8j9sI1KjL2",
        "colab": {
          "base_uri": "https://localhost:8080/"
        },
        "outputId": "78cbaeea-a509-4265-e2bd-d5c21fb1d313"
      },
      "source": [
        "subreddit = 'france'\n",
        "print(\"\\nDownloading subreddit \", subreddit)\n",
        "print(\"\\n\")\n",
        "latest_submissions = []\n",
        "latest_submissions = crawl_subreddit(subreddit, 'created_utc', max_submissions=100000)\n",
        "df = pd.DataFrame(latest_submissions)\n",
        "df.to_csv(subreddit + '.csv', index=False)"
      ],
      "execution_count": null,
      "outputs": [
        {
          "output_type": "stream",
          "text": [
            "\n",
            "Downloading subreddit  france\n",
            "\n",
            "\n",
            "100 posts obtained out of 100000\n",
            "200 posts obtained out of 100000\n",
            "300 posts obtained out of 100000\n",
            "400 posts obtained out of 100000\n",
            "500 posts obtained out of 100000\n",
            "600 posts obtained out of 100000\n",
            "700 posts obtained out of 100000\n",
            "800 posts obtained out of 100000\n",
            "900 posts obtained out of 100000\n",
            "1000 posts obtained out of 100000\n",
            "1100 posts obtained out of 100000\n",
            "1200 posts obtained out of 100000\n",
            "1300 posts obtained out of 100000\n",
            "1400 posts obtained out of 100000\n",
            "1500 posts obtained out of 100000\n",
            "1600 posts obtained out of 100000\n",
            "1700 posts obtained out of 100000\n",
            "1800 posts obtained out of 100000\n",
            "1900 posts obtained out of 100000\n",
            "2000 posts obtained out of 100000\n",
            "2100 posts obtained out of 100000\n",
            "2200 posts obtained out of 100000\n",
            "2300 posts obtained out of 100000\n",
            "2400 posts obtained out of 100000\n",
            "2500 posts obtained out of 100000\n",
            "2600 posts obtained out of 100000\n",
            "2700 posts obtained out of 100000\n",
            "2800 posts obtained out of 100000\n",
            "2900 posts obtained out of 100000\n",
            "3000 posts obtained out of 100000\n",
            "3100 posts obtained out of 100000\n",
            "3200 posts obtained out of 100000\n",
            "3300 posts obtained out of 100000\n",
            "3400 posts obtained out of 100000\n",
            "3500 posts obtained out of 100000\n",
            "3600 posts obtained out of 100000\n",
            "3700 posts obtained out of 100000\n",
            "3800 posts obtained out of 100000\n",
            "3900 posts obtained out of 100000\n",
            "4000 posts obtained out of 100000\n",
            "4100 posts obtained out of 100000\n",
            "4200 posts obtained out of 100000\n",
            "4300 posts obtained out of 100000\n",
            "4400 posts obtained out of 100000\n",
            "4500 posts obtained out of 100000\n",
            "4600 posts obtained out of 100000\n",
            "4700 posts obtained out of 100000\n",
            "4800 posts obtained out of 100000\n",
            "4900 posts obtained out of 100000\n",
            "5000 posts obtained out of 100000\n",
            "5100 posts obtained out of 100000\n",
            "5200 posts obtained out of 100000\n",
            "5300 posts obtained out of 100000\n",
            "5400 posts obtained out of 100000\n",
            "5500 posts obtained out of 100000\n",
            "5600 posts obtained out of 100000\n",
            "5700 posts obtained out of 100000\n",
            "5800 posts obtained out of 100000\n",
            "5900 posts obtained out of 100000\n",
            "6000 posts obtained out of 100000\n",
            "6100 posts obtained out of 100000\n",
            "6200 posts obtained out of 100000\n",
            "6300 posts obtained out of 100000\n",
            "6400 posts obtained out of 100000\n",
            "6500 posts obtained out of 100000\n",
            "6600 posts obtained out of 100000\n",
            "6700 posts obtained out of 100000\n",
            "6800 posts obtained out of 100000\n",
            "6900 posts obtained out of 100000\n",
            "7000 posts obtained out of 100000\n",
            "7100 posts obtained out of 100000\n",
            "7200 posts obtained out of 100000\n",
            "7300 posts obtained out of 100000\n",
            "7400 posts obtained out of 100000\n",
            "7500 posts obtained out of 100000\n",
            "7600 posts obtained out of 100000\n",
            "7700 posts obtained out of 100000\n",
            "7800 posts obtained out of 100000\n",
            "7900 posts obtained out of 100000\n",
            "8000 posts obtained out of 100000\n",
            "8100 posts obtained out of 100000\n",
            "8200 posts obtained out of 100000\n",
            "8300 posts obtained out of 100000\n",
            "8400 posts obtained out of 100000\n",
            "8500 posts obtained out of 100000\n",
            "8600 posts obtained out of 100000\n",
            "8700 posts obtained out of 100000\n",
            "8800 posts obtained out of 100000\n",
            "8900 posts obtained out of 100000\n",
            "9000 posts obtained out of 100000\n",
            "9100 posts obtained out of 100000\n",
            "9200 posts obtained out of 100000\n",
            "9300 posts obtained out of 100000\n",
            "9400 posts obtained out of 100000\n",
            "9500 posts obtained out of 100000\n",
            "9600 posts obtained out of 100000\n",
            "9700 posts obtained out of 100000\n",
            "9800 posts obtained out of 100000\n",
            "9900 posts obtained out of 100000\n",
            "10000 posts obtained out of 100000\n",
            "10100 posts obtained out of 100000\n",
            "10200 posts obtained out of 100000\n",
            "10300 posts obtained out of 100000\n",
            "10400 posts obtained out of 100000\n",
            "10500 posts obtained out of 100000\n",
            "10600 posts obtained out of 100000\n",
            "10700 posts obtained out of 100000\n",
            "10800 posts obtained out of 100000\n",
            "10900 posts obtained out of 100000\n",
            "11000 posts obtained out of 100000\n",
            "11100 posts obtained out of 100000\n",
            "11200 posts obtained out of 100000\n",
            "11300 posts obtained out of 100000\n",
            "11400 posts obtained out of 100000\n",
            "11500 posts obtained out of 100000\n",
            "11600 posts obtained out of 100000\n",
            "11700 posts obtained out of 100000\n",
            "11800 posts obtained out of 100000\n",
            "11900 posts obtained out of 100000\n",
            "12000 posts obtained out of 100000\n",
            "12100 posts obtained out of 100000\n",
            "12200 posts obtained out of 100000\n",
            "12300 posts obtained out of 100000\n",
            "12400 posts obtained out of 100000\n",
            "12500 posts obtained out of 100000\n",
            "12600 posts obtained out of 100000\n",
            "12700 posts obtained out of 100000\n",
            "12800 posts obtained out of 100000\n",
            "12900 posts obtained out of 100000\n",
            "13000 posts obtained out of 100000\n",
            "13100 posts obtained out of 100000\n",
            "13200 posts obtained out of 100000\n",
            "13300 posts obtained out of 100000\n",
            "13400 posts obtained out of 100000\n",
            "13500 posts obtained out of 100000\n",
            "13600 posts obtained out of 100000\n",
            "13700 posts obtained out of 100000\n",
            "13800 posts obtained out of 100000\n",
            "13900 posts obtained out of 100000\n",
            "14000 posts obtained out of 100000\n",
            "14100 posts obtained out of 100000\n",
            "14200 posts obtained out of 100000\n",
            "14300 posts obtained out of 100000\n",
            "14400 posts obtained out of 100000\n",
            "14500 posts obtained out of 100000\n",
            "14600 posts obtained out of 100000\n",
            "14700 posts obtained out of 100000\n",
            "14800 posts obtained out of 100000\n",
            "14900 posts obtained out of 100000\n",
            "15000 posts obtained out of 100000\n",
            "15100 posts obtained out of 100000\n",
            "15200 posts obtained out of 100000\n",
            "15300 posts obtained out of 100000\n",
            "15400 posts obtained out of 100000\n",
            "15500 posts obtained out of 100000\n",
            "15600 posts obtained out of 100000\n",
            "15700 posts obtained out of 100000\n",
            "15800 posts obtained out of 100000\n",
            "15900 posts obtained out of 100000\n",
            "16000 posts obtained out of 100000\n",
            "16100 posts obtained out of 100000\n",
            "16200 posts obtained out of 100000\n",
            "16300 posts obtained out of 100000\n",
            "16400 posts obtained out of 100000\n",
            "16500 posts obtained out of 100000\n",
            "16600 posts obtained out of 100000\n",
            "16700 posts obtained out of 100000\n",
            "16800 posts obtained out of 100000\n",
            "16900 posts obtained out of 100000\n",
            "17000 posts obtained out of 100000\n",
            "17100 posts obtained out of 100000\n",
            "17200 posts obtained out of 100000\n",
            "17300 posts obtained out of 100000\n",
            "17400 posts obtained out of 100000\n",
            "17500 posts obtained out of 100000\n",
            "17600 posts obtained out of 100000\n",
            "17700 posts obtained out of 100000\n",
            "17800 posts obtained out of 100000\n",
            "17900 posts obtained out of 100000\n",
            "18000 posts obtained out of 100000\n",
            "18100 posts obtained out of 100000\n",
            "18200 posts obtained out of 100000\n",
            "18300 posts obtained out of 100000\n",
            "18400 posts obtained out of 100000\n",
            "18500 posts obtained out of 100000\n",
            "18600 posts obtained out of 100000\n",
            "18700 posts obtained out of 100000\n",
            "18800 posts obtained out of 100000\n",
            "18900 posts obtained out of 100000\n",
            "19000 posts obtained out of 100000\n",
            "19100 posts obtained out of 100000\n",
            "19200 posts obtained out of 100000\n",
            "19300 posts obtained out of 100000\n",
            "19400 posts obtained out of 100000\n",
            "19500 posts obtained out of 100000\n",
            "19600 posts obtained out of 100000\n",
            "19700 posts obtained out of 100000\n",
            "19800 posts obtained out of 100000\n",
            "19900 posts obtained out of 100000\n",
            "20000 posts obtained out of 100000\n",
            "20100 posts obtained out of 100000\n",
            "20200 posts obtained out of 100000\n",
            "20300 posts obtained out of 100000\n",
            "20400 posts obtained out of 100000\n",
            "20500 posts obtained out of 100000\n",
            "20600 posts obtained out of 100000\n",
            "20700 posts obtained out of 100000\n",
            "20800 posts obtained out of 100000\n",
            "20900 posts obtained out of 100000\n",
            "21000 posts obtained out of 100000\n",
            "21100 posts obtained out of 100000\n",
            "21200 posts obtained out of 100000\n",
            "21300 posts obtained out of 100000\n",
            "21400 posts obtained out of 100000\n",
            "21500 posts obtained out of 100000\n",
            "21600 posts obtained out of 100000\n",
            "21700 posts obtained out of 100000\n",
            "21800 posts obtained out of 100000\n",
            "21900 posts obtained out of 100000\n",
            "22000 posts obtained out of 100000\n",
            "22100 posts obtained out of 100000\n",
            "22200 posts obtained out of 100000\n",
            "22300 posts obtained out of 100000\n",
            "22400 posts obtained out of 100000\n",
            "22500 posts obtained out of 100000\n",
            "22600 posts obtained out of 100000\n",
            "22700 posts obtained out of 100000\n",
            "22800 posts obtained out of 100000\n",
            "22900 posts obtained out of 100000\n",
            "23000 posts obtained out of 100000\n",
            "23100 posts obtained out of 100000\n",
            "23200 posts obtained out of 100000\n",
            "23300 posts obtained out of 100000\n",
            "23400 posts obtained out of 100000\n",
            "23500 posts obtained out of 100000\n",
            "23600 posts obtained out of 100000\n",
            "23700 posts obtained out of 100000\n",
            "23800 posts obtained out of 100000\n",
            "23900 posts obtained out of 100000\n",
            "24000 posts obtained out of 100000\n",
            "24100 posts obtained out of 100000\n",
            "24200 posts obtained out of 100000\n",
            "24300 posts obtained out of 100000\n",
            "24400 posts obtained out of 100000\n",
            "24500 posts obtained out of 100000\n",
            "24600 posts obtained out of 100000\n",
            "24700 posts obtained out of 100000\n",
            "24800 posts obtained out of 100000\n",
            "24900 posts obtained out of 100000\n",
            "25000 posts obtained out of 100000\n",
            "25100 posts obtained out of 100000\n",
            "25200 posts obtained out of 100000\n",
            "25300 posts obtained out of 100000\n",
            "25400 posts obtained out of 100000\n",
            "25500 posts obtained out of 100000\n",
            "25600 posts obtained out of 100000\n",
            "25700 posts obtained out of 100000\n",
            "25800 posts obtained out of 100000\n",
            "25900 posts obtained out of 100000\n",
            "26000 posts obtained out of 100000\n",
            "26100 posts obtained out of 100000\n",
            "26200 posts obtained out of 100000\n",
            "26300 posts obtained out of 100000\n",
            "26400 posts obtained out of 100000\n",
            "26500 posts obtained out of 100000\n",
            "26600 posts obtained out of 100000\n",
            "26700 posts obtained out of 100000\n",
            "26800 posts obtained out of 100000\n",
            "26900 posts obtained out of 100000\n",
            "27000 posts obtained out of 100000\n",
            "27100 posts obtained out of 100000\n",
            "27200 posts obtained out of 100000\n",
            "27300 posts obtained out of 100000\n",
            "27400 posts obtained out of 100000\n",
            "27500 posts obtained out of 100000\n",
            "27600 posts obtained out of 100000\n",
            "27700 posts obtained out of 100000\n",
            "27800 posts obtained out of 100000\n",
            "27900 posts obtained out of 100000\n",
            "28000 posts obtained out of 100000\n",
            "28100 posts obtained out of 100000\n",
            "28200 posts obtained out of 100000\n",
            "28300 posts obtained out of 100000\n",
            "28400 posts obtained out of 100000\n",
            "28500 posts obtained out of 100000\n",
            "28600 posts obtained out of 100000\n",
            "28700 posts obtained out of 100000\n",
            "28800 posts obtained out of 100000\n",
            "28900 posts obtained out of 100000\n",
            "29000 posts obtained out of 100000\n",
            "29100 posts obtained out of 100000\n",
            "29200 posts obtained out of 100000\n",
            "29300 posts obtained out of 100000\n",
            "29400 posts obtained out of 100000\n",
            "29500 posts obtained out of 100000\n",
            "29600 posts obtained out of 100000\n",
            "29700 posts obtained out of 100000\n",
            "29800 posts obtained out of 100000\n",
            "29900 posts obtained out of 100000\n",
            "30000 posts obtained out of 100000\n",
            "30100 posts obtained out of 100000\n",
            "30200 posts obtained out of 100000\n",
            "30300 posts obtained out of 100000\n",
            "30400 posts obtained out of 100000\n",
            "30500 posts obtained out of 100000\n",
            "30600 posts obtained out of 100000\n",
            "30700 posts obtained out of 100000\n",
            "30800 posts obtained out of 100000\n",
            "30900 posts obtained out of 100000\n",
            "31000 posts obtained out of 100000\n",
            "31100 posts obtained out of 100000\n",
            "31200 posts obtained out of 100000\n",
            "31300 posts obtained out of 100000\n",
            "31400 posts obtained out of 100000\n",
            "31500 posts obtained out of 100000\n",
            "31600 posts obtained out of 100000\n",
            "31700 posts obtained out of 100000\n",
            "31800 posts obtained out of 100000\n",
            "31900 posts obtained out of 100000\n",
            "32000 posts obtained out of 100000\n",
            "32100 posts obtained out of 100000\n",
            "32200 posts obtained out of 100000\n",
            "32300 posts obtained out of 100000\n",
            "32400 posts obtained out of 100000\n",
            "32500 posts obtained out of 100000\n",
            "32600 posts obtained out of 100000\n",
            "32700 posts obtained out of 100000\n",
            "32800 posts obtained out of 100000\n",
            "32900 posts obtained out of 100000\n",
            "33000 posts obtained out of 100000\n",
            "33100 posts obtained out of 100000\n",
            "33200 posts obtained out of 100000\n",
            "33300 posts obtained out of 100000\n",
            "33400 posts obtained out of 100000\n",
            "33500 posts obtained out of 100000\n",
            "33600 posts obtained out of 100000\n",
            "33700 posts obtained out of 100000\n",
            "33800 posts obtained out of 100000\n",
            "33900 posts obtained out of 100000\n",
            "34000 posts obtained out of 100000\n",
            "34100 posts obtained out of 100000\n",
            "34200 posts obtained out of 100000\n",
            "34300 posts obtained out of 100000\n",
            "34400 posts obtained out of 100000\n",
            "34500 posts obtained out of 100000\n",
            "34600 posts obtained out of 100000\n",
            "34700 posts obtained out of 100000\n",
            "34800 posts obtained out of 100000\n",
            "34900 posts obtained out of 100000\n",
            "35000 posts obtained out of 100000\n",
            "35100 posts obtained out of 100000\n",
            "35200 posts obtained out of 100000\n",
            "35300 posts obtained out of 100000\n",
            "35400 posts obtained out of 100000\n",
            "35500 posts obtained out of 100000\n",
            "35600 posts obtained out of 100000\n",
            "35700 posts obtained out of 100000\n",
            "35800 posts obtained out of 100000\n",
            "35900 posts obtained out of 100000\n",
            "36000 posts obtained out of 100000\n",
            "36100 posts obtained out of 100000\n",
            "36200 posts obtained out of 100000\n",
            "36300 posts obtained out of 100000\n",
            "36400 posts obtained out of 100000\n",
            "36500 posts obtained out of 100000\n",
            "36600 posts obtained out of 100000\n",
            "36700 posts obtained out of 100000\n",
            "36800 posts obtained out of 100000\n",
            "36900 posts obtained out of 100000\n",
            "37000 posts obtained out of 100000\n",
            "37100 posts obtained out of 100000\n",
            "37200 posts obtained out of 100000\n",
            "37300 posts obtained out of 100000\n",
            "37400 posts obtained out of 100000\n",
            "37500 posts obtained out of 100000\n",
            "37600 posts obtained out of 100000\n",
            "37700 posts obtained out of 100000\n",
            "37800 posts obtained out of 100000\n",
            "37900 posts obtained out of 100000\n",
            "38000 posts obtained out of 100000\n",
            "38100 posts obtained out of 100000\n",
            "38200 posts obtained out of 100000\n",
            "38300 posts obtained out of 100000\n",
            "38400 posts obtained out of 100000\n",
            "38500 posts obtained out of 100000\n",
            "38600 posts obtained out of 100000\n",
            "38700 posts obtained out of 100000\n",
            "38800 posts obtained out of 100000\n",
            "38900 posts obtained out of 100000\n",
            "39000 posts obtained out of 100000\n",
            "39100 posts obtained out of 100000\n",
            "39200 posts obtained out of 100000\n",
            "39300 posts obtained out of 100000\n",
            "39400 posts obtained out of 100000\n",
            "39500 posts obtained out of 100000\n",
            "39600 posts obtained out of 100000\n",
            "39700 posts obtained out of 100000\n",
            "39800 posts obtained out of 100000\n",
            "39900 posts obtained out of 100000\n",
            "40000 posts obtained out of 100000\n",
            "40100 posts obtained out of 100000\n",
            "40200 posts obtained out of 100000\n",
            "40300 posts obtained out of 100000\n",
            "40400 posts obtained out of 100000\n",
            "40500 posts obtained out of 100000\n",
            "40600 posts obtained out of 100000\n",
            "40700 posts obtained out of 100000\n",
            "40800 posts obtained out of 100000\n",
            "40900 posts obtained out of 100000\n",
            "41000 posts obtained out of 100000\n",
            "41100 posts obtained out of 100000\n",
            "41200 posts obtained out of 100000\n",
            "41300 posts obtained out of 100000\n",
            "41400 posts obtained out of 100000\n",
            "41500 posts obtained out of 100000\n",
            "41600 posts obtained out of 100000\n",
            "41700 posts obtained out of 100000\n",
            "41800 posts obtained out of 100000\n",
            "41900 posts obtained out of 100000\n",
            "42000 posts obtained out of 100000\n",
            "42100 posts obtained out of 100000\n",
            "42200 posts obtained out of 100000\n",
            "42300 posts obtained out of 100000\n",
            "42400 posts obtained out of 100000\n",
            "42500 posts obtained out of 100000\n",
            "42600 posts obtained out of 100000\n",
            "42700 posts obtained out of 100000\n",
            "42800 posts obtained out of 100000\n",
            "42900 posts obtained out of 100000\n",
            "43000 posts obtained out of 100000\n",
            "43100 posts obtained out of 100000\n",
            "43200 posts obtained out of 100000\n",
            "43300 posts obtained out of 100000\n",
            "43400 posts obtained out of 100000\n",
            "43500 posts obtained out of 100000\n",
            "43600 posts obtained out of 100000\n",
            "43700 posts obtained out of 100000\n",
            "43800 posts obtained out of 100000\n",
            "43900 posts obtained out of 100000\n",
            "44000 posts obtained out of 100000\n",
            "44100 posts obtained out of 100000\n",
            "44200 posts obtained out of 100000\n",
            "44300 posts obtained out of 100000\n",
            "44400 posts obtained out of 100000\n",
            "44500 posts obtained out of 100000\n",
            "44600 posts obtained out of 100000\n",
            "44700 posts obtained out of 100000\n",
            "44800 posts obtained out of 100000\n",
            "44900 posts obtained out of 100000\n",
            "45000 posts obtained out of 100000\n",
            "45100 posts obtained out of 100000\n",
            "45200 posts obtained out of 100000\n",
            "45300 posts obtained out of 100000\n",
            "45400 posts obtained out of 100000\n",
            "45500 posts obtained out of 100000\n",
            "45600 posts obtained out of 100000\n",
            "45700 posts obtained out of 100000\n",
            "45800 posts obtained out of 100000\n",
            "45900 posts obtained out of 100000\n",
            "46000 posts obtained out of 100000\n",
            "46100 posts obtained out of 100000\n",
            "46200 posts obtained out of 100000\n",
            "46300 posts obtained out of 100000\n",
            "46400 posts obtained out of 100000\n",
            "46500 posts obtained out of 100000\n",
            "46600 posts obtained out of 100000\n",
            "46700 posts obtained out of 100000\n",
            "46800 posts obtained out of 100000\n",
            "46900 posts obtained out of 100000\n",
            "47000 posts obtained out of 100000\n",
            "47100 posts obtained out of 100000\n",
            "47200 posts obtained out of 100000\n",
            "47300 posts obtained out of 100000\n",
            "47400 posts obtained out of 100000\n",
            "47500 posts obtained out of 100000\n",
            "47600 posts obtained out of 100000\n",
            "47700 posts obtained out of 100000\n",
            "47800 posts obtained out of 100000\n",
            "47900 posts obtained out of 100000\n",
            "48000 posts obtained out of 100000\n",
            "48100 posts obtained out of 100000\n",
            "48200 posts obtained out of 100000\n",
            "48300 posts obtained out of 100000\n",
            "48400 posts obtained out of 100000\n",
            "48500 posts obtained out of 100000\n",
            "48600 posts obtained out of 100000\n",
            "48700 posts obtained out of 100000\n",
            "48800 posts obtained out of 100000\n",
            "48900 posts obtained out of 100000\n",
            "49000 posts obtained out of 100000\n",
            "49100 posts obtained out of 100000\n",
            "49200 posts obtained out of 100000\n",
            "49300 posts obtained out of 100000\n",
            "49400 posts obtained out of 100000\n",
            "49500 posts obtained out of 100000\n",
            "49600 posts obtained out of 100000\n",
            "49700 posts obtained out of 100000\n",
            "49800 posts obtained out of 100000\n",
            "49900 posts obtained out of 100000\n",
            "50000 posts obtained out of 100000\n",
            "50100 posts obtained out of 100000\n",
            "50200 posts obtained out of 100000\n",
            "50300 posts obtained out of 100000\n",
            "50400 posts obtained out of 100000\n",
            "50500 posts obtained out of 100000\n",
            "50600 posts obtained out of 100000\n",
            "50700 posts obtained out of 100000\n",
            "50800 posts obtained out of 100000\n",
            "50900 posts obtained out of 100000\n",
            "51000 posts obtained out of 100000\n",
            "51100 posts obtained out of 100000\n",
            "51200 posts obtained out of 100000\n",
            "51300 posts obtained out of 100000\n",
            "51400 posts obtained out of 100000\n",
            "51500 posts obtained out of 100000\n",
            "51600 posts obtained out of 100000\n",
            "51700 posts obtained out of 100000\n",
            "51800 posts obtained out of 100000\n",
            "51900 posts obtained out of 100000\n",
            "52000 posts obtained out of 100000\n",
            "52100 posts obtained out of 100000\n",
            "52200 posts obtained out of 100000\n",
            "52300 posts obtained out of 100000\n",
            "52400 posts obtained out of 100000\n",
            "52500 posts obtained out of 100000\n",
            "52600 posts obtained out of 100000\n",
            "52700 posts obtained out of 100000\n",
            "52800 posts obtained out of 100000\n",
            "52900 posts obtained out of 100000\n",
            "53000 posts obtained out of 100000\n",
            "53100 posts obtained out of 100000\n",
            "53200 posts obtained out of 100000\n",
            "53300 posts obtained out of 100000\n",
            "53400 posts obtained out of 100000\n",
            "53500 posts obtained out of 100000\n",
            "53600 posts obtained out of 100000\n",
            "53700 posts obtained out of 100000\n",
            "53800 posts obtained out of 100000\n",
            "53900 posts obtained out of 100000\n",
            "54000 posts obtained out of 100000\n",
            "54100 posts obtained out of 100000\n",
            "54200 posts obtained out of 100000\n",
            "54300 posts obtained out of 100000\n",
            "54400 posts obtained out of 100000\n",
            "54500 posts obtained out of 100000\n",
            "54600 posts obtained out of 100000\n",
            "54700 posts obtained out of 100000\n",
            "54800 posts obtained out of 100000\n",
            "54900 posts obtained out of 100000\n",
            "55000 posts obtained out of 100000\n",
            "55100 posts obtained out of 100000\n",
            "55200 posts obtained out of 100000\n",
            "55300 posts obtained out of 100000\n",
            "55400 posts obtained out of 100000\n",
            "55500 posts obtained out of 100000\n",
            "55600 posts obtained out of 100000\n",
            "55700 posts obtained out of 100000\n",
            "55800 posts obtained out of 100000\n",
            "55900 posts obtained out of 100000\n",
            "56000 posts obtained out of 100000\n",
            "56100 posts obtained out of 100000\n",
            "56200 posts obtained out of 100000\n",
            "56300 posts obtained out of 100000\n",
            "56400 posts obtained out of 100000\n",
            "56500 posts obtained out of 100000\n",
            "56600 posts obtained out of 100000\n",
            "56700 posts obtained out of 100000\n",
            "56800 posts obtained out of 100000\n",
            "56900 posts obtained out of 100000\n",
            "57000 posts obtained out of 100000\n",
            "57100 posts obtained out of 100000\n",
            "57200 posts obtained out of 100000\n",
            "57300 posts obtained out of 100000\n",
            "57400 posts obtained out of 100000\n",
            "57500 posts obtained out of 100000\n",
            "57600 posts obtained out of 100000\n",
            "57700 posts obtained out of 100000\n",
            "57800 posts obtained out of 100000\n",
            "57900 posts obtained out of 100000\n",
            "58000 posts obtained out of 100000\n",
            "58100 posts obtained out of 100000\n",
            "58200 posts obtained out of 100000\n",
            "58300 posts obtained out of 100000\n",
            "58400 posts obtained out of 100000\n",
            "58500 posts obtained out of 100000\n",
            "58600 posts obtained out of 100000\n",
            "58700 posts obtained out of 100000\n",
            "58800 posts obtained out of 100000\n",
            "58900 posts obtained out of 100000\n",
            "59000 posts obtained out of 100000\n",
            "59100 posts obtained out of 100000\n",
            "59200 posts obtained out of 100000\n",
            "59300 posts obtained out of 100000\n",
            "59400 posts obtained out of 100000\n",
            "59500 posts obtained out of 100000\n",
            "59600 posts obtained out of 100000\n",
            "59700 posts obtained out of 100000\n",
            "59800 posts obtained out of 100000\n",
            "59900 posts obtained out of 100000\n",
            "60000 posts obtained out of 100000\n",
            "60100 posts obtained out of 100000\n",
            "60200 posts obtained out of 100000\n",
            "60300 posts obtained out of 100000\n",
            "60400 posts obtained out of 100000\n",
            "60500 posts obtained out of 100000\n",
            "60600 posts obtained out of 100000\n",
            "60700 posts obtained out of 100000\n",
            "60800 posts obtained out of 100000\n",
            "60900 posts obtained out of 100000\n",
            "61000 posts obtained out of 100000\n",
            "61100 posts obtained out of 100000\n",
            "61200 posts obtained out of 100000\n",
            "61300 posts obtained out of 100000\n",
            "61400 posts obtained out of 100000\n",
            "61500 posts obtained out of 100000\n",
            "61600 posts obtained out of 100000\n",
            "61700 posts obtained out of 100000\n",
            "61800 posts obtained out of 100000\n",
            "61900 posts obtained out of 100000\n",
            "62000 posts obtained out of 100000\n",
            "62100 posts obtained out of 100000\n",
            "62200 posts obtained out of 100000\n",
            "62300 posts obtained out of 100000\n",
            "62400 posts obtained out of 100000\n",
            "62500 posts obtained out of 100000\n",
            "62600 posts obtained out of 100000\n",
            "62700 posts obtained out of 100000\n",
            "62800 posts obtained out of 100000\n",
            "62900 posts obtained out of 100000\n",
            "63000 posts obtained out of 100000\n",
            "63100 posts obtained out of 100000\n",
            "63200 posts obtained out of 100000\n",
            "63300 posts obtained out of 100000\n",
            "63400 posts obtained out of 100000\n",
            "63500 posts obtained out of 100000\n",
            "63600 posts obtained out of 100000\n",
            "63700 posts obtained out of 100000\n",
            "63800 posts obtained out of 100000\n",
            "63900 posts obtained out of 100000\n",
            "64000 posts obtained out of 100000\n",
            "64100 posts obtained out of 100000\n",
            "64200 posts obtained out of 100000\n",
            "64300 posts obtained out of 100000\n",
            "64400 posts obtained out of 100000\n",
            "64500 posts obtained out of 100000\n",
            "64600 posts obtained out of 100000\n",
            "64700 posts obtained out of 100000\n",
            "64800 posts obtained out of 100000\n",
            "64900 posts obtained out of 100000\n",
            "65000 posts obtained out of 100000\n",
            "65100 posts obtained out of 100000\n",
            "65200 posts obtained out of 100000\n",
            "65300 posts obtained out of 100000\n",
            "65400 posts obtained out of 100000\n",
            "65500 posts obtained out of 100000\n",
            "65600 posts obtained out of 100000\n",
            "65700 posts obtained out of 100000\n",
            "65800 posts obtained out of 100000\n",
            "65900 posts obtained out of 100000\n",
            "66000 posts obtained out of 100000\n",
            "66100 posts obtained out of 100000\n",
            "66200 posts obtained out of 100000\n",
            "66300 posts obtained out of 100000\n",
            "66400 posts obtained out of 100000\n",
            "66500 posts obtained out of 100000\n",
            "66600 posts obtained out of 100000\n",
            "66700 posts obtained out of 100000\n",
            "66800 posts obtained out of 100000\n",
            "66900 posts obtained out of 100000\n",
            "67000 posts obtained out of 100000\n",
            "67100 posts obtained out of 100000\n",
            "67200 posts obtained out of 100000\n",
            "67300 posts obtained out of 100000\n",
            "67400 posts obtained out of 100000\n",
            "67500 posts obtained out of 100000\n",
            "67600 posts obtained out of 100000\n",
            "67700 posts obtained out of 100000\n",
            "67800 posts obtained out of 100000\n",
            "67900 posts obtained out of 100000\n",
            "68000 posts obtained out of 100000\n",
            "68100 posts obtained out of 100000\n",
            "68200 posts obtained out of 100000\n",
            "68300 posts obtained out of 100000\n",
            "68400 posts obtained out of 100000\n",
            "68500 posts obtained out of 100000\n",
            "68600 posts obtained out of 100000\n",
            "68700 posts obtained out of 100000\n",
            "68800 posts obtained out of 100000\n",
            "68900 posts obtained out of 100000\n",
            "69000 posts obtained out of 100000\n",
            "69100 posts obtained out of 100000\n",
            "69200 posts obtained out of 100000\n",
            "69300 posts obtained out of 100000\n",
            "69400 posts obtained out of 100000\n",
            "69500 posts obtained out of 100000\n",
            "69600 posts obtained out of 100000\n",
            "69700 posts obtained out of 100000\n",
            "69800 posts obtained out of 100000\n",
            "69900 posts obtained out of 100000\n",
            "70000 posts obtained out of 100000\n",
            "70100 posts obtained out of 100000\n",
            "70200 posts obtained out of 100000\n",
            "70300 posts obtained out of 100000\n",
            "70400 posts obtained out of 100000\n",
            "70500 posts obtained out of 100000\n",
            "70600 posts obtained out of 100000\n",
            "70700 posts obtained out of 100000\n",
            "70800 posts obtained out of 100000\n",
            "70900 posts obtained out of 100000\n",
            "71000 posts obtained out of 100000\n",
            "71100 posts obtained out of 100000\n",
            "71200 posts obtained out of 100000\n",
            "71300 posts obtained out of 100000\n",
            "71400 posts obtained out of 100000\n",
            "71500 posts obtained out of 100000\n",
            "71600 posts obtained out of 100000\n",
            "71700 posts obtained out of 100000\n",
            "71800 posts obtained out of 100000\n",
            "71900 posts obtained out of 100000\n",
            "72000 posts obtained out of 100000\n",
            "72100 posts obtained out of 100000\n",
            "72200 posts obtained out of 100000\n",
            "72300 posts obtained out of 100000\n",
            "72400 posts obtained out of 100000\n",
            "72500 posts obtained out of 100000\n",
            "72600 posts obtained out of 100000\n",
            "72700 posts obtained out of 100000\n",
            "72800 posts obtained out of 100000\n",
            "72900 posts obtained out of 100000\n",
            "73000 posts obtained out of 100000\n",
            "73100 posts obtained out of 100000\n",
            "73200 posts obtained out of 100000\n",
            "73300 posts obtained out of 100000\n",
            "73400 posts obtained out of 100000\n",
            "73500 posts obtained out of 100000\n",
            "73600 posts obtained out of 100000\n",
            "73700 posts obtained out of 100000\n",
            "73800 posts obtained out of 100000\n",
            "73900 posts obtained out of 100000\n",
            "74000 posts obtained out of 100000\n",
            "74100 posts obtained out of 100000\n",
            "74200 posts obtained out of 100000\n",
            "74300 posts obtained out of 100000\n",
            "74400 posts obtained out of 100000\n",
            "74500 posts obtained out of 100000\n",
            "74600 posts obtained out of 100000\n",
            "74700 posts obtained out of 100000\n",
            "74800 posts obtained out of 100000\n",
            "74900 posts obtained out of 100000\n",
            "75000 posts obtained out of 100000\n",
            "75100 posts obtained out of 100000\n",
            "75200 posts obtained out of 100000\n",
            "75300 posts obtained out of 100000\n",
            "75400 posts obtained out of 100000\n",
            "75500 posts obtained out of 100000\n",
            "75600 posts obtained out of 100000\n",
            "75700 posts obtained out of 100000\n",
            "75800 posts obtained out of 100000\n",
            "75900 posts obtained out of 100000\n",
            "76000 posts obtained out of 100000\n",
            "76100 posts obtained out of 100000\n",
            "76200 posts obtained out of 100000\n",
            "76300 posts obtained out of 100000\n",
            "76400 posts obtained out of 100000\n",
            "76500 posts obtained out of 100000\n",
            "76600 posts obtained out of 100000\n",
            "76700 posts obtained out of 100000\n",
            "76800 posts obtained out of 100000\n",
            "76900 posts obtained out of 100000\n",
            "77000 posts obtained out of 100000\n",
            "77100 posts obtained out of 100000\n",
            "77200 posts obtained out of 100000\n",
            "77300 posts obtained out of 100000\n",
            "77400 posts obtained out of 100000\n",
            "77500 posts obtained out of 100000\n",
            "77700 posts obtained out of 100000\n",
            "77800 posts obtained out of 100000\n",
            "77900 posts obtained out of 100000\n",
            "78000 posts obtained out of 100000\n",
            "78100 posts obtained out of 100000\n",
            "78200 posts obtained out of 100000\n",
            "78300 posts obtained out of 100000\n",
            "78400 posts obtained out of 100000\n",
            "78500 posts obtained out of 100000\n",
            "78600 posts obtained out of 100000\n",
            "78700 posts obtained out of 100000\n",
            "78800 posts obtained out of 100000\n",
            "78900 posts obtained out of 100000\n",
            "79000 posts obtained out of 100000\n"
          ],
          "name": "stdout"
        }
      ]
    },
    {
      "cell_type": "code",
      "metadata": {
        "id": "MCTViYhqNbFr",
        "colab": {
          "base_uri": "https://localhost:8080/"
        },
        "outputId": "2c695aee-730b-48a4-e9da-b40f23307c5f"
      },
      "source": [
        "subreddit = 'jeuxvideo'\n",
        "print(\"\\nDownloading subreddit \", subreddit)\n",
        "print(\"\\n\")\n",
        "latest_submissions = []\n",
        "latest_submissions = crawl_subreddit(subreddit, 'created_utc')\n",
        "df = pd.DataFrame(latest_submissions)\n",
        "df.to_csv(subreddit + '.csv', index=False)"
      ],
      "execution_count": null,
      "outputs": [
        {
          "output_type": "stream",
          "text": [
            "\n",
            "Downloading subreddit  jeuxvideo\n",
            "\n",
            "\n",
            "100 posts obtained out of 10000\n",
            "200 posts obtained out of 10000\n",
            "300 posts obtained out of 10000\n",
            "400 posts obtained out of 10000\n",
            "500 posts obtained out of 10000\n",
            "600 posts obtained out of 10000\n",
            "700 posts obtained out of 10000\n",
            "800 posts obtained out of 10000\n",
            "900 posts obtained out of 10000\n",
            "1000 posts obtained out of 10000\n",
            "1100 posts obtained out of 10000\n",
            "1200 posts obtained out of 10000\n",
            "1300 posts obtained out of 10000\n",
            "1400 posts obtained out of 10000\n",
            "1500 posts obtained out of 10000\n",
            "1600 posts obtained out of 10000\n",
            "1700 posts obtained out of 10000\n",
            "1800 posts obtained out of 10000\n",
            "1900 posts obtained out of 10000\n",
            "2000 posts obtained out of 10000\n",
            "2100 posts obtained out of 10000\n",
            "2200 posts obtained out of 10000\n",
            "2300 posts obtained out of 10000\n",
            "2400 posts obtained out of 10000\n",
            "2500 posts obtained out of 10000\n",
            "2600 posts obtained out of 10000\n",
            "2700 posts obtained out of 10000\n",
            "2800 posts obtained out of 10000\n",
            "2900 posts obtained out of 10000\n",
            "3000 posts obtained out of 10000\n",
            "3100 posts obtained out of 10000\n",
            "3200 posts obtained out of 10000\n",
            "3300 posts obtained out of 10000\n",
            "3400 posts obtained out of 10000\n",
            "3500 posts obtained out of 10000\n",
            "3600 posts obtained out of 10000\n",
            "3700 posts obtained out of 10000\n",
            "3800 posts obtained out of 10000\n",
            "3900 posts obtained out of 10000\n",
            "4000 posts obtained out of 10000\n",
            "4100 posts obtained out of 10000\n",
            "4200 posts obtained out of 10000\n",
            "4300 posts obtained out of 10000\n",
            "4400 posts obtained out of 10000\n",
            "4500 posts obtained out of 10000\n",
            "4600 posts obtained out of 10000\n",
            "4700 posts obtained out of 10000\n",
            "4800 posts obtained out of 10000\n",
            "4900 posts obtained out of 10000\n",
            "5000 posts obtained out of 10000\n",
            "5100 posts obtained out of 10000\n",
            "5200 posts obtained out of 10000\n",
            "5274 posts obtained out of 10000\n",
            "5274 posts obtained out of 10000\n"
          ],
          "name": "stdout"
        }
      ]
    },
    {
      "cell_type": "code",
      "metadata": {
        "id": "VmOwJvUeNc7_",
        "colab": {
          "base_uri": "https://localhost:8080/"
        },
        "outputId": "c335f0f5-9b89-44ed-bdb1-36dcdd9fe78a"
      },
      "source": [
        "subreddit = 'sciencefr'\n",
        "print(\"\\nDownloading subreddit \", subreddit)\n",
        "print(\"\\n\")\n",
        "latest_submissions = []\n",
        "latest_submissions = crawl_subreddit(subreddit, 'created_utc')\n",
        "df = pd.DataFrame(latest_submissions)\n",
        "df.to_csv(subreddit + '.csv', index=False)"
      ],
      "execution_count": null,
      "outputs": [
        {
          "output_type": "stream",
          "text": [
            "\n",
            "Downloading subreddit  sciencefr\n",
            "\n",
            "\n",
            "100 posts obtained out of 10000\n",
            "200 posts obtained out of 10000\n",
            "300 posts obtained out of 10000\n",
            "400 posts obtained out of 10000\n",
            "500 posts obtained out of 10000\n",
            "600 posts obtained out of 10000\n",
            "700 posts obtained out of 10000\n",
            "800 posts obtained out of 10000\n",
            "900 posts obtained out of 10000\n",
            "1000 posts obtained out of 10000\n",
            "1100 posts obtained out of 10000\n",
            "1200 posts obtained out of 10000\n",
            "1300 posts obtained out of 10000\n",
            "1400 posts obtained out of 10000\n",
            "1500 posts obtained out of 10000\n",
            "1600 posts obtained out of 10000\n",
            "1700 posts obtained out of 10000\n",
            "1800 posts obtained out of 10000\n",
            "1900 posts obtained out of 10000\n",
            "2000 posts obtained out of 10000\n",
            "2100 posts obtained out of 10000\n",
            "2200 posts obtained out of 10000\n",
            "2300 posts obtained out of 10000\n",
            "2400 posts obtained out of 10000\n",
            "2500 posts obtained out of 10000\n",
            "2600 posts obtained out of 10000\n",
            "2700 posts obtained out of 10000\n",
            "2800 posts obtained out of 10000\n",
            "2900 posts obtained out of 10000\n",
            "3000 posts obtained out of 10000\n",
            "3100 posts obtained out of 10000\n",
            "3200 posts obtained out of 10000\n",
            "3300 posts obtained out of 10000\n",
            "3400 posts obtained out of 10000\n",
            "3500 posts obtained out of 10000\n",
            "3600 posts obtained out of 10000\n",
            "3700 posts obtained out of 10000\n",
            "3800 posts obtained out of 10000\n",
            "3900 posts obtained out of 10000\n",
            "4000 posts obtained out of 10000\n",
            "4100 posts obtained out of 10000\n",
            "4200 posts obtained out of 10000\n",
            "4300 posts obtained out of 10000\n",
            "4400 posts obtained out of 10000\n",
            "4500 posts obtained out of 10000\n",
            "4600 posts obtained out of 10000\n",
            "4700 posts obtained out of 10000\n",
            "4800 posts obtained out of 10000\n",
            "4900 posts obtained out of 10000\n",
            "5000 posts obtained out of 10000\n",
            "5100 posts obtained out of 10000\n",
            "5200 posts obtained out of 10000\n",
            "5300 posts obtained out of 10000\n",
            "5400 posts obtained out of 10000\n",
            "5500 posts obtained out of 10000\n",
            "5600 posts obtained out of 10000\n",
            "5700 posts obtained out of 10000\n",
            "5800 posts obtained out of 10000\n",
            "5900 posts obtained out of 10000\n",
            "6000 posts obtained out of 10000\n",
            "6100 posts obtained out of 10000\n",
            "6200 posts obtained out of 10000\n",
            "6300 posts obtained out of 10000\n",
            "6400 posts obtained out of 10000\n",
            "6500 posts obtained out of 10000\n",
            "6600 posts obtained out of 10000\n",
            "6700 posts obtained out of 10000\n",
            "6800 posts obtained out of 10000\n",
            "6900 posts obtained out of 10000\n",
            "7000 posts obtained out of 10000\n",
            "7100 posts obtained out of 10000\n",
            "7200 posts obtained out of 10000\n",
            "7300 posts obtained out of 10000\n",
            "7400 posts obtained out of 10000\n",
            "7500 posts obtained out of 10000\n",
            "7600 posts obtained out of 10000\n",
            "7700 posts obtained out of 10000\n",
            "7800 posts obtained out of 10000\n",
            "7900 posts obtained out of 10000\n",
            "8000 posts obtained out of 10000\n",
            "8100 posts obtained out of 10000\n",
            "8200 posts obtained out of 10000\n",
            "8300 posts obtained out of 10000\n",
            "8400 posts obtained out of 10000\n",
            "8500 posts obtained out of 10000\n",
            "8600 posts obtained out of 10000\n",
            "8700 posts obtained out of 10000\n",
            "8800 posts obtained out of 10000\n",
            "8900 posts obtained out of 10000\n",
            "9000 posts obtained out of 10000\n",
            "9100 posts obtained out of 10000\n",
            "9200 posts obtained out of 10000\n",
            "9300 posts obtained out of 10000\n",
            "9400 posts obtained out of 10000\n",
            "9500 posts obtained out of 10000\n",
            "9600 posts obtained out of 10000\n",
            "9700 posts obtained out of 10000\n",
            "9800 posts obtained out of 10000\n",
            "9900 posts obtained out of 10000\n",
            "10000 posts obtained out of 10000\n"
          ],
          "name": "stdout"
        }
      ]
    },
    {
      "cell_type": "code",
      "metadata": {
        "id": "gmT0OPmiNdZw",
        "colab": {
          "base_uri": "https://localhost:8080/"
        },
        "outputId": "88ea077b-34e9-41b4-8039-3c8316acef4a"
      },
      "source": [
        "subreddit = 'ligue1'\n",
        "print(\"\\nDownloading subreddit \", subreddit)\n",
        "print(\"\\n\")\n",
        "latest_submissions = []\n",
        "latest_submissions = crawl_subreddit(subreddit, 'created_utc')\n",
        "df = pd.DataFrame(latest_submissions)\n",
        "df.to_csv(subreddit + '.csv', index=False)"
      ],
      "execution_count": null,
      "outputs": [
        {
          "output_type": "stream",
          "text": [
            "\n",
            "Downloading subreddit  ligue1\n",
            "\n",
            "\n",
            "100 posts obtained out of 10000\n",
            "200 posts obtained out of 10000\n",
            "300 posts obtained out of 10000\n",
            "400 posts obtained out of 10000\n",
            "500 posts obtained out of 10000\n",
            "600 posts obtained out of 10000\n",
            "700 posts obtained out of 10000\n",
            "800 posts obtained out of 10000\n",
            "900 posts obtained out of 10000\n",
            "1000 posts obtained out of 10000\n",
            "1100 posts obtained out of 10000\n",
            "1200 posts obtained out of 10000\n",
            "1300 posts obtained out of 10000\n",
            "1400 posts obtained out of 10000\n",
            "1500 posts obtained out of 10000\n",
            "1600 posts obtained out of 10000\n",
            "1700 posts obtained out of 10000\n",
            "1800 posts obtained out of 10000\n",
            "1900 posts obtained out of 10000\n",
            "2000 posts obtained out of 10000\n",
            "2100 posts obtained out of 10000\n",
            "2200 posts obtained out of 10000\n",
            "2300 posts obtained out of 10000\n",
            "2400 posts obtained out of 10000\n",
            "2500 posts obtained out of 10000\n",
            "2600 posts obtained out of 10000\n",
            "2700 posts obtained out of 10000\n",
            "2800 posts obtained out of 10000\n",
            "2900 posts obtained out of 10000\n",
            "3000 posts obtained out of 10000\n",
            "3100 posts obtained out of 10000\n",
            "3200 posts obtained out of 10000\n",
            "3300 posts obtained out of 10000\n",
            "3400 posts obtained out of 10000\n",
            "3481 posts obtained out of 10000\n",
            "3581 posts obtained out of 10000\n",
            "3681 posts obtained out of 10000\n",
            "3781 posts obtained out of 10000\n",
            "3881 posts obtained out of 10000\n",
            "3981 posts obtained out of 10000\n",
            "4081 posts obtained out of 10000\n",
            "4181 posts obtained out of 10000\n",
            "4281 posts obtained out of 10000\n",
            "4381 posts obtained out of 10000\n",
            "4481 posts obtained out of 10000\n",
            "4581 posts obtained out of 10000\n",
            "4681 posts obtained out of 10000\n",
            "4781 posts obtained out of 10000\n",
            "4881 posts obtained out of 10000\n",
            "4981 posts obtained out of 10000\n",
            "5081 posts obtained out of 10000\n",
            "5181 posts obtained out of 10000\n",
            "5281 posts obtained out of 10000\n",
            "5381 posts obtained out of 10000\n",
            "5481 posts obtained out of 10000\n",
            "5581 posts obtained out of 10000\n",
            "5681 posts obtained out of 10000\n",
            "5781 posts obtained out of 10000\n",
            "5881 posts obtained out of 10000\n",
            "5981 posts obtained out of 10000\n",
            "6081 posts obtained out of 10000\n",
            "6181 posts obtained out of 10000\n",
            "6281 posts obtained out of 10000\n",
            "6381 posts obtained out of 10000\n",
            "6481 posts obtained out of 10000\n",
            "6581 posts obtained out of 10000\n",
            "6667 posts obtained out of 10000\n",
            "6667 posts obtained out of 10000\n"
          ],
          "name": "stdout"
        }
      ]
    },
    {
      "cell_type": "code",
      "metadata": {
        "id": "jkTt7auMNl1O",
        "colab": {
          "base_uri": "https://localhost:8080/"
        },
        "outputId": "51a4aae1-3614-4f13-fa39-7d4882bbbfaf"
      },
      "source": [
        "save_file_to_drive('france.csv', 'france.csv')\n",
        "save_file_to_drive('jeuxvideo.csv', 'jeuxvideo.csv')\n",
        "save_file_to_drive('sciencefr.csv', 'sciencefr.csv')\n",
        "save_file_to_drive('ligue1.csv', 'ligue1.csv')\n"
      ],
      "execution_count": null,
      "outputs": [
        {
          "output_type": "stream",
          "text": [
            "File ID: 1A7Le4ygjPYVhrRtM9Sb3BeqaN54SsX0P\n",
            "File ID: 1ijNMiqkco6uG0uKgRf2JUxi4DuS2NNa0\n",
            "File ID: 1vQm4XozPAS5iCztwIpwbcGZ8a-eQJ-P_\n",
            "File ID: 1MxPPXNkZhH_GGx-HNw8HC3K6CXLPqhxD\n"
          ],
          "name": "stdout"
        },
        {
          "output_type": "execute_result",
          "data": {
            "text/plain": [
              "{'id': '1MxPPXNkZhH_GGx-HNw8HC3K6CXLPqhxD'}"
            ]
          },
          "metadata": {
            "tags": []
          },
          "execution_count": 11
        }
      ]
    },
    {
      "cell_type": "markdown",
      "metadata": {
        "id": "PYFFkmNxD4cb"
      },
      "source": [
        "We cleaned them a little bit"
      ]
    },
    {
      "cell_type": "code",
      "metadata": {
        "id": "nWb6tlsQy8SM",
        "colab": {
          "base_uri": "https://localhost:8080/"
        },
        "outputId": "1bd007b0-60a4-4fe4-8adf-ed91662490c2"
      },
      "source": [
        "#france subreddit -> we need to select politics comment\n",
        "df = pd.read_csv('france.csv')\n",
        "df_politics = df[df['link_flair_text'] == 'Politique']\n",
        "df_politics = df_politics.drop(df_politics.columns.difference(['title']), axis=1)\n",
        "df_politics['category'] = 'Politics'"
      ],
      "execution_count": null,
      "outputs": [
        {
          "output_type": "stream",
          "text": [
            "/usr/local/lib/python3.6/dist-packages/IPython/core/interactiveshell.py:2718: DtypeWarning: Columns (9,10,56,59,62,76,79,82,83,84,86,87,89) have mixed types.Specify dtype option on import or set low_memory=False.\n",
            "  interactivity=interactivity, compiler=compiler, result=result)\n"
          ],
          "name": "stderr"
        }
      ]
    },
    {
      "cell_type": "code",
      "metadata": {
        "id": "0WFcul_v0xbT"
      },
      "source": [
        "#sciencefr -> category science\n",
        "df_science = pd.read_csv('sciencefr.csv')\n",
        "df_science = df_science.drop(df_science.columns.difference(['title']), axis=1)\n",
        "df_science['category'] = 'Science'"
      ],
      "execution_count": null,
      "outputs": []
    },
    {
      "cell_type": "code",
      "metadata": {
        "id": "EG98NqYI00am"
      },
      "source": [
        "#ligue1 -> category sports\n",
        "df_sports = pd.read_csv('ligue1.csv')\n",
        "df_sports = df_sports.drop(df_sports.columns.difference(['title']), axis=1)\n",
        "df_sports['category'] = 'Sports'"
      ],
      "execution_count": null,
      "outputs": []
    },
    {
      "cell_type": "code",
      "metadata": {
        "id": "qhD8Z-X8041P"
      },
      "source": [
        "#jeuxvideo -> category videogame\n",
        "df_games = pd.read_csv('jeuxvideo.csv')\n",
        "df_games = df_games.drop(df_games.columns.difference(['title']), axis=1)\n",
        "df_games['category'] = 'Games'"
      ],
      "execution_count": null,
      "outputs": []
    },
    {
      "cell_type": "code",
      "metadata": {
        "id": "ZcIdMMlR0-M4"
      },
      "source": [
        "df = pd.concat([df_politics,df_sports, df_science, df_games])"
      ],
      "execution_count": null,
      "outputs": []
    },
    {
      "cell_type": "code",
      "metadata": {
        "id": "XFhY3cas0_LY",
        "colab": {
          "base_uri": "https://localhost:8080/"
        },
        "outputId": "a8953883-a2de-4450-fd87-50e4a039a1d0"
      },
      "source": [
        "len(df)"
      ],
      "execution_count": null,
      "outputs": [
        {
          "output_type": "execute_result",
          "data": {
            "text/plain": [
              "25087"
            ]
          },
          "metadata": {
            "tags": []
          },
          "execution_count": 42
        }
      ]
    },
    {
      "cell_type": "code",
      "metadata": {
        "id": "-t8i84_1E4cI",
        "colab": {
          "base_uri": "https://localhost:8080/",
          "height": 195
        },
        "outputId": "8062cb10-bcaf-45eb-8df3-a9b04b40590a"
      },
      "source": [
        "df.groupby(by='category').count()"
      ],
      "execution_count": null,
      "outputs": [
        {
          "output_type": "execute_result",
          "data": {
            "text/html": [
              "<div>\n",
              "<style scoped>\n",
              "    .dataframe tbody tr th:only-of-type {\n",
              "        vertical-align: middle;\n",
              "    }\n",
              "\n",
              "    .dataframe tbody tr th {\n",
              "        vertical-align: top;\n",
              "    }\n",
              "\n",
              "    .dataframe thead th {\n",
              "        text-align: right;\n",
              "    }\n",
              "</style>\n",
              "<table border=\"1\" class=\"dataframe\">\n",
              "  <thead>\n",
              "    <tr style=\"text-align: right;\">\n",
              "      <th></th>\n",
              "      <th>title</th>\n",
              "    </tr>\n",
              "    <tr>\n",
              "      <th>category</th>\n",
              "      <th></th>\n",
              "    </tr>\n",
              "  </thead>\n",
              "  <tbody>\n",
              "    <tr>\n",
              "      <th>Games</th>\n",
              "      <td>5274</td>\n",
              "    </tr>\n",
              "    <tr>\n",
              "      <th>Politics</th>\n",
              "      <td>3146</td>\n",
              "    </tr>\n",
              "    <tr>\n",
              "      <th>Science</th>\n",
              "      <td>10000</td>\n",
              "    </tr>\n",
              "    <tr>\n",
              "      <th>Sports</th>\n",
              "      <td>6667</td>\n",
              "    </tr>\n",
              "  </tbody>\n",
              "</table>\n",
              "</div>"
            ],
            "text/plain": [
              "          title\n",
              "category       \n",
              "Games      5274\n",
              "Politics   3146\n",
              "Science   10000\n",
              "Sports     6667"
            ]
          },
          "metadata": {
            "tags": []
          },
          "execution_count": 45
        }
      ]
    },
    {
      "cell_type": "code",
      "metadata": {
        "id": "adTAbvcXE7O9",
        "colab": {
          "base_uri": "https://localhost:8080/"
        },
        "outputId": "0623ef8e-b207-42d1-e09f-fc377a05e9ee"
      },
      "source": [
        "df.to_csv('multilingual_control.csv', index=False)\n",
        "save_file_to_drive('multilingual_control.csv', 'multilingual_control.csv')"
      ],
      "execution_count": null,
      "outputs": [
        {
          "output_type": "stream",
          "text": [
            "File ID: 1VWPVy7fNio7hnLWPXzLyRvv4fXxdPLYc\n"
          ],
          "name": "stdout"
        },
        {
          "output_type": "execute_result",
          "data": {
            "text/plain": [
              "{'id': '1VWPVy7fNio7hnLWPXzLyRvv4fXxdPLYc'}"
            ]
          },
          "metadata": {
            "tags": []
          },
          "execution_count": 46
        }
      ]
    },
    {
      "cell_type": "code",
      "metadata": {
        "id": "07RkbyL3Fl3t"
      },
      "source": [
        ""
      ],
      "execution_count": null,
      "outputs": []
    }
  ]
}