{
  "nbformat": 4,
  "nbformat_minor": 0,
  "metadata": {
    "colab": {
      "name": "Creating Check-Worthy Dataset.ipynb",
      "provenance": [],
      "collapsed_sections": [],
      "toc_visible": true
    },
    "kernelspec": {
      "name": "python3",
      "display_name": "Python 3"
    },
    "accelerator": "GPU"
  },
  "cells": [
    {
      "cell_type": "markdown",
      "metadata": {
        "id": "ta08-dZDwMbm"
      },
      "source": [
        "# Creating a dataset to detect check-worthy claims\n",
        "One of the main steps of our pipeline is to recognize in a speech which claims are worth checking and which ones can be overlooked. Since no dataset on the matter exists, I decided to create one by myself. In order to do this, I used the following two sources:\n",
        " - I gathered from Politifact 10000+ statements from politicians that have been fact-checked on the website. This is the source of check-worthy sentences\n",
        " - [This dataset of movie lines](http://www.cs.cornell.edu/~cristian/Cornell_Movie-Dialogs_Corpus.html), which is the source of non check-worthy quotes"
      ]
    },
    {
      "cell_type": "code",
      "metadata": {
        "id": "2dx_jRjpZJls",
        "colab": {
          "base_uri": "https://localhost:8080/",
          "height": 51
        },
        "outputId": "6341c4bb-f9de-4c66-86c9-0b276fbf8fd8"
      },
      "source": [
        "import pandas as pd\n",
        "import matplotlib.pyplot as plt\n",
        "import seaborn as sns"
      ],
      "execution_count": null,
      "outputs": [
        {
          "output_type": "stream",
          "text": [
            "/usr/local/lib/python3.6/dist-packages/statsmodels/tools/_testing.py:19: FutureWarning: pandas.util.testing is deprecated. Use the functions in the public API at pandas.testing instead.\n",
            "  import pandas.util.testing as tm\n"
          ],
          "name": "stderr"
        }
      ]
    },
    {
      "cell_type": "markdown",
      "metadata": {
        "id": "wICnH4m_xNJu"
      },
      "source": [
        "## Politifact dataset\n",
        "I downloaded the statements in another notebook. Here, I'm just analyzing a few statistics."
      ]
    },
    {
      "cell_type": "code",
      "metadata": {
        "id": "hzB67tTFZLHC",
        "colab": {
          "base_uri": "https://localhost:8080/",
          "height": 235
        },
        "outputId": "d90111e8-52e4-42ab-ba08-931890fbafa4"
      },
      "source": [
        "df_politifact = pd.read_csv(\"checkworthy_claims.csv\", index_col=\"date\", parse_dates=[\"date\"])\n",
        "df_politifact.head()"
      ],
      "execution_count": null,
      "outputs": [
        {
          "output_type": "execute_result",
          "data": {
            "text/html": [
              "<div>\n",
              "<style scoped>\n",
              "    .dataframe tbody tr th:only-of-type {\n",
              "        vertical-align: middle;\n",
              "    }\n",
              "\n",
              "    .dataframe tbody tr th {\n",
              "        vertical-align: top;\n",
              "    }\n",
              "\n",
              "    .dataframe thead th {\n",
              "        text-align: right;\n",
              "    }\n",
              "</style>\n",
              "<table border=\"1\" class=\"dataframe\">\n",
              "  <thead>\n",
              "    <tr style=\"text-align: right;\">\n",
              "      <th></th>\n",
              "      <th>sentence</th>\n",
              "      <th>author</th>\n",
              "      <th>target</th>\n",
              "      <th>ruling</th>\n",
              "    </tr>\n",
              "    <tr>\n",
              "      <th>date</th>\n",
              "      <th></th>\n",
              "      <th></th>\n",
              "      <th></th>\n",
              "      <th></th>\n",
              "    </tr>\n",
              "  </thead>\n",
              "  <tbody>\n",
              "    <tr>\n",
              "      <th>2020-08-19</th>\n",
              "      <td>Kamala Harris said, \"I don't like Joe Biden an...</td>\n",
              "      <td>Facebook posts</td>\n",
              "      <td>['Joe Biden', 'Kamala Harris']</td>\n",
              "      <td>false</td>\n",
              "    </tr>\n",
              "    <tr>\n",
              "      <th>2020-08-19</th>\n",
              "      <td>Condoleezza Rice said, \"If you are taught bitt...</td>\n",
              "      <td>Facebook posts</td>\n",
              "      <td>[]</td>\n",
              "      <td>half-true</td>\n",
              "    </tr>\n",
              "    <tr>\n",
              "      <th>2020-08-19</th>\n",
              "      <td>A coloring book that describes Joe Biden as \"A...</td>\n",
              "      <td>Viral image</td>\n",
              "      <td>['Joe Biden']</td>\n",
              "      <td>false</td>\n",
              "    </tr>\n",
              "    <tr>\n",
              "      <th>2020-08-19</th>\n",
              "      <td>\"In West Virginia alone, overdoses have increa...</td>\n",
              "      <td>Carol Miller</td>\n",
              "      <td>[]</td>\n",
              "      <td>mostly-true</td>\n",
              "    </tr>\n",
              "    <tr>\n",
              "      <th>2020-08-18</th>\n",
              "      <td>The United States is \"the only major industria...</td>\n",
              "      <td>Bill Clinton</td>\n",
              "      <td>[]</td>\n",
              "      <td>mostly-true</td>\n",
              "    </tr>\n",
              "  </tbody>\n",
              "</table>\n",
              "</div>"
            ],
            "text/plain": [
              "                                                     sentence  ...       ruling\n",
              "date                                                           ...             \n",
              "2020-08-19  Kamala Harris said, \"I don't like Joe Biden an...  ...        false\n",
              "2020-08-19  Condoleezza Rice said, \"If you are taught bitt...  ...    half-true\n",
              "2020-08-19  A coloring book that describes Joe Biden as \"A...  ...        false\n",
              "2020-08-19  \"In West Virginia alone, overdoses have increa...  ...  mostly-true\n",
              "2020-08-18  The United States is \"the only major industria...  ...  mostly-true\n",
              "\n",
              "[5 rows x 4 columns]"
            ]
          },
          "metadata": {
            "tags": []
          },
          "execution_count": 2
        }
      ]
    },
    {
      "cell_type": "markdown",
      "metadata": {
        "id": "plmCKaTYpbf_"
      },
      "source": [
        "### Further cleaning"
      ]
    },
    {
      "cell_type": "markdown",
      "metadata": {
        "id": "XOk0BIvKkBLb"
      },
      "source": [
        "The dataset requires some more cleaning to eliminate remaining HTML markups."
      ]
    },
    {
      "cell_type": "code",
      "metadata": {
        "id": "M7RrkhpbhQru",
        "colab": {
          "base_uri": "https://localhost:8080/",
          "height": 450
        },
        "outputId": "7988f524-e8c0-4da3-fe7f-7075d6069fc9"
      },
      "source": [
        "df_politifact[df_politifact.sentence.str.startswith(\"<\")]"
      ],
      "execution_count": null,
      "outputs": [
        {
          "output_type": "execute_result",
          "data": {
            "text/html": [
              "<div>\n",
              "<style scoped>\n",
              "    .dataframe tbody tr th:only-of-type {\n",
              "        vertical-align: middle;\n",
              "    }\n",
              "\n",
              "    .dataframe tbody tr th {\n",
              "        vertical-align: top;\n",
              "    }\n",
              "\n",
              "    .dataframe thead th {\n",
              "        text-align: right;\n",
              "    }\n",
              "</style>\n",
              "<table border=\"1\" class=\"dataframe\">\n",
              "  <thead>\n",
              "    <tr style=\"text-align: right;\">\n",
              "      <th></th>\n",
              "      <th>sentence</th>\n",
              "      <th>author</th>\n",
              "      <th>target</th>\n",
              "      <th>ruling</th>\n",
              "    </tr>\n",
              "    <tr>\n",
              "      <th>date</th>\n",
              "      <th></th>\n",
              "      <th></th>\n",
              "      <th></th>\n",
              "      <th></th>\n",
              "    </tr>\n",
              "  </thead>\n",
              "  <tbody>\n",
              "    <tr>\n",
              "      <th>2020-01-31</th>\n",
              "      <td>&lt;p&gt;Says &amp;quot;10% of U.S. children are Texans....</td>\n",
              "      <td>James White</td>\n",
              "      <td>[]</td>\n",
              "      <td>true</td>\n",
              "    </tr>\n",
              "    <tr>\n",
              "      <th>2020-01-30</th>\n",
              "      <td>&lt;p&gt;Says drinking a bleach solution will preven...</td>\n",
              "      <td>Tweets</td>\n",
              "      <td>[]</td>\n",
              "      <td>pants-fire</td>\n",
              "    </tr>\n",
              "    <tr>\n",
              "      <th>2020-01-30</th>\n",
              "      <td>&lt;p&gt;&amp;quot;Vice President Biden threatened a for...</td>\n",
              "      <td>Rick Scott</td>\n",
              "      <td>['Joe Biden']</td>\n",
              "      <td>false</td>\n",
              "    </tr>\n",
              "    <tr>\n",
              "      <th>2020-01-30</th>\n",
              "      <td>&lt;p&gt;Says a &amp;quot;Clorox bottle claimed it could...</td>\n",
              "      <td>Facebook posts</td>\n",
              "      <td>[]</td>\n",
              "      <td>false</td>\n",
              "    </tr>\n",
              "    <tr>\n",
              "      <th>2020-01-30</th>\n",
              "      <td>&lt;p&gt;Says some of the names that may be purged f...</td>\n",
              "      <td>Robert Spindell</td>\n",
              "      <td>[]</td>\n",
              "      <td>barely-true</td>\n",
              "    </tr>\n",
              "    <tr>\n",
              "      <th>...</th>\n",
              "      <td>...</td>\n",
              "      <td>...</td>\n",
              "      <td>...</td>\n",
              "      <td>...</td>\n",
              "    </tr>\n",
              "    <tr>\n",
              "      <th>2007-08-30</th>\n",
              "      <td>&lt;p&gt;\\\"In 1972, we had a 179,000 human beings in...</td>\n",
              "      <td>Mike Gravel</td>\n",
              "      <td>[]</td>\n",
              "      <td>pants-fire</td>\n",
              "    </tr>\n",
              "    <tr>\n",
              "      <th>2007-08-30</th>\n",
              "      <td>&lt;p&gt;\\\"In state after state, polls make clear th...</td>\n",
              "      <td>John McCain</td>\n",
              "      <td>[]</td>\n",
              "      <td>mostly-true</td>\n",
              "    </tr>\n",
              "    <tr>\n",
              "      <th>2007-08-24</th>\n",
              "      <td>&lt;p&gt;\\\"The president is brain-dead.\\\"&lt;/p&gt;</td>\n",
              "      <td>Joe Biden</td>\n",
              "      <td>[]</td>\n",
              "      <td>pants-fire</td>\n",
              "    </tr>\n",
              "    <tr>\n",
              "      <th>2007-08-21</th>\n",
              "      <td>&lt;p&gt;\\\"Let's pay attention to kids who are not g...</td>\n",
              "      <td>Hillary Clinton</td>\n",
              "      <td>[]</td>\n",
              "      <td>true</td>\n",
              "    </tr>\n",
              "    <tr>\n",
              "      <th>2007-06-12</th>\n",
              "      <td>&lt;p&gt;&amp;quot;For every single scientist that tells...</td>\n",
              "      <td>Tom Tancredo</td>\n",
              "      <td>[]</td>\n",
              "      <td>false</td>\n",
              "    </tr>\n",
              "  </tbody>\n",
              "</table>\n",
              "<p>15837 rows × 4 columns</p>\n",
              "</div>"
            ],
            "text/plain": [
              "                                                     sentence  ...       ruling\n",
              "date                                                           ...             \n",
              "2020-01-31  <p>Says &quot;10% of U.S. children are Texans....  ...         true\n",
              "2020-01-30  <p>Says drinking a bleach solution will preven...  ...   pants-fire\n",
              "2020-01-30  <p>&quot;Vice President Biden threatened a for...  ...        false\n",
              "2020-01-30  <p>Says a &quot;Clorox bottle claimed it could...  ...        false\n",
              "2020-01-30  <p>Says some of the names that may be purged f...  ...  barely-true\n",
              "...                                                       ...  ...          ...\n",
              "2007-08-30  <p>\\\"In 1972, we had a 179,000 human beings in...  ...   pants-fire\n",
              "2007-08-30  <p>\\\"In state after state, polls make clear th...  ...  mostly-true\n",
              "2007-08-24            <p>\\\"The president is brain-dead.\\\"</p>  ...   pants-fire\n",
              "2007-08-21  <p>\\\"Let's pay attention to kids who are not g...  ...         true\n",
              "2007-06-12  <p>&quot;For every single scientist that tells...  ...        false\n",
              "\n",
              "[15837 rows x 4 columns]"
            ]
          },
          "metadata": {
            "tags": []
          },
          "execution_count": 5
        }
      ]
    },
    {
      "cell_type": "code",
      "metadata": {
        "id": "SmtDSKXWi6At",
        "colab": {
          "base_uri": "https://localhost:8080/",
          "height": 1000
        },
        "outputId": "77f0643a-e3b6-4dfe-8d2d-c1f549148de1"
      },
      "source": [
        "df_politifact[\"len\"] = df_politifact[\"sentence\"].apply(lambda row: len(row))\n",
        "df_politifact[df_politifact['len'] > 400][\"sentence\"].values"
      ],
      "execution_count": null,
      "outputs": [
        {
          "output_type": "execute_result",
          "data": {
            "text/plain": [
              "array(['Condoleezza Rice said, \"If you are taught bitterness and anger, then you will believe you are a victim. You will feel aggrieved and the twin brother of aggrievement is entitlement. So now you think you are owed something and you don\\'t have to work for it and now you\\'re on a really bad road to nowhere because there are people who will play to that sense of victimhood, aggrievement and entitlement, and you still won\\'t have a job.\"',\n",
              "       '<p>&quot;When the Senate was debating middle-class affordability for child care,&quot; then-Sen. Joe Biden &quot;voted against it, the only vote, but what he wrote (in) an op-ed was that he believed that women working outside the home would, quote, &lsquo;create the deterioration of family.&rsquo; He also said that women who were working outside the home were, quote, &lsquo;avoiding responsibility.&rsquo;&quot;</p>\\\\n\\\\n<p>&nbsp;</p>',\n",
              "       '<p>&quot;As a 27 year old staff attorney for the House Judiciary Committee during the Watergate investigation, Hillary Rodham was fired by her supervisor, lifelong Democrat Jerry Zeifman. When asked why Hillary Rodham was fired, Zeifman said in an interview, &lsquo;Because she was a liar. She was an unethical, dishonest lawyer, she conspired to violate the Constitution, the rules of the House, the rules of the Committee, and the rules of confidentiality.&rsquo;&quot;</p>\\\\r\\\\n\\\\r\\\\n<div>&nbsp;</div>\\\\r\\\\n',\n",
              "       '<p><strong>&quot;President Trump proposed the increase to $700 billion to our military budget, which included the 355-ship Navy, which included a military pay increase, a modest one, which included, a yet even more modest housing allowance, but yet (Sen. Tim Kaine) even voted against giving more money to our men and women who are in the military service and against our housing allowance.&quot;</strong></p>\\\\r\\\\n',\n",
              "       '<p>At a 2015 dedication of an FBI building in Florida, Rep. Frederica Wilson &quot;stood up there ... and talked about how she was instrumental in getting the funding for that building, and how she took care of her constituents because she got the money, and she just called up President Obama, and on that phone call he gave the money -- the $20 million -- to build the building. And she sat down.&quot;</p>\\\\r\\\\n',\n",
              "       '<p>Chicago Public Schools &quot;lead the country in high school graduation of an <a href=\\\\\"http://chicago.suntimes.com/news/emanuel-accepts-rauner-apology-for-insult-to-teachers-principals/\\\\\">urban school system</a>,&quot; &quot;match the United States of America in kids graduating high school going on to a four-year college,&quot; and are &quot;producing eighth-grade leaders in the country in math gains, fourth-grade leaders in reading gains.&quot;</p>\\\\r\\\\n',\n",
              "       '<p>&quot;While introducing Donald Trump, former New York City Mayor Rudy Giuliani <a href=\\\\\"https://webmail.saclink.csus.edu/owa/redir.aspx?C=qGzf4aXOMpF7TIN68BN-RW-nvm7oQ8jrSuZh2UIEnUKjZyZBJsbTCA..&amp;URL=http%3a%2f%2fwww.nydailynews.com%2fnews%2fpolitics%2frudy-giuliani-appears-forget-9-11-happened-article-1.2752166\\\\\">omitted</a> the September 11, 2001, strikes as a &lsquo;successful&rsquo; terrorist attack during the eight years before President Obama&rsquo;s 2008 election.&quot;</p>\\\\r\\\\n',\n",
              "       '<div class=\\\\\"km\\\\\" style=\\\\\"margin-left: 1em; color: rgb(34, 34, 34); font-family: arial, sans-serif; font-size: 12.8000001907349px; line-height: normal;\\\\\">\\\\r\\\\n<div class=\\\\\"kl\\\\\" dir=\\\\\"ltr\\\\\" id=\\\\\":47i\\\\\" style=\\\\\"margin-bottom: 0.2em;\\\\\">Says Israel Prime Minister Benjamin Netanyahu &quot;didn&#39;t change his position&quot; on a two-state solution.</div>\\\\r\\\\n\\\\r\\\\n<div>&nbsp;</div>\\\\r\\\\n</div>\\\\r\\\\n\\\\r\\\\n<div class=\\\\\"kq\\\\\" style=\\\\\"margin-bottom: 0.2em; color: rgb(119, 119, 119); margin-left: 1em; font-family: arial, sans-serif; font-size: 12.8000001907349px; line-height: normal;\\\\\">&nbsp;</div>\\\\r\\\\n',\n",
              "       '<div class=\\\\\"km\\\\\" style=\\\\\"margin-left: 1em; color: rgb(34, 34, 34); font-family: arial, sans-serif; line-height: normal;\\\\\">\\\\r\\\\n<div class=\\\\\"kk\\\\\" style=\\\\\"margin-bottom: 0.2em;\\\\\">Says President Barack Obama&#39;s&nbsp;own administration has done five environmental impact assessments of the Keystone XL pipeline, &quot;all of which have said it would have a minimum impact on the environment.&quot;</div>\\\\r\\\\n\\\\r\\\\n<div>&nbsp;</div>\\\\r\\\\n</div>\\\\r\\\\n\\\\r\\\\n<div class=\\\\\"km\\\\\" style=\\\\\"margin-left: 1em; color: rgb(34, 34, 34); font-family: arial, sans-serif; line-height: normal;\\\\\">&nbsp;</div>\\\\r\\\\n',\n",
              "       '<div dir=\\\\\"ltr\\\\\" style=\\\\\"color: rgb(0, 0, 0); font-family: arial, sans-serif; line-height: normal;\\\\\">&quot;We&#39;re now the No. 1 producer of oil in the world. We&#39;ve surpassed Saudi Arabia.&quot;</div>\\\\r\\\\n\\\\r\\\\n<div class=\\\\\"yj6qo ajU\\\\\" style=\\\\\"cursor: pointer; outline: none; padding: 10px 0px; width: 22px; color: rgb(0, 0, 0); font-family: arial, sans-serif; line-height: normal;\\\\\">&nbsp;</div>\\\\r\\\\n',\n",
              "       '<p>The federal budget bill &quot;reauthorizes the Overseas Private Investment Corporation, which provides taxpayer dollars so that the Four Seasons hotel can build a resort in Turkey.&quot;</p>\\\\r\\\\n\\\\r\\\\n<div class=\\\\\"yj6qo ajU\\\\\" style=\\\\\"cursor: pointer; outline: none; padding: 10px 0px; width: 22px; color: rgb(0, 0, 0); font-family: arial, sans-serif; line-height: normal;\\\\\">\\\\r\\\\n<div class=\\\\\"ajR\\\\\" id=\\\\\":3z3\\\\\" style=\\\\\"border: 1px solid rgb(221, 221, 221); clear: both; line-height: 6px; outline: none; position: relative; width: 20px; background-color: rgb(241, 241, 241);\\\\\"><img class=\\\\\"ajT\\\\\" src=\\\\\"https://ssl.gstatic.com/ui/v1/icons/mail/images/cleardot.gif\\\\\" style=\\\\\"background:url(https://ssl.gstatic.com/ui/v1/icons/mail/ellipsis.png) no-repeat; height:8px; opacity:0.3; width:20px\\\\\" /></div>\\\\r\\\\n</div>\\\\r\\\\n',\n",
              "       '<p><strong>The Cathedral of Christ the King is one of the Archdiocese of Atlanta&rsquo;s largest and fastest-growing parishes.</strong></p>\\\\r\\\\n\\\\r\\\\n<table>\\\\r\\\\n\\\\t<tbody>\\\\r\\\\n\\\\t\\\\t<tr>\\\\r\\\\n\\\\t\\\\t\\\\t<td style=\\\\\"vertical-align:bottom\\\\\">&nbsp;</td>\\\\r\\\\n\\\\t\\\\t\\\\t<td style=\\\\\"vertical-align:bottom\\\\\">&nbsp;</td>\\\\r\\\\n\\\\t\\\\t\\\\t<td style=\\\\\"vertical-align:bottom\\\\\">&nbsp;</td>\\\\r\\\\n\\\\t\\\\t\\\\t<td style=\\\\\"vertical-align:bottom\\\\\">&nbsp;</td>\\\\r\\\\n\\\\t\\\\t\\\\t<td style=\\\\\"vertical-align:bottom\\\\\">&nbsp;</td>\\\\r\\\\n\\\\t\\\\t</tr>\\\\r\\\\n\\\\t\\\\t<tr>\\\\r\\\\n\\\\t\\\\t\\\\t<td style=\\\\\"vertical-align:top\\\\\">&nbsp;</td>\\\\r\\\\n\\\\t\\\\t\\\\t<td style=\\\\\"vertical-align:bottom\\\\\">&nbsp;</td>\\\\r\\\\n\\\\t\\\\t\\\\t<td style=\\\\\"vertical-align:top\\\\\">&nbsp;</td>\\\\r\\\\n\\\\t\\\\t\\\\t<td style=\\\\\"vertical-align:bottom\\\\\">&nbsp;</td>\\\\r\\\\n\\\\t\\\\t\\\\t<td style=\\\\\"vertical-align:bottom\\\\\">&nbsp;</td>\\\\r\\\\n\\\\t\\\\t</tr>\\\\r\\\\n\\\\t\\\\t<tr>\\\\r\\\\n\\\\t\\\\t\\\\t<td style=\\\\\"vertical-align:top\\\\\">&nbsp;</td>\\\\r\\\\n\\\\t\\\\t\\\\t<td style=\\\\\"vertical-align:bottom\\\\\">&nbsp;</td>\\\\r\\\\n\\\\t\\\\t\\\\t<td style=\\\\\"vertical-align:top\\\\\">&nbsp;</td>\\\\r\\\\n\\\\t\\\\t\\\\t<td style=\\\\\"vertical-align:bottom\\\\\">&nbsp;</td>\\\\r\\\\n\\\\t\\\\t\\\\t<td style=\\\\\"vertical-align:bottom\\\\\">&nbsp;</td>\\\\r\\\\n\\\\t\\\\t</tr>\\\\r\\\\n\\\\t\\\\t<tr>\\\\r\\\\n\\\\t\\\\t\\\\t<td style=\\\\\"vertical-align:top\\\\\">&nbsp;</td>\\\\r\\\\n\\\\t\\\\t\\\\t<td style=\\\\\"vertical-align:bottom\\\\\">&nbsp;</td>\\\\r\\\\n\\\\t\\\\t\\\\t<td style=\\\\\"vertical-align:top\\\\\">&nbsp;</td>\\\\r\\\\n\\\\t\\\\t\\\\t<td style=\\\\\"vertical-align:bottom\\\\\">&nbsp;</td>\\\\r\\\\n\\\\t\\\\t\\\\t<td style=\\\\\"vertical-align:bottom\\\\\">&nbsp;</td>\\\\r\\\\n\\\\t\\\\t</tr>\\\\r\\\\n\\\\t\\\\t<tr>\\\\r\\\\n\\\\t\\\\t\\\\t<td style=\\\\\"vertical-align:top\\\\\">&nbsp;</td>\\\\r\\\\n\\\\t\\\\t\\\\t<td style=\\\\\"vertical-align:bottom\\\\\">&nbsp;</td>\\\\r\\\\n\\\\t\\\\t\\\\t<td style=\\\\\"vertical-align:top\\\\\">&nbsp;</td>\\\\r\\\\n\\\\t\\\\t\\\\t<td style=\\\\\"vertical-align:bottom\\\\\">&nbsp;</td>\\\\r\\\\n\\\\t\\\\t\\\\t<td style=\\\\\"vertical-align:bottom\\\\\">&nbsp;</td>\\\\r\\\\n\\\\t\\\\t</tr>\\\\r\\\\n\\\\t\\\\t<tr>\\\\r\\\\n\\\\t\\\\t\\\\t<td style=\\\\\"vertical-align:top\\\\\">&nbsp;</td>\\\\r\\\\n\\\\t\\\\t\\\\t<td style=\\\\\"vertical-align:bottom\\\\\">&nbsp;</td>\\\\r\\\\n\\\\t\\\\t\\\\t<td style=\\\\\"vertical-align:top\\\\\">&nbsp;</td>\\\\r\\\\n\\\\t\\\\t\\\\t<td style=\\\\\"vertical-align:bottom\\\\\">&nbsp;</td>\\\\r\\\\n\\\\t\\\\t\\\\t<td style=\\\\\"vertical-align:bottom\\\\\">&nbsp;</td>\\\\r\\\\n\\\\t\\\\t</tr>\\\\r\\\\n\\\\t\\\\t<tr>\\\\r\\\\n\\\\t\\\\t\\\\t<td style=\\\\\"vertical-align:top\\\\\">&nbsp;</td>\\\\r\\\\n\\\\t\\\\t\\\\t<td style=\\\\\"vertical-align:bottom\\\\\">&nbsp;</td>\\\\r\\\\n\\\\t\\\\t\\\\t<td style=\\\\\"vertical-align:top\\\\\">&nbsp;</td>\\\\r\\\\n\\\\t\\\\t\\\\t<td style=\\\\\"vertical-align:bottom\\\\\">&nbsp;</td>\\\\r\\\\n\\\\t\\\\t\\\\t<td style=\\\\\"vertical-align:bottom\\\\\">&nbsp;</td>\\\\r\\\\n\\\\t\\\\t</tr>\\\\r\\\\n\\\\t\\\\t<tr>\\\\r\\\\n\\\\t\\\\t\\\\t<td style=\\\\\"vertical-align:top\\\\\">&nbsp;</td>\\\\r\\\\n\\\\t\\\\t\\\\t<td style=\\\\\"vertical-align:bottom\\\\\">&nbsp;</td>\\\\r\\\\n\\\\t\\\\t\\\\t<td style=\\\\\"vertical-align:top\\\\\">&nbsp;</td>\\\\r\\\\n\\\\t\\\\t\\\\t<td style=\\\\\"vertical-align:bottom\\\\\">&nbsp;</td>\\\\r\\\\n\\\\t\\\\t\\\\t<td style=\\\\\"vertical-align:bottom\\\\\">&nbsp;</td>\\\\r\\\\n\\\\t\\\\t</tr>\\\\r\\\\n\\\\t\\\\t<tr>\\\\r\\\\n\\\\t\\\\t\\\\t<td style=\\\\\"vertical-align:top\\\\\">&nbsp;</td>\\\\r\\\\n\\\\t\\\\t\\\\t<td style=\\\\\"vertical-align:bottom\\\\\">&nbsp;</td>\\\\r\\\\n\\\\t\\\\t\\\\t<td style=\\\\\"vertical-align:top\\\\\">&nbsp;</td>\\\\r\\\\n\\\\t\\\\t\\\\t<td style=\\\\\"vertical-align:bottom\\\\\">&nbsp;</td>\\\\r\\\\n\\\\t\\\\t\\\\t<td style=\\\\\"vertical-align:bottom\\\\\">&nbsp;</td>\\\\r\\\\n\\\\t\\\\t</tr>\\\\r\\\\n\\\\t\\\\t<tr>\\\\r\\\\n\\\\t\\\\t\\\\t<td style=\\\\\"vertical-align:top\\\\\">&nbsp;</td>\\\\r\\\\n\\\\t\\\\t\\\\t<td style=\\\\\"vertical-align:bottom\\\\\">&nbsp;</td>\\\\r\\\\n\\\\t\\\\t\\\\t<td style=\\\\\"vertical-align:top\\\\\">&nbsp;</td>\\\\r\\\\n\\\\t\\\\t\\\\t<td style=\\\\\"vertical-align:bottom\\\\\">&nbsp;</td>\\\\r\\\\n\\\\t\\\\t\\\\t<td style=\\\\\"vertical-align:bottom\\\\\">&nbsp;</td>\\\\r\\\\n\\\\t\\\\t</tr>\\\\r\\\\n\\\\t\\\\t<tr>\\\\r\\\\n\\\\t\\\\t\\\\t<td style=\\\\\"vertical-align:top\\\\\">&nbsp;</td>\\\\r\\\\n\\\\t\\\\t\\\\t<td style=\\\\\"vertical-align:bottom\\\\\">&nbsp;</td>\\\\r\\\\n\\\\t\\\\t\\\\t<td style=\\\\\"vertical-align:top\\\\\">&nbsp;</td>\\\\r\\\\n\\\\t\\\\t\\\\t<td style=\\\\\"vertical-align:bottom\\\\\">&nbsp;</td>\\\\r\\\\n\\\\t\\\\t\\\\t<td style=\\\\\"vertical-align:bottom\\\\\">&nbsp;</td>\\\\r\\\\n\\\\t\\\\t</tr>\\\\r\\\\n\\\\t</tbody>\\\\r\\\\n</table>\\\\r\\\\n',\n",
              "       '<p>Says President<a href=\\\\\"http://w3.nexis.com/new/search/XMLCrossLinkSearch.do?bct=A&amp;risb=21_T17948015652&amp;returnToId=20_T17948015673&amp;csi=257765&amp;A=0.5966888718307183&amp;sourceCSI=162599&amp;indexTerm=%23PE0009TJP%23&amp;searchTerm=Obama%20&amp;indexType=P\\\\\"> </a>Barack Obama &quot;has taken 92 days of vacation since he was sworn in,&quot; compared to 367 for President George W. Bush at the same point in his presidency.</p>\\\\r\\\\n',\n",
              "       '<p dir=\\\\\"ltr\\\\\" id=\\\\\"docs-internal-guid-14e60afc-6878-00b5-cd5b-4adf03728277\\\\\" style=\\\\\"line-height:1.15;margin-top:0pt;margin-bottom:0pt;\\\\\">\\\\r\\\\n\\\\t&quot;People want the minimum wage, they want marriage equality, they want women&rsquo;s health care. There&rsquo;s issues that actually that really do matter, social issues that matter to the people of this state. So I know Barbara would support those issues, I know the governor hasn&rsquo;t. You&rsquo;ve seen the actions he&rsquo;s taken on them.&quot;</p>\\\\r\\\\n',\n",
              "       '<p dir=\\\\\"ltr\\\\\" id=\\\\\"docs-internal-guid-719fd997-1fbb-03d0-a6f2-03b751f236d6\\\\\" style=\\\\\"line-height:1.15;margin-top:0pt;margin-bottom:0pt;\\\\\">\\\\r\\\\n\\\\t&quot;If<a href=\\\\\"https://owa.plaind.com/owa/redir.aspx?C=3c92eb9545f94447a439988e6a071e40&amp;URL=https%3a%2f%2ftwitter.com%2fsearch%3fq%3d%2523ObamaCare%26src%3dhash\\\\\" style=\\\\\"text-decoration:none;\\\\\"> </a>Obamacare is fully implemented, 30 million people will still be without health insurance.&quot;</p>\\\\r\\\\n',\n",
              "       '<p dir=\\\\\"ltr\\\\\" id=\\\\\"docs-internal-guid-52bb7ced-159c-91c2-4277-1ed6be66abb0\\\\\" style=\\\\\"line-height:1.15;margin-top:0pt;margin-bottom:0pt;\\\\\">\\\\r\\\\n\\\\t&quot;Barbara Buono by the numbers: As a Trenton politician, she voted to raise taxes 154 times. Under her, property taxes up 70 percent. Backed a 16 percent sales tax increase. Utilities, nursing homes, cell phones, parking lots, lottery wins, gyms &ndash; She taxed them all. Architect of Corzine&rsquo;s budget, she drove New Jersey $2 billion into debt. Barbara Buono by the numbers: taking New Jersey backwards.&quot;</p>\\\\r\\\\n',\n",
              "       '<p dir=\\\\\"ltr\\\\\" id=\\\\\"docs-internal-guid-426c9c81-4788-9486-7632-b006c743f7ee\\\\\" style=\\\\\"line-height:1.15;margin-top:0pt;margin-bottom:0pt;\\\\\">\\\\r\\\\n\\\\t&quot;If anyone should know irresponsible it should be Senator Buono. She&rsquo;s the one, her budget left us with a $2 billion budget deficit in fiscal 10 that I had to fix. Her mistakes. And for fiscal year 2011 an $11 billion budget deficit. Her mistakes, along with her partner Jon Corzine.&quot;</p>\\\\r\\\\n',\n",
              "       '<p dir=\\\\\"ltr\\\\\" style=\\\\\"line-height: 1.15; margin-top: 0pt; margin-bottom: 0pt;\\\\\">\\\\r\\\\n\\\\t<b id=\\\\\"internal-source-marker_0.07965575903654099\\\\\" style=\\\\\"color: rgb(0, 0, 0); font-family: \\'Times New Roman\\'; font-size: medium; font-style: normal; font-variant: normal; letter-spacing: normal; line-height: normal; orphans: auto; text-align: start; text-indent: 0px; text-transform: none; white-space: normal; widows: auto; word-spacing: 0px; -webkit-text-size-adjust: auto; -webkit-text-stroke-width: 0px; font-weight: normal;\\\\\">&quot;Demand for public transportation is reaching record levels in Wisconsin.&quot;</b></p>\\\\r\\\\n',\n",
              "       '<p dir=\\\\\"ltr\\\\\" id=\\\\\"internal-source-marker_0.3169503600988921\\\\\" style=\\\\\"line-height:1.15;margin-top:0pt;margin-bottom:0pt;\\\\\">\\\\r\\\\n\\\\t&quot;Under Republican Chris Christie, New Jersey had the highest increase in unemployment in the country last year. Nearly 1 in 10 jobless. The worst unemployment in the region. Near the bottom in economic growth, yet Christie protected a tax cut for millionaires but vetoed a minimum wage hike.&quot;</p>\\\\r\\\\n',\n",
              "       '<p dir=\\\\\"ltr\\\\\" id=\\\\\"internal-source-marker_0.1476847084326215\\\\\" style=\\\\\"margin-top: 0pt;margin-bottom: 0pt;\\\\\">\\\\r\\\\n\\\\t&quot;Under my predecessor, they cut funding for education, but they didn&#39;t give them anything in return to make up for that,&quot; leading to &quot;less money&quot; for school districts</p>\\\\r\\\\n<p>\\\\r\\\\n\\\\t<br />\\\\r\\\\n\\\\t<br />\\\\r\\\\n\\\\t&nbsp;</p>\\\\r\\\\n<p>\\\\r\\\\n\\\\t<br id=\\\\\"internal-source-marker_0.1476847084326215\\\\\" />\\\\r\\\\n\\\\t&nbsp;</p>\\\\r\\\\n',\n",
              "       '<p>\\\\r\\\\n\\\\t<b id=\\\\\"internal-source-marker_0.07259226310998201\\\\\" style=\\\\\"color: rgb(0, 0, 0); font-family: \\'Times New Roman\\'; font-size: medium; font-style: normal; font-variant: normal; letter-spacing: normal; line-height: normal; orphans: auto; text-align: start; text-indent: 0px; text-transform: none; white-space: normal; widows: auto; word-spacing: 0px; -webkit-text-size-adjust: auto; -webkit-text-stroke-width: 0px; font-weight: normal;\\\\\">&quot;The Chinese government provides their people no access to the Internet.&quot;</b></p>\\\\r\\\\n',\n",
              "       '<p>\\\\r\\\\n\\\\t<b id=\\\\\"internal-source-marker_0.4052153970114887\\\\\" style=\\\\\"color: rgb(0, 0, 0); font-family: \\'Times New Roman\\'; font-size: medium; font-style: normal; font-variant: normal; letter-spacing: normal; line-height: normal; orphans: auto; text-align: start; text-indent: 0px; text-transform: none; white-space: normal; widows: auto; word-spacing: 0px; -webkit-text-size-adjust: auto; -webkit-text-stroke-width: 0px; font-weight: normal;\\\\\">Under Gov. John Kasich&rsquo;s budget proposal, &quot;the top one percent in Ohio will pay $10,000 less in income tax each year, but Ohio&rsquo;s working and middle class families will pay more.&quot;<br />\\\\r\\\\n\\\\t</b></p>\\\\r\\\\n',\n",
              "       '<p>\\\\r\\\\n\\\\t<b id=\\\\\"internal-source-marker_0.3698628665879369\\\\\" style=\\\\\"color: rgb(0, 0, 0); font-family: \\'Times New Roman\\'; font-size: medium; font-style: normal; font-variant: normal; letter-spacing: normal; line-height: normal; orphans: 2; text-align: start; text-indent: 0px; text-transform: none; white-space: normal; widows: 2; word-spacing: 0px; -webkit-text-size-adjust: auto; -webkit-text-stroke-width: 0px; font-weight: normal;\\\\\">&quot;Kewpie burgers are delicious. An Ohio institution. And they&#39;ll cost less thanks to John Kasich&#39;s tax cut.&quot;</b></p>\\\\r\\\\n',\n",
              "       '<p>\\\\r\\\\n\\\\t<b id=\\\\\"internal-source-marker_0.020329185761511326\\\\\" style=\\\\\"color: rgb(0, 0, 0); font-family: \\'Times New Roman\\'; font-size: medium; font-style: normal; font-variant: normal; letter-spacing: normal; line-height: normal; orphans: 2; text-align: start; text-indent: 0px; text-transform: none; white-space: normal; widows: 2; word-spacing: 0px; -webkit-text-size-adjust: auto; -webkit-text-stroke-width: 0px; font-weight: normal;\\\\\">Without a Medicaid expansion, 275,000 more Ohioans could be getting their primary care in emergency rooms, costing &quot;everybody a lot of money.&quot;</b></p>\\\\r\\\\n',\n",
              "       '<p>\\\\r\\\\n\\\\t<b id=\\\\\"internal-source-marker_0.5957274967804551\\\\\" style=\\\\\"color: rgb(0, 0, 0); font-family: \\'Times New Roman\\'; font-size: medium; font-style: normal; font-variant: normal; letter-spacing: normal; line-height: normal; orphans: 2; text-align: start; text-indent: 0px; text-transform: none; white-space: normal; widows: 2; word-spacing: 0px; -webkit-text-size-adjust: auto; -webkit-text-stroke-width: 0px; font-weight: normal;\\\\\">&quot;There are 3 million jobs that go vacant each month in this country.&quot;</b></p>\\\\r\\\\n',\n",
              "       '<p>\\\\r\\\\n\\\\tSays Virginia is the biggest state that does not have a major league sports team. &nbsp;<br />\\\\r\\\\n\\\\t<b id=\\\\\"internal-source-marker_0.12255394808016717\\\\\" style=\\\\\"color: rgb(0, 0, 0); font-family: \\'Times New Roman\\'; font-size: medium; font-style: normal; font-variant: normal; letter-spacing: normal; line-height: normal; orphans: 2; text-align: start; text-indent: 0px; text-transform: none; white-space: normal; widows: 2; word-spacing: 0px; -webkit-text-size-adjust: auto; -webkit-text-stroke-width: 0px; font-weight: normal;\\\\\">&nbsp; </b></p>\\\\r\\\\n',\n",
              "       '<p>\\\\r\\\\n\\\\t&quot;Right now one of our highest job growth sectors is Leisure and Hospitality. We&#39;ve added jobs that mostly fall within the restaurant and bar sector industry. These are not high-paying jobs, as the U.S. Department of Labor estimates this is an industry sector with the lowest average wages and the lowest proportion of its workforce earning minimum or subminimum wage jobs.&quot;</p>\\\\r\\\\n',\n",
              "       '<p>\\\\r\\\\n\\\\t<b id=\\\\\"internal-source-marker_0.8276993478648365\\\\\" style=\\\\\"color: rgb(0, 0, 0); font-family: \\'Times New Roman\\'; font-size: medium; font-style: normal; font-variant: normal; letter-spacing: normal; line-height: normal; orphans: 2; text-align: start; text-indent: 0px; text-transform: none; white-space: normal; widows: 2; word-spacing: 0px; -webkit-text-size-adjust: auto; -webkit-text-stroke-width: 0px; font-weight: normal;\\\\\">Says Delta Air Lines has &quot;once again broken a promise they made to me and to the people of Memphis.&quot;</b></p>\\\\r\\\\n',\n",
              "       '<p>\\\\r\\\\n\\\\t<b id=\\\\\"internal-source-marker_0.5238813085015863\\\\\" style=\\\\\"color: rgb(0, 0, 0); font-family: \\'Times New Roman\\'; font-size: medium; font-style: normal; font-variant: normal; letter-spacing: normal; line-height: normal; orphans: 2; text-align: start; text-indent: 0px; text-transform: none; white-space: normal; widows: 2; word-spacing: 0px; -webkit-text-size-adjust: auto; -webkit-text-stroke-width: 0px; font-weight: normal;\\\\\">Says Tennessee&rsquo;s higher education funding model &quot;is 100 percent outcomes-based&quot; and &quot;we are already seeing this model changing the way our postsecondary institutions do business.&quot;</b></p>\\\\r\\\\n',\n",
              "       '<p>\\\\r\\\\n\\\\t<b id=\\\\\"internal-source-marker_0.4139249576255679\\\\\" style=\\\\\"color: rgb(0, 0, 0); font-family: \\'Times New Roman\\'; font-size: medium; font-style: normal; font-variant: normal; letter-spacing: normal; line-height: normal; orphans: 2; text-align: start; text-indent: 0px; text-transform: none; white-space: normal; widows: 2; word-spacing: 0px; -webkit-text-size-adjust: auto; -webkit-text-stroke-width: 0px; font-weight: normal; \\\\\">Says that &quot;Tennessee law requires that schools receive half of proceeds -- $31 million per year&quot; -- from a half-cent increase in the Shelby County sales tax.</b></p>\\\\r\\\\n',\n",
              "       '<p>\\\\r\\\\n\\\\t<b id=\\\\\"internal-source-marker_0.8149742181412876\\\\\" style=\\\\\"color: rgb(0, 0, 0); font-family: \\'Times New Roman\\'; font-size: medium; font-style: normal; font-variant: normal; letter-spacing: normal; line-height: normal; orphans: 2; text-align: start; text-indent: 0px; text-transform: none; white-space: normal; widows: 2; word-spacing: 0px; -webkit-text-size-adjust: auto; -webkit-text-stroke-width: 0px; font-weight: normal; \\\\\">Bill Clinton presided over &quot;the biggest expansion of the American economy since World War II.&quot;</b></p>\\\\r\\\\n',\n",
              "       '<p>\\\\r\\\\n\\\\t<b id=\\\\\"internal-source-marker_0.7462714530993253\\\\\" style=\\\\\"color: rgb(0, 0, 0); font-family: \\'Times New Roman\\'; font-size: medium; font-style: normal; font-variant: normal; letter-spacing: normal; line-height: normal; orphans: 2; text-align: start; text-indent: 0px; text-transform: none; white-space: normal; widows: 2; word-spacing: 0px; -webkit-text-size-adjust: auto; -webkit-text-stroke-width: 0px; font-weight: normal; \\\\\">&quot;As governor, I cut $5 billion in spending.&quot;</b></p>\\\\r\\\\n',\n",
              "       '<p>\\\\r\\\\n\\\\t<b id=\\\\\"internal-source-marker_0.17971148621290922\\\\\" style=\\\\\"color: rgb(0, 0, 0); font-family: \\'Times New Roman\\'; font-size: medium; font-style: normal; font-variant: normal; letter-spacing: normal; line-height: normal; orphans: 2; text-align: start; text-indent: 0px; text-transform: none; white-space: normal; widows: 2; word-spacing: 0px; -webkit-text-size-adjust: auto; -webkit-text-stroke-width: 0px; font-weight: normal; \\\\\">&quot;Virginia papers called (Scott) Rigell&rsquo;s campaign &lsquo;Mostly False.&rsquo;&quot;</b></p>\\\\r\\\\n',\n",
              "       '<p>\\\\r\\\\n\\\\t<b id=\\\\\"internal-source-marker_0.8898276623804122\\\\\" style=\\\\\"color: rgb(0, 0, 0); font-family: \\'Times New Roman\\'; font-size: medium; font-style: normal; font-variant: normal; letter-spacing: normal; line-height: normal; orphans: 2; text-align: start; text-indent: 0px; text-transform: none; white-space: normal; widows: 2; word-spacing: 0px; -webkit-text-size-adjust: auto; -webkit-text-stroke-width: 0px; font-weight: normal; \\\\\">Signs letter saying Consumer Product Safety Commission is acting &quot;without consultation or input from the company&quot; to stop the sale of Buckyballs.</b></p>\\\\r\\\\n',\n",
              "       '<p>\\\\r\\\\n\\\\t<b id=\\\\\"internal-source-marker_0.8898276623804122\\\\\" style=\\\\\"color: rgb(0, 0, 0); font-family: \\'Times New Roman\\'; font-size: medium; font-style: normal; font-variant: normal; letter-spacing: normal; line-height: normal; orphans: 2; text-align: start; text-indent: 0px; text-transform: none; white-space: normal; widows: 2; word-spacing: 0px; -webkit-text-size-adjust: auto; -webkit-text-stroke-width: 0px; font-weight: normal; \\\\\">Signs letter saying Consumer Product Safety Commission is acting &quot;without consultation or input from the company&quot; to stop the sale of Buckyballs.</b></p>\\\\r\\\\n',\n",
              "       '<p>\\\\r\\\\n\\\\t<b id=\\\\\"internal-source-marker_0.044183179968968034\\\\\" style=\\\\\"color: rgb(0, 0, 0); font-family: \\'Times New Roman\\'; font-size: medium; font-style: normal; font-variant: normal; letter-spacing: normal; line-height: normal; orphans: 2; text-align: start; text-indent: 0px; text-transform: none; white-space: normal; widows: 2; word-spacing: 0px; -webkit-text-size-adjust: auto; -webkit-text-stroke-width: 0px; font-weight: normal; \\\\\">&quot;All legislative mail, from the content to the timing, is approved by the speaker&#39;s office.&quot;</b></p>\\\\r\\\\n',\n",
              "       '<p>\\\\r\\\\n\\\\t<b id=\\\\\"internal-source-marker_0.587664382532239\\\\\" style=\\\\\"color: rgb(0, 0, 0); font-family: \\'Times New Roman\\'; font-size: medium; font-style: normal; font-variant: normal; letter-spacing: normal; line-height: normal; orphans: 2; text-align: start; text-indent: 0px; text-transform: none; white-space: normal; widows: 2; word-spacing: 0px; -webkit-text-size-adjust: auto; -webkit-text-stroke-width: 0px; font-weight: normal; \\\\\">Says Tennessee is providing &quot;millions of dollars&quot; to virtual school company for &quot;results at the bottom of the bottom.&quot;</b></p>\\\\r\\\\n',\n",
              "       '<p>\\\\r\\\\n\\\\t<b id=\\\\\"internal-source-marker_0.49718576739542186\\\\\" style=\\\\\"color: rgb(0, 0, 0); font-family: \\'Times New Roman\\'; font-size: medium; font-style: normal; font-variant: normal; letter-spacing: normal; line-height: normal; orphans: 2; text-align: start; text-indent: 0px; text-transform: none; white-space: normal; widows: 2; word-spacing: 0px; -webkit-text-size-adjust: auto; -webkit-text-stroke-width: 0px; font-weight: normal; \\\\\">&quot;We haven&rsquo;t passed a budget in more than three years and not a single appropriations bill has been brought to the floor this year.&quot; </b></p>\\\\r\\\\n',\n",
              "       '<p>\\\\r\\\\n\\\\t<b id=\\\\\"internal-source-marker_0.04240250028669834\\\\\" style=\\\\\"color: rgb(0, 0, 0); font-family: \\'Times New Roman\\'; font-size: medium; font-style: normal; font-variant: normal; letter-spacing: normal; line-height: normal; orphans: 2; text-align: start; text-indent: 0px; text-transform: none; white-space: normal; widows: 2; word-spacing: 0px; -webkit-text-size-adjust: auto; -webkit-text-stroke-width: 0px; font-weight: normal; \\\\\">Defends his vote to push &quot;retirement age to 70&quot; by saying he is for &quot;a process&quot; that would not be fully implemented until &quot;around the turn of the century.&quot;</b></p>\\\\r\\\\n',\n",
              "       '<p>\\\\r\\\\n\\\\t<b id=\\\\\"internal-source-marker_0.316805237904191\\\\\" style=\\\\\"color: rgb(0, 0, 0); font-family: \\'Times New Roman\\'; font-size: medium; font-style: normal; font-variant: normal; letter-spacing: normal; line-height: normal; orphans: 2; text-align: start; text-indent: 0px; text-transform: none; white-space: normal; widows: 2; word-spacing: 0px; -webkit-text-size-adjust: auto; -webkit-text-stroke-width: 0px; font-weight: normal; \\\\\">&quot;When Tim Kaine was governor, spending soared, blowing holes in the budget every year.&quot;</b></p>\\\\r\\\\n',\n",
              "       '<p>\\\\r\\\\n\\\\t<b id=\\\\\"internal-source-marker_0.316805237904191\\\\\" style=\\\\\"color: rgb(0, 0, 0); font-family: \\'Times New Roman\\'; font-size: medium; font-style: normal; font-variant: normal; letter-spacing: normal; line-height: normal; orphans: 2; text-align: start; text-indent: 0px; text-transform: none; white-space: normal; widows: 2; word-spacing: 0px; -webkit-text-size-adjust: auto; -webkit-text-stroke-width: 0px; font-weight: normal; \\\\\">&quot;When Tim Kaine was governor, spending soared, blowing holes in the budget every year.&quot;</b></p>\\\\r\\\\n',\n",
              "       '<p>\\\\r\\\\n\\\\t<b id=\\\\\"internal-source-marker_0.3228516071103513\\\\\" style=\\\\\"color: rgb(0, 0, 0); font-family: \\'Times New Roman\\'; font-size: medium; font-style: normal; font-variant: normal; letter-spacing: normal; line-height: normal; orphans: 2; text-align: start; text-indent: 0px; text-transform: none; white-space: normal; widows: 2; word-spacing: 0px; -webkit-text-size-adjust: auto; -webkit-text-stroke-width: 0px; font-weight: normal; \\\\\">&quot;We have only one person on the (TVA) board, to my knowledge, who even has any corporate board experience.&quot;</b></p>\\\\r\\\\n',\n",
              "       '<p>\\\\r\\\\n\\\\t<b id=\\\\\"internal-source-marker_0.43581045768223703\\\\\" style=\\\\\"color: rgb(0, 0, 0); font-family: Times; font-size: medium; font-style: normal; font-variant: normal; letter-spacing: normal; line-height: normal; orphans: 2; text-align: start; text-indent: 0px; text-transform: none; white-space: normal; widows: 2; word-spacing: 0px; -webkit-text-size-adjust: auto; -webkit-text-stroke-width: 0px; font-weight: normal; \\\\\">The Obama administration &quot;willfully leaked the existence of STUXNET (a computer worm used against Iran), allowing our enemies to learn more of our secrets and of our operations.&quot;</b></p>\\\\r\\\\n',\n",
              "       '<p>\\\\r\\\\n\\\\t<b id=\\\\\"internal-source-marker_0.7743890709243715\\\\\" style=\\\\\"color: rgb(0, 0, 0); font-family: \\'Times New Roman\\'; font-size: medium; font-style: normal; font-variant: normal; letter-spacing: normal; line-height: normal; orphans: 2; text-align: start; text-indent: 0px; text-transform: none; white-space: normal; widows: 2; word-spacing: 0px; -webkit-text-size-adjust: auto; -webkit-text-stroke-width: 0px; font-weight: normal; \\\\\">&quot;From a standpoint of the county government, neither school system has received an increase in funding over the past six years.&quot;</b></p>\\\\r\\\\n',\n",
              "       '<p>\\\\r\\\\n\\\\t<b id=\\\\\"internal-source-marker_0.3437882757280022\\\\\" style=\\\\\"color: rgb(0, 0, 0); font-family: \\'Times New Roman\\'; font-size: medium; font-style: normal; font-variant: normal; letter-spacing: normal; line-height: normal; orphans: 2; text-align: start; text-indent: 0px; text-transform: none; white-space: normal; widows: 2; word-spacing: 0px; -webkit-text-size-adjust: auto; -webkit-text-stroke-width: 0px; font-weight: normal; \\\\\">The Obama administration is &quot;unwinding our nation&rsquo;s welfare-to-work requirements.&quot;</b></p>\\\\r\\\\n',\n",
              "       '<p>\\\\r\\\\n\\\\t<b id=\\\\\"internal-source-marker_0.9485679194331169\\\\\" style=\\\\\"color: rgb(0, 0, 0); font-family: \\'Times New Roman\\'; font-size: medium; font-style: normal; font-variant: normal; letter-spacing: normal; line-height: normal; orphans: 2; text-align: start; text-indent: 0px; text-transform: none; white-space: normal; widows: 2; word-spacing: 0px; -webkit-text-size-adjust: auto; -webkit-text-stroke-width: 0px; font-weight: normal; \\\\\">&quot;When I left the Senate, we were on a trajectory towards a balanced budget.&quot;</b></p>\\\\r\\\\n',\n",
              "       '<p>\\\\r\\\\n\\\\t<b id=\\\\\"internal-source-marker_0.9485679194331169\\\\\" style=\\\\\"color: rgb(0, 0, 0); font-family: \\'Times New Roman\\'; font-size: medium; font-style: normal; font-variant: normal; letter-spacing: normal; line-height: normal; orphans: 2; text-align: start; text-indent: 0px; text-transform: none; white-space: normal; widows: 2; word-spacing: 0px; -webkit-text-size-adjust: auto; -webkit-text-stroke-width: 0px; font-weight: normal; \\\\\">&quot;When I left the Senate, we were on a trajectory towards a balanced budget.&quot;</b></p>\\\\r\\\\n',\n",
              "       '<p>\\\\r\\\\n\\\\t<b id=\\\\\"internal-source-marker_0.012791847111657262\\\\\" style=\\\\\"color: rgb(0, 0, 0); font-family: \\'Times New Roman\\'; font-size: medium; font-style: normal; font-variant: normal; letter-spacing: normal; line-height: normal; orphans: 2; text-align: start; text-indent: 0px; text-transform: none; white-space: normal; widows: 2; word-spacing: 0px; -webkit-text-size-adjust: auto; -webkit-text-stroke-width: 0px; font-weight: normal; \\\\\">Says that President Obama said that &quot;Small Businesses Succeed Because of Government.&quot;</b></p>\\\\r\\\\n',\n",
              "       '<p>\\\\r\\\\n\\\\t<b id=\\\\\"internal-source-marker_0.21809010882861912\\\\\" style=\\\\\"color: rgb(0, 0, 0); font-family: \\'Times New Roman\\'; font-size: medium; font-style: normal; font-variant: normal; letter-spacing: normal; line-height: normal; orphans: 2; text-align: -webkit-auto; text-indent: 0px; text-transform: none; white-space: normal; widows: 2; word-spacing: 0px; -webkit-text-size-adjust: auto; -webkit-text-stroke-width: 0px; font-weight: normal; \\\\\">&quot;Unemployment rate dropped in every state that elected a Republican gov. in 2010&quot;</b></p>\\\\r\\\\n',\n",
              "       '<p>\\\\r\\\\n\\\\t<b id=\\\\\"internal-source-marker_0.26684431126341224\\\\\" style=\\\\\"color: rgb(0, 0, 0); font-family: \\'Times New Roman\\'; font-style: normal; font-variant: normal; letter-spacing: normal; line-height: normal; orphans: 2; text-align: -webkit-auto; text-indent: 0px; text-transform: none; white-space: normal; widows: 2; word-spacing: 0px; -webkit-text-size-adjust: auto; -webkit-text-stroke-width: 0px; font-size: medium; font-weight: normal; \\\\\">&quot;The legislature was never given the opportunity to debate or vote on loaning $75 million to 38 Studios.&quot;</b></p>\\\\r\\\\n',\n",
              "       '<p>\\\\r\\\\n\\\\t<b id=\\\\\"internal-source-marker_0.2995917343068868\\\\\" style=\\\\\"color: rgb(0, 0, 0); font-family: \\'Times New Roman\\'; font-style: normal; font-variant: normal; letter-spacing: normal; line-height: normal; orphans: 2; text-align: -webkit-auto; text-indent: 0px; text-transform: none; white-space: normal; widows: 2; word-spacing: 0px; -webkit-text-size-adjust: auto; -webkit-text-stroke-width: 0px; font-size: medium; font-weight: normal; \\\\\">&quot;In the state of Rhode Island 25 percent of our current physicians are graduates of for-profit medical schools.&quot;</b></p>\\\\r\\\\n',\n",
              "       '<p>\\\\r\\\\n\\\\t<b id=\\\\\"internal-source-marker_0.024252611445263028\\\\\" style=\\\\\"color: rgb(0, 0, 0); font-family: \\'Times New Roman\\'; font-style: normal; font-variant: normal; letter-spacing: normal; line-height: normal; orphans: 2; text-align: -webkit-auto; text-indent: 0px; text-transform: none; white-space: normal; widows: 2; word-spacing: 0px; -webkit-text-size-adjust: auto; -webkit-text-stroke-width: 0px; font-size: medium; font-weight: normal; \\\\\">&quot;While Act 10 allowed (Milwaukee County) to save some money, it was millions short of what we needed to fill the hole left by the $28 million cut in state aid.&quot; </b></p>\\\\r\\\\n',\n",
              "       '<p>\\\\r\\\\n\\\\t<b id=\\\\\"internal-source-marker_0.3485819350462407\\\\\" style=\\\\\"color: rgb(0, 0, 0); font-family: \\'Times New Roman\\'; font-style: normal; font-variant: normal; letter-spacing: normal; line-height: normal; orphans: 2; text-align: -webkit-auto; text-indent: 0px; text-transform: none; white-space: normal; widows: 2; word-spacing: 0px; -webkit-text-size-adjust: auto; -webkit-text-stroke-width: 0px; font-size: medium; font-weight: normal; \\\\\">&quot;Over the past five years the federal government has paid out $601 million in retirement and disability benefits to deceased former federal employees.&quot;</b></p>\\\\r\\\\n',\n",
              "       '<p>\\\\r\\\\n\\\\t<b id=\\\\\"internal-source-marker_0.5462291201110929\\\\\" style=\\\\\"color: rgb(0, 0, 0); font-family: \\'Times New Roman\\'; font-style: normal; font-variant: normal; letter-spacing: normal; line-height: normal; orphans: 2; text-indent: 0px; text-transform: none; white-space: normal; widows: 2; word-spacing: 0px; font-size: medium; font-weight: normal;\\\\\">Under President Barack Obama&rsquo;s watch, &quot;oil production on federal lands has decreased 14 percent over the past year.&quot;<a href=\\\\\"http://savannahnow.com/bryan-county-now/2012-04-12/jack-kingston-rising-gas-prices-threaten-meager-signs-recovery\\\\\"> </a></b></p>\\\\r\\\\n',\n",
              "       '<p>\\\\r\\\\n\\\\t<b id=\\\\\"internal-source-marker_0.1073093512095511\\\\\" style=\\\\\"color: rgb(0, 0, 0); font-family: \\'Times New Roman\\'; font-style: normal; font-variant: normal; letter-spacing: normal; line-height: normal; orphans: 2; text-indent: 0px; text-transform: none; white-space: normal; widows: 2; word-spacing: 0px; font-size: medium; font-weight: normal;\\\\\">&quot;The federal government owns tens of thousands of properties that are vacant or underused.&quot;</b></p>\\\\r\\\\n',\n",
              "       '<p>\\\\r\\\\n\\\\t<b id=\\\\\"internal-source-marker_0.9817430935800076\\\\\" style=\\\\\"color: rgb(0, 0, 0); font-family: \\'Times New Roman\\'; font-style: normal; font-variant: normal; letter-spacing: normal; line-height: normal; orphans: 2; text-indent: 0px; text-transform: none; white-space: normal; widows: 2; word-spacing: 0px; font-size: medium; font-weight: normal;\\\\\">&quot;There is not one single federal housing program yet that has not needed a bailout to survive.&quot;</b></p>\\\\r\\\\n',\n",
              "       '<p>\\\\r\\\\n\\\\tU.S. Rep. Debbie Wasserman Schultz &quot;has blamed the Republicans for the creation of Hamas.&quot;<br style=\\\\\"widows: 2; text-transform: none; background-color: rgb(255,255,255); text-indent: 0px; font: 13px verdana; white-space: normal; orphans: 2; letter-spacing: normal; color: rgb(0,0,0); word-spacing: 0px; -webkit-text-size-adjust: auto; -webkit-text-stroke-width: 0px\\\\\" />\\\\r\\\\n\\\\t&nbsp;</p>\\\\r\\\\n',\n",
              "       '<p>\\\\r\\\\n\\\\tThe largest number of gamblers are &quot;from the poorest segments of the population.&quot;<br style=\\\\\"widows: 2; text-transform: none; background-color: rgb(255,255,255); text-indent: 0px; font: 13px verdana; white-space: normal; orphans: 2; letter-spacing: normal; color: rgb(0,0,0); word-spacing: 0px; -webkit-text-size-adjust: auto; -webkit-text-stroke-width: 0px\\\\\" />\\\\r\\\\n\\\\t&nbsp;</p>\\\\r\\\\n',\n",
              "       '<p>\\\\r\\\\n\\\\tPortland Public Schools invites &quot;well-paid, well-fed school bureaucrats, administrators, teachers, other staff, non-needy students, affluent parents of students, and other adults, including on the other extreme the adult homeless, illegal aliens, fanatical Muslim terrorists, or drug addicted street people, to enjoy cheap breakfasts in taxpayer-paid school facilities amidst school children.&quot;</p>',\n",
              "       '<p><span id=\\\\\"internal-source-marker_0.11507410705932786\\\\\" style=\\\\\"font-size: 18pt; font-family: Times New Roman; color: #000000; background-color: transparent; font-weight: normal; font-style: normal; text-decoration: none; vertical-align: baseline;\\\\\">Texas state Reps. Dan Branch and Jim Pitts, lieutenants to House Speaker Joe Straus,  &ldquo;are helping Democrat Ellen Cohen against her Republican challenger,  doing events with her in her district.&rdquo;</span></p>',\n",
              "       '<h1 id=\\\\\"internal-source-marker_0.10736087012656237\\\\\"><span style=\\\\\"font-size: 11pt; font-family: Arial; color: #000000; background-color: transparent; font-weight: normal; font-style: normal; text-decoration: none; vertical-align: baseline;\\\\\">Says Houston&rsquo;s 18th  congressional district has been &ldquo;gentrified&rdquo; and is home to &ldquo;more Anglos  than African Americans.&rdquo;</span></h1>',\n",
              "       '<p><span id=\\\\\"internal-source-marker_0.7603861965030306\\\\\" style=\\\\\"font-weight: normal; font-size: 10pt; vertical-align: baseline; color: #000000; font-style: normal; font-family: Verdana; background-color: transparent; text-decoration: none;\\\\\">\\\\\"My opponent here has accepted money from Freddie Mac, Fannie Mae (and) hosted subprime mortgage seminars.\\\\\"</span></p>\\\\r\\\\n<p><span style=\\\\\"font-weight: normal; font-size: 10pt; vertical-align: baseline; color: #000000; font-style: normal; font-family: Verdana; background-color: transparent; text-decoration: none;\\\\\">&nbsp;</span></p>',\n",
              "       '<p><span id=\\\\\"internal-source-marker_0.22358349830247082\\\\\" style=\\\\\"font-size: 11pt; font-family: Arial; color: #000000; background-color: transparent; font-weight: normal; font-style: normal; text-decoration: none; vertical-align: baseline;\\\\\">\\\\\"Fifty</span><span style=\\\\\"font-size: 11pt; font-family: Arial; color: #000000; background-color: transparent; font-weight: bold; font-style: normal; text-decoration: none; vertical-align: baseline;\\\\\">-</span><span style=\\\\\"font-size: 11pt; font-family: Arial; color: #000000; background-color: transparent; font-weight: normal; font-style: normal; text-decoration: none; vertical-align: baseline;\\\\\">three percent of teens  in Central Falls are getting pregnant.\\\\\"</span></p>',\n",
              "       '<p><span id=\\\\\"internal-source-marker_0.27322856174717935\\\\\" style=\\\\\"font-size: 11pt; font-family: Arial; color: #000000; background-color: transparent; font-weight: normal; font-style: normal; text-decoration: none; vertical-align: baseline;\\\\\">&ldquo;</span><span style=\\\\\"font-size: 11pt; font-family: Arial; color: #333333; background-color: transparent; font-weight: normal; font-style: normal; text-decoration: none; vertical-align: baseline;\\\\\">If every small  business in our state, on average, was able to create one new job we  would cut our unemployment rate in half.&rdquo; </span></p>',\n",
              "       '<p><span id=\\\\\"internal-source-marker_0.6924982751040495\\\\\" style=\\\\\"font-size: 11pt; font-family: Arial; color: #000000; background-color: transparent; font-weight: normal; font-style: normal; text-decoration: none; vertical-align: baseline;\\\\\">U.S. Rep. Jim Langevin  didn\\'t want a </span><span style=\\\\\"font-size: 11pt; font-family: Arial; color: #000000; background-color: #ffffff; font-weight: normal; font-style: normal; text-decoration: none; vertical-align: baseline;\\\\\">border fence </span><span style=\\\\\"font-size: 11pt; font-family: Arial; color: #000000; background-color: transparent; font-weight: normal; font-style: normal; text-decoration: none; vertical-align: baseline;\\\\\">to block illegal immigration \\\\\"because he is  afraid that someone will get hurt trying to go around the fence.\\\\\"</span></p>',\n",
              "       '<p><span id=\\\\\"internal-source-marker_0.8578156737417643\\\\\" style=\\\\\"font-size: 12pt; font-family: Arial; color: #000000; background-color: transparent; font-weight: normal; font-style: normal; text-decoration: none; vertical-align: baseline;\\\\\">Georgia has &ldquo;more illegal aliens than the state of Arizona.&rdquo;</span><br /><span style=\\\\\"font-size: 12pt; font-family: Arial; color: #000000; background-color: transparent; font-weight: normal; font-style: normal; text-decoration: none; vertical-align: baseline;\\\\\"><br /></span></p>',\n",
              "       '<p><span style=\\\\\"font-size: 11pt; font-family: Arial; color: #000000; background-color: transparent; font-weight: normal; font-style: normal; text-decoration: none; vertical-align: baseline;\\\\\">&ldquo;The Republican Party   lost 1.1 million registered voters since 2008. The Democratic Party  lost  1.2 million registered voters&hellip; (while) voter registration in the   Libertarian Party rose 8 percent.&rdquo;</span></p>',\n",
              "       '<p><span id=\\\\\"internal-source-marker_0.9902672214045607\\\\\" style=\\\\\"font-size: 11pt; font-family: Arial; color: #000000; background-color: transparent; font-weight: normal; font-style: normal; text-decoration: none; vertical-align: baseline;\\\\\">Says she was never a &nbsp;member of the Georgia Log Cabin Republicans.</span><br /><span style=\\\\\"font-size: 11pt; font-family: Arial; color: #000000; background-color: transparent; font-weight: normal; font-style: normal; text-decoration: none; vertical-align: baseline;\\\\\"><br /></span></p>'],\n",
              "      dtype=object)"
            ]
          },
          "metadata": {
            "tags": []
          },
          "execution_count": 16
        }
      ]
    },
    {
      "cell_type": "code",
      "metadata": {
        "id": "xlmLI2rlo8Ul"
      },
      "source": [
        "import re\n",
        "\n",
        "def cleanhtml(raw_html):\n",
        "  cleanr = re.compile('<.*?>|&([a-z0-9]+|#[0-9]{1,6}|#x[0-9a-f]{1,6});')\n",
        "  cleantext = re.sub(cleanr, '', raw_html)\n",
        "  return cleantext\n",
        "\n",
        "df_politifact[\"clean_sentence\"] = df_politifact[\"sentence\"].apply(cleanhtml)"
      ],
      "execution_count": null,
      "outputs": []
    },
    {
      "cell_type": "code",
      "metadata": {
        "id": "GQD9YtCLmPJB",
        "colab": {
          "base_uri": "https://localhost:8080/",
          "height": 238
        },
        "outputId": "ea719071-0410-4c3d-c584-d44f3930cc1c"
      },
      "source": [
        "df_politifact[\"clean_sentence\"]"
      ],
      "execution_count": null,
      "outputs": [
        {
          "output_type": "execute_result",
          "data": {
            "text/plain": [
              "date\n",
              "2020-08-19    Kamala Harris said, \"I don't like Joe Biden an...\n",
              "2020-08-19    Condoleezza Rice said, \"If you are taught bitt...\n",
              "2020-08-19    A coloring book that describes Joe Biden as \"A...\n",
              "2020-08-19    \"In West Virginia alone, overdoses have increa...\n",
              "2020-08-18    The United States is \"the only major industria...\n",
              "                                    ...                        \n",
              "2007-06-22    \\\"If we increase fuel efficiency standards to ...\n",
              "2007-06-21    \\\"Both China and Japan have surpassed us, with...\n",
              "2007-06-19    New Mexico moved \\\"up to\\\" sixth in the nation...\n",
              "2007-06-12    For every single scientist that tells you (glo...\n",
              "2007-06-12    \\\"New Mexico was 46th in teacher pay (when he ...\n",
              "Name: clean_sentence, Length: 17580, dtype: object"
            ]
          },
          "metadata": {
            "tags": []
          },
          "execution_count": 59
        }
      ]
    },
    {
      "cell_type": "code",
      "metadata": {
        "id": "et1K_J2Xl9Dt",
        "colab": {
          "base_uri": "https://localhost:8080/",
          "height": 450
        },
        "outputId": "c59114e5-605d-44df-cf44-d9fb96d59824"
      },
      "source": [
        "df_politifact[df_politifact['len'] > 400]"
      ],
      "execution_count": null,
      "outputs": [
        {
          "output_type": "execute_result",
          "data": {
            "text/html": [
              "<div>\n",
              "<style scoped>\n",
              "    .dataframe tbody tr th:only-of-type {\n",
              "        vertical-align: middle;\n",
              "    }\n",
              "\n",
              "    .dataframe tbody tr th {\n",
              "        vertical-align: top;\n",
              "    }\n",
              "\n",
              "    .dataframe thead th {\n",
              "        text-align: right;\n",
              "    }\n",
              "</style>\n",
              "<table border=\"1\" class=\"dataframe\">\n",
              "  <thead>\n",
              "    <tr style=\"text-align: right;\">\n",
              "      <th></th>\n",
              "      <th>sentence</th>\n",
              "      <th>author</th>\n",
              "      <th>target</th>\n",
              "      <th>ruling</th>\n",
              "      <th>len</th>\n",
              "      <th>clean_sentence</th>\n",
              "    </tr>\n",
              "    <tr>\n",
              "      <th>date</th>\n",
              "      <th></th>\n",
              "      <th></th>\n",
              "      <th></th>\n",
              "      <th></th>\n",
              "      <th></th>\n",
              "      <th></th>\n",
              "    </tr>\n",
              "  </thead>\n",
              "  <tbody>\n",
              "    <tr>\n",
              "      <th>2020-08-19</th>\n",
              "      <td>Condoleezza Rice said, \"If you are taught bitt...</td>\n",
              "      <td>Facebook posts</td>\n",
              "      <td>[]</td>\n",
              "      <td>half-true</td>\n",
              "      <td>432</td>\n",
              "      <td>Condoleezza Rice said, \"If you are taught bitt...</td>\n",
              "    </tr>\n",
              "    <tr>\n",
              "      <th>2019-08-02</th>\n",
              "      <td>&lt;p&gt;&amp;quot;When the Senate was debating middle-c...</td>\n",
              "      <td>Kirsten Gillibrand</td>\n",
              "      <td>['Joe Biden']</td>\n",
              "      <td>half-true</td>\n",
              "      <td>435</td>\n",
              "      <td>When the Senate was debating middle-class affo...</td>\n",
              "    </tr>\n",
              "    <tr>\n",
              "      <th>2018-10-22</th>\n",
              "      <td>&lt;p&gt;&amp;quot;As a 27 year old staff attorney for t...</td>\n",
              "      <td>Bloggers</td>\n",
              "      <td>[]</td>\n",
              "      <td>false</td>\n",
              "      <td>504</td>\n",
              "      <td>As a 27 year old staff attorney for the House ...</td>\n",
              "    </tr>\n",
              "    <tr>\n",
              "      <th>2018-07-25</th>\n",
              "      <td>&lt;p&gt;&lt;strong&gt;&amp;quot;President Trump proposed the ...</td>\n",
              "      <td>Corey Stewart</td>\n",
              "      <td>[]</td>\n",
              "      <td>barely-true</td>\n",
              "      <td>413</td>\n",
              "      <td>President Trump proposed the increase to $700 ...</td>\n",
              "    </tr>\n",
              "    <tr>\n",
              "      <th>2017-10-20</th>\n",
              "      <td>&lt;p&gt;At a 2015 dedication of an FBI building in ...</td>\n",
              "      <td>John Kelly</td>\n",
              "      <td>['Frederica Wilson']</td>\n",
              "      <td>false</td>\n",
              "      <td>412</td>\n",
              "      <td>At a 2015 dedication of an FBI building in Flo...</td>\n",
              "    </tr>\n",
              "    <tr>\n",
              "      <th>...</th>\n",
              "      <td>...</td>\n",
              "      <td>...</td>\n",
              "      <td>...</td>\n",
              "      <td>...</td>\n",
              "      <td>...</td>\n",
              "      <td>...</td>\n",
              "    </tr>\n",
              "    <tr>\n",
              "      <th>2010-06-25</th>\n",
              "      <td>&lt;p&gt;&lt;span id=\\\"internal-source-marker_0.2732285...</td>\n",
              "      <td>Frank Caprio</td>\n",
              "      <td>['Frank Caprio']</td>\n",
              "      <td>half-true</td>\n",
              "      <td>592</td>\n",
              "      <td>If every small  business in our state, on aver...</td>\n",
              "    </tr>\n",
              "    <tr>\n",
              "      <th>2010-06-25</th>\n",
              "      <td>&lt;p&gt;&lt;span id=\\\"internal-source-marker_0.6924982...</td>\n",
              "      <td>Michael J. Gardiner</td>\n",
              "      <td>['James Langevin']</td>\n",
              "      <td>pants-fire</td>\n",
              "      <td>806</td>\n",
              "      <td>U.S. Rep. Jim Langevin  didn't want a border f...</td>\n",
              "    </tr>\n",
              "    <tr>\n",
              "      <th>2010-06-25</th>\n",
              "      <td>&lt;p&gt;&lt;span id=\\\"internal-source-marker_0.8578156...</td>\n",
              "      <td>Jeff Chapman</td>\n",
              "      <td>[]</td>\n",
              "      <td>true</td>\n",
              "      <td>534</td>\n",
              "      <td>Georgia has more illegal aliens than the state...</td>\n",
              "    </tr>\n",
              "    <tr>\n",
              "      <th>2010-06-19</th>\n",
              "      <td>&lt;p&gt;&lt;span style=\\\"font-size: 11pt; font-family:...</td>\n",
              "      <td>Libertarian Party of Texas</td>\n",
              "      <td>[]</td>\n",
              "      <td>half-true</td>\n",
              "      <td>423</td>\n",
              "      <td>The Republican Party   lost 1.1 million regist...</td>\n",
              "    </tr>\n",
              "    <tr>\n",
              "      <th>2010-06-16</th>\n",
              "      <td>&lt;p&gt;&lt;span id=\\\"internal-source-marker_0.9902672...</td>\n",
              "      <td>Karen Handel</td>\n",
              "      <td>['Karen Handel']</td>\n",
              "      <td>pants-fire</td>\n",
              "      <td>533</td>\n",
              "      <td>Says she was never a member of the Georgia Log...</td>\n",
              "    </tr>\n",
              "  </tbody>\n",
              "</table>\n",
              "<p>68 rows × 6 columns</p>\n",
              "</div>"
            ],
            "text/plain": [
              "                                                     sentence  ...                                     clean_sentence\n",
              "date                                                           ...                                                   \n",
              "2020-08-19  Condoleezza Rice said, \"If you are taught bitt...  ...  Condoleezza Rice said, \"If you are taught bitt...\n",
              "2019-08-02  <p>&quot;When the Senate was debating middle-c...  ...  When the Senate was debating middle-class affo...\n",
              "2018-10-22  <p>&quot;As a 27 year old staff attorney for t...  ...  As a 27 year old staff attorney for the House ...\n",
              "2018-07-25  <p><strong>&quot;President Trump proposed the ...  ...  President Trump proposed the increase to $700 ...\n",
              "2017-10-20  <p>At a 2015 dedication of an FBI building in ...  ...  At a 2015 dedication of an FBI building in Flo...\n",
              "...                                                       ...  ...                                                ...\n",
              "2010-06-25  <p><span id=\\\"internal-source-marker_0.2732285...  ...  If every small  business in our state, on aver...\n",
              "2010-06-25  <p><span id=\\\"internal-source-marker_0.6924982...  ...  U.S. Rep. Jim Langevin  didn't want a border f...\n",
              "2010-06-25  <p><span id=\\\"internal-source-marker_0.8578156...  ...  Georgia has more illegal aliens than the state...\n",
              "2010-06-19  <p><span style=\\\"font-size: 11pt; font-family:...  ...  The Republican Party   lost 1.1 million regist...\n",
              "2010-06-16  <p><span id=\\\"internal-source-marker_0.9902672...  ...  Says she was never a member of the Georgia Log...\n",
              "\n",
              "[68 rows x 6 columns]"
            ]
          },
          "metadata": {
            "tags": []
          },
          "execution_count": 60
        }
      ]
    },
    {
      "cell_type": "markdown",
      "metadata": {
        "id": "lZmZUXqKphXP"
      },
      "source": [
        "### Analysis on the dataset"
      ]
    },
    {
      "cell_type": "code",
      "metadata": {
        "id": "HpvLA4cppmc0"
      },
      "source": [
        "df_politifact[\"len\"] = df_politifact[\"clean_sentence\"].apply(lambda row: len(row))"
      ],
      "execution_count": null,
      "outputs": []
    },
    {
      "cell_type": "code",
      "metadata": {
        "id": "hXfMJLkyy5FL",
        "colab": {
          "base_uri": "https://localhost:8080/",
          "height": 296
        },
        "outputId": "9f15860f-0cb4-4484-8d28-03767bfb6960"
      },
      "source": [
        "sns.distplot(df_politifact[\"len\"], bins=100)"
      ],
      "execution_count": null,
      "outputs": [
        {
          "output_type": "execute_result",
          "data": {
            "text/plain": [
              "<matplotlib.axes._subplots.AxesSubplot at 0x7f201bbb1d68>"
            ]
          },
          "metadata": {
            "tags": []
          },
          "execution_count": 62
        },
        {
          "output_type": "display_data",
          "data": {
            "image/png": "[encoded data removed]",
            "text/plain": [
              "<Figure size 432x288 with 1 Axes>"
            ]
          },
          "metadata": {
            "tags": [],
            "needs_background": "light"
          }
        }
      ]
    },
    {
      "cell_type": "code",
      "metadata": {
        "id": "iWCkecf10Nr8",
        "colab": {
          "base_uri": "https://localhost:8080/",
          "height": 296
        },
        "outputId": "96a362f1-108a-447c-e4d5-a3e4af9f6f82"
      },
      "source": [
        "sns.distplot(df_politifact[df_politifact[\"len\"]<500][\"len\"], bins=100)"
      ],
      "execution_count": null,
      "outputs": [
        {
          "output_type": "execute_result",
          "data": {
            "text/plain": [
              "<matplotlib.axes._subplots.AxesSubplot at 0x7f2019a80160>"
            ]
          },
          "metadata": {
            "tags": []
          },
          "execution_count": 63
        },
        {
          "output_type": "display_data",
          "data": {
            "image/png": "[encoded data removed]",
            "text/plain": [
              "<Figure size 432x288 with 1 Axes>"
            ]
          },
          "metadata": {
            "tags": [],
            "needs_background": "light"
          }
        }
      ]
    },
    {
      "cell_type": "code",
      "metadata": {
        "id": "QLCK8dOVIhG7",
        "colab": {
          "base_uri": "https://localhost:8080/",
          "height": 421
        },
        "outputId": "6e3e64ea-b4d1-4a58-d291-62a0398587e2"
      },
      "source": [
        "df_politifact[df_politifact[\"len\"] > 350]"
      ],
      "execution_count": null,
      "outputs": [
        {
          "output_type": "execute_result",
          "data": {
            "text/html": [
              "<div>\n",
              "<style scoped>\n",
              "    .dataframe tbody tr th:only-of-type {\n",
              "        vertical-align: middle;\n",
              "    }\n",
              "\n",
              "    .dataframe tbody tr th {\n",
              "        vertical-align: top;\n",
              "    }\n",
              "\n",
              "    .dataframe thead th {\n",
              "        text-align: right;\n",
              "    }\n",
              "</style>\n",
              "<table border=\"1\" class=\"dataframe\">\n",
              "  <thead>\n",
              "    <tr style=\"text-align: right;\">\n",
              "      <th></th>\n",
              "      <th>sentence</th>\n",
              "      <th>author</th>\n",
              "      <th>target</th>\n",
              "      <th>ruling</th>\n",
              "      <th>len</th>\n",
              "      <th>clean_sentence</th>\n",
              "    </tr>\n",
              "    <tr>\n",
              "      <th>date</th>\n",
              "      <th></th>\n",
              "      <th></th>\n",
              "      <th></th>\n",
              "      <th></th>\n",
              "      <th></th>\n",
              "      <th></th>\n",
              "    </tr>\n",
              "  </thead>\n",
              "  <tbody>\n",
              "    <tr>\n",
              "      <th>2020-08-19</th>\n",
              "      <td>Condoleezza Rice said, \"If you are taught bitt...</td>\n",
              "      <td>Facebook posts</td>\n",
              "      <td>[]</td>\n",
              "      <td>half-true</td>\n",
              "      <td>432</td>\n",
              "      <td>Condoleezza Rice said, \"If you are taught bitt...</td>\n",
              "    </tr>\n",
              "    <tr>\n",
              "      <th>2019-08-02</th>\n",
              "      <td>&lt;p&gt;&amp;quot;When the Senate was debating middle-c...</td>\n",
              "      <td>Kirsten Gillibrand</td>\n",
              "      <td>['Joe Biden']</td>\n",
              "      <td>half-true</td>\n",
              "      <td>363</td>\n",
              "      <td>When the Senate was debating middle-class affo...</td>\n",
              "    </tr>\n",
              "    <tr>\n",
              "      <th>2018-10-22</th>\n",
              "      <td>&lt;p&gt;&amp;quot;As a 27 year old staff attorney for t...</td>\n",
              "      <td>Bloggers</td>\n",
              "      <td>[]</td>\n",
              "      <td>false</td>\n",
              "      <td>454</td>\n",
              "      <td>As a 27 year old staff attorney for the House ...</td>\n",
              "    </tr>\n",
              "    <tr>\n",
              "      <th>2018-07-25</th>\n",
              "      <td>&lt;p&gt;&lt;strong&gt;&amp;quot;President Trump proposed the ...</td>\n",
              "      <td>Corey Stewart</td>\n",
              "      <td>[]</td>\n",
              "      <td>barely-true</td>\n",
              "      <td>377</td>\n",
              "      <td>President Trump proposed the increase to $700 ...</td>\n",
              "    </tr>\n",
              "    <tr>\n",
              "      <th>2017-10-20</th>\n",
              "      <td>&lt;p&gt;At a 2015 dedication of an FBI building in ...</td>\n",
              "      <td>John Kelly</td>\n",
              "      <td>['Frederica Wilson']</td>\n",
              "      <td>false</td>\n",
              "      <td>393</td>\n",
              "      <td>At a 2015 dedication of an FBI building in Flo...</td>\n",
              "    </tr>\n",
              "    <tr>\n",
              "      <th>2017-05-22</th>\n",
              "      <td>&lt;p&gt;&amp;quot;It was a 100 percent lie that (Donald...</td>\n",
              "      <td>Dennis Prager</td>\n",
              "      <td>[]</td>\n",
              "      <td>half-true</td>\n",
              "      <td>357</td>\n",
              "      <td>It was a 100 percent lie that (Donald Trumps) ...</td>\n",
              "    </tr>\n",
              "    <tr>\n",
              "      <th>2014-05-02</th>\n",
              "      <td>&lt;p&gt;&lt;strong&gt;The Cathedral of Christ the King is...</td>\n",
              "      <td>Wilton Gregory</td>\n",
              "      <td>[]</td>\n",
              "      <td>mostly-true</td>\n",
              "      <td>862</td>\n",
              "      <td>The Cathedral of Christ the King is one of the...</td>\n",
              "    </tr>\n",
              "    <tr>\n",
              "      <th>2013-06-06</th>\n",
              "      <td>&lt;p dir=\\\"ltr\\\" id=\\\"docs-internal-guid-52bb7ce...</td>\n",
              "      <td>Republican Governors Association</td>\n",
              "      <td>['Barbara Buono']</td>\n",
              "      <td>mostly-true</td>\n",
              "      <td>406</td>\n",
              "      <td>\\r\\n\\tBarbara Buono by the numbers: As a Trent...</td>\n",
              "    </tr>\n",
              "    <tr>\n",
              "      <th>2012-12-16</th>\n",
              "      <td>&lt;p&gt;\\r\\n\\t&amp;quot;Right now one of our highest jo...</td>\n",
              "      <td>Lou Greenwald</td>\n",
              "      <td>[]</td>\n",
              "      <td>mostly-true</td>\n",
              "      <td>380</td>\n",
              "      <td>\\r\\n\\tRight now one of our highest job growth ...</td>\n",
              "    </tr>\n",
              "    <tr>\n",
              "      <th>2010-12-25</th>\n",
              "      <td>&lt;p&gt;\\r\\n\\tPortland Public Schools invites &amp;quot...</td>\n",
              "      <td>Rees Lloyd</td>\n",
              "      <td>[]</td>\n",
              "      <td>barely-true</td>\n",
              "      <td>397</td>\n",
              "      <td>\\r\\n\\tPortland Public Schools invites well-pai...</td>\n",
              "    </tr>\n",
              "    <tr>\n",
              "      <th>2007-08-21</th>\n",
              "      <td>&lt;p&gt;\\\"Let's pay attention to kids who are not g...</td>\n",
              "      <td>Hillary Clinton</td>\n",
              "      <td>[]</td>\n",
              "      <td>true</td>\n",
              "      <td>378</td>\n",
              "      <td>\\\"Let's pay attention to kids who are not goin...</td>\n",
              "    </tr>\n",
              "  </tbody>\n",
              "</table>\n",
              "</div>"
            ],
            "text/plain": [
              "                                                     sentence  ...                                     clean_sentence\n",
              "date                                                           ...                                                   \n",
              "2020-08-19  Condoleezza Rice said, \"If you are taught bitt...  ...  Condoleezza Rice said, \"If you are taught bitt...\n",
              "2019-08-02  <p>&quot;When the Senate was debating middle-c...  ...  When the Senate was debating middle-class affo...\n",
              "2018-10-22  <p>&quot;As a 27 year old staff attorney for t...  ...  As a 27 year old staff attorney for the House ...\n",
              "2018-07-25  <p><strong>&quot;President Trump proposed the ...  ...  President Trump proposed the increase to $700 ...\n",
              "2017-10-20  <p>At a 2015 dedication of an FBI building in ...  ...  At a 2015 dedication of an FBI building in Flo...\n",
              "2017-05-22  <p>&quot;It was a 100 percent lie that (Donald...  ...  It was a 100 percent lie that (Donald Trumps) ...\n",
              "2014-05-02  <p><strong>The Cathedral of Christ the King is...  ...  The Cathedral of Christ the King is one of the...\n",
              "2013-06-06  <p dir=\\\"ltr\\\" id=\\\"docs-internal-guid-52bb7ce...  ...  \\r\\n\\tBarbara Buono by the numbers: As a Trent...\n",
              "2012-12-16  <p>\\r\\n\\t&quot;Right now one of our highest jo...  ...  \\r\\n\\tRight now one of our highest job growth ...\n",
              "2010-12-25  <p>\\r\\n\\tPortland Public Schools invites &quot...  ...  \\r\\n\\tPortland Public Schools invites well-pai...\n",
              "2007-08-21  <p>\\\"Let's pay attention to kids who are not g...  ...  \\\"Let's pay attention to kids who are not goin...\n",
              "\n",
              "[11 rows x 6 columns]"
            ]
          },
          "metadata": {
            "tags": []
          },
          "execution_count": 67
        }
      ]
    },
    {
      "cell_type": "code",
      "metadata": {
        "id": "5TuvGBnxZtdQ",
        "colab": {
          "base_uri": "https://localhost:8080/",
          "height": 637
        },
        "outputId": "126222f4-6931-4051-e486-7dd416185eac"
      },
      "source": [
        "fig, ax = plt.subplots(figsize=(10, 10))\n",
        "\n",
        "df_grouped = df_politifact.groupby(pd.Grouper(freq='Y', label='right')).count()\n",
        "ax.bar(x=df_grouped.index.year, height=df_grouped['sentence'])\n",
        "ax.set(xlabel=\"Year\", ylabel=\"Number of claims\", title=\"Number of claims per year\")\n",
        "plt.setp(ax.get_xticklabels(), rotation=45)\n",
        "\n",
        "plt.show()"
      ],
      "execution_count": null,
      "outputs": [
        {
          "output_type": "display_data",
          "data": {
            "image/png": "[encoded data removed]",
            "text/plain": [
              "<Figure size 720x720 with 1 Axes>"
            ]
          },
          "metadata": {
            "tags": [],
            "needs_background": "light"
          }
        }
      ]
    },
    {
      "cell_type": "code",
      "metadata": {
        "id": "b1jXlhipbGbY",
        "colab": {
          "base_uri": "https://localhost:8080/",
          "height": 673
        },
        "outputId": "e9eaaeab-32f9-4d68-b637-a2e7c0bbaff4"
      },
      "source": [
        "fig, ax = plt.subplots(figsize=(10, 10))\n",
        "\n",
        "df_grouped = df_politifact.groupby(by=\"author\").count().sort_values(by=\"sentence\", ascending=False)[:10]\n",
        "ax.bar(x=df_grouped.index.values, height=df_grouped['sentence'])\n",
        "ax.set(xlabel=\"Person\", ylabel=\"Number of claims\", title=\"Number of claims per person (top 10)\")\n",
        "plt.setp(ax.get_xticklabels(), rotation=45)\n",
        "\n",
        "plt.show()"
      ],
      "execution_count": null,
      "outputs": [
        {
          "output_type": "display_data",
          "data": {
            "image/png": "[encoded data removed]",
            "text/plain": [
              "<Figure size 720x720 with 1 Axes>"
            ]
          },
          "metadata": {
            "tags": [],
            "needs_background": "light"
          }
        }
      ]
    },
    {
      "cell_type": "code",
      "metadata": {
        "id": "lAR-5FQAb9F6",
        "colab": {
          "base_uri": "https://localhost:8080/",
          "height": 680
        },
        "outputId": "07d80274-d809-43ee-cba1-629bf4e77fc6"
      },
      "source": [
        "fig, ax = plt.subplots(figsize=(10, 10))\n",
        "\n",
        "df_grouped = df_politifact[df_politifact['target'] != '[]'].groupby(by=\"target\").count().sort_values(by=\"sentence\", ascending=False)[:10]\n",
        "ax.bar(x=df_grouped.index.values, height=df_grouped['sentence'])\n",
        "ax.set(xlabel=\"Target\", ylabel=\"Number of claims\", title=\"Number of claims per targeted person (top 10)\")\n",
        "plt.setp(ax.get_xticklabels(), rotation=45)\n",
        "\n",
        "plt.show()"
      ],
      "execution_count": null,
      "outputs": [
        {
          "output_type": "display_data",
          "data": {
            "image/png": "[encoded data removed]",
            "text/plain": [
              "<Figure size 720x720 with 1 Axes>"
            ]
          },
          "metadata": {
            "tags": [],
            "needs_background": "light"
          }
        }
      ]
    },
    {
      "cell_type": "code",
      "metadata": {
        "id": "C7Ku2SRlGXGQ",
        "colab": {
          "base_uri": "https://localhost:8080/",
          "height": 607
        },
        "outputId": "d46d5e93-fd24-4b16-bc64-db7dacca42c1"
      },
      "source": [
        "plt.figure(figsize=(20,10))\n",
        "ax = sns.countplot(x=\"ruling\", data=df_politifact)"
      ],
      "execution_count": null,
      "outputs": [
        {
          "output_type": "display_data",
          "data": {
            "image/png": "[encoded data removed]",
            "text/plain": [
              "<Figure size 1440x720 with 1 Axes>"
            ]
          },
          "metadata": {
            "tags": [],
            "needs_background": "light"
          }
        }
      ]
    },
    {
      "cell_type": "code",
      "metadata": {
        "id": "Th6Ugc-dxmUt"
      },
      "source": [
        "df_politifact['ruling_simple'] = df_politifact['ruling'].apply(lambda row: \"false\" if row == \"false\" or row == \"pants-fire\" or row == \"full-flop\" or row == \"barely-true\" else \"true\")"
      ],
      "execution_count": null,
      "outputs": []
    },
    {
      "cell_type": "code",
      "metadata": {
        "id": "sCv0jJ2aG1ih",
        "colab": {
          "base_uri": "https://localhost:8080/",
          "height": 280
        },
        "outputId": "3715bf56-ee49-4217-a0c3-35911ad84eaf"
      },
      "source": [
        "ax = sns.countplot(x=\"ruling_simple\", data=df_politifact)"
      ],
      "execution_count": null,
      "outputs": [
        {
          "output_type": "display_data",
          "data": {
            "image/png": "[encoded data removed]",
            "text/plain": [
              "<Figure size 432x288 with 1 Axes>"
            ]
          },
          "metadata": {
            "tags": [],
            "needs_background": "light"
          }
        }
      ]
    },
    {
      "cell_type": "code",
      "metadata": {
        "id": "8Afh_eXyG4dt",
        "colab": {
          "base_uri": "https://localhost:8080/",
          "height": 606
        },
        "outputId": "57b6ca87-a5f7-442d-c628-176317fab930"
      },
      "source": [
        "plt.figure(figsize=(20,10))\n",
        "top10_author = df_politifact.groupby(by=\"author\").count().sort_values(by=\"sentence\", ascending=False)[:10].index\n",
        "ax = sns.countplot(x=\"author\", data=df_politifact[df_politifact['author'].isin(top10_author)], hue=\"ruling_simple\")"
      ],
      "execution_count": null,
      "outputs": [
        {
          "output_type": "display_data",
          "data": {
            "image/png": "[encoded data removed]",
            "text/plain": [
              "<Figure size 1440x720 with 1 Axes>"
            ]
          },
          "metadata": {
            "tags": [],
            "needs_background": "light"
          }
        }
      ]
    },
    {
      "cell_type": "markdown",
      "metadata": {
        "id": "32kRxZVZxlZs"
      },
      "source": [
        "## Movie lines dataset\n",
        "The dataset can be downloaded from [here](http://www.cs.cornell.edu/~cristian/Cornell_Movie-Dialogs_Corpus.html). It is formed by 4 txt files containing not only the scripts, but also info on movie and characters."
      ]
    },
    {
      "cell_type": "code",
      "metadata": {
        "id": "dbgGLbIfgAUM",
        "colab": {
          "base_uri": "https://localhost:8080/",
          "height": 272
        },
        "outputId": "84c86a9e-35b4-42c2-98ba-9134233ebefe"
      },
      "source": [
        "!unrar e movie_lines.rar"
      ],
      "execution_count": null,
      "outputs": [
        {
          "output_type": "stream",
          "text": [
            "\n",
            "UNRAR 5.50 freeware      Copyright (c) 1993-2017 Alexander Roshal\n",
            "\n",
            "\n",
            "Extracting from movie_lines.rar\n",
            "\n",
            "\n",
            "Would you like to replace the existing file movie_lines.txt\n",
            "34641919 bytes, modified on 2010-12-17 01:20\n",
            "with a new one\n",
            "34641919 bytes, modified on 2010-12-17 01:20\n",
            "\n",
            "[Y]es, [N]o, [A]ll, n[E]ver, [R]ename, [Q]uit n\n",
            "\n",
            "No files to extract\n"
          ],
          "name": "stdout"
        }
      ]
    },
    {
      "cell_type": "markdown",
      "metadata": {
        "id": "C-S3dVQWyKEf"
      },
      "source": [
        "First we need to clean the dataset, before transrming it into a pandas DataFrame."
      ]
    },
    {
      "cell_type": "code",
      "metadata": {
        "id": "7OxpgH_kkCjr"
      },
      "source": [
        "lines_raw = []\n",
        "with open(\"movie_lines.txt\", \"rb\") as f:\n",
        "  for line_raw in f.readlines():\n",
        "    lines_raw.append(line_raw)"
      ],
      "execution_count": null,
      "outputs": []
    },
    {
      "cell_type": "code",
      "metadata": {
        "id": "zsVmXKzFkPKm"
      },
      "source": [
        "lines = []\n",
        "\n",
        "for line_raw in lines_raw:\n",
        "  try:\n",
        "    line_raw = str(line_raw)\n",
        "  except Exception as e:\n",
        "    print(\"Error\")\n",
        "    continue\n",
        "  \n",
        "  line_split = line_raw.split(\"+\")\n",
        "  line_split = list(filter(lambda x: x != '' and x != '$', line_split))\n",
        "  line = {}\n",
        "  line[\"line\"] = line_split[-1][:-3]\n",
        "  line[\"character\"] = line_split[-2]\n",
        "  line[\"movie_id\"] = line_split[2].replace(\" \",\"\")\n",
        "  line[\"len\"] = len(line[\"line\"])\n",
        "  lines.append(line)"
      ],
      "execution_count": null,
      "outputs": []
    },
    {
      "cell_type": "code",
      "metadata": {
        "id": "b1Vd__kukgl0",
        "colab": {
          "base_uri": "https://localhost:8080/",
          "height": 221
        },
        "outputId": "096127dc-b2f0-44af-c393-e27780058a2e"
      },
      "source": [
        "df_movie = pd.DataFrame(lines)\n",
        "print(len(df_movie))\n",
        "df_movie.head()"
      ],
      "execution_count": null,
      "outputs": [
        {
          "output_type": "stream",
          "text": [
            "304713\n"
          ],
          "name": "stdout"
        },
        {
          "output_type": "execute_result",
          "data": {
            "text/html": [
              "<div>\n",
              "<style scoped>\n",
              "    .dataframe tbody tr th:only-of-type {\n",
              "        vertical-align: middle;\n",
              "    }\n",
              "\n",
              "    .dataframe tbody tr th {\n",
              "        vertical-align: top;\n",
              "    }\n",
              "\n",
              "    .dataframe thead th {\n",
              "        text-align: right;\n",
              "    }\n",
              "</style>\n",
              "<table border=\"1\" class=\"dataframe\">\n",
              "  <thead>\n",
              "    <tr style=\"text-align: right;\">\n",
              "      <th></th>\n",
              "      <th>line</th>\n",
              "      <th>character</th>\n",
              "      <th>movie_id</th>\n",
              "      <th>len</th>\n",
              "    </tr>\n",
              "  </thead>\n",
              "  <tbody>\n",
              "    <tr>\n",
              "      <th>0</th>\n",
              "      <td>They do not!</td>\n",
              "      <td>BIANCA</td>\n",
              "      <td>m0</td>\n",
              "      <td>13</td>\n",
              "    </tr>\n",
              "    <tr>\n",
              "      <th>1</th>\n",
              "      <td>They do to!</td>\n",
              "      <td>CAMERON</td>\n",
              "      <td>m0</td>\n",
              "      <td>12</td>\n",
              "    </tr>\n",
              "    <tr>\n",
              "      <th>2</th>\n",
              "      <td>I hope so.</td>\n",
              "      <td>BIANCA</td>\n",
              "      <td>m0</td>\n",
              "      <td>11</td>\n",
              "    </tr>\n",
              "    <tr>\n",
              "      <th>3</th>\n",
              "      <td>She okay?</td>\n",
              "      <td>CAMERON</td>\n",
              "      <td>m0</td>\n",
              "      <td>10</td>\n",
              "    </tr>\n",
              "    <tr>\n",
              "      <th>4</th>\n",
              "      <td>Let's go.</td>\n",
              "      <td>BIANCA</td>\n",
              "      <td>m0</td>\n",
              "      <td>10</td>\n",
              "    </tr>\n",
              "  </tbody>\n",
              "</table>\n",
              "</div>"
            ],
            "text/plain": [
              "            line  character movie_id  len\n",
              "0   They do not!    BIANCA        m0   13\n",
              "1    They do to!   CAMERON        m0   12\n",
              "2     I hope so.    BIANCA        m0   11\n",
              "3      She okay?   CAMERON        m0   10\n",
              "4      Let's go.    BIANCA        m0   10"
            ]
          },
          "metadata": {
            "tags": []
          },
          "execution_count": 77
        }
      ]
    },
    {
      "cell_type": "markdown",
      "metadata": {
        "id": "s2PWrj3L0jH7"
      },
      "source": [
        "We also need to add info on the movies, before eliminating some of the rows to get a balanced final dataset."
      ]
    },
    {
      "cell_type": "code",
      "metadata": {
        "id": "naPJ1GYtrYi2"
      },
      "source": [
        "movies_raw = []\n",
        "with open(\"movie_titles_metadata.txt\", \"rb\") as f:\n",
        "  for movie_raw in f.readlines():\n",
        "    movies_raw.append(movie_raw)"
      ],
      "execution_count": null,
      "outputs": []
    },
    {
      "cell_type": "code",
      "metadata": {
        "id": "y0W9lTaksCeP"
      },
      "source": [
        "movies = []\n",
        "\n",
        "for movie_raw in movies_raw:\n",
        "  try:\n",
        "    movie_raw = str(movie_raw)\n",
        "  except Exception as e:\n",
        "    print(\"Error\")\n",
        "    continue\n",
        "  \n",
        "  movie_split = movie_raw.split(\"+\")\n",
        "  movie_split = list(filter(lambda x: x != '' and x != '$', movie_split))\n",
        "  movie = {}\n",
        "  movie[\"movie_id\"] = movie_split[0][2:].replace(\" \", \"\")\n",
        "  movie[\"title\"] = movie_split[1]\n",
        "  movie[\"score\"] = movie_split[3]\n",
        "  movie[\"genres\"] = movie_split[-1][:-3]\n",
        "  movies.append(movie)"
      ],
      "execution_count": null,
      "outputs": []
    },
    {
      "cell_type": "code",
      "metadata": {
        "id": "lRb79UuNsJKN",
        "colab": {
          "base_uri": "https://localhost:8080/",
          "height": 221
        },
        "outputId": "51827372-36d1-4073-d71a-92c11c2323c2"
      },
      "source": [
        "df_movie_info = pd.DataFrame(movies)\n",
        "print(len(df_movie_info))\n",
        "df_movie_info.head()"
      ],
      "execution_count": null,
      "outputs": [
        {
          "output_type": "stream",
          "text": [
            "617\n"
          ],
          "name": "stdout"
        },
        {
          "output_type": "execute_result",
          "data": {
            "text/html": [
              "<div>\n",
              "<style scoped>\n",
              "    .dataframe tbody tr th:only-of-type {\n",
              "        vertical-align: middle;\n",
              "    }\n",
              "\n",
              "    .dataframe tbody tr th {\n",
              "        vertical-align: top;\n",
              "    }\n",
              "\n",
              "    .dataframe thead th {\n",
              "        text-align: right;\n",
              "    }\n",
              "</style>\n",
              "<table border=\"1\" class=\"dataframe\">\n",
              "  <thead>\n",
              "    <tr style=\"text-align: right;\">\n",
              "      <th></th>\n",
              "      <th>movie_id</th>\n",
              "      <th>title</th>\n",
              "      <th>score</th>\n",
              "      <th>genres</th>\n",
              "    </tr>\n",
              "  </thead>\n",
              "  <tbody>\n",
              "    <tr>\n",
              "      <th>0</th>\n",
              "      <td>m0</td>\n",
              "      <td>10 things i hate about you</td>\n",
              "      <td>6.90</td>\n",
              "      <td>['comedy', 'romance']</td>\n",
              "    </tr>\n",
              "    <tr>\n",
              "      <th>1</th>\n",
              "      <td>m1</td>\n",
              "      <td>1492: conquest of paradise</td>\n",
              "      <td>6.20</td>\n",
              "      <td>['adventure', 'biography', 'drama', 'history']</td>\n",
              "    </tr>\n",
              "    <tr>\n",
              "      <th>2</th>\n",
              "      <td>m2</td>\n",
              "      <td>15 minutes</td>\n",
              "      <td>6.10</td>\n",
              "      <td>['action', 'crime', 'drama', 'thriller']</td>\n",
              "    </tr>\n",
              "    <tr>\n",
              "      <th>3</th>\n",
              "      <td>m3</td>\n",
              "      <td>2001: a space odyssey</td>\n",
              "      <td>8.40</td>\n",
              "      <td>['adventure', 'mystery', 'sci-fi']</td>\n",
              "    </tr>\n",
              "    <tr>\n",
              "      <th>4</th>\n",
              "      <td>m4</td>\n",
              "      <td>48 hrs.</td>\n",
              "      <td>6.90</td>\n",
              "      <td>['action', 'comedy', 'crime', 'drama', 'thril...</td>\n",
              "    </tr>\n",
              "  </tbody>\n",
              "</table>\n",
              "</div>"
            ],
            "text/plain": [
              "  movie_id  ...                                             genres\n",
              "0       m0  ...                              ['comedy', 'romance']\n",
              "1       m1  ...     ['adventure', 'biography', 'drama', 'history']\n",
              "2       m2  ...           ['action', 'crime', 'drama', 'thriller']\n",
              "3       m3  ...                 ['adventure', 'mystery', 'sci-fi']\n",
              "4       m4  ...   ['action', 'comedy', 'crime', 'drama', 'thril...\n",
              "\n",
              "[5 rows x 4 columns]"
            ]
          },
          "metadata": {
            "tags": []
          },
          "execution_count": 80
        }
      ]
    },
    {
      "cell_type": "code",
      "metadata": {
        "id": "i_AHMH8RtUj1"
      },
      "source": [
        "df_lines = pd.merge(df_movie, df_movie_info, on='movie_id')"
      ],
      "execution_count": null,
      "outputs": []
    },
    {
      "cell_type": "code",
      "metadata": {
        "id": "Te0eN-3JtxxF",
        "colab": {
          "base_uri": "https://localhost:8080/",
          "height": 204
        },
        "outputId": "20b7b998-6182-4256-df4c-a7ffc27c548d"
      },
      "source": [
        "df_lines.head()"
      ],
      "execution_count": null,
      "outputs": [
        {
          "output_type": "execute_result",
          "data": {
            "text/html": [
              "<div>\n",
              "<style scoped>\n",
              "    .dataframe tbody tr th:only-of-type {\n",
              "        vertical-align: middle;\n",
              "    }\n",
              "\n",
              "    .dataframe tbody tr th {\n",
              "        vertical-align: top;\n",
              "    }\n",
              "\n",
              "    .dataframe thead th {\n",
              "        text-align: right;\n",
              "    }\n",
              "</style>\n",
              "<table border=\"1\" class=\"dataframe\">\n",
              "  <thead>\n",
              "    <tr style=\"text-align: right;\">\n",
              "      <th></th>\n",
              "      <th>line</th>\n",
              "      <th>character</th>\n",
              "      <th>movie_id</th>\n",
              "      <th>len</th>\n",
              "      <th>title</th>\n",
              "      <th>score</th>\n",
              "      <th>genres</th>\n",
              "    </tr>\n",
              "  </thead>\n",
              "  <tbody>\n",
              "    <tr>\n",
              "      <th>0</th>\n",
              "      <td>They do not!</td>\n",
              "      <td>BIANCA</td>\n",
              "      <td>m0</td>\n",
              "      <td>13</td>\n",
              "      <td>10 things i hate about you</td>\n",
              "      <td>6.90</td>\n",
              "      <td>['comedy', 'romance']</td>\n",
              "    </tr>\n",
              "    <tr>\n",
              "      <th>1</th>\n",
              "      <td>They do to!</td>\n",
              "      <td>CAMERON</td>\n",
              "      <td>m0</td>\n",
              "      <td>12</td>\n",
              "      <td>10 things i hate about you</td>\n",
              "      <td>6.90</td>\n",
              "      <td>['comedy', 'romance']</td>\n",
              "    </tr>\n",
              "    <tr>\n",
              "      <th>2</th>\n",
              "      <td>I hope so.</td>\n",
              "      <td>BIANCA</td>\n",
              "      <td>m0</td>\n",
              "      <td>11</td>\n",
              "      <td>10 things i hate about you</td>\n",
              "      <td>6.90</td>\n",
              "      <td>['comedy', 'romance']</td>\n",
              "    </tr>\n",
              "    <tr>\n",
              "      <th>3</th>\n",
              "      <td>She okay?</td>\n",
              "      <td>CAMERON</td>\n",
              "      <td>m0</td>\n",
              "      <td>10</td>\n",
              "      <td>10 things i hate about you</td>\n",
              "      <td>6.90</td>\n",
              "      <td>['comedy', 'romance']</td>\n",
              "    </tr>\n",
              "    <tr>\n",
              "      <th>4</th>\n",
              "      <td>Let's go.</td>\n",
              "      <td>BIANCA</td>\n",
              "      <td>m0</td>\n",
              "      <td>10</td>\n",
              "      <td>10 things i hate about you</td>\n",
              "      <td>6.90</td>\n",
              "      <td>['comedy', 'romance']</td>\n",
              "    </tr>\n",
              "  </tbody>\n",
              "</table>\n",
              "</div>"
            ],
            "text/plain": [
              "            line  character  ...   score                  genres\n",
              "0   They do not!    BIANCA   ...   6.90    ['comedy', 'romance']\n",
              "1    They do to!   CAMERON   ...   6.90    ['comedy', 'romance']\n",
              "2     I hope so.    BIANCA   ...   6.90    ['comedy', 'romance']\n",
              "3      She okay?   CAMERON   ...   6.90    ['comedy', 'romance']\n",
              "4      Let's go.    BIANCA   ...   6.90    ['comedy', 'romance']\n",
              "\n",
              "[5 rows x 7 columns]"
            ]
          },
          "metadata": {
            "tags": []
          },
          "execution_count": 82
        }
      ]
    },
    {
      "cell_type": "markdown",
      "metadata": {
        "id": "zBVV9d1-0vta"
      },
      "source": [
        "## Creating a balanced dataset\n",
        "The movie dataset is much larger than the one from Politifact, so we'll need to remove some of its rows before creating the final one."
      ]
    },
    {
      "cell_type": "code",
      "metadata": {
        "id": "67DR2_xiv1Ug",
        "colab": {
          "base_uri": "https://localhost:8080/",
          "height": 51
        },
        "outputId": "b676b152-98c7-4b75-e739-fc9444b26c73"
      },
      "source": [
        "print(\"Politifact: {0} rows\".format(len(df_politifact)))\n",
        "print(\"Movie dataset: {0} rows\".format(len(df_lines)))"
      ],
      "execution_count": null,
      "outputs": [
        {
          "output_type": "stream",
          "text": [
            "Politifact: 17580 rows\n",
            "Movie dataset: 304713 rows\n"
          ],
          "name": "stdout"
        }
      ]
    },
    {
      "cell_type": "markdown",
      "metadata": {
        "id": "cjjvLPqH5EIS"
      },
      "source": [
        "One way to reduce dimension of the movie dataset is to remove lines based on their lengths. For this purpose, we remove lines with less than 75 and more than 500 characters"
      ]
    },
    {
      "cell_type": "code",
      "metadata": {
        "id": "M_pJFLlXngvW",
        "colab": {
          "base_uri": "https://localhost:8080/",
          "height": 282
        },
        "outputId": "4c5e5bc8-b5ed-4d42-af9a-9cf2467049a5"
      },
      "source": [
        "df_lines['len'].plot(kind='hist', bins=100)"
      ],
      "execution_count": null,
      "outputs": [
        {
          "output_type": "execute_result",
          "data": {
            "text/plain": [
              "<matplotlib.axes._subplots.AxesSubplot at 0x7f200e4ded68>"
            ]
          },
          "metadata": {
            "tags": []
          },
          "execution_count": 84
        },
        {
          "output_type": "display_data",
          "data": {
            "image/png": "[encoded data removed]",
            "text/plain": [
              "<Figure size 432x288 with 1 Axes>"
            ]
          },
          "metadata": {
            "tags": [],
            "needs_background": "light"
          }
        }
      ]
    },
    {
      "cell_type": "code",
      "metadata": {
        "id": "-zo80WJb5VLs",
        "colab": {
          "base_uri": "https://localhost:8080/",
          "height": 282
        },
        "outputId": "b782e8c2-c52a-4243-d15c-a05647c268bb"
      },
      "source": [
        "df_lines = df_lines[(df_lines['len'] > 75) & (df_lines['len'] < 500)]\n",
        "df_lines['len'].plot(kind='hist', bins=100)"
      ],
      "execution_count": null,
      "outputs": [
        {
          "output_type": "execute_result",
          "data": {
            "text/plain": [
              "<matplotlib.axes._subplots.AxesSubplot at 0x7f200e4de978>"
            ]
          },
          "metadata": {
            "tags": []
          },
          "execution_count": 85
        },
        {
          "output_type": "display_data",
          "data": {
            "image/png": "[encoded data removed]",
            "text/plain": [
              "<Figure size 432x288 with 1 Axes>"
            ]
          },
          "metadata": {
            "tags": [],
            "needs_background": "light"
          }
        }
      ]
    },
    {
      "cell_type": "code",
      "metadata": {
        "id": "X6AoE_iz5rML",
        "colab": {
          "base_uri": "https://localhost:8080/",
          "height": 34
        },
        "outputId": "a04cc78a-5e13-49a1-d6c7-080a221d380a"
      },
      "source": [
        "print(\"New length: \", len(df_lines))"
      ],
      "execution_count": null,
      "outputs": [
        {
          "output_type": "stream",
          "text": [
            "New length:  67408\n"
          ],
          "name": "stdout"
        }
      ]
    },
    {
      "cell_type": "markdown",
      "metadata": {
        "id": "Ip7e1LGY5wHo"
      },
      "source": [
        "Another possible way is to eliminate lines coming from movies with low scores. These movies are more likely to have bad scripts, so they might bias our analysis. A good threshold could be having a score of 7.0"
      ]
    },
    {
      "cell_type": "code",
      "metadata": {
        "id": "-yYNSFK2vEpN",
        "colab": {
          "base_uri": "https://localhost:8080/",
          "height": 284
        },
        "outputId": "d79d3d2e-09c2-4be8-d223-f7a55ca4fe44"
      },
      "source": [
        "df_lines['score'].astype(float).plot(kind='hist', bins=50)"
      ],
      "execution_count": null,
      "outputs": [
        {
          "output_type": "execute_result",
          "data": {
            "text/plain": [
              "<matplotlib.axes._subplots.AxesSubplot at 0x7f200e16c588>"
            ]
          },
          "metadata": {
            "tags": []
          },
          "execution_count": 87
        },
        {
          "output_type": "display_data",
          "data": {
            "image/png": "[encoded data removed]",
            "text/plain": [
              "<Figure size 432x288 with 1 Axes>"
            ]
          },
          "metadata": {
            "tags": [],
            "needs_background": "light"
          }
        }
      ]
    },
    {
      "cell_type": "code",
      "metadata": {
        "id": "0M_nizKs6as8",
        "colab": {
          "base_uri": "https://localhost:8080/",
          "height": 282
        },
        "outputId": "441b0ea6-d888-40e5-c813-0aa3dd7ff6d4"
      },
      "source": [
        "df_lines = df_lines[df_lines['score'].astype(float) > 7.0]\n",
        "df_lines['score'].astype(float).plot(kind='hist', bins=20)"
      ],
      "execution_count": null,
      "outputs": [
        {
          "output_type": "execute_result",
          "data": {
            "text/plain": [
              "<matplotlib.axes._subplots.AxesSubplot at 0x7f200e0c8128>"
            ]
          },
          "metadata": {
            "tags": []
          },
          "execution_count": 88
        },
        {
          "output_type": "display_data",
          "data": {
            "image/png": "[encoded data removed]",
            "text/plain": [
              "<Figure size 432x288 with 1 Axes>"
            ]
          },
          "metadata": {
            "tags": [],
            "needs_background": "light"
          }
        }
      ]
    },
    {
      "cell_type": "code",
      "metadata": {
        "id": "1bZ91pjrwAaV",
        "colab": {
          "base_uri": "https://localhost:8080/",
          "height": 34
        },
        "outputId": "ba3acb03-89cb-4d6f-abf6-6d336c719639"
      },
      "source": [
        "print(\"New length: \", len(df_lines))"
      ],
      "execution_count": null,
      "outputs": [
        {
          "output_type": "stream",
          "text": [
            "New length:  37028\n"
          ],
          "name": "stdout"
        }
      ]
    },
    {
      "cell_type": "markdown",
      "metadata": {
        "id": "uwSe9ecH6pKU"
      },
      "source": [
        "Finally the genre could help us. Movies that are fantasy or historic might contain unusual terms that aren't likely to be used in a normal speech."
      ]
    },
    {
      "cell_type": "code",
      "metadata": {
        "id": "M_8WPS7Q6JrW",
        "colab": {
          "base_uri": "https://localhost:8080/",
          "height": 1000
        },
        "outputId": "907b4218-6c1a-409c-c4ba-88adb424e990"
      },
      "source": [
        "df_lines['genres'].unique()"
      ],
      "execution_count": null,
      "outputs": [
        {
          "output_type": "execute_result",
          "data": {
            "text/plain": [
              "array([\" ['adventure', 'mystery', 'sci-fi']\",\n",
              "       \" ['action', 'adventure', 'romance', 'sci-fi', 'thriller']\",\n",
              "       \" ['comedy', 'romance']\", \" ['action', 'sci-fi', 'thriller']\",\n",
              "       \" ['biography', 'drama', 'music']\", \" ['horror', 'romance']\",\n",
              "       \" ['drama']\", \" ['drama', 'thriller']\",\n",
              "       \" ['action', 'adventure', 'comedy', 'crime']\",\n",
              "       \" ['drama', 'romance', 'war']\",\n",
              "       \" ['adventure', 'drama', 'fantasy']\",\n",
              "       \" ['drama', 'sci-fi', 'thriller']\",\n",
              "       \" ['crime', 'mystery', 'thriller']\",\n",
              "       \" ['action', 'crime', 'drama', 'thriller']\",\n",
              "       \" ['comedy', 'crime']\",\n",
              "       \" ['action', 'adventure', 'mystery', 'thriller']\",\n",
              "       \" ['action', 'biography', 'drama', 'history', 'war']\",\n",
              "       \" ['drama', 'mystery', 'sci-fi', 'thriller']\",\n",
              "       \" ['adventure', 'drama']\", \" ['drama', 'romance']\",\n",
              "       \" ['crime', 'drama']\", \" ['drama', 'mystery', 'sci-fi']\",\n",
              "       \" ['comedy', 'musical']\", \" ['biography', 'drama', 'history']\",\n",
              "       \" ['drama', 'romance', 'sci-fi']\",\n",
              "       \" ['comedy', 'drama', 'romance']\", \" ['drama', 'fantasy']\",\n",
              "       \" ['biography', 'drama']\", \" ['drama', 'horror', 'sci-fi']\",\n",
              "       \" ['action', 'crime', 'horror', 'thriller']\",\n",
              "       \" ['action', 'adventure', 'comedy', 'sci-fi']\",\n",
              "       \" ['comedy', 'drama']\", \" ['action', 'adventure', 'drama']\",\n",
              "       \" ['comedy', 'drama', 'music', 'romance']\",\n",
              "       \" ['action', 'fantasy']\", \" ['drama', 'war']\",\n",
              "       \" ['drama', 'romance', 'sport']\",\n",
              "       \" ['action', 'adventure', 'thriller', 'action', 'adventure', 'fantasy']\",\n",
              "       \" ['action', 'adventure']\", \" ['biography', 'drama', 'thriller']\",\n",
              "       \" ['biography', 'drama', 'history', 'mystery', 'thriller']\",\n",
              "       \" ['crime', 'drama', 'thriller']\",\n",
              "       \" ['drama', 'mystery', 'thriller']\", \" ['thriller']\",\n",
              "       \" ['drama', 'crime', 'thriller']\",\n",
              "       \" ['drama', 'horror', 'mystery', 'thriller']\",\n",
              "       \" ['adventure', 'drama', 'fantasy', 'mystery']\",\n",
              "       \" ['action', 'crime', 'mystery', 'sci-fi', 'thriller', 'action', 'animation', 'drama', 'mystery', 'sci-fi', 'thriller']\",\n",
              "       \" ['comedy', 'war', 'drama']\", \" ['adventure', 'drama', 'sci-fi']\",\n",
              "       \" ['action', 'family']\", \" ['drama', 'film-noir', 'thriller']\",\n",
              "       \" ['horror']\",\n",
              "       \" ['crime', 'drama', 'mystery', 'thriller', 'western']\",\n",
              "       \" ['comedy', 'adventure', 'crime', 'music']\",\n",
              "       \" ['adventure', 'fantasy', 'horror']\",\n",
              "       \" ['comedy', 'drama', 'fantasy']\",\n",
              "       \" ['biography', 'drama', 'history', 'romance']\",\n",
              "       \" ['biography', 'drama', 'sport']\",\n",
              "       \" ['crime', 'mystery', 'romance', 'thriller']\",\n",
              "       \" ['short', 'drama', 'horror', 'thriller']\",\n",
              "       \" ['action', 'adventure', 'fantasy', 'sci-fi', 'action', 'adventure', 'sci-fi', 'thriller']\",\n",
              "       \" ['action', 'adventure', 'sci-fi', 'thriller']\",\n",
              "       \" ['adventure', 'comedy', 'sci-fi']\",\n",
              "       \" ['action', 'mystery', 'sci-fi', 'thriller']\",\n",
              "       \" ['action', 'crime', 'drama', 'fantasy', 'music', 'mystery', 'sci-fi', 'thriller']\",\n",
              "       \" ['action', 'adventure', 'thriller']\",\n",
              "       \" ['horror', 'romance', 'thriller']\",\n",
              "       \" ['drama', 'horror', 'thriller']\",\n",
              "       \" ['horror', 'mystery', 'sci-fi', 'thriller']\",\n",
              "       \" ['drama', 'fantasy', 'mystery', 'sci-fi', 'thriller']\",\n",
              "       \" ['drama', 'history', 'thriller']\",\n",
              "       \" ['action', 'comedy', 'horror', 'thriller']\",\n",
              "       \" ['action', 'horror', 'sci-fi', 'thriller']\",\n",
              "       \" ['crime', 'romance', 'thriller']\", \" ['drama', 'comedy']\",\n",
              "       \" ['action', 'adventure', 'drama', 'sci-fi', 'thriller']\",\n",
              "       \" ['drama', 'mystery']\", \" ['comedy', 'music']\",\n",
              "       \" ['adventure', 'horror', 'sci-fi', 'thriller']\",\n",
              "       \" ['action', 'adventure', 'sci-fi']\",\n",
              "       \" ['romance', 'comedy', 'drama']\",\n",
              "       \" ['adventure', 'family', 'sci-fi']\",\n",
              "       \" ['crime', 'drama', 'romance', 'thriller']\",\n",
              "       \" ['crime', 'drama', 'thriller', 'action', 'adventure', 'crime']\",\n",
              "       \" ['comedy', 'fantasy']\",\n",
              "       \" ['comedy', 'drama', 'fantasy', 'romance']\",\n",
              "       \" ['comedy', 'crime', 'mystery']\",\n",
              "       \" ['biography', 'crime', 'drama']\", \" ['drama', 'history', 'war']\",\n",
              "       \" ['drama', 'fantasy', 'sci-fi']\",\n",
              "       \" ['comedy', 'mystery', 'romance', 'thriller']\",\n",
              "       \" ['crime', 'drama', 'mystery', 'thriller']\", \" ['comedy']\",\n",
              "       \" ['crime', 'drama', 'sci-fi']\", \" ['action']\",\n",
              "       \" ['action', 'crime', 'fantasy', 'thriller']\",\n",
              "       \" ['mystery', 'sci-fi', 'thriller']\",\n",
              "       \" ['action', 'crime', 'thriller']\",\n",
              "       \" ['biography', 'comedy', 'drama']\",\n",
              "       \" ['action', 'drama', 'thriller']\", \" ['romance', 'drama', 'war']\",\n",
              "       \" ['biography', 'drama', 'romance']\",\n",
              "       \" ['animation', 'adventure', 'action', 'fantasy']\",\n",
              "       \" ['horror', 'thriller']\",\n",
              "       \" ['action', 'crime', 'drama', 'sci-fi', 'thriller']\",\n",
              "       \" ['crime', 'drama', 'sci-fi', 'thriller']\",\n",
              "       \" ['drama', 'romance', 'sci-fi', 'thriller']\",\n",
              "       \" ['action', 'adventure', 'crime', 'thriller']\",\n",
              "       \" ['comedy', 'crime', 'romance', 'thriller']\",\n",
              "       \" ['crime', 'drama', 'fantasy', 'thriller']\",\n",
              "       \" ['adventure', 'drama', 'history', 'thriller', 'war']\",\n",
              "       \" ['drama', 'fantasy', 'romance']\",\n",
              "       \" ['comedy', 'drama', 'romance', 'sport']\",\n",
              "       \" ['action', 'adventure', 'family', 'sci-fi', 'action', 'adventure', 'fantasy', 'sci-fi']\",\n",
              "       \" ['adventure', 'drama', 'romance']\",\n",
              "       \" ['mystery', 'romance', 'thriller']\",\n",
              "       \" ['biography', 'drama', 'history', 'war']\",\n",
              "       \" ['crime', 'thriller']\", \" ['action', 'adventure', 'war']\",\n",
              "       \" ['drama', 'mystery', 'romance', 'western']\",\n",
              "       \" ['action', 'adventure', 'crime', 'horror', 'thriller']\",\n",
              "       \" ['action', 'adventure', 'adventure', 'adventure', 'sci-fi']\",\n",
              "       \" ['biography', 'crime', 'drama', 'thriller']\",\n",
              "       \" ['comedy', 'romance', 'drama']\", \" ['adventure', 'comedy']\",\n",
              "       \" ['drama', 'music']\",\n",
              "       \" ['action', 'crime', 'drama', 'romance', 'thriller']\",\n",
              "       \" ['action', 'crime', 'drama', 'mystery', 'thriller']\",\n",
              "       \" ['action', 'adventure', 'animation', 'sci-fi']\",\n",
              "       \" ['animation', 'family', 'fantasy', 'musical']\",\n",
              "       \" ['crime', 'drama', 'romance']\", \" ['action', 'drama', 'war']\",\n",
              "       \" ['adventure', 'comedy', 'family', 'fantasy', 'romance']\",\n",
              "       \" ['drama', 'horror', 'mystery', 'thriller', 'thriller']\",\n",
              "       \" ['fantasy', 'horror']\",\n",
              "       \" ['action', 'adventure', 'fantasy', 'sci-fi']\",\n",
              "       \" ['animation', 'comedy', 'crime', 'family', 'fantasy', 'mystery', 'animation', 'adventure', 'action', 'fantasy']\",\n",
              "       \" ['drama', 'history']\", \" ['action', 'drama', 'history', 'war']\",\n",
              "       \" ['crime', 'horror', 'mystery', 'thriller']\",\n",
              "       \" ['adventure', 'drama', 'western']\",\n",
              "       \" ['comedy', 'crime', 'drama', 'thriller']\",\n",
              "       \" ['horror', 'mystery', 'thriller']\",\n",
              "       \" ['fantasy', 'mystery', 'thriller']\",\n",
              "       \" ['animation', 'comedy', 'musical']\",\n",
              "       \" ['action', 'adventure', 'crime']\", \" ['drama', 'film-noir']\",\n",
              "       \" ['action', 'family', 'sci-fi']\", \" ['drama', 'music', 'war']\",\n",
              "       \" ['film-noir', 'mystery', 'thriller']\",\n",
              "       \" ['biography', 'drama', 'war']\", \" ['comedy', 'crime', 'drama']\",\n",
              "       \" ['comedy', 'crime', 'drama', 'mystery', 'romance']\",\n",
              "       \" ['action', 'adventure', 'comedy', 'drama', 'war']\",\n",
              "       \" ['comedy', 'crime', 'romance']\",\n",
              "       \" ['drama', 'history', 'romance']\",\n",
              "       \" ['action', 'drama', 'history', 'romance', 'western']\",\n",
              "       \" ['animation', 'adventure', 'comedy', 'family', 'fantasy']\",\n",
              "       \" ['action', 'thriller']\",\n",
              "       \" ['drama', 'fantasy', 'mystery', 'thriller']\",\n",
              "       \" ['drama', 'western']\",\n",
              "       \" ['action', 'adventure', 'drama', 'fantasy', 'romance']\",\n",
              "       \" ['drama', 'romance', 'thriller']\",\n",
              "       \" ['adventure', 'family', 'fantasy', 'musical']\",\n",
              "       \" ['action', 'crime', 'fantasy', 'mystery', 'sci-fi', 'thriller']\",\n",
              "       \" ['action', 'sci-fi']\", \" ['comedy', 'sci-fi']\"], dtype=object)"
            ]
          },
          "metadata": {
            "tags": []
          },
          "execution_count": 90
        }
      ]
    },
    {
      "cell_type": "code",
      "metadata": {
        "id": "HJEzFvXa69Z4"
      },
      "source": [
        "genres_to_remove = [\"history\", \"sci-fi\", \"fantasy\", \"horror\"]\n",
        "\n",
        "for genre in genres_to_remove:\n",
        "  df_lines[genre] = df_lines[\"genres\"].apply(lambda row: 1 if genre in row else 0)\n",
        "\n",
        "df_lines[\"is_genre_to_remove\"] = df_lines.apply(lambda row: 1 if row['history'] == 1 or row['sci-fi'] == 1 or row['fantasy'] == 1 or row['horror'] == 1 else 0, axis=1)"
      ],
      "execution_count": null,
      "outputs": []
    },
    {
      "cell_type": "code",
      "metadata": {
        "id": "aC0bp6ak7WVn",
        "colab": {
          "base_uri": "https://localhost:8080/",
          "height": 282
        },
        "outputId": "cb4b3e7e-9307-4a7f-80a9-084b877b5be5"
      },
      "source": [
        "number_of_movies_per_genre = []\n",
        "\n",
        "for genre in genres_to_remove:\n",
        "  number_of_movies_per_genre.append(len(df_lines[df_lines[genre] == 1]))\n",
        "\n",
        "plt.bar(genres_to_remove, number_of_movies_per_genre)"
      ],
      "execution_count": null,
      "outputs": [
        {
          "output_type": "execute_result",
          "data": {
            "text/plain": [
              "<BarContainer object of 4 artists>"
            ]
          },
          "metadata": {
            "tags": []
          },
          "execution_count": 92
        },
        {
          "output_type": "display_data",
          "data": {
            "image/png": "[encoded data removed]",
            "text/plain": [
              "<Figure size 432x288 with 1 Axes>"
            ]
          },
          "metadata": {
            "tags": [],
            "needs_background": "light"
          }
        }
      ]
    },
    {
      "cell_type": "code",
      "metadata": {
        "id": "hReBjQEX781w",
        "colab": {
          "base_uri": "https://localhost:8080/",
          "height": 34
        },
        "outputId": "3fdfee9e-5a74-40fe-ec2b-96c849ef946f"
      },
      "source": [
        "df_lines = df_lines[df_lines[\"is_genre_to_remove\"] == 0]\n",
        "print(\"New length: \", len(df_lines))"
      ],
      "execution_count": null,
      "outputs": [
        {
          "output_type": "stream",
          "text": [
            "New length:  26710\n"
          ],
          "name": "stdout"
        }
      ]
    },
    {
      "cell_type": "markdown",
      "metadata": {
        "id": "A6U9yxTI_83M"
      },
      "source": [
        "The movie dataset is now ready. The lengths of the two datasets are comparable (The dataset from Politifact will be enlarged through more scraping from the website with an estimated 18000 statements in the end)"
      ]
    },
    {
      "cell_type": "code",
      "metadata": {
        "id": "ux_Yh1t5AXzG"
      },
      "source": [
        "df_worthy = df_politifact[[\"clean_sentence\",\"len\"]]\n",
        "df_worthy = df_worthy.rename(columns={\"clean_sentence\":\"sentence\"})\n",
        "df_worthy[\"worthy\"] = 1\n",
        "\n",
        "df_unworthy = df_lines[[\"line\",\"len\"]]\n",
        "df_unworthy = df_unworthy.rename(columns={\"line\":\"sentence\"})\n",
        "df_unworthy[\"worthy\"] = 0"
      ],
      "execution_count": null,
      "outputs": []
    },
    {
      "cell_type": "code",
      "metadata": {
        "id": "O9JAEd-wAyVs"
      },
      "source": [
        "df_final = pd.concat([df_worthy, df_unworthy])\n",
        "df_final.to_csv(\"worthy_dataset.csv\", index=False)"
      ],
      "execution_count": null,
      "outputs": []
    },
    {
      "cell_type": "markdown",
      "metadata": {
        "id": "OiWd07MFCMTD"
      },
      "source": [
        "## Analysis on the final dataset\n",
        "Let's do a summary of our final dataset"
      ]
    },
    {
      "cell_type": "code",
      "metadata": {
        "id": "ryKpX0Z_YJR9",
        "colab": {
          "base_uri": "https://localhost:8080/",
          "height": 204
        },
        "outputId": "acb1bd81-658e-42cf-8f91-0b04bc0ce9b2"
      },
      "source": [
        "df_final = pd.read_csv(\"worthy_dataset.csv\")\n",
        "df_final.head()"
      ],
      "execution_count": null,
      "outputs": [
        {
          "output_type": "execute_result",
          "data": {
            "text/html": [
              "<div>\n",
              "<style scoped>\n",
              "    .dataframe tbody tr th:only-of-type {\n",
              "        vertical-align: middle;\n",
              "    }\n",
              "\n",
              "    .dataframe tbody tr th {\n",
              "        vertical-align: top;\n",
              "    }\n",
              "\n",
              "    .dataframe thead th {\n",
              "        text-align: right;\n",
              "    }\n",
              "</style>\n",
              "<table border=\"1\" class=\"dataframe\">\n",
              "  <thead>\n",
              "    <tr style=\"text-align: right;\">\n",
              "      <th></th>\n",
              "      <th>sentence</th>\n",
              "      <th>len</th>\n",
              "      <th>worthy</th>\n",
              "    </tr>\n",
              "  </thead>\n",
              "  <tbody>\n",
              "    <tr>\n",
              "      <th>0</th>\n",
              "      <td>Kamala Harris said, \"I don't like Joe Biden an...</td>\n",
              "      <td>136</td>\n",
              "      <td>1</td>\n",
              "    </tr>\n",
              "    <tr>\n",
              "      <th>1</th>\n",
              "      <td>Condoleezza Rice said, \"If you are taught bitt...</td>\n",
              "      <td>432</td>\n",
              "      <td>1</td>\n",
              "    </tr>\n",
              "    <tr>\n",
              "      <th>2</th>\n",
              "      <td>A coloring book that describes Joe Biden as \"A...</td>\n",
              "      <td>103</td>\n",
              "      <td>1</td>\n",
              "    </tr>\n",
              "    <tr>\n",
              "      <th>3</th>\n",
              "      <td>\"In West Virginia alone, overdoses have increa...</td>\n",
              "      <td>88</td>\n",
              "      <td>1</td>\n",
              "    </tr>\n",
              "    <tr>\n",
              "      <th>4</th>\n",
              "      <td>The United States is \"the only major industria...</td>\n",
              "      <td>131</td>\n",
              "      <td>1</td>\n",
              "    </tr>\n",
              "  </tbody>\n",
              "</table>\n",
              "</div>"
            ],
            "text/plain": [
              "                                            sentence  len  worthy\n",
              "0  Kamala Harris said, \"I don't like Joe Biden an...  136       1\n",
              "1  Condoleezza Rice said, \"If you are taught bitt...  432       1\n",
              "2  A coloring book that describes Joe Biden as \"A...  103       1\n",
              "3  \"In West Virginia alone, overdoses have increa...   88       1\n",
              "4  The United States is \"the only major industria...  131       1"
            ]
          },
          "metadata": {
            "tags": []
          },
          "execution_count": 8
        }
      ]
    },
    {
      "cell_type": "code",
      "metadata": {
        "id": "QRXVT-vhAzIS",
        "colab": {
          "base_uri": "https://localhost:8080/",
          "height": 68
        },
        "outputId": "646cbb83-434e-4047-f430-38a09ba31a17"
      },
      "source": [
        "print(\"Total lenght: \", len(df_final))\n",
        "print(\"Number of check-worthy claims: \", len(df_final[df_final[\"worthy\"] == 1]))\n",
        "print(\"Number of non check-worthy claims: \", len(df_final[df_final[\"worthy\"] == 0]))"
      ],
      "execution_count": null,
      "outputs": [
        {
          "output_type": "stream",
          "text": [
            "Total lenght:  44290\n",
            "Number of check-worthy claims:  17580\n",
            "Number of non check-worthy claims:  26710\n"
          ],
          "name": "stdout"
        }
      ]
    },
    {
      "cell_type": "code",
      "metadata": {
        "id": "Elrc-8DOCJ8C",
        "colab": {
          "base_uri": "https://localhost:8080/",
          "height": 279
        },
        "outputId": "c5fc4162-46ab-477d-efdf-bb9378466995"
      },
      "source": [
        "ax = sns.countplot(x=\"worthy\", data=df_final)"
      ],
      "execution_count": null,
      "outputs": [
        {
          "output_type": "display_data",
          "data": {
            "image/png": "[encoded data removed]",
            "text/plain": [
              "<Figure size 432x288 with 1 Axes>"
            ]
          },
          "metadata": {
            "tags": [],
            "needs_background": "light"
          }
        }
      ]
    },
    {
      "cell_type": "code",
      "metadata": {
        "id": "YszQByKuC5GZ",
        "colab": {
          "base_uri": "https://localhost:8080/",
          "height": 170
        },
        "outputId": "14b67309-f611-440b-f680-d81b82693858"
      },
      "source": [
        "df_final['len'].describe()"
      ],
      "execution_count": null,
      "outputs": [
        {
          "output_type": "execute_result",
          "data": {
            "text/plain": [
              "count    44290.000000\n",
              "mean       129.149221\n",
              "std         64.182777\n",
              "min         11.000000\n",
              "25%         87.000000\n",
              "50%        111.000000\n",
              "75%        151.000000\n",
              "max        862.000000\n",
              "Name: len, dtype: float64"
            ]
          },
          "metadata": {
            "tags": []
          },
          "execution_count": 112
        }
      ]
    },
    {
      "cell_type": "code",
      "metadata": {
        "id": "U1fco211ClNF",
        "colab": {
          "base_uri": "https://localhost:8080/",
          "height": 279
        },
        "outputId": "1039f00e-5da7-4f7d-8729-91f40f9d95f0"
      },
      "source": [
        "ax = sns.distplot(df_final[\"len\"])"
      ],
      "execution_count": null,
      "outputs": [
        {
          "output_type": "display_data",
          "data": {
            "image/png": "[encoded data removed]",
            "text/plain": [
              "<Figure size 432x288 with 1 Axes>"
            ]
          },
          "metadata": {
            "tags": [],
            "needs_background": "light"
          }
        }
      ]
    },
    {
      "cell_type": "code",
      "metadata": {
        "id": "XNhRLyYvCyB_",
        "colab": {
          "base_uri": "https://localhost:8080/",
          "height": 279
        },
        "outputId": "bec47a47-d140-4d37-d6bf-d1190a7b8d70"
      },
      "source": [
        "ax = sns.distplot(df_final[df_final[\"len\"] < 500][\"len\"])"
      ],
      "execution_count": null,
      "outputs": [
        {
          "output_type": "display_data",
          "data": {
            "image/png": "[encoded data removed]",
            "text/plain": [
              "<Figure size 432x288 with 1 Axes>"
            ]
          },
          "metadata": {
            "tags": [],
            "needs_background": "light"
          }
        }
      ]
    },
    {
      "cell_type": "code",
      "metadata": {
        "id": "7GaJ6jNQDJD4",
        "colab": {
          "base_uri": "https://localhost:8080/",
          "height": 299
        },
        "outputId": "58ce62ad-f559-425d-8e22-dccf92c856ea"
      },
      "source": [
        "sns.distplot(df_final[df_final[\"worthy\"] == 0][\"len\"], hist=False, rug=True)\n",
        "sns.distplot(df_final[df_final[\"worthy\"] == 1][\"len\"], hist=False, rug=True)"
      ],
      "execution_count": null,
      "outputs": [
        {
          "output_type": "execute_result",
          "data": {
            "text/plain": [
              "<matplotlib.axes._subplots.AxesSubplot at 0x7f1fb9f44f98>"
            ]
          },
          "metadata": {
            "tags": []
          },
          "execution_count": 115
        },
        {
          "output_type": "display_data",
          "data": {
            "image/png": "[encoded data removed]",
            "text/plain": [
              "<Figure size 432x288 with 1 Axes>"
            ]
          },
          "metadata": {
            "tags": [],
            "needs_background": "light"
          }
        }
      ]
    },
    {
      "cell_type": "code",
      "metadata": {
        "id": "6vq_BPEtECJf",
        "colab": {
          "base_uri": "https://localhost:8080/",
          "height": 299
        },
        "outputId": "816bde08-7607-49f7-ec94-da7c0b928912"
      },
      "source": [
        "sns.distplot(df_final[(df_final[\"worthy\"] == 0) & (df_final[\"len\"] < 500)][\"len\"], hist=False, rug=True)\n",
        "sns.distplot(df_final[(df_final[\"worthy\"] == 1) & (df_final[\"len\"] < 500)][\"len\"], hist=False, rug=True)"
      ],
      "execution_count": null,
      "outputs": [
        {
          "output_type": "execute_result",
          "data": {
            "text/plain": [
              "<matplotlib.axes._subplots.AxesSubplot at 0x7f1fb899dba8>"
            ]
          },
          "metadata": {
            "tags": []
          },
          "execution_count": 116
        },
        {
          "output_type": "display_data",
          "data": {
            "image/png": "[encoded data removed]",
            "text/plain": [
              "<Figure size 432x288 with 1 Axes>"
            ]
          },
          "metadata": {
            "tags": [],
            "needs_background": "light"
          }
        }
      ]
    },
    {
      "cell_type": "markdown",
      "metadata": {
        "id": "-o7zj7PxXw-N"
      },
      "source": [
        "## Training a classifier\n",
        "The final step is to train a classifier. For this purpose, we will be using [ktrain](https://github.com/amaiya/ktrain), a library that simplifies the training of BERT."
      ]
    },
    {
      "cell_type": "code",
      "metadata": {
        "id": "L5xpQmM0YzvE",
        "colab": {
          "base_uri": "https://localhost:8080/",
          "height": 170
        },
        "outputId": "6efdac59-3493-4aab-915c-e4e1ea33f446"
      },
      "source": [
        "!pip3 install -q tensorflow_gpu==2.1.0"
      ],
      "execution_count": null,
      "outputs": [
        {
          "output_type": "stream",
          "text": [
            "\u001b[K     |████████████████████████████████| 421.8MB 28kB/s \n",
            "\u001b[K     |████████████████████████████████| 51kB 8.2MB/s \n",
            "\u001b[K     |████████████████████████████████| 3.9MB 58.7MB/s \n",
            "\u001b[K     |████████████████████████████████| 450kB 60.2MB/s \n",
            "\u001b[?25h  Building wheel for gast (setup.py) ... \u001b[?25l\u001b[?25hdone\n",
            "\u001b[31mERROR: tensorflow 2.3.0 has requirement gast==0.3.3, but you'll have gast 0.2.2 which is incompatible.\u001b[0m\n",
            "\u001b[31mERROR: tensorflow 2.3.0 has requirement tensorboard<3,>=2.3.0, but you'll have tensorboard 2.1.1 which is incompatible.\u001b[0m\n",
            "\u001b[31mERROR: tensorflow 2.3.0 has requirement tensorflow-estimator<2.4.0,>=2.3.0, but you'll have tensorflow-estimator 2.1.0 which is incompatible.\u001b[0m\n",
            "\u001b[31mERROR: tensorflow-probability 0.11.0 has requirement gast>=0.3.2, but you'll have gast 0.2.2 which is incompatible.\u001b[0m\n"
          ],
          "name": "stdout"
        }
      ]
    },
    {
      "cell_type": "code",
      "metadata": {
        "id": "9cCoNGq1Y6GY",
        "colab": {
          "base_uri": "https://localhost:8080/",
          "height": 391
        },
        "outputId": "bc5aaaeb-f664-41b8-cfbc-ceec1b88b4f3"
      },
      "source": [
        "!pip3 install -q ktrain"
      ],
      "execution_count": null,
      "outputs": [
        {
          "output_type": "stream",
          "text": [
            "\u001b[K     |████████████████████████████████| 25.3MB 130kB/s \n",
            "\u001b[K     |████████████████████████████████| 421.8MB 43kB/s \n",
            "\u001b[K     |████████████████████████████████| 983kB 56.7MB/s \n",
            "\u001b[K     |████████████████████████████████| 245kB 57.4MB/s \n",
            "\u001b[K     |████████████████████████████████| 778kB 55.1MB/s \n",
            "\u001b[K     |████████████████████████████████| 471kB 54.9MB/s \n",
            "\u001b[K     |████████████████████████████████| 1.1MB 52.0MB/s \n",
            "\u001b[K     |████████████████████████████████| 890kB 55.8MB/s \n",
            "\u001b[K     |████████████████████████████████| 3.0MB 55.6MB/s \n",
            "\u001b[?25h  Building wheel for ktrain (setup.py) ... \u001b[?25l\u001b[?25hdone\n",
            "  Building wheel for keras-bert (setup.py) ... \u001b[?25l\u001b[?25hdone\n",
            "  Building wheel for langdetect (setup.py) ... \u001b[?25l\u001b[?25hdone\n",
            "  Building wheel for seqeval (setup.py) ... \u001b[?25l\u001b[?25hdone\n",
            "  Building wheel for syntok (setup.py) ... \u001b[?25l\u001b[?25hdone\n",
            "  Building wheel for keras-transformer (setup.py) ... \u001b[?25l\u001b[?25hdone\n",
            "  Building wheel for sacremoses (setup.py) ... \u001b[?25l\u001b[?25hdone\n",
            "  Building wheel for keras-pos-embd (setup.py) ... \u001b[?25l\u001b[?25hdone\n",
            "  Building wheel for keras-multi-head (setup.py) ... \u001b[?25l\u001b[?25hdone\n",
            "  Building wheel for keras-layer-normalization (setup.py) ... \u001b[?25l\u001b[?25hdone\n",
            "  Building wheel for keras-position-wise-feed-forward (setup.py) ... \u001b[?25l\u001b[?25hdone\n",
            "  Building wheel for keras-embed-sim (setup.py) ... \u001b[?25l\u001b[?25hdone\n",
            "  Building wheel for keras-self-attention (setup.py) ... \u001b[?25l\u001b[?25hdone\n"
          ],
          "name": "stdout"
        }
      ]
    },
    {
      "cell_type": "code",
      "metadata": {
        "id": "GUHFa5_UY8wI",
        "colab": {
          "base_uri": "https://localhost:8080/",
          "height": 34
        },
        "outputId": "85e633a7-9f53-4da4-d182-40f0bf6ee19a"
      },
      "source": [
        "import tensorflow as tf\n",
        "print(tf.__version__)"
      ],
      "execution_count": null,
      "outputs": [
        {
          "output_type": "stream",
          "text": [
            "2.1.0\n"
          ],
          "name": "stdout"
        }
      ]
    },
    {
      "cell_type": "code",
      "metadata": {
        "id": "UMbZgZM1rMUh",
        "colab": {
          "base_uri": "https://localhost:8080/",
          "height": 35
        },
        "outputId": "e1a64cae-c58c-41c8-dec6-45072ebf0ffe"
      },
      "source": [
        "tf.test.gpu_device_name()"
      ],
      "execution_count": null,
      "outputs": [
        {
          "output_type": "execute_result",
          "data": {
            "application/vnd.google.colaboratory.intrinsic+json": {
              "type": "string"
            },
            "text/plain": [
              "'/device:GPU:0'"
            ]
          },
          "metadata": {
            "tags": []
          },
          "execution_count": 6
        }
      ]
    },
    {
      "cell_type": "code",
      "metadata": {
        "id": "WJF2-V4OY_9S",
        "colab": {
          "base_uri": "https://localhost:8080/",
          "height": 136
        },
        "outputId": "2c728138-50ce-4f72-fecd-f1168565c651"
      },
      "source": [
        "import ktrain\n",
        "from ktrain import text\n",
        "\n",
        "(x_train, y_train), (x_test, y_test), preproc = text.texts_from_df(train_df=df_final, \n",
        "                                                                   text_column='sentence',\n",
        "                                                                   label_columns=[\"worthy\"],\n",
        "                                                                   val_pct=0.2, \n",
        "                                                                   max_features=100000, \n",
        "                                                                   maxlen=75,\n",
        "                                                                   preprocess_mode='bert',\n",
        "                                                                   ngram_range=3)"
      ],
      "execution_count": null,
      "outputs": [
        {
          "output_type": "stream",
          "text": [
            "preprocessing train...\n",
            "language: en\n"
          ],
          "name": "stdout"
        },
        {
          "output_type": "display_data",
          "data": {
            "text/html": [
              "done."
            ],
            "text/plain": [
              "<IPython.core.display.HTML object>"
            ]
          },
          "metadata": {
            "tags": []
          }
        },
        {
          "output_type": "stream",
          "text": [
            "Is Multi-Label? False\n",
            "preprocessing test...\n",
            "language: en\n"
          ],
          "name": "stdout"
        },
        {
          "output_type": "display_data",
          "data": {
            "text/html": [
              "done."
            ],
            "text/plain": [
              "<IPython.core.display.HTML object>"
            ]
          },
          "metadata": {
            "tags": []
          }
        }
      ]
    },
    {
      "cell_type": "code",
      "metadata": {
        "id": "sLtvVejAfNDt",
        "colab": {
          "base_uri": "https://localhost:8080/",
          "height": 68
        },
        "outputId": "7c842275-482f-49b9-9135-f646cf923a09"
      },
      "source": [
        "model = text.text_classifier('bert', (x_train, y_train), preproc=preproc, )"
      ],
      "execution_count": null,
      "outputs": [
        {
          "output_type": "stream",
          "text": [
            "Is Multi-Label? False\n",
            "maxlen is 75\n",
            "done.\n"
          ],
          "name": "stdout"
        }
      ]
    },
    {
      "cell_type": "code",
      "metadata": {
        "id": "4tjO_YwRfo8-"
      },
      "source": [
        "learner = ktrain.get_learner(model, train_data=(x_train, y_train), val_data=(x_test, y_test))"
      ],
      "execution_count": null,
      "outputs": []
    },
    {
      "cell_type": "code",
      "metadata": {
        "id": "k3fqMzuOftEx",
        "colab": {
          "base_uri": "https://localhost:8080/",
          "height": 238
        },
        "outputId": "5ccad1c5-e511-4b83-a583-afa8df93e850"
      },
      "source": [
        "learner.fit_onecycle(5e-5, 4)"
      ],
      "execution_count": null,
      "outputs": [
        {
          "output_type": "stream",
          "text": [
            "\n",
            "\n",
            "begin training using onecycle policy with max lr of 5e-05...\n",
            "Train on 35432 samples, validate on 8858 samples\n",
            "Epoch 1/4\n",
            "35432/35432 [==============================] - 652s 18ms/sample - loss: 0.0299 - accuracy: 0.9911 - val_loss: 0.0180 - val_accuracy: 0.9938\n",
            "Epoch 2/4\n",
            "35432/35432 [==============================] - 633s 18ms/sample - loss: 0.0090 - accuracy: 0.9970 - val_loss: 0.0117 - val_accuracy: 0.9963\n",
            "Epoch 3/4\n",
            "35432/35432 [==============================] - 633s 18ms/sample - loss: 0.0033 - accuracy: 0.9990 - val_loss: 0.0127 - val_accuracy: 0.9975\n",
            "Epoch 4/4\n",
            "35432/35432 [==============================] - 633s 18ms/sample - loss: 4.0252e-04 - accuracy: 0.9999 - val_loss: 0.0149 - val_accuracy: 0.9971\n"
          ],
          "name": "stdout"
        },
        {
          "output_type": "execute_result",
          "data": {
            "text/plain": [
              "<tensorflow.python.keras.callbacks.History at 0x7f1001f439e8>"
            ]
          },
          "metadata": {
            "tags": []
          },
          "execution_count": 16
        }
      ]
    },
    {
      "cell_type": "code",
      "metadata": {
        "id": "1efUc1iIt5s5"
      },
      "source": [
        "predictor = ktrain.get_predictor(learner.model, preproc=preproc)"
      ],
      "execution_count": null,
      "outputs": []
    },
    {
      "cell_type": "code",
      "metadata": {
        "id": "0RQhmWW5f0mz",
        "colab": {
          "base_uri": "https://localhost:8080/",
          "height": 35
        },
        "outputId": "5c216b51-7626-4d2f-ae1f-7bc271b5aec4"
      },
      "source": [
        "predictor.predict(\"Hi! How are you?\")"
      ],
      "execution_count": null,
      "outputs": [
        {
          "output_type": "display_data",
          "data": {
            "text/html": [
              ""
            ],
            "text/plain": [
              "<IPython.core.display.HTML object>"
            ]
          },
          "metadata": {
            "tags": []
          }
        },
        {
          "output_type": "execute_result",
          "data": {
            "application/vnd.google.colaboratory.intrinsic+json": {
              "type": "string"
            },
            "text/plain": [
              "'not_worthy'"
            ]
          },
          "metadata": {
            "tags": []
          },
          "execution_count": 18
        }
      ]
    },
    {
      "cell_type": "code",
      "metadata": {
        "id": "t6EKJm8yt_A-",
        "colab": {
          "base_uri": "https://localhost:8080/",
          "height": 35
        },
        "outputId": "2c619b2f-4c1c-44db-cb74-6e4c532b69ce"
      },
      "source": [
        "predictor.predict(\"The US added 7 million jobs last month\")"
      ],
      "execution_count": null,
      "outputs": [
        {
          "output_type": "display_data",
          "data": {
            "text/html": [
              ""
            ],
            "text/plain": [
              "<IPython.core.display.HTML object>"
            ]
          },
          "metadata": {
            "tags": []
          }
        },
        {
          "output_type": "execute_result",
          "data": {
            "application/vnd.google.colaboratory.intrinsic+json": {
              "type": "string"
            },
            "text/plain": [
              "'worthy'"
            ]
          },
          "metadata": {
            "tags": []
          },
          "execution_count": 19
        }
      ]
    },
    {
      "cell_type": "code",
      "metadata": {
        "id": "APCDePmhuC3b",
        "colab": {
          "base_uri": "https://localhost:8080/",
          "height": 35
        },
        "outputId": "bd1f3382-019f-4c1b-94a1-aa681ddf769c"
      },
      "source": [
        "predictor.predict(\"Democrats want to defund police\")"
      ],
      "execution_count": null,
      "outputs": [
        {
          "output_type": "display_data",
          "data": {
            "text/html": [
              ""
            ],
            "text/plain": [
              "<IPython.core.display.HTML object>"
            ]
          },
          "metadata": {
            "tags": []
          }
        },
        {
          "output_type": "execute_result",
          "data": {
            "application/vnd.google.colaboratory.intrinsic+json": {
              "type": "string"
            },
            "text/plain": [
              "'worthy'"
            ]
          },
          "metadata": {
            "tags": []
          },
          "execution_count": 20
        }
      ]
    },
    {
      "cell_type": "code",
      "metadata": {
        "id": "0z-PlM6Q2pRN",
        "colab": {
          "base_uri": "https://localhost:8080/",
          "height": 35
        },
        "outputId": "61aa7c47-061a-4bb3-c246-5fe8c693c259"
      },
      "source": [
        "predictor.predict(\"I wasn't expecting so many people\")"
      ],
      "execution_count": null,
      "outputs": [
        {
          "output_type": "display_data",
          "data": {
            "text/html": [
              ""
            ],
            "text/plain": [
              "<IPython.core.display.HTML object>"
            ]
          },
          "metadata": {
            "tags": []
          }
        },
        {
          "output_type": "execute_result",
          "data": {
            "application/vnd.google.colaboratory.intrinsic+json": {
              "type": "string"
            },
            "text/plain": [
              "'not_worthy'"
            ]
          },
          "metadata": {
            "tags": []
          },
          "execution_count": 21
        }
      ]
    },
    {
      "cell_type": "code",
      "metadata": {
        "id": "HvpHMkZJ2sLl",
        "colab": {
          "base_uri": "https://localhost:8080/",
          "height": 105
        },
        "outputId": "c03ef808-0be8-435b-9d2c-7758819ca55b"
      },
      "source": [
        "learner.view_top_losses(n=1, preproc=preproc)"
      ],
      "execution_count": null,
      "outputs": [
        {
          "output_type": "stream",
          "text": [
            "----------\n",
            "id:4078 | loss:12.23 | true:worthy | pred:not_worthy)\n",
            "\n",
            "[CLS] under the cash for cl ##unk ##ers program , all we ' ve got to do is . . . go to a local junk ##yard , all you ' ve got to do is tow it to your house . and you ' re going to get $ 4 , 500 . [SEP]\n"
          ],
          "name": "stdout"
        }
      ]
    },
    {
      "cell_type": "code",
      "metadata": {
        "id": "L6BEoo9A3KUX",
        "colab": {
          "base_uri": "https://localhost:8080/",
          "height": 68
        },
        "outputId": "6b10470a-90e4-4dbc-90ae-903dbeeebe27"
      },
      "source": [
        "\n",
        "import nltk\n",
        "nltk.download('punkt')"
      ],
      "execution_count": null,
      "outputs": [
        {
          "output_type": "stream",
          "text": [
            "[nltk_data] Downloading package punkt to /root/nltk_data...\n",
            "[nltk_data]   Unzipping tokenizers/punkt.zip.\n"
          ],
          "name": "stdout"
        },
        {
          "output_type": "execute_result",
          "data": {
            "text/plain": [
              "True"
            ]
          },
          "metadata": {
            "tags": []
          },
          "execution_count": 24
        }
      ]
    },
    {
      "cell_type": "code",
      "metadata": {
        "id": "0jwudjOo3PRJ"
      },
      "source": [
        "speech = 'Madam President, Mr. Secretary-General, world leaders, ambassadors, and distinguished delegates: One year ago, I stood before you for the first time in this grand hall. I addressed the threats facing our world, and I presented a vision to achieve a brighter future for all of humanity. Today, I stand before the United Nations General Assembly to share the extraordinary progress we’ve made. In less than two years, my administration has accomplished more than almost any administration in the history of our country. Didn’t expect that reaction, but that’s okay. (Laughter and applause.) America’s economy is booming like never before. Since my election, we’ve added $10 trillion in wealth. The stock market is at an all-time high in history, and jobless claims are at a 50-year low. African American, Hispanic American, and Asian American unemployment have all achieved their lowest levels ever recorded. We’ve added more than 4 million new jobs, including half a million manufacturing jobs. We have passed the biggest tax cuts and reforms in American history. We’ve started the construction of a major border wall, and we have greatly strengthened border security. We have secured record funding for our military — $700 billion this year, and $716 billion next year. Our military will soon be more powerful than it has ever been before. In other words, the United States is stronger, safer, and a richer country than it was when I assumed office less than two years ago. We are standing up for America and for the American people. And we are also standing up for the world. This is great news for our citizens and for peace-loving people everywhere. We believe that when nations respect the rights of their neighbors, and defend the interests of their people, they can better work together to secure the blessings of safety, prosperity, and peace. Each of us here today is the emissary of a distinct culture, a rich history, and a people bound together by ties of memory, tradition, and the values that make our homelands like nowhere else on Earth. That is why America will always choose independence and cooperation over global governance, control, and domination. I honor the right of every nation in this room to pursue its own customs, beliefs, and traditions. The United States will not tell you how to live or work or worship. We only ask that you honor our sovereignty in return.'"
      ],
      "execution_count": null,
      "outputs": []
    },
    {
      "cell_type": "code",
      "metadata": {
        "id": "EdrjF9yx22wT"
      },
      "source": [
        "sentences_text = nltk.sent_tokenize(speech)"
      ],
      "execution_count": null,
      "outputs": []
    },
    {
      "cell_type": "code",
      "metadata": {
        "id": "pZ2wt_ca3Q4E",
        "colab": {
          "base_uri": "https://localhost:8080/",
          "height": 1000
        },
        "outputId": "f8b2598e-2948-43bc-fd50-130c5cc267b5"
      },
      "source": [
        "for sentence in sentences_text:\n",
        "  print(\"Sentence: \", sentence)\n",
        "  print(\"Worthiness likelihood: {:.2f}\".format(predictor.predict_proba(sentence)[1]))\n",
        "  print(\"Response: \", predictor.predict(sentence))\n",
        "  print(\"\\n\")"
      ],
      "execution_count": null,
      "outputs": [
        {
          "output_type": "stream",
          "text": [
            "Sentence:  Madam President, Mr. Secretary-General, world leaders, ambassadors, and distinguished delegates: One year ago, I stood before you for the first time in this grand hall.\n"
          ],
          "name": "stdout"
        },
        {
          "output_type": "display_data",
          "data": {
            "text/html": [
              ""
            ],
            "text/plain": [
              "<IPython.core.display.HTML object>"
            ]
          },
          "metadata": {
            "tags": []
          }
        },
        {
          "output_type": "stream",
          "text": [
            "Worthiness likelihood: 0.00\n"
          ],
          "name": "stdout"
        },
        {
          "output_type": "display_data",
          "data": {
            "text/html": [
              ""
            ],
            "text/plain": [
              "<IPython.core.display.HTML object>"
            ]
          },
          "metadata": {
            "tags": []
          }
        },
        {
          "output_type": "stream",
          "text": [
            "Response:  not_worthy\n",
            "\n",
            "\n",
            "Sentence:  I addressed the threats facing our world, and I presented a vision to achieve a brighter future for all of humanity.\n"
          ],
          "name": "stdout"
        },
        {
          "output_type": "display_data",
          "data": {
            "text/html": [
              ""
            ],
            "text/plain": [
              "<IPython.core.display.HTML object>"
            ]
          },
          "metadata": {
            "tags": []
          }
        },
        {
          "output_type": "stream",
          "text": [
            "Worthiness likelihood: 0.03\n"
          ],
          "name": "stdout"
        },
        {
          "output_type": "display_data",
          "data": {
            "text/html": [
              ""
            ],
            "text/plain": [
              "<IPython.core.display.HTML object>"
            ]
          },
          "metadata": {
            "tags": []
          }
        },
        {
          "output_type": "stream",
          "text": [
            "Response:  not_worthy\n",
            "\n",
            "\n",
            "Sentence:  Today, I stand before the United Nations General Assembly to share the extraordinary progress we’ve made.\n"
          ],
          "name": "stdout"
        },
        {
          "output_type": "display_data",
          "data": {
            "text/html": [
              ""
            ],
            "text/plain": [
              "<IPython.core.display.HTML object>"
            ]
          },
          "metadata": {
            "tags": []
          }
        },
        {
          "output_type": "stream",
          "text": [
            "Worthiness likelihood: 0.01\n"
          ],
          "name": "stdout"
        },
        {
          "output_type": "display_data",
          "data": {
            "text/html": [
              ""
            ],
            "text/plain": [
              "<IPython.core.display.HTML object>"
            ]
          },
          "metadata": {
            "tags": []
          }
        },
        {
          "output_type": "stream",
          "text": [
            "Response:  not_worthy\n",
            "\n",
            "\n",
            "Sentence:  In less than two years, my administration has accomplished more than almost any administration in the history of our country.\n"
          ],
          "name": "stdout"
        },
        {
          "output_type": "display_data",
          "data": {
            "text/html": [
              ""
            ],
            "text/plain": [
              "<IPython.core.display.HTML object>"
            ]
          },
          "metadata": {
            "tags": []
          }
        },
        {
          "output_type": "stream",
          "text": [
            "Worthiness likelihood: 1.00\n"
          ],
          "name": "stdout"
        },
        {
          "output_type": "display_data",
          "data": {
            "text/html": [
              ""
            ],
            "text/plain": [
              "<IPython.core.display.HTML object>"
            ]
          },
          "metadata": {
            "tags": []
          }
        },
        {
          "output_type": "stream",
          "text": [
            "Response:  worthy\n",
            "\n",
            "\n",
            "Sentence:  Didn’t expect that reaction, but that’s okay.\n"
          ],
          "name": "stdout"
        },
        {
          "output_type": "display_data",
          "data": {
            "text/html": [
              ""
            ],
            "text/plain": [
              "<IPython.core.display.HTML object>"
            ]
          },
          "metadata": {
            "tags": []
          }
        },
        {
          "output_type": "stream",
          "text": [
            "Worthiness likelihood: 0.00\n"
          ],
          "name": "stdout"
        },
        {
          "output_type": "display_data",
          "data": {
            "text/html": [
              ""
            ],
            "text/plain": [
              "<IPython.core.display.HTML object>"
            ]
          },
          "metadata": {
            "tags": []
          }
        },
        {
          "output_type": "stream",
          "text": [
            "Response:  not_worthy\n",
            "\n",
            "\n",
            "Sentence:  (Laughter and applause.)\n"
          ],
          "name": "stdout"
        },
        {
          "output_type": "display_data",
          "data": {
            "text/html": [
              ""
            ],
            "text/plain": [
              "<IPython.core.display.HTML object>"
            ]
          },
          "metadata": {
            "tags": []
          }
        },
        {
          "output_type": "stream",
          "text": [
            "Worthiness likelihood: 0.00\n"
          ],
          "name": "stdout"
        },
        {
          "output_type": "display_data",
          "data": {
            "text/html": [
              ""
            ],
            "text/plain": [
              "<IPython.core.display.HTML object>"
            ]
          },
          "metadata": {
            "tags": []
          }
        },
        {
          "output_type": "stream",
          "text": [
            "Response:  not_worthy\n",
            "\n",
            "\n",
            "Sentence:  America’s economy is booming like never before.\n"
          ],
          "name": "stdout"
        },
        {
          "output_type": "display_data",
          "data": {
            "text/html": [
              ""
            ],
            "text/plain": [
              "<IPython.core.display.HTML object>"
            ]
          },
          "metadata": {
            "tags": []
          }
        },
        {
          "output_type": "stream",
          "text": [
            "Worthiness likelihood: 1.00\n"
          ],
          "name": "stdout"
        },
        {
          "output_type": "display_data",
          "data": {
            "text/html": [
              ""
            ],
            "text/plain": [
              "<IPython.core.display.HTML object>"
            ]
          },
          "metadata": {
            "tags": []
          }
        },
        {
          "output_type": "stream",
          "text": [
            "Response:  worthy\n",
            "\n",
            "\n",
            "Sentence:  Since my election, we’ve added $10 trillion in wealth.\n"
          ],
          "name": "stdout"
        },
        {
          "output_type": "display_data",
          "data": {
            "text/html": [
              ""
            ],
            "text/plain": [
              "<IPython.core.display.HTML object>"
            ]
          },
          "metadata": {
            "tags": []
          }
        },
        {
          "output_type": "stream",
          "text": [
            "Worthiness likelihood: 1.00\n"
          ],
          "name": "stdout"
        },
        {
          "output_type": "display_data",
          "data": {
            "text/html": [
              ""
            ],
            "text/plain": [
              "<IPython.core.display.HTML object>"
            ]
          },
          "metadata": {
            "tags": []
          }
        },
        {
          "output_type": "stream",
          "text": [
            "Response:  worthy\n",
            "\n",
            "\n",
            "Sentence:  The stock market is at an all-time high in history, and jobless claims are at a 50-year low.\n"
          ],
          "name": "stdout"
        },
        {
          "output_type": "display_data",
          "data": {
            "text/html": [
              ""
            ],
            "text/plain": [
              "<IPython.core.display.HTML object>"
            ]
          },
          "metadata": {
            "tags": []
          }
        },
        {
          "output_type": "stream",
          "text": [
            "Worthiness likelihood: 1.00\n"
          ],
          "name": "stdout"
        },
        {
          "output_type": "display_data",
          "data": {
            "text/html": [
              ""
            ],
            "text/plain": [
              "<IPython.core.display.HTML object>"
            ]
          },
          "metadata": {
            "tags": []
          }
        },
        {
          "output_type": "stream",
          "text": [
            "Response:  worthy\n",
            "\n",
            "\n",
            "Sentence:  African American, Hispanic American, and Asian American unemployment have all achieved their lowest levels ever recorded.\n"
          ],
          "name": "stdout"
        },
        {
          "output_type": "display_data",
          "data": {
            "text/html": [
              ""
            ],
            "text/plain": [
              "<IPython.core.display.HTML object>"
            ]
          },
          "metadata": {
            "tags": []
          }
        },
        {
          "output_type": "stream",
          "text": [
            "Worthiness likelihood: 1.00\n"
          ],
          "name": "stdout"
        },
        {
          "output_type": "display_data",
          "data": {
            "text/html": [
              ""
            ],
            "text/plain": [
              "<IPython.core.display.HTML object>"
            ]
          },
          "metadata": {
            "tags": []
          }
        },
        {
          "output_type": "stream",
          "text": [
            "Response:  worthy\n",
            "\n",
            "\n",
            "Sentence:  We’ve added more than 4 million new jobs, including half a million manufacturing jobs.\n"
          ],
          "name": "stdout"
        },
        {
          "output_type": "display_data",
          "data": {
            "text/html": [
              ""
            ],
            "text/plain": [
              "<IPython.core.display.HTML object>"
            ]
          },
          "metadata": {
            "tags": []
          }
        },
        {
          "output_type": "stream",
          "text": [
            "Worthiness likelihood: 1.00\n"
          ],
          "name": "stdout"
        },
        {
          "output_type": "display_data",
          "data": {
            "text/html": [
              ""
            ],
            "text/plain": [
              "<IPython.core.display.HTML object>"
            ]
          },
          "metadata": {
            "tags": []
          }
        },
        {
          "output_type": "stream",
          "text": [
            "Response:  worthy\n",
            "\n",
            "\n",
            "Sentence:  We have passed the biggest tax cuts and reforms in American history.\n"
          ],
          "name": "stdout"
        },
        {
          "output_type": "display_data",
          "data": {
            "text/html": [
              ""
            ],
            "text/plain": [
              "<IPython.core.display.HTML object>"
            ]
          },
          "metadata": {
            "tags": []
          }
        },
        {
          "output_type": "stream",
          "text": [
            "Worthiness likelihood: 1.00\n"
          ],
          "name": "stdout"
        },
        {
          "output_type": "display_data",
          "data": {
            "text/html": [
              ""
            ],
            "text/plain": [
              "<IPython.core.display.HTML object>"
            ]
          },
          "metadata": {
            "tags": []
          }
        },
        {
          "output_type": "stream",
          "text": [
            "Response:  worthy\n",
            "\n",
            "\n",
            "Sentence:  We’ve started the construction of a major border wall, and we have greatly strengthened border security.\n"
          ],
          "name": "stdout"
        },
        {
          "output_type": "display_data",
          "data": {
            "text/html": [
              ""
            ],
            "text/plain": [
              "<IPython.core.display.HTML object>"
            ]
          },
          "metadata": {
            "tags": []
          }
        },
        {
          "output_type": "stream",
          "text": [
            "Worthiness likelihood: 1.00\n"
          ],
          "name": "stdout"
        },
        {
          "output_type": "display_data",
          "data": {
            "text/html": [
              ""
            ],
            "text/plain": [
              "<IPython.core.display.HTML object>"
            ]
          },
          "metadata": {
            "tags": []
          }
        },
        {
          "output_type": "stream",
          "text": [
            "Response:  worthy\n",
            "\n",
            "\n",
            "Sentence:  We have secured record funding for our military — $700 billion this year, and $716 billion next year.\n"
          ],
          "name": "stdout"
        },
        {
          "output_type": "display_data",
          "data": {
            "text/html": [
              ""
            ],
            "text/plain": [
              "<IPython.core.display.HTML object>"
            ]
          },
          "metadata": {
            "tags": []
          }
        },
        {
          "output_type": "stream",
          "text": [
            "Worthiness likelihood: 1.00\n"
          ],
          "name": "stdout"
        },
        {
          "output_type": "display_data",
          "data": {
            "text/html": [
              ""
            ],
            "text/plain": [
              "<IPython.core.display.HTML object>"
            ]
          },
          "metadata": {
            "tags": []
          }
        },
        {
          "output_type": "stream",
          "text": [
            "Response:  worthy\n",
            "\n",
            "\n",
            "Sentence:  Our military will soon be more powerful than it has ever been before.\n"
          ],
          "name": "stdout"
        },
        {
          "output_type": "display_data",
          "data": {
            "text/html": [
              ""
            ],
            "text/plain": [
              "<IPython.core.display.HTML object>"
            ]
          },
          "metadata": {
            "tags": []
          }
        },
        {
          "output_type": "stream",
          "text": [
            "Worthiness likelihood: 0.30\n"
          ],
          "name": "stdout"
        },
        {
          "output_type": "display_data",
          "data": {
            "text/html": [
              ""
            ],
            "text/plain": [
              "<IPython.core.display.HTML object>"
            ]
          },
          "metadata": {
            "tags": []
          }
        },
        {
          "output_type": "stream",
          "text": [
            "Response:  not_worthy\n",
            "\n",
            "\n",
            "Sentence:  In other words, the United States is stronger, safer, and a richer country than it was when I assumed office less than two years ago.\n"
          ],
          "name": "stdout"
        },
        {
          "output_type": "display_data",
          "data": {
            "text/html": [
              ""
            ],
            "text/plain": [
              "<IPython.core.display.HTML object>"
            ]
          },
          "metadata": {
            "tags": []
          }
        },
        {
          "output_type": "stream",
          "text": [
            "Worthiness likelihood: 0.13\n"
          ],
          "name": "stdout"
        },
        {
          "output_type": "display_data",
          "data": {
            "text/html": [
              ""
            ],
            "text/plain": [
              "<IPython.core.display.HTML object>"
            ]
          },
          "metadata": {
            "tags": []
          }
        },
        {
          "output_type": "stream",
          "text": [
            "Response:  not_worthy\n",
            "\n",
            "\n",
            "Sentence:  We are standing up for America and for the American people.\n"
          ],
          "name": "stdout"
        },
        {
          "output_type": "display_data",
          "data": {
            "text/html": [
              ""
            ],
            "text/plain": [
              "<IPython.core.display.HTML object>"
            ]
          },
          "metadata": {
            "tags": []
          }
        },
        {
          "output_type": "stream",
          "text": [
            "Worthiness likelihood: 1.00\n"
          ],
          "name": "stdout"
        },
        {
          "output_type": "display_data",
          "data": {
            "text/html": [
              ""
            ],
            "text/plain": [
              "<IPython.core.display.HTML object>"
            ]
          },
          "metadata": {
            "tags": []
          }
        },
        {
          "output_type": "stream",
          "text": [
            "Response:  worthy\n",
            "\n",
            "\n",
            "Sentence:  And we are also standing up for the world.\n"
          ],
          "name": "stdout"
        },
        {
          "output_type": "display_data",
          "data": {
            "text/html": [
              ""
            ],
            "text/plain": [
              "<IPython.core.display.HTML object>"
            ]
          },
          "metadata": {
            "tags": []
          }
        },
        {
          "output_type": "stream",
          "text": [
            "Worthiness likelihood: 0.00\n"
          ],
          "name": "stdout"
        },
        {
          "output_type": "display_data",
          "data": {
            "text/html": [
              ""
            ],
            "text/plain": [
              "<IPython.core.display.HTML object>"
            ]
          },
          "metadata": {
            "tags": []
          }
        },
        {
          "output_type": "stream",
          "text": [
            "Response:  not_worthy\n",
            "\n",
            "\n",
            "Sentence:  This is great news for our citizens and for peace-loving people everywhere.\n"
          ],
          "name": "stdout"
        },
        {
          "output_type": "display_data",
          "data": {
            "text/html": [
              ""
            ],
            "text/plain": [
              "<IPython.core.display.HTML object>"
            ]
          },
          "metadata": {
            "tags": []
          }
        },
        {
          "output_type": "stream",
          "text": [
            "Worthiness likelihood: 0.00\n"
          ],
          "name": "stdout"
        },
        {
          "output_type": "display_data",
          "data": {
            "text/html": [
              ""
            ],
            "text/plain": [
              "<IPython.core.display.HTML object>"
            ]
          },
          "metadata": {
            "tags": []
          }
        },
        {
          "output_type": "stream",
          "text": [
            "Response:  not_worthy\n",
            "\n",
            "\n",
            "Sentence:  We believe that when nations respect the rights of their neighbors, and defend the interests of their people, they can better work together to secure the blessings of safety, prosperity, and peace.\n"
          ],
          "name": "stdout"
        },
        {
          "output_type": "display_data",
          "data": {
            "text/html": [
              ""
            ],
            "text/plain": [
              "<IPython.core.display.HTML object>"
            ]
          },
          "metadata": {
            "tags": []
          }
        },
        {
          "output_type": "stream",
          "text": [
            "Worthiness likelihood: 0.00\n"
          ],
          "name": "stdout"
        },
        {
          "output_type": "display_data",
          "data": {
            "text/html": [
              ""
            ],
            "text/plain": [
              "<IPython.core.display.HTML object>"
            ]
          },
          "metadata": {
            "tags": []
          }
        },
        {
          "output_type": "stream",
          "text": [
            "Response:  not_worthy\n",
            "\n",
            "\n",
            "Sentence:  Each of us here today is the emissary of a distinct culture, a rich history, and a people bound together by ties of memory, tradition, and the values that make our homelands like nowhere else on Earth.\n"
          ],
          "name": "stdout"
        },
        {
          "output_type": "display_data",
          "data": {
            "text/html": [
              ""
            ],
            "text/plain": [
              "<IPython.core.display.HTML object>"
            ]
          },
          "metadata": {
            "tags": []
          }
        },
        {
          "output_type": "stream",
          "text": [
            "Worthiness likelihood: 0.00\n"
          ],
          "name": "stdout"
        },
        {
          "output_type": "display_data",
          "data": {
            "text/html": [
              ""
            ],
            "text/plain": [
              "<IPython.core.display.HTML object>"
            ]
          },
          "metadata": {
            "tags": []
          }
        },
        {
          "output_type": "stream",
          "text": [
            "Response:  not_worthy\n",
            "\n",
            "\n",
            "Sentence:  That is why America will always choose independence and cooperation over global governance, control, and domination.\n"
          ],
          "name": "stdout"
        },
        {
          "output_type": "display_data",
          "data": {
            "text/html": [
              ""
            ],
            "text/plain": [
              "<IPython.core.display.HTML object>"
            ]
          },
          "metadata": {
            "tags": []
          }
        },
        {
          "output_type": "stream",
          "text": [
            "Worthiness likelihood: 0.91\n"
          ],
          "name": "stdout"
        },
        {
          "output_type": "display_data",
          "data": {
            "text/html": [
              ""
            ],
            "text/plain": [
              "<IPython.core.display.HTML object>"
            ]
          },
          "metadata": {
            "tags": []
          }
        },
        {
          "output_type": "stream",
          "text": [
            "Response:  worthy\n",
            "\n",
            "\n",
            "Sentence:  I honor the right of every nation in this room to pursue its own customs, beliefs, and traditions.\n"
          ],
          "name": "stdout"
        },
        {
          "output_type": "display_data",
          "data": {
            "text/html": [
              ""
            ],
            "text/plain": [
              "<IPython.core.display.HTML object>"
            ]
          },
          "metadata": {
            "tags": []
          }
        },
        {
          "output_type": "stream",
          "text": [
            "Worthiness likelihood: 0.00\n"
          ],
          "name": "stdout"
        },
        {
          "output_type": "display_data",
          "data": {
            "text/html": [
              ""
            ],
            "text/plain": [
              "<IPython.core.display.HTML object>"
            ]
          },
          "metadata": {
            "tags": []
          }
        },
        {
          "output_type": "stream",
          "text": [
            "Response:  not_worthy\n",
            "\n",
            "\n",
            "Sentence:  The United States will not tell you how to live or work or worship.\n"
          ],
          "name": "stdout"
        },
        {
          "output_type": "display_data",
          "data": {
            "text/html": [
              ""
            ],
            "text/plain": [
              "<IPython.core.display.HTML object>"
            ]
          },
          "metadata": {
            "tags": []
          }
        },
        {
          "output_type": "stream",
          "text": [
            "Worthiness likelihood: 0.00\n"
          ],
          "name": "stdout"
        },
        {
          "output_type": "display_data",
          "data": {
            "text/html": [
              ""
            ],
            "text/plain": [
              "<IPython.core.display.HTML object>"
            ]
          },
          "metadata": {
            "tags": []
          }
        },
        {
          "output_type": "stream",
          "text": [
            "Response:  not_worthy\n",
            "\n",
            "\n",
            "Sentence:  We only ask that you honor our sovereignty in return.\n"
          ],
          "name": "stdout"
        },
        {
          "output_type": "display_data",
          "data": {
            "text/html": [
              ""
            ],
            "text/plain": [
              "<IPython.core.display.HTML object>"
            ]
          },
          "metadata": {
            "tags": []
          }
        },
        {
          "output_type": "stream",
          "text": [
            "Worthiness likelihood: 0.00\n"
          ],
          "name": "stdout"
        },
        {
          "output_type": "display_data",
          "data": {
            "text/html": [
              ""
            ],
            "text/plain": [
              "<IPython.core.display.HTML object>"
            ]
          },
          "metadata": {
            "tags": []
          }
        },
        {
          "output_type": "stream",
          "text": [
            "Response:  not_worthy\n",
            "\n",
            "\n"
          ],
          "name": "stdout"
        }
      ]
    },
    {
      "cell_type": "code",
      "metadata": {
        "id": "Wnnyy0Gv4D-w"
      },
      "source": [
        "predictor.save('/tmp/worthy_predictor')"
      ],
      "execution_count": null,
      "outputs": []
    },
    {
      "cell_type": "markdown",
      "metadata": {
        "id": "N6GBzCZl5HIg"
      },
      "source": [
        "## Save model to Drive"
      ]
    },
    {
      "cell_type": "code",
      "metadata": {
        "id": "BcRps16Q45bj"
      },
      "source": [
        "from google.colab import auth\n",
        "from googleapiclient.http import MediaFileUpload\n",
        "from googleapiclient.discovery import build\n",
        "\n",
        "auth.authenticate_user()"
      ],
      "execution_count": null,
      "outputs": []
    },
    {
      "cell_type": "code",
      "metadata": {
        "id": "czWT5fE-5JF5"
      },
      "source": [
        "drive_service = build('drive', 'v3')\n",
        "\n",
        "def save_file_to_drive(name, path):\n",
        "  file_metadata = {\n",
        "    'name': name,\n",
        "    'mimeType': 'application/octet-stream'\n",
        "  }\n",
        "\n",
        "  media = MediaFileUpload(path, mimetype='application/octet-stream', resumable=True)\n",
        "\n",
        "  created = drive_service.files().create(body=file_metadata, media_body=media, fields='id').execute()\n",
        "\n",
        "  print('File ID: {}'.format(created.get('id')))\n",
        "\n",
        "  return created"
      ],
      "execution_count": null,
      "outputs": []
    },
    {
      "cell_type": "code",
      "metadata": {
        "id": "EiieA4L15Vjn",
        "colab": {
          "base_uri": "https://localhost:8080/",
          "height": 51
        },
        "outputId": "3a2b1c61-94e2-45b8-a35b-57aa63cea32e"
      },
      "source": [
        "save_file_to_drive(\"tf_model.h5\", '/tmp/worthy_predictor/tf_model.h5')"
      ],
      "execution_count": null,
      "outputs": [
        {
          "output_type": "stream",
          "text": [
            "File ID: 1HuO7T_dotFQKpITZeXP2u31bX6ibKu9R\n"
          ],
          "name": "stdout"
        },
        {
          "output_type": "execute_result",
          "data": {
            "text/plain": [
              "{'id': '1HuO7T_dotFQKpITZeXP2u31bX6ibKu9R'}"
            ]
          },
          "metadata": {
            "tags": []
          },
          "execution_count": 40
        }
      ]
    },
    {
      "cell_type": "code",
      "metadata": {
        "id": "WJjg75PO5aAo"
      },
      "source": [
        ""
      ],
      "execution_count": null,
      "outputs": []
    }
  ]
}