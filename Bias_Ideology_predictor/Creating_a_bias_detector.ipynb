{
  "nbformat": 4,
  "nbformat_minor": 0,
  "metadata": {
    "colab": {
      "name": "Creating a bias detector.ipynb",
      "provenance": [],
      "collapsed_sections": [
        "onezoXc8zmi3"
      ],
      "toc_visible": true
    },
    "kernelspec": {
      "name": "python3",
      "display_name": "Python 3"
    },
    "accelerator": "GPU"
  },
  "cells": [
    {
      "cell_type": "markdown",
      "metadata": {
        "id": "asCsb4F_xods"
      },
      "source": [
        "# Creating a bias detector\n",
        "Purpose of this notebook is to buil a predictor using BERT capable of understanding the level of bias of an article/speech. The task is thus divided into two subtasks:\n",
        " - Detecting whether there is a bias\n",
        " - Detecting whether it is a bias towards the right or the left of the political spectrum"
      ]
    },
    {
      "cell_type": "markdown",
      "metadata": {
        "id": "nyoHbSZLyFwq"
      },
      "source": [
        "## Install and imports"
      ]
    },
    {
      "cell_type": "code",
      "metadata": {
        "id": "W5Zq_ELj5Ivc",
        "colab": {
          "base_uri": "https://localhost:8080/"
        },
        "outputId": "97cb9839-6670-429a-bca1-66cd4e21dbb3"
      },
      "source": [
        "!pip3 install -q tensorflow_gpu==2.3.0"
      ],
      "execution_count": null,
      "outputs": [
        {
          "output_type": "stream",
          "text": [
            "\u001b[K     |████████████████████████████████| 320.4MB 53kB/s \n",
            "\u001b[?25h"
          ],
          "name": "stdout"
        }
      ]
    },
    {
      "cell_type": "code",
      "metadata": {
        "id": "HFKz8Osi5J0S",
        "colab": {
          "base_uri": "https://localhost:8080/"
        },
        "outputId": "3341ca66-52a2-497f-9a82-26747675f3c7"
      },
      "source": [
        "!pip3 install -q ktrain"
      ],
      "execution_count": null,
      "outputs": [
        {
          "output_type": "stream",
          "text": [
            "\u001b[K     |████████████████████████████████| 25.3MB 138kB/s \n",
            "\u001b[K     |████████████████████████████████| 983kB 51.8MB/s \n",
            "\u001b[K     |████████████████████████████████| 266kB 38.9MB/s \n",
            "\u001b[K     |████████████████████████████████| 1.3MB 36.4MB/s \n",
            "\u001b[K     |████████████████████████████████| 471kB 49.5MB/s \n",
            "\u001b[K     |████████████████████████████████| 2.9MB 52.4MB/s \n",
            "\u001b[K     |████████████████████████████████| 890kB 54.9MB/s \n",
            "\u001b[K     |████████████████████████████████| 1.1MB 44.7MB/s \n",
            "\u001b[?25h  Building wheel for ktrain (setup.py) ... \u001b[?25l\u001b[?25hdone\n",
            "  Building wheel for keras-bert (setup.py) ... \u001b[?25l\u001b[?25hdone\n",
            "  Building wheel for langdetect (setup.py) ... \u001b[?25l\u001b[?25hdone\n",
            "  Building wheel for seqeval (setup.py) ... \u001b[?25l\u001b[?25hdone\n",
            "  Building wheel for syntok (setup.py) ... \u001b[?25l\u001b[?25hdone\n",
            "  Building wheel for keras-transformer (setup.py) ... \u001b[?25l\u001b[?25hdone\n",
            "  Building wheel for sacremoses (setup.py) ... \u001b[?25l\u001b[?25hdone\n",
            "  Building wheel for keras-pos-embd (setup.py) ... \u001b[?25l\u001b[?25hdone\n",
            "  Building wheel for keras-multi-head (setup.py) ... \u001b[?25l\u001b[?25hdone\n",
            "  Building wheel for keras-layer-normalization (setup.py) ... \u001b[?25l\u001b[?25hdone\n",
            "  Building wheel for keras-position-wise-feed-forward (setup.py) ... \u001b[?25l\u001b[?25hdone\n",
            "  Building wheel for keras-embed-sim (setup.py) ... \u001b[?25l\u001b[?25hdone\n",
            "  Building wheel for keras-self-attention (setup.py) ... \u001b[?25l\u001b[?25hdone\n"
          ],
          "name": "stdout"
        }
      ]
    },
    {
      "cell_type": "code",
      "metadata": {
        "id": "IoK3dVmbPjCL",
        "colab": {
          "base_uri": "https://localhost:8080/"
        },
        "outputId": "77c2cc76-6d45-4ce1-8439-57df08a9ba2a"
      },
      "source": [
        "!pip install newspaper3k"
      ],
      "execution_count": null,
      "outputs": [
        {
          "output_type": "stream",
          "text": [
            "Collecting newspaper3k\n",
            "\u001b[?25l  Downloading https://files.pythonhosted.org/packages/d7/b9/51afecb35bb61b188a4b44868001de348a0e8134b4dfa00ffc191567c4b9/newspaper3k-0.2.8-py3-none-any.whl (211kB)\n",
            "\u001b[K     |████████████████████████████████| 215kB 2.7MB/s \n",
            "\u001b[?25hRequirement already satisfied: Pillow>=3.3.0 in /usr/local/lib/python3.6/dist-packages (from newspaper3k) (7.0.0)\n",
            "Collecting tldextract>=2.0.1\n",
            "\u001b[?25l  Downloading https://files.pythonhosted.org/packages/ff/9e/578ea24d0149a5c179ded8ea53e2b8fc35d22f7bfdee9564844873b147ea/tldextract-3.0.2-py2.py3-none-any.whl (86kB)\n",
            "\u001b[K     |████████████████████████████████| 92kB 5.4MB/s \n",
            "\u001b[?25hRequirement already satisfied: PyYAML>=3.11 in /usr/local/lib/python3.6/dist-packages (from newspaper3k) (3.13)\n",
            "Requirement already satisfied: lxml>=3.6.0 in /usr/local/lib/python3.6/dist-packages (from newspaper3k) (4.2.6)\n",
            "Collecting jieba3k>=0.35.1\n",
            "\u001b[?25l  Downloading https://files.pythonhosted.org/packages/a9/cb/2c8332bcdc14d33b0bedd18ae0a4981a069c3513e445120da3c3f23a8aaa/jieba3k-0.35.1.zip (7.4MB)\n",
            "\u001b[K     |████████████████████████████████| 7.4MB 6.8MB/s \n",
            "\u001b[?25hRequirement already satisfied: nltk>=3.2.1 in /usr/local/lib/python3.6/dist-packages (from newspaper3k) (3.2.5)\n",
            "Collecting feedparser>=5.2.1\n",
            "\u001b[?25l  Downloading https://files.pythonhosted.org/packages/1c/21/faf1bac028662cc8adb2b5ef7a6f3999a765baa2835331df365289b0ca56/feedparser-6.0.2-py3-none-any.whl (80kB)\n",
            "\u001b[K     |████████████████████████████████| 81kB 10.3MB/s \n",
            "\u001b[?25hRequirement already satisfied: python-dateutil>=2.5.3 in /usr/local/lib/python3.6/dist-packages (from newspaper3k) (2.8.1)\n",
            "Requirement already satisfied: beautifulsoup4>=4.4.1 in /usr/local/lib/python3.6/dist-packages (from newspaper3k) (4.6.3)\n",
            "Collecting cssselect>=0.9.2\n",
            "  Downloading https://files.pythonhosted.org/packages/3b/d4/3b5c17f00cce85b9a1e6f91096e1cc8e8ede2e1be8e96b87ce1ed09e92c5/cssselect-1.1.0-py2.py3-none-any.whl\n",
            "Collecting tinysegmenter==0.3\n",
            "  Downloading https://files.pythonhosted.org/packages/17/82/86982e4b6d16e4febc79c2a1d68ee3b707e8a020c5d2bc4af8052d0f136a/tinysegmenter-0.3.tar.gz\n",
            "Collecting feedfinder2>=0.0.4\n",
            "  Downloading https://files.pythonhosted.org/packages/35/82/1251fefec3bb4b03fd966c7e7f7a41c9fc2bb00d823a34c13f847fd61406/feedfinder2-0.0.4.tar.gz\n",
            "Requirement already satisfied: requests>=2.10.0 in /usr/local/lib/python3.6/dist-packages (from newspaper3k) (2.23.0)\n",
            "Collecting requests-file>=1.4\n",
            "  Downloading https://files.pythonhosted.org/packages/77/86/cdb5e8eaed90796aa83a6d9f75cfbd37af553c47a291cd47bc410ef9bdb2/requests_file-1.5.1-py2.py3-none-any.whl\n",
            "Requirement already satisfied: idna in /usr/local/lib/python3.6/dist-packages (from tldextract>=2.0.1->newspaper3k) (2.10)\n",
            "Requirement already satisfied: filelock>=3.0.8 in /usr/local/lib/python3.6/dist-packages (from tldextract>=2.0.1->newspaper3k) (3.0.12)\n",
            "Requirement already satisfied: six in /usr/local/lib/python3.6/dist-packages (from nltk>=3.2.1->newspaper3k) (1.15.0)\n",
            "Collecting sgmllib3k\n",
            "  Downloading https://files.pythonhosted.org/packages/9e/bd/3704a8c3e0942d711c1299ebf7b9091930adae6675d7c8f476a7ce48653c/sgmllib3k-1.0.0.tar.gz\n",
            "Requirement already satisfied: urllib3!=1.25.0,!=1.25.1,<1.26,>=1.21.1 in /usr/local/lib/python3.6/dist-packages (from requests>=2.10.0->newspaper3k) (1.24.3)\n",
            "Requirement already satisfied: chardet<4,>=3.0.2 in /usr/local/lib/python3.6/dist-packages (from requests>=2.10.0->newspaper3k) (3.0.4)\n",
            "Requirement already satisfied: certifi>=2017.4.17 in /usr/local/lib/python3.6/dist-packages (from requests>=2.10.0->newspaper3k) (2020.6.20)\n",
            "Building wheels for collected packages: jieba3k, tinysegmenter, feedfinder2, sgmllib3k\n",
            "  Building wheel for jieba3k (setup.py) ... \u001b[?25l\u001b[?25hdone\n",
            "  Created wheel for jieba3k: filename=jieba3k-0.35.1-cp36-none-any.whl size=7398406 sha256=761a1e08625f6b8c8210a2cca8a6ce26a241faac9f90140a9d5e68668e5a1376\n",
            "  Stored in directory: /root/.cache/pip/wheels/83/15/9c/a3f1f67e7f7181170ad37d32e503c35da20627c013f438ed34\n",
            "  Building wheel for tinysegmenter (setup.py) ... \u001b[?25l\u001b[?25hdone\n",
            "  Created wheel for tinysegmenter: filename=tinysegmenter-0.3-cp36-none-any.whl size=13538 sha256=046093b1f52767c5439521cecdfb33916d71f92539637a3f8e0eeb40f818f620\n",
            "  Stored in directory: /root/.cache/pip/wheels/81/2b/43/a02ede72324dd40cdd7ca53aad718c7710628e91b8b0dc0f02\n",
            "  Building wheel for feedfinder2 (setup.py) ... \u001b[?25l\u001b[?25hdone\n",
            "  Created wheel for feedfinder2: filename=feedfinder2-0.0.4-cp36-none-any.whl size=3355 sha256=858c6fc7763b9639fad88e333ba31ecd813b74e6f41426987c32dd046cd6974d\n",
            "  Stored in directory: /root/.cache/pip/wheels/de/03/ca/778e3a7a627e3d98836cc890e7cb40c7575424cfd3340f40ed\n",
            "  Building wheel for sgmllib3k (setup.py) ... \u001b[?25l\u001b[?25hdone\n",
            "  Created wheel for sgmllib3k: filename=sgmllib3k-1.0.0-cp36-none-any.whl size=6067 sha256=b592f8d77cea613021062c1dbc873c67185b6ba4e69b665c4ba0cf9d6bd3a4e7\n",
            "  Stored in directory: /root/.cache/pip/wheels/f1/80/5a/444ba08a550cdd241bd9baf8bae44be750efe370adb944506a\n",
            "Successfully built jieba3k tinysegmenter feedfinder2 sgmllib3k\n",
            "Installing collected packages: requests-file, tldextract, jieba3k, sgmllib3k, feedparser, cssselect, tinysegmenter, feedfinder2, newspaper3k\n",
            "Successfully installed cssselect-1.1.0 feedfinder2-0.0.4 feedparser-6.0.2 jieba3k-0.35.1 newspaper3k-0.2.8 requests-file-1.5.1 sgmllib3k-1.0.0 tinysegmenter-0.3 tldextract-3.0.2\n"
          ],
          "name": "stdout"
        }
      ]
    },
    {
      "cell_type": "code",
      "metadata": {
        "id": "uLcDOe-BDYwU"
      },
      "source": [
        "import pandas as pd\n",
        "import time\n",
        "import random"
      ],
      "execution_count": null,
      "outputs": []
    },
    {
      "cell_type": "code",
      "metadata": {
        "id": "zuc09gWSxkoM",
        "colab": {
          "base_uri": "https://localhost:8080/",
          "height": 52
        },
        "outputId": "fed4b6d4-b922-4d57-8354-ae72c80dcb89"
      },
      "source": [
        "import tensorflow as tf\n",
        "import pandas as pd\n",
        "import ktrain\n",
        "from ktrain import text\n",
        "#from newspaper import Article\n",
        "#from newspaper import Config\n",
        "MODEL_NAME = 'bert-base-multilingual-uncased'\n",
        "print(tf.__version__)\n",
        "tf.test.gpu_device_name()"
      ],
      "execution_count": null,
      "outputs": [
        {
          "output_type": "stream",
          "text": [
            "2.3.0\n"
          ],
          "name": "stdout"
        },
        {
          "output_type": "execute_result",
          "data": {
            "application/vnd.google.colaboratory.intrinsic+json": {
              "type": "string"
            },
            "text/plain": [
              "'/device:GPU:0'"
            ]
          },
          "metadata": {
            "tags": []
          },
          "execution_count": 5
        }
      ]
    },
    {
      "cell_type": "code",
      "metadata": {
        "id": "U1k-RNPa7QRE"
      },
      "source": [
        "from pydrive.auth import GoogleAuth\n",
        "from pydrive.drive import GoogleDrive\n",
        "from google.colab import auth\n",
        "from oauth2client.client import GoogleCredentials\n",
        "from googleapiclient.http import MediaFileUpload\n",
        "from googleapiclient.discovery import build\n",
        "\n",
        "auth.authenticate_user()\n",
        "gauth = GoogleAuth()\n",
        "gauth.credentials = GoogleCredentials.get_application_default()\n",
        "drive = GoogleDrive(gauth)"
      ],
      "execution_count": null,
      "outputs": []
    },
    {
      "cell_type": "code",
      "metadata": {
        "id": "y6lKoaBC8GlM"
      },
      "source": [
        "def upload_from_drive(link, name):\n",
        "  id = link.split('file/d/')[1].split('/view?usp=sharing')[0]\n",
        "  downloaded = drive.CreateFile({'id': id}) \n",
        "  downloaded.GetContentFile(name) "
      ],
      "execution_count": null,
      "outputs": []
    },
    {
      "cell_type": "code",
      "metadata": {
        "id": "xjfgUkKJxV27"
      },
      "source": [
        "from google.colab import auth\n",
        "from googleapiclient.http import MediaFileUpload\n",
        "from googleapiclient.discovery import build\n",
        "\n",
        "auth.authenticate_user()\n",
        "\n",
        "drive_service = build('drive', 'v3', cache_discovery=False)\n",
        "\n",
        "def save_file_to_drive(name, path):\n",
        "  file_metadata = {\n",
        "    'name': name,\n",
        "    'mimeType': 'application/octet-stream'\n",
        "  }\n",
        "\n",
        "  media = MediaFileUpload(path, mimetype='application/octet-stream', resumable=True)\n",
        "\n",
        "  created = drive_service.files().create(body=file_metadata, media_body=media, fields='id').execute()\n",
        "\n",
        "  print('File ID: {}'.format(created.get('id')))\n",
        "\n",
        "  return created"
      ],
      "execution_count": null,
      "outputs": []
    },
    {
      "cell_type": "markdown",
      "metadata": {
        "id": "HmxqYEspyLnN"
      },
      "source": [
        "## Datasets\n",
        "We will be using the following two datasets:\n",
        " - A collection of Wikipedia sentences that were edited because they didn't respect Wikipedia's NPOV (Neutral Point of View) policy. The creation of this dataset is explained in the article [Automatically Neutralizing Subjective Bias in Text](https://arxiv.org/pdf/1911.09709.pdf).\n",
        " - A collection of articles that were classified through crowdsourcing on how supportive they were towards democrats/republicans. Dataset creation process is explained article [Quantifying News Media Bias through Crowdsourcing and Machine Learning Dataset](https://deepblue.lib.umich.edu/data/concern/data_sets/8w32r569d?locale=en)\n",
        "\n"
      ]
    },
    {
      "cell_type": "markdown",
      "metadata": {
        "id": "onezoXc8zmi3"
      },
      "source": [
        "### Wikipedia dataset\n",
        "The dataset link can be found on the [GitHub page](https://github.com/rpryzant/neutralizing-bias) of the authors"
      ]
    },
    {
      "cell_type": "code",
      "metadata": {
        "id": "MKE97EevyKvP",
        "colab": {
          "base_uri": "https://localhost:8080/",
          "height": 991
        },
        "outputId": "0a406a6a-af73-4bd8-f09b-cc5b2178cc7e"
      },
      "source": [
        "!wget http://bit.ly/bias-corpus\n",
        "!unzip bias-corpus"
      ],
      "execution_count": null,
      "outputs": [
        {
          "output_type": "stream",
          "text": [
            "--2020-10-06 17:13:47--  http://bit.ly/bias-corpus\n",
            "Resolving bit.ly (bit.ly)... 67.199.248.11, 67.199.248.10\n",
            "Connecting to bit.ly (bit.ly)|67.199.248.11|:80... connected.\n",
            "HTTP request sent, awaiting response... 301 Moved Permanently\n",
            "Location: http://nlp.stanford.edu/projects/bias/bias_data.zip [following]\n",
            "--2020-10-06 17:13:48--  http://nlp.stanford.edu/projects/bias/bias_data.zip\n",
            "Resolving nlp.stanford.edu (nlp.stanford.edu)... 171.64.67.140\n",
            "Connecting to nlp.stanford.edu (nlp.stanford.edu)|171.64.67.140|:80... connected.\n",
            "HTTP request sent, awaiting response... 302 Found\n",
            "Location: https://nlp.stanford.edu/projects/bias/bias_data.zip [following]\n",
            "--2020-10-06 17:13:48--  https://nlp.stanford.edu/projects/bias/bias_data.zip\n",
            "Connecting to nlp.stanford.edu (nlp.stanford.edu)|171.64.67.140|:443... connected.\n",
            "HTTP request sent, awaiting response... 200 OK\n",
            "Length: 109612243 (105M) [application/zip]\n",
            "Saving to: ‘bias-corpus’\n",
            "\n",
            "bias-corpus         100%[===================>] 104.53M  17.2MB/s    in 9.2s    \n",
            "\n",
            "2020-10-06 17:13:58 (11.3 MB/s) - ‘bias-corpus’ saved [109612243/109612243]\n",
            "\n",
            "Archive:  bias-corpus\n",
            "   creating: bias_data/\n",
            "   creating: bias_data/real_world_samples/\n",
            "  inflating: bias_data/real_world_samples/news_left  \n",
            "   creating: __MACOSX/\n",
            "   creating: __MACOSX/bias_data/\n",
            "   creating: __MACOSX/bias_data/real_world_samples/\n",
            "  inflating: __MACOSX/bias_data/real_world_samples/._news_left  \n",
            "  inflating: bias_data/real_world_samples/ibc_left  \n",
            "  inflating: __MACOSX/bias_data/real_world_samples/._ibc_left  \n",
            "  inflating: bias_data/real_world_samples/ibc_right  \n",
            "  inflating: __MACOSX/bias_data/real_world_samples/._ibc_right  \n",
            "  inflating: bias_data/real_world_samples/speeches  \n",
            "  inflating: __MACOSX/bias_data/real_world_samples/._speeches  \n",
            "  inflating: bias_data/real_world_samples/news_right  \n",
            "  inflating: __MACOSX/bias_data/real_world_samples/._news_right  \n",
            "  inflating: bias_data/real_world_samples/news_sensationalist_dramatic  \n",
            "  inflating: __MACOSX/bias_data/real_world_samples/._news_sensationalist_dramatic  \n",
            "  inflating: __MACOSX/bias_data/._real_world_samples  \n",
            "  inflating: bias_data/README        \n",
            "  inflating: __MACOSX/bias_data/._README  \n",
            "   creating: bias_data/WNC/\n",
            "  inflating: bias_data/WNC/biased.word.dev  \n",
            "   creating: __MACOSX/bias_data/WNC/\n",
            "  inflating: __MACOSX/bias_data/WNC/._biased.word.dev  \n",
            "  inflating: bias_data/WNC/revision_topics.csv  \n",
            "  inflating: __MACOSX/bias_data/WNC/._revision_topics.csv  \n",
            "  inflating: bias_data/WNC/biased.word.test  \n",
            "  inflating: __MACOSX/bias_data/WNC/._biased.word.test  \n",
            "  inflating: bias_data/WNC/neutral   \n",
            "  inflating: bias_data/WNC/biased.word.train  \n",
            "  inflating: __MACOSX/bias_data/WNC/._biased.word.train  \n",
            "  inflating: bias_data/WNC/biased.full  \n",
            "  inflating: __MACOSX/bias_data/WNC/._biased.full  \n",
            "  inflating: __MACOSX/bias_data/._WNC  \n",
            "  inflating: bias_data/bert.vocab    \n",
            "  inflating: __MACOSX/bias_data/._bert.vocab  \n",
            "  inflating: __MACOSX/._bias_data    \n"
          ],
          "name": "stdout"
        }
      ]
    },
    {
      "cell_type": "code",
      "metadata": {
        "id": "wCc8b2WU21kS",
        "colab": {
          "base_uri": "https://localhost:8080/",
          "height": 34
        },
        "outputId": "aab8b8f2-c6b3-4068-98f1-e688ad4b3e42"
      },
      "source": [
        "#I'm using the same column name as specified in the README file\n",
        "df = pd.read_csv('bias_data/WNC/biased.full', sep='\\t', error_bad_lines=False, names=['id', 'src_tok', 'tgt_tok', 'src_raw', 'tgt_raw', 'src_POS_tags', 'tgt_parse_tags'])\n",
        "len(df)"
      ],
      "execution_count": null,
      "outputs": [
        {
          "output_type": "execute_result",
          "data": {
            "text/plain": [
              "181474"
            ]
          },
          "metadata": {
            "tags": []
          },
          "execution_count": 5
        }
      ]
    },
    {
      "cell_type": "code",
      "metadata": {
        "id": "wTp4Hyz30UV7"
      },
      "source": [
        "#Clean the dataset\n",
        "df = df.drop(df.columns.difference(['src_raw', 'tgt_raw']), axis=1)\n",
        "df = df.rename(columns={'src_raw':'unedited', 'tgt_raw': 'edited'})"
      ],
      "execution_count": null,
      "outputs": []
    },
    {
      "cell_type": "markdown",
      "metadata": {
        "id": "ozETK6uj2bd-"
      },
      "source": [
        "To obtain a dataset divided by biased and unbiased sentence, we split the original dataset into two equally long pieces. From one, we take the unedited sentences (these will be biased examples), from the other, we take the edited ones (these will be neutral examples)."
      ]
    },
    {
      "cell_type": "code",
      "metadata": {
        "id": "gQGdYBIU0yxj"
      },
      "source": [
        "df_biased   = pd.DataFrame(df[:int(len(df)/2)]['unedited']).rename(columns={'unedited':'sentence'})\n",
        "df_unbiased = pd.DataFrame(df[int(len(df)/2):]['edited']).rename(columns={'edited': 'sentence'})\n",
        "\n",
        "df_biased['biased'] = True\n",
        "df_unbiased['biased'] = False\n",
        "\n",
        "df_wikipedia = pd.concat([df_biased, df_unbiased])"
      ],
      "execution_count": null,
      "outputs": []
    },
    {
      "cell_type": "markdown",
      "metadata": {
        "id": "ESWnmMPtNKbE"
      },
      "source": [
        "### Newspaper dataset\n",
        "This dataset can be found on the [author's website](https://deepblue.lib.umich.edu/data/concern/data_sets/8w32r569d?locale=en)"
      ]
    },
    {
      "cell_type": "code",
      "metadata": {
        "id": "rYg0XxfGNXQ1",
        "colab": {
          "base_uri": "https://localhost:8080/"
        },
        "outputId": "f2bbc2e7-60bb-4d76-99e2-53f039c47e3f"
      },
      "source": [
        "!wget https://deepblue.lib.umich.edu/data/downloads/3r074t98m"
      ],
      "execution_count": null,
      "outputs": [
        {
          "output_type": "stream",
          "text": [
            "--2020-10-07 11:27:01--  https://deepblue.lib.umich.edu/data/downloads/3r074t98m\n",
            "Resolving deepblue.lib.umich.edu (deepblue.lib.umich.edu)... 141.213.128.141\n",
            "Connecting to deepblue.lib.umich.edu (deepblue.lib.umich.edu)|141.213.128.141|:443... connected.\n",
            "HTTP request sent, awaiting response... 200 OK\n",
            "Length: 3071483 (2.9M) [text/tab-separated-values]\n",
            "Saving to: ‘3r074t98m’\n",
            "\n",
            "3r074t98m           100%[===================>]   2.93M  3.16MB/s    in 0.9s    \n",
            "\n",
            "2020-10-07 11:27:02 (3.16 MB/s) - ‘3r074t98m’ saved [3071483/3071483]\n",
            "\n"
          ],
          "name": "stdout"
        }
      ]
    },
    {
      "cell_type": "code",
      "metadata": {
        "id": "3uv-U2vQNfE2",
        "colab": {
          "base_uri": "https://localhost:8080/"
        },
        "outputId": "f5c157bd-36ab-4e42-aa81-e294d4bce6ac"
      },
      "source": [
        "df = pd.read_csv('3r074t98m', sep='\\t')\n",
        "print(\"Length of the dataset: \", len(df))\n",
        "df.info()"
      ],
      "execution_count": null,
      "outputs": [
        {
          "output_type": "stream",
          "text": [
            "Length of the dataset:  21004\n",
            "<class 'pandas.core.frame.DataFrame'>\n",
            "RangeIndex: 21004 entries, 0 to 21003\n",
            "Data columns (total 7 columns):\n",
            " #   Column           Non-Null Count  Dtype \n",
            "---  ------           --------------  ----- \n",
            " 0   url              21004 non-null  object\n",
            " 1   q3               21004 non-null  object\n",
            " 2   perceived        21004 non-null  int64 \n",
            " 3   primary.topic    21004 non-null  object\n",
            " 4   secondary.topic  21004 non-null  object\n",
            " 5   democrat.vote    21004 non-null  object\n",
            " 6   republican.vote  21004 non-null  object\n",
            "dtypes: int64(1), object(6)\n",
            "memory usage: 1.1+ MB\n"
          ],
          "name": "stdout"
        }
      ]
    },
    {
      "cell_type": "code",
      "metadata": {
        "id": "uEvB4SMuNmPC",
        "colab": {
          "base_uri": "https://localhost:8080/",
          "height": 195
        },
        "outputId": "f37fdb61-d8c5-4e0c-f59a-6d8a8641a7fd"
      },
      "source": [
        "df.head()"
      ],
      "execution_count": null,
      "outputs": [
        {
          "output_type": "execute_result",
          "data": {
            "text/html": [
              "<div>\n",
              "<style scoped>\n",
              "    .dataframe tbody tr th:only-of-type {\n",
              "        vertical-align: middle;\n",
              "    }\n",
              "\n",
              "    .dataframe tbody tr th {\n",
              "        vertical-align: top;\n",
              "    }\n",
              "\n",
              "    .dataframe thead th {\n",
              "        text-align: right;\n",
              "    }\n",
              "</style>\n",
              "<table border=\"1\" class=\"dataframe\">\n",
              "  <thead>\n",
              "    <tr style=\"text-align: right;\">\n",
              "      <th></th>\n",
              "      <th>url</th>\n",
              "      <th>q3</th>\n",
              "      <th>perceived</th>\n",
              "      <th>primary.topic</th>\n",
              "      <th>secondary.topic</th>\n",
              "      <th>democrat.vote</th>\n",
              "      <th>republican.vote</th>\n",
              "    </tr>\n",
              "  </thead>\n",
              "  <tbody>\n",
              "    <tr>\n",
              "      <th>0</th>\n",
              "      <td>http://www.usatoday.com/story/news/nation/2013...</td>\n",
              "      <td>other</td>\n",
              "      <td>1</td>\n",
              "      <td>Civil Rights</td>\n",
              "      <td>Civil Rights</td>\n",
              "      <td>Neutral</td>\n",
              "      <td>Neutral</td>\n",
              "    </tr>\n",
              "    <tr>\n",
              "      <th>1</th>\n",
              "      <td>http://www.huffingtonpost.com/2013/05/21/senat...</td>\n",
              "      <td>News</td>\n",
              "      <td>0</td>\n",
              "      <td>Civil Rights</td>\n",
              "      <td>Civil Rights</td>\n",
              "      <td>Neutral</td>\n",
              "      <td>Neutral</td>\n",
              "    </tr>\n",
              "    <tr>\n",
              "      <th>2</th>\n",
              "      <td>http://www.washingtonpost.com/opinions/dont-le...</td>\n",
              "      <td>Opinion</td>\n",
              "      <td>1</td>\n",
              "      <td>Civil Rights</td>\n",
              "      <td>Civil Rights</td>\n",
              "      <td>Neutral</td>\n",
              "      <td>Neutral</td>\n",
              "    </tr>\n",
              "    <tr>\n",
              "      <th>3</th>\n",
              "      <td>http://www.foxnews.com/politics/2013/04/03/oba...</td>\n",
              "      <td>Opinion</td>\n",
              "      <td>1</td>\n",
              "      <td>Civil Rights</td>\n",
              "      <td>Civil Rights</td>\n",
              "      <td>Neutral</td>\n",
              "      <td>Neutral</td>\n",
              "    </tr>\n",
              "    <tr>\n",
              "      <th>4</th>\n",
              "      <td>http://www.breitbart.com/Big-Government/2013/1...</td>\n",
              "      <td>Opinion</td>\n",
              "      <td>1</td>\n",
              "      <td>Civil Rights</td>\n",
              "      <td>Civil Rights</td>\n",
              "      <td>Neutral</td>\n",
              "      <td>Neutral</td>\n",
              "    </tr>\n",
              "  </tbody>\n",
              "</table>\n",
              "</div>"
            ],
            "text/plain": [
              "                                                 url  ... republican.vote\n",
              "0  http://www.usatoday.com/story/news/nation/2013...  ...         Neutral\n",
              "1  http://www.huffingtonpost.com/2013/05/21/senat...  ...         Neutral\n",
              "2  http://www.washingtonpost.com/opinions/dont-le...  ...         Neutral\n",
              "3  http://www.foxnews.com/politics/2013/04/03/oba...  ...         Neutral\n",
              "4  http://www.breitbart.com/Big-Government/2013/1...  ...         Neutral\n",
              "\n",
              "[5 rows x 7 columns]"
            ]
          },
          "metadata": {
            "tags": []
          },
          "execution_count": 10
        }
      ]
    },
    {
      "cell_type": "code",
      "metadata": {
        "id": "YndEUhRZQHe9",
        "colab": {
          "base_uri": "https://localhost:8080/"
        },
        "outputId": "7d2ba5db-fd26-4111-a3a1-423276e014e3"
      },
      "source": [
        "df['democrat.vote'].unique()"
      ],
      "execution_count": null,
      "outputs": [
        {
          "output_type": "execute_result",
          "data": {
            "text/plain": [
              "array(['Neutral', 'Positive', 'SomewhatPositive', 'Negative',\n",
              "       'SomewhatNegative'], dtype=object)"
            ]
          },
          "metadata": {
            "tags": []
          },
          "execution_count": 11
        }
      ]
    },
    {
      "cell_type": "code",
      "metadata": {
        "id": "09-8FaccPzJx"
      },
      "source": [
        "df['democrat.feel'] = df['democrat.vote'].apply(lambda row: 'Neutral' if row == 'Neutral' else 'Positive' if row in ['Positive', 'SomewhatPositive'] else 'Negative')\n",
        "df['republican.feel'] = df['republican.vote'].apply(lambda row: 'Neutral' if row == 'Neutral' else 'Positive' if row in ['Positive', 'SomewhatPositive'] else 'Negative')"
      ],
      "execution_count": null,
      "outputs": []
    },
    {
      "cell_type": "markdown",
      "metadata": {
        "id": "UVeKBoIZS315"
      },
      "source": [
        "I'm going to select, among the articles, the ones that have a positive feeling towards Dems and negative towards Reps or viceversa"
      ]
    },
    {
      "cell_type": "code",
      "metadata": {
        "id": "5MlMV3hoNpl_"
      },
      "source": [
        "df_news = df[(((df['democrat.feel'] == 'Positive') & (df['republican.feel'] == 'Negative'))|((df['democrat.feel'] == 'Negative') & (df['republican.feel'] == 'Positive')))]"
      ],
      "execution_count": null,
      "outputs": []
    },
    {
      "cell_type": "code",
      "metadata": {
        "id": "nJlllN-6UMUk",
        "colab": {
          "base_uri": "https://localhost:8080/"
        },
        "outputId": "f1f908e6-5e19-4f55-a629-ccc3d5a2d374"
      },
      "source": [
        "df_news.columns"
      ],
      "execution_count": null,
      "outputs": [
        {
          "output_type": "execute_result",
          "data": {
            "text/plain": [
              "Index(['url', 'q3', 'perceived', 'primary.topic', 'secondary.topic',\n",
              "       'democrat.vote', 'republican.vote', 'democrat.feel', 'republican.feel'],\n",
              "      dtype='object')"
            ]
          },
          "metadata": {
            "tags": []
          },
          "execution_count": 14
        }
      ]
    },
    {
      "cell_type": "code",
      "metadata": {
        "id": "66ngcPTnTu1Q",
        "colab": {
          "base_uri": "https://localhost:8080/"
        },
        "outputId": "ffbf5ea9-eba7-485c-c8aa-79ca6d7b06b0"
      },
      "source": [
        "df_news['lean_left'] = df['democrat.feel'].apply(lambda row: 1 if row == 'Positive' else 0)\n",
        "df_news = df_news.drop(df_news.columns.difference(['url', 'lean_left']), axis=1)\n",
        "df_news.info()"
      ],
      "execution_count": null,
      "outputs": [
        {
          "output_type": "stream",
          "text": [
            "<class 'pandas.core.frame.DataFrame'>\n",
            "Int64Index: 2093 entries, 12 to 21003\n",
            "Data columns (total 2 columns):\n",
            " #   Column     Non-Null Count  Dtype \n",
            "---  ------     --------------  ----- \n",
            " 0   url        2093 non-null   object\n",
            " 1   lean_left  2093 non-null   int64 \n",
            "dtypes: int64(1), object(1)\n",
            "memory usage: 49.1+ KB\n"
          ],
          "name": "stdout"
        },
        {
          "output_type": "stream",
          "text": [
            "/usr/local/lib/python3.6/dist-packages/ipykernel_launcher.py:1: SettingWithCopyWarning: \n",
            "A value is trying to be set on a copy of a slice from a DataFrame.\n",
            "Try using .loc[row_indexer,col_indexer] = value instead\n",
            "\n",
            "See the caveats in the documentation: https://pandas.pydata.org/pandas-docs/stable/user_guide/indexing.html#returning-a-view-versus-a-copy\n",
            "  \"\"\"Entry point for launching an IPython kernel.\n"
          ],
          "name": "stderr"
        }
      ]
    },
    {
      "cell_type": "markdown",
      "metadata": {
        "id": "hwkDtIK3Us28"
      },
      "source": [
        "Now we need to retrieve the articles. To do this, we use library newspaper3k (this library makes use of the punkt dataset from nltk)."
      ]
    },
    {
      "cell_type": "code",
      "metadata": {
        "id": "C4x4vjdKXXWv",
        "colab": {
          "base_uri": "https://localhost:8080/"
        },
        "outputId": "f01731f9-4d37-4868-fe56-200b662d637d"
      },
      "source": [
        "import nltk\n",
        "nltk.download('punkt')"
      ],
      "execution_count": null,
      "outputs": [
        {
          "output_type": "stream",
          "text": [
            "[nltk_data] Downloading package punkt to /root/nltk_data...\n",
            "[nltk_data]   Unzipping tokenizers/punkt.zip.\n"
          ],
          "name": "stdout"
        },
        {
          "output_type": "execute_result",
          "data": {
            "text/plain": [
              "True"
            ]
          },
          "metadata": {
            "tags": []
          },
          "execution_count": 16
        }
      ]
    },
    {
      "cell_type": "code",
      "metadata": {
        "id": "zrhnwnKIUqNC"
      },
      "source": [
        "USER_AGENT = 'Mozilla/5.0 (Macintosh; Intel Mac OS X 10_11_5) AppleWebKit/537.36 (KHTML, like Gecko) Chrome/50.0.2661.102 Safari/537.36'\n",
        "config = Config()\n",
        "config.browser_user_agent = USER_AGENT"
      ],
      "execution_count": null,
      "outputs": []
    },
    {
      "cell_type": "code",
      "metadata": {
        "id": "_wOwiuUkUv45"
      },
      "source": [
        "WAITING_TIME = 1\n",
        "rowNumber = 0\n",
        "total_length = len(df_news)\n",
        "\n",
        "def retrieve_article(link):\n",
        "\n",
        "  #Just to see where we arrived\n",
        "  global rowNumber\n",
        "  rowNumber += 1\n",
        "  percCompletion = rowNumber * 100 / total_length\n",
        "\n",
        "  #Just to avoid that any website bans us\n",
        "  time.sleep(WAITING_TIME)\n",
        "\n",
        "  #We try to download the article; If download fails, return 'None'\n",
        "  try:\n",
        "    article = Article(link, config=config)\n",
        "    article.download()\n",
        "    article.parse()\n",
        "    article.nlp()\n",
        "    print(\"Completed row {0}/{1} - {2:.2f}% completed\".format(rowNumber, total_length, percCompletion))\n",
        "    return article.text\n",
        "  except:\n",
        "    print(\"Error with article on link: \", link)\n",
        "    return 'None'"
      ],
      "execution_count": null,
      "outputs": []
    },
    {
      "cell_type": "code",
      "metadata": {
        "id": "I4uNpG7UVJYO",
        "colab": {
          "base_uri": "https://localhost:8080/"
        },
        "outputId": "3e32af77-4aac-4d51-8e9a-682a5d205c83"
      },
      "source": [
        "df_news['text'] = df_news['url'].apply(retrieve_article)"
      ],
      "execution_count": null,
      "outputs": [
        {
          "output_type": "stream",
          "text": [
            "Completed row 1/2093 - 0.05% completed\n",
            "Completed row 2/2093 - 0.10% completed\n",
            "Completed row 3/2093 - 0.14% completed\n",
            "Completed row 4/2093 - 0.19% completed\n",
            "Completed row 5/2093 - 0.24% completed\n",
            "Completed row 6/2093 - 0.29% completed\n",
            "Completed row 7/2093 - 0.33% completed\n",
            "Completed row 8/2093 - 0.38% completed\n",
            "Completed row 9/2093 - 0.43% completed\n",
            "Completed row 10/2093 - 0.48% completed\n",
            "Completed row 11/2093 - 0.53% completed\n",
            "Error with article on link:  http://www.reuters.com/article/2013/01/05/us-usa-kennedy-marijuana-idUSBRE9040AF20130105\n",
            "Completed row 13/2093 - 0.62% completed\n",
            "Completed row 14/2093 - 0.67% completed\n",
            "Error with article on link:  http://www.reuters.com/article/2013/03/01/us-usa-detroit-emergency-idUSBRE9200TI20130301\n",
            "Completed row 16/2093 - 0.76% completed\n",
            "Completed row 17/2093 - 0.81% completed\n",
            "Error with article on link:  http://www.reuters.com/article/2013/10/30/us-usa-nutrition-food-stamps-idUSBRE99T0ZI20131030\n",
            "Completed row 19/2093 - 0.91% completed\n",
            "Completed row 20/2093 - 0.96% completed\n",
            "Completed row 21/2093 - 1.00% completed\n",
            "Completed row 22/2093 - 1.05% completed\n",
            "Completed row 23/2093 - 1.10% completed\n",
            "Completed row 24/2093 - 1.15% completed\n",
            "Completed row 25/2093 - 1.19% completed\n",
            "Error with article on link:  http://www.bbc.co.uk/news/entertainment-arts-24294901\n",
            "Completed row 27/2093 - 1.29% completed\n",
            "Error with article on link:  http://latino.foxnews.com/latino/politics/2013/05/02/does-tx-sen-ted-cruz-qualify-for-president-though-was-born-in-canada/\n",
            "Completed row 29/2093 - 1.39% completed\n",
            "Completed row 30/2093 - 1.43% completed\n",
            "Error with article on link:  http://www.dailykos.com/story/2013/04/22/1203898/-The-Siegelman-Case-and-why-it-should-trouble-you\n",
            "Completed row 32/2093 - 1.53% completed\n",
            "Completed row 33/2093 - 1.58% completed\n",
            "Completed row 34/2093 - 1.62% completed\n",
            "Completed row 35/2093 - 1.67% completed\n",
            "Completed row 36/2093 - 1.72% completed\n",
            "Completed row 37/2093 - 1.77% completed\n",
            "Error with article on link:  http://www.washingtonpost.com/blogs/the-fix/wp/2013/10/24/why-obama-is-racing-against-the-clock-on-immigration/\n",
            "Error with article on link:  http://www.washingtonpost.com/blogs/post-politics/wp/2013/05/12/susan-collins-slams-obama-over-irs-targeting-of-conservative-groups/\n",
            "Completed row 40/2093 - 1.91% completed\n",
            "Completed row 41/2093 - 1.96% completed\n",
            "Completed row 42/2093 - 2.01% completed\n",
            "Completed row 43/2093 - 2.05% completed\n",
            "Error with article on link:  http://online.wsj.com/article/AP71cf5733c2614aeeb19bfdce4ff05c29.html\n",
            "Completed row 45/2093 - 2.15% completed\n",
            "Completed row 46/2093 - 2.20% completed\n",
            "Completed row 47/2093 - 2.25% completed\n",
            "Completed row 48/2093 - 2.29% completed\n",
            "Error with article on link:  http://www.washingtonpost.com/blogs/the-fix/wp/2013/04/05/who-will-be-the-next-republican-senator-to-embrace-gay-marriage/\n",
            "Completed row 50/2093 - 2.39% completed\n",
            "Error with article on link:  http://www.washingtonpost.com/blogs/the-fix/wp/2013/04/05/who-will-be-the-next-republican-senator-to-embrace-gay-marriage/\n",
            "Completed row 52/2093 - 2.48% completed\n",
            "Completed row 53/2093 - 2.53% completed\n",
            "Completed row 54/2093 - 2.58% completed\n",
            "Completed row 55/2093 - 2.63% completed\n",
            "Completed row 56/2093 - 2.68% completed\n",
            "Completed row 57/2093 - 2.72% completed\n",
            "Completed row 58/2093 - 2.77% completed\n",
            "Completed row 59/2093 - 2.82% completed\n",
            "Error with article on link:  http://www.reuters.com/article/2013/11/04/us-usa-senate-gayrights-idUSBRE9A310W20131104\n",
            "Completed row 61/2093 - 2.91% completed\n",
            "Completed row 62/2093 - 2.96% completed\n",
            "Error with article on link:  http://www.chicagotribune.com/news/sns-rt-us-usa-boyscouts-gaysbre9130f2-20130204,0,4740396.story\n",
            "Completed row 64/2093 - 3.06% completed\n",
            "Completed row 65/2093 - 3.11% completed\n",
            "Error with article on link:  http://www.chicagotribune.com/news/columnists/ct-met-kass-0627-20130627,0,1788941.column\n",
            "Completed row 67/2093 - 3.20% completed\n",
            "Completed row 68/2093 - 3.25% completed\n",
            "Completed row 69/2093 - 3.30% completed\n",
            "Completed row 70/2093 - 3.34% completed\n",
            "Completed row 71/2093 - 3.39% completed\n",
            "Completed row 72/2093 - 3.44% completed\n",
            "Completed row 73/2093 - 3.49% completed\n",
            "Completed row 74/2093 - 3.54% completed\n",
            "Completed row 75/2093 - 3.58% completed\n",
            "Completed row 76/2093 - 3.63% completed\n",
            "Completed row 77/2093 - 3.68% completed\n",
            "Completed row 78/2093 - 3.73% completed\n",
            "Completed row 79/2093 - 3.77% completed\n",
            "Completed row 80/2093 - 3.82% completed\n",
            "Error with article on link:  http://www.breitbart.com/Big-Government/2013/09/05/Conservatives-Rallying-To-Exempt-America\n",
            "Completed row 82/2093 - 3.92% completed\n",
            "Completed row 83/2093 - 3.97% completed\n",
            "Completed row 84/2093 - 4.01% completed\n",
            "Error with article on link:  http://www.chicagotribune.com/news/opinion/editorials/ct-edit-budget-20130411,0,6534161.story\n",
            "Completed row 86/2093 - 4.11% completed\n",
            "Completed row 87/2093 - 4.16% completed\n",
            "Completed row 88/2093 - 4.20% completed\n",
            "Error with article on link:  http://www.washingtonpost.com/politics/sen-cruz-continues-night-long-attack-on-obamacare/2013/09/25/5ea2f6ae-25ae-11e3-b75d-5b7f66349852_print.html\n",
            "Completed row 90/2093 - 4.30% completed\n",
            "Error with article on link:  http://www.reuters.com/article/2013/08/31/us-syria-crisis-usa-idUSBRE97T0NB20130831\n",
            "Completed row 92/2093 - 4.40% completed\n",
            "Error with article on link:  http://www.reuters.com/article/2013/03/01/us-usa-turkey-idUSBRE9200EB20130301\n",
            "Error with article on link:  http://firstread.nbcnews.com/_news/2013/04/30/17986486-obama-uses-bully-pulpit-to-lecture-out-of-town-republicans\n",
            "Completed row 95/2093 - 4.54% completed\n",
            "Completed row 96/2093 - 4.59% completed\n",
            "Completed row 97/2093 - 4.63% completed\n",
            "Completed row 98/2093 - 4.68% completed\n",
            "Completed row 99/2093 - 4.73% completed\n",
            "Completed row 100/2093 - 4.78% completed\n",
            "Error with article on link:  http://www.reuters.com/article/2013/03/27/us-usa-immigration-senate-idUSBRE92Q17Z20130327\n",
            "Completed row 102/2093 - 4.87% completed\n",
            "Error with article on link:  http://www.reuters.com/article/2013/05/08/us-syria-crisis-idUSBRE9470FV20130508\n",
            "Error with article on link:  http://www.washingtonpost.com/politics/intelligence-leaders-push-back-on-leakers-media/2013/06/09/fff80160-d122-11e2-a73e-826d299ff459_print.html\n",
            "Completed row 105/2093 - 5.02% completed\n",
            "Completed row 106/2093 - 5.06% completed\n",
            "Error with article on link:  http://www.chicagotribune.com/news/columnists/ct-met-kass-0127-20130127,0,3653893,full.column\n",
            "Completed row 108/2093 - 5.16% completed\n",
            "Completed row 109/2093 - 5.21% completed\n",
            "Completed row 110/2093 - 5.26% completed\n",
            "Completed row 111/2093 - 5.30% completed\n",
            "Completed row 112/2093 - 5.35% completed\n",
            "Completed row 113/2093 - 5.40% completed\n",
            "Completed row 114/2093 - 5.45% completed\n",
            "Completed row 115/2093 - 5.49% completed\n",
            "Error with article on link:  http://www.reuters.com/article/2013/06/18/usa-irs-teaparty-idUSL2N0EU1BV20130618\n",
            "Completed row 117/2093 - 5.59% completed\n",
            "Completed row 118/2093 - 5.64% completed\n",
            "Error with article on link:  http://www.chicagotribune.com/news/columnists/sns-201305131600--tms--cthomastq--b-a20130514-20130514,0,3145996.column\n",
            "Completed row 120/2093 - 5.73% completed\n",
            "Error with article on link:  http://www.washingtonpost.com/politics/fbi-probing-allegations-sen-menendez-patronized-prostitutes-in-dominican/2013/02/15/49b64e7c-77c5-11e2-8f84-3e4b513b1a13_print.html\n",
            "Completed row 122/2093 - 5.83% completed\n",
            "Completed row 123/2093 - 5.88% completed\n",
            "Completed row 124/2093 - 5.92% completed\n",
            "Completed row 125/2093 - 5.97% completed\n",
            "Completed row 126/2093 - 6.02% completed\n",
            "Completed row 127/2093 - 6.07% completed\n",
            "Completed row 128/2093 - 6.12% completed\n",
            "Completed row 129/2093 - 6.16% completed\n",
            "Error with article on link:  http://nbcpolitics.nbcnews.com/_news/2013/02/12/16942954-rubio-response-presents-friendlier-gop\n",
            "Completed row 131/2093 - 6.26% completed\n",
            "Completed row 132/2093 - 6.31% completed\n",
            "Completed row 133/2093 - 6.35% completed\n",
            "Completed row 134/2093 - 6.40% completed\n",
            "Completed row 135/2093 - 6.45% completed\n",
            "Completed row 136/2093 - 6.50% completed\n",
            "Completed row 137/2093 - 6.55% completed\n",
            "Completed row 138/2093 - 6.59% completed\n",
            "Completed row 139/2093 - 6.64% completed\n",
            "Error with article on link:  http://www.washingtonpost.com/blogs/right-turn/wp/2013/11/24/now-its-the-senates-turn-to-be-dysfunctional/\n",
            "Completed row 141/2093 - 6.74% completed\n",
            "Completed row 142/2093 - 6.78% completed\n",
            "Completed row 143/2093 - 6.83% completed\n",
            "Error with article on link:  http://www.washingtonpost.com/politics/obama-has-problems-but-what-has-the-gop-done-since-november/2013/05/03/832c4f8c-b404-11e2-bbf2-a6f9e9d79e19_story.html\n",
            "Completed row 145/2093 - 6.93% completed\n",
            "Completed row 146/2093 - 6.98% completed\n",
            "Completed row 147/2093 - 7.02% completed\n",
            "Completed row 148/2093 - 7.07% completed\n",
            "Completed row 149/2093 - 7.12% completed\n",
            "Completed row 150/2093 - 7.17% completed\n",
            "Completed row 151/2093 - 7.21% completed\n",
            "Completed row 152/2093 - 7.26% completed\n",
            "Completed row 153/2093 - 7.31% completed\n",
            "Completed row 154/2093 - 7.36% completed\n",
            "Completed row 155/2093 - 7.41% completed\n",
            "Error with article on link:  http://www.foxnews.com/on-air/oreilly/2013/11/01/bill-oreilly-end-justifying-means\n",
            "Completed row 157/2093 - 7.50% completed\n",
            "Completed row 158/2093 - 7.55% completed\n",
            "Completed row 159/2093 - 7.60% completed\n",
            "Completed row 160/2093 - 7.64% completed\n",
            "Completed row 161/2093 - 7.69% completed\n",
            "Completed row 162/2093 - 7.74% completed\n",
            "Completed row 163/2093 - 7.79% completed\n",
            "Completed row 164/2093 - 7.84% completed\n",
            "Completed row 165/2093 - 7.88% completed\n",
            "Error with article on link:  http://www.reuters.com/article/2013/12/29/us-usa-healthcare-ceo-idUSBRE9BS04Y20131229\n",
            "Completed row 167/2093 - 7.98% completed\n",
            "Completed row 168/2093 - 8.03% completed\n",
            "Completed row 169/2093 - 8.07% completed\n",
            "Completed row 170/2093 - 8.12% completed\n",
            "Completed row 171/2093 - 8.17% completed\n",
            "Completed row 172/2093 - 8.22% completed\n",
            "Completed row 173/2093 - 8.27% completed\n",
            "Error with article on link:  http://www.foxnews.com/on-air/oreilly/2013/11/05/bill-oreilly-why-folks-are-angry-about-obamacare\n",
            "Completed row 175/2093 - 8.36% completed\n",
            "Error with article on link:  http://www.breitbart.com/Big-Government/2013/10/11/The-True-Purpose-Of-ObamaCare-A-Single-Payer-Trojan-Horse\n",
            "Completed row 177/2093 - 8.46% completed\n",
            "Error with article on link:  http://www.washingtonpost.com/blogs/plum-line/wp/2013/12/31/stunning-new-report-undermines-central-gop-obamacare-claim/\n",
            "Error with article on link:  http://www.chicagotribune.com/news/columnists/ct-met-kass-0503-20130503,0,4218360.column\n",
            "Completed row 180/2093 - 8.60% completed\n",
            "Completed row 181/2093 - 8.65% completed\n",
            "Error with article on link:  http://www.washingtonpost.com/blogs/the-fix/wp/2013/05/10/why-benghazi-is-a-perfect-political-storm-for-republicans/\n",
            "Completed row 183/2093 - 8.74% completed\n",
            "Completed row 184/2093 - 8.79% completed\n",
            "Error with article on link:  http://www.reuters.com/article/2013/12/18/us-usa-india-idUSBRE9BH0DD20131218\n",
            "Completed row 186/2093 - 8.89% completed\n",
            "Completed row 187/2093 - 8.93% completed\n",
            "Completed row 188/2093 - 8.98% completed\n",
            "Completed row 189/2093 - 9.03% completed\n",
            "Completed row 190/2093 - 9.08% completed\n",
            "Completed row 191/2093 - 9.13% completed\n",
            "Error with article on link:  http://online.wsj.com/news/article_email/SB10001424052702303902404579152082961445984-lMyQjAxMTAzMDIwNDEyNDQyWj\n",
            "Completed row 193/2093 - 9.22% completed\n",
            "Completed row 194/2093 - 9.27% completed\n",
            "Completed row 195/2093 - 9.32% completed\n",
            "Completed row 196/2093 - 9.36% completed\n",
            "Error with article on link:  http://www.washingtonpost.com/local/crime/metro-billboard-advocating-jury-nullification-concerns-local-prosecutors/2013/10/29/fe53edbc-3da9-11e3-a94f-b58017bfee6c_story.html\n",
            "Completed row 198/2093 - 9.46% completed\n",
            "Completed row 199/2093 - 9.51% completed\n",
            "Completed row 200/2093 - 9.56% completed\n",
            "Completed row 201/2093 - 9.60% completed\n",
            "Completed row 202/2093 - 9.65% completed\n",
            "Completed row 203/2093 - 9.70% completed\n",
            "Completed row 204/2093 - 9.75% completed\n",
            "Error with article on link:  http://www.washingtonpost.com/politics/obama-responds-to-heckler-on-immigration-reform-it-wont-be-as-easy-as-shouting/2013/11/25/19129ec6-5611-11e3-ba82-16ed03681809_story.html\n",
            "Completed row 206/2093 - 9.84% completed\n",
            "Completed row 207/2093 - 9.89% completed\n",
            "Completed row 208/2093 - 9.94% completed\n",
            "Completed row 209/2093 - 9.99% completed\n",
            "Error with article on link:  http://www.breitbart.com/Big-Government/2013/07/14/March-For-Jobs-to-hear-from-American-people-over-special-interest-groups-on-amnesty-with-special-Breitbart-News-broadcast\n",
            "Error with article on link:  http://www.washingtonpost.com/blogs/right-turn/wp/2013/04/26/obamas-faa-collapse/\n",
            "Completed row 212/2093 - 10.13% completed\n",
            "Completed row 213/2093 - 10.18% completed\n",
            "Completed row 214/2093 - 10.22% completed\n",
            "Completed row 215/2093 - 10.27% completed\n",
            "Completed row 216/2093 - 10.32% completed\n",
            "Completed row 217/2093 - 10.37% completed\n",
            "Completed row 218/2093 - 10.42% completed\n",
            "Completed row 219/2093 - 10.46% completed\n",
            "Completed row 220/2093 - 10.51% completed\n",
            "Completed row 221/2093 - 10.56% completed\n",
            "Completed row 222/2093 - 10.61% completed\n",
            "Completed row 223/2093 - 10.65% completed\n",
            "Completed row 224/2093 - 10.70% completed\n",
            "Completed row 225/2093 - 10.75% completed\n",
            "Completed row 226/2093 - 10.80% completed\n",
            "Error with article on link:  http://www.washingtonpost.com/blogs/post-politics/wp/2013/10/26/in-iowa-speech-ted-cruz-warns-democrats-on-shutdown/\n",
            "Completed row 228/2093 - 10.89% completed\n",
            "Completed row 229/2093 - 10.94% completed\n",
            "Completed row 230/2093 - 10.99% completed\n",
            "Completed row 231/2093 - 11.04% completed\n",
            "Error with article on link:  http://nbcpolitics.nbcnews.com/_news/2013/11/05/21322438-democrat-mcauliffe-narrowly-wins-virginia-governors-race\n",
            "Completed row 233/2093 - 11.13% completed\n",
            "Error with article on link:  http://www.washingtonpost.com/blogs/govbeat/wp/2013/11/27/is-another-republican-wave-building/\n",
            "Completed row 235/2093 - 11.23% completed\n",
            "Error with article on link:  http://www.breitbart.com/Big-Government/2013/08/19/Millennial-Generation-Is-Abandoning-Liberalism\n",
            "Error with article on link:  http://www.washingtonpost.com/opinions/colbert-king-the-republican-pity-party/2013/01/25/02cd36d0-667a-11e2-9e1b-07db1d2ccd5b_story.html\n",
            "Completed row 238/2093 - 11.37% completed\n",
            "Completed row 239/2093 - 11.42% completed\n",
            "Completed row 240/2093 - 11.47% completed\n",
            "Completed row 241/2093 - 11.51% completed\n",
            "Completed row 242/2093 - 11.56% completed\n",
            "Error with article on link:  http://www.foxnews.com/politics/2013/12/15/ryan-defends-budget-compromise-before-final-senate-vote-set-for-this-week/\n",
            "Completed row 244/2093 - 11.66% completed\n",
            "Error with article on link:  http://www.washingtonpost.com/blogs/the-fix/wp/2013/02/01/americans-to-washington-dont-tread-on-me/\n",
            "Error with article on link:  http://www.washingtonpost.com/blogs/govbeat/wp/2013/11/27/is-another-republican-wave-building/\n",
            "Completed row 247/2093 - 11.80% completed\n",
            "Completed row 248/2093 - 11.85% completed\n",
            "Completed row 249/2093 - 11.90% completed\n",
            "Completed row 250/2093 - 11.94% completed\n",
            "Completed row 251/2093 - 11.99% completed\n",
            "Completed row 252/2093 - 12.04% completed\n",
            "Completed row 253/2093 - 12.09% completed\n",
            "Completed row 254/2093 - 12.14% completed\n",
            "Completed row 255/2093 - 12.18% completed\n",
            "Completed row 256/2093 - 12.23% completed\n",
            "Error with article on link:  http://www.washingtonpost.com/blogs/the-fix/wp/2013/01/16/how-president-obamas-executive-orders-on-guns-might-doom-a-big-bill/\n",
            "Completed row 258/2093 - 12.33% completed\n",
            "Completed row 259/2093 - 12.37% completed\n",
            "Error with article on link:  http://www.washingtonpost.com/opinions/kathleen-parker-the-gops-lose-lose-proposition/2013/09/27/c83c78ea-27a4-11e3-ad0d-b7c8d2a594b9_story.html\n",
            "Completed row 261/2093 - 12.47% completed\n",
            "Completed row 262/2093 - 12.52% completed\n",
            "Completed row 263/2093 - 12.57% completed\n",
            "Completed row 264/2093 - 12.61% completed\n",
            "Completed row 265/2093 - 12.66% completed\n",
            "Completed row 266/2093 - 12.71% completed\n",
            "Completed row 267/2093 - 12.76% completed\n",
            "Completed row 268/2093 - 12.80% completed\n",
            "Completed row 269/2093 - 12.85% completed\n",
            "Completed row 270/2093 - 12.90% completed\n",
            "Completed row 271/2093 - 12.95% completed\n",
            "Completed row 272/2093 - 13.00% completed\n",
            "Error with article on link:  http://nbcpolitics.nbcnews.com/_news/2013/09/26/20706381-obama-rebukes-irresponsible-republicans-in-health-care-speech\n",
            "Error with article on link:  http://www.breitbart.com/Big-Government/2013/12/11/Did-They-or-Didnt-They-Meet\n",
            "Completed row 275/2093 - 13.14% completed\n",
            "Completed row 276/2093 - 13.19% completed\n",
            "Completed row 277/2093 - 13.23% completed\n",
            "Completed row 278/2093 - 13.28% completed\n",
            "Completed row 279/2093 - 13.33% completed\n",
            "Error with article on link:  http://www.breitbart.com/Big-Government/2013/08/03/Analysis-Obamacare-Gutting-Middle-Class\n",
            "Completed row 281/2093 - 13.43% completed\n",
            "Completed row 282/2093 - 13.47% completed\n",
            "Completed row 283/2093 - 13.52% completed\n",
            "Error with article on link:  http://www.reuters.com/article/2013/03/03/us-usa-fiscal-idUSBRE91P0W220130303\n",
            "Completed row 285/2093 - 13.62% completed\n",
            "Error with article on link:  http://www.breitbart.com/Big-Government/2013/09/19/Congressman-Close-to-250-House-members-ready-to-vote-to-defund-Obamacare-on-Friday\n",
            "Completed row 287/2093 - 13.71% completed\n",
            "Completed row 288/2093 - 13.76% completed\n",
            "Completed row 289/2093 - 13.81% completed\n",
            "Error with article on link:  http://www.reuters.com/article/2013/10/20/us-usa-healthcare-lew-idUSBRE99J04620131020\n",
            "Completed row 291/2093 - 13.90% completed\n",
            "Completed row 292/2093 - 13.95% completed\n",
            "Completed row 293/2093 - 14.00% completed\n",
            "Completed row 294/2093 - 14.05% completed\n",
            "Error with article on link:  http://news.yahoo.com/obama-blasts-government-shutdown-threat-gop-wants-individual-181621512--abc-news-politics.html\n",
            "Completed row 296/2093 - 14.14% completed\n",
            "Completed row 297/2093 - 14.19% completed\n",
            "Completed row 298/2093 - 14.24% completed\n",
            "Error with article on link:  http://www.washingtonpost.com/politics/sen-cruz-speaks-at-length-against-obamacare/2013/09/24/8d1d1c44-2531-11e3-b75d-5b7f66349852_story.html\n",
            "Error with article on link:  http://www.washingtonpost.com/politics/sen-cruz-continues-night-long-attack-on-obamacare/2013/09/25/5ea2f6ae-25ae-11e3-b75d-5b7f66349852_print.html\n",
            "Error with article on link:  http://www.washingtonpost.com/national/health-science/gop-governors-endorsements-of-medicaid-expansion-deepen-rifts-within-party/2013/06/02/b4a42eb8-c7b9-11e2-9245-773c0123c027_story.html\n",
            "Completed row 302/2093 - 14.43% completed\n",
            "Error with article on link:  http://www.breitbart.com/Big-Government/2013/09/13/A-Battle-Won-But-The-War-Continues-To-Defund-Obamacare\n",
            "Completed row 304/2093 - 14.52% completed\n",
            "Completed row 305/2093 - 14.57% completed\n",
            "Error with article on link:  http://www.washingtonpost.com/opinions/ruth-marcus-obamas-style-on-syria-needs-refashioning/2013/09/16/861b8bba-1efb-11e3-94a2-6c66b668ea55_story.html\n",
            "Error with article on link:  http://www.reuters.com/article/2013/06/28/us-obama-africa-idUSBRE95R04220130628\n",
            "Completed row 308/2093 - 14.72% completed\n",
            "Completed row 309/2093 - 14.76% completed\n",
            "Error with article on link:  http://takingnote.blogs.nytimes.com/2013/06/14/g-o-p-spendthrifts-preserve-government-expansion/\n",
            "Completed row 311/2093 - 14.86% completed\n",
            "Completed row 312/2093 - 14.91% completed\n",
            "Completed row 313/2093 - 14.95% completed\n",
            "Completed row 314/2093 - 15.00% completed\n",
            "Completed row 315/2093 - 15.05% completed\n",
            "Completed row 316/2093 - 15.10% completed\n",
            "Completed row 317/2093 - 15.15% completed\n",
            "Error with article on link:  http://uk.reuters.com/article/2013/10/03/uk-usa-fiscal-idUKBRE98T0Q220131003\n",
            "Completed row 319/2093 - 15.24% completed\n",
            "Completed row 320/2093 - 15.29% completed\n",
            "Completed row 321/2093 - 15.34% completed\n",
            "Error with article on link:  http://www.washingtonpost.com/opinions/five-myths-about-wal-mart/2013/07/12/59bcb04a-ea39-11e2-a301-ea5a8116d211_story.html\n",
            "Completed row 323/2093 - 15.43% completed\n",
            "Completed row 324/2093 - 15.48% completed\n",
            "Error with article on link:  http://www.washingtonpost.com/politics/boehner-escalates-feud-with-conservative-groups-as-vote-on-budget-bill-looms/2013/12/12/3986871c-634f-11e3-91b3-f2bb96304e34_story.html\n",
            "Completed row 326/2093 - 15.58% completed\n",
            "Completed row 327/2093 - 15.62% completed\n",
            "Completed row 328/2093 - 15.67% completed\n",
            "Completed row 329/2093 - 15.72% completed\n",
            "Completed row 330/2093 - 15.77% completed\n",
            "Completed row 331/2093 - 15.81% completed\n",
            "Completed row 332/2093 - 15.86% completed\n",
            "Completed row 333/2093 - 15.91% completed\n",
            "Completed row 334/2093 - 15.96% completed\n",
            "Completed row 335/2093 - 16.01% completed\n",
            "Completed row 336/2093 - 16.05% completed\n",
            "Completed row 337/2093 - 16.10% completed\n",
            "Completed row 338/2093 - 16.15% completed\n",
            "Error with article on link:  http://www.washingtonpost.com/opinions/ej-dionne-holder-fights-back-on-voting-rights/2013/07/28/7dd2489e-f7c4-11e2-8e84-c56731a202fb_story.html\n",
            "Error with article on link:  http://www.washingtonpost.com/blogs/the-fix/wp/2013/07/31/gop-finds-its-own-war-on-women/\n",
            "Error with article on link:  http://www.reuters.com/article/2013/06/16/us-usa-immigration-idUSBRE95F0CN20130616\n",
            "Completed row 342/2093 - 16.34% completed\n",
            "Completed row 343/2093 - 16.39% completed\n",
            "Completed row 344/2093 - 16.44% completed\n",
            "Completed row 345/2093 - 16.48% completed\n",
            "Completed row 346/2093 - 16.53% completed\n",
            "Completed row 347/2093 - 16.58% completed\n",
            "Completed row 348/2093 - 16.63% completed\n",
            "Completed row 349/2093 - 16.67% completed\n",
            "Error with article on link:  http://www.washingtonpost.com/blogs/plum-line/wp/2013/06/13/if-immigration-reform-dies-latinos-will-likely-blame-gop-bigotry/\n",
            "Completed row 351/2093 - 16.77% completed\n",
            "Completed row 352/2093 - 16.82% completed\n",
            "Completed row 353/2093 - 16.87% completed\n",
            "Completed row 354/2093 - 16.91% completed\n",
            "Completed row 355/2093 - 16.96% completed\n",
            "Completed row 356/2093 - 17.01% completed\n",
            "Error with article on link:  http://in.reuters.com/article/2013/11/21/usa-senate-nominees-idINL2N0J612C20131121\n",
            "Error with article on link:  http://www.washingtonpost.com/local/va-politics/fairfax-sen-petersen-to-gov-mcdonnell-explain-gifts-or-resign/2013/07/02/7ccb28ba-e32b-11e2-aef3-339619eab080_story.html\n",
            "Completed row 359/2093 - 17.15% completed\n",
            "Error with article on link:  http://www.washingtonpost.com/blogs/federal-eye/wp/2013/09/13/republicans-say-irs-e-mails-from-lois-lerner-show-abuse-of-power/\n",
            "Completed row 361/2093 - 17.25% completed\n",
            "Completed row 362/2093 - 17.30% completed\n",
            "Error with article on link:  http://www.breitbart.com/Big-Government/2013/11/13/nuclear-option-democrats-not-gop-facing-looming-civil-war\n",
            "Completed row 364/2093 - 17.39% completed\n",
            "Completed row 365/2093 - 17.44% completed\n",
            "Completed row 366/2093 - 17.49% completed\n",
            "Completed row 367/2093 - 17.53% completed\n",
            "Completed row 368/2093 - 17.58% completed\n",
            "Completed row 369/2093 - 17.63% completed\n",
            "Completed row 370/2093 - 17.68% completed\n",
            "Completed row 371/2093 - 17.73% completed\n",
            "Completed row 372/2093 - 17.77% completed\n",
            "Completed row 373/2093 - 17.82% completed\n",
            "Completed row 374/2093 - 17.87% completed\n",
            "Error with article on link:  http://www.reuters.com/article/2013/07/30/us-usa-obama-idUSBRE96T0F820130730\n",
            "Completed row 376/2093 - 17.96% completed\n",
            "Completed row 377/2093 - 18.01% completed\n",
            "Completed row 378/2093 - 18.06% completed\n",
            "Completed row 379/2093 - 18.11% completed\n",
            "Completed row 380/2093 - 18.16% completed\n",
            "Completed row 381/2093 - 18.20% completed\n",
            "Completed row 382/2093 - 18.25% completed\n",
            "Completed row 383/2093 - 18.30% completed\n",
            "Completed row 384/2093 - 18.35% completed\n",
            "Completed row 385/2093 - 18.39% completed\n",
            "Completed row 386/2093 - 18.44% completed\n",
            "Error with article on link:  http://www.washingtonpost.com/opinions/eugene-robinson-bushs-legacy-keeps-getting-worse/2013/04/25/2dc44526-add9-11e2-8bf6-e70cb6ae066e_print.html\n",
            "Completed row 388/2093 - 18.54% completed\n",
            "Error with article on link:  http://www.chicagotribune.com/business/breaking/chi-january-jobs-report-20130201,0,5155643.story\n",
            "Completed row 390/2093 - 18.63% completed\n",
            "Completed row 391/2093 - 18.68% completed\n",
            "Completed row 392/2093 - 18.73% completed\n",
            "Completed row 393/2093 - 18.78% completed\n",
            "Error with article on link:  http://www.washingtonpost.com/opinions/support-for-gun-control-helped-a-candidate-win-in-virginia/2013/12/01/42ec3704-5943-11e3-ba82-16ed03681809_story.html\n",
            "Completed row 395/2093 - 18.87% completed\n",
            "Error with article on link:  http://www.washingtonpost.com/blogs/plum-line/wp/2013/02/11/the-problem-runs-a-lot-deeper-than-ted-nugent/\n",
            "Completed row 397/2093 - 18.97% completed\n",
            "Completed row 398/2093 - 19.02% completed\n",
            "Completed row 399/2093 - 19.06% completed\n",
            "Completed row 400/2093 - 19.11% completed\n",
            "Completed row 401/2093 - 19.16% completed\n",
            "Completed row 402/2093 - 19.21% completed\n",
            "Error with article on link:  http://www.washingtonpost.com/politics/with-legacy-on-the-line-obama-touts-health-care-implementation/2013/07/18/71171d22-efd2-11e2-a1f9-ea873b7e0424_story.html\n",
            "Error with article on link:  http://www.reuters.com/article/2013/08/12/us-usa-healthcare-donor-idUSBRE97B04220130812\n",
            "Error with article on link:  http://www.chicagotribune.com/news/opinion/sns-201307051400--tms--poltodayctnyq-a20130707-20130707,0,5950507.column\n",
            "Completed row 406/2093 - 19.40% completed\n",
            "Completed row 407/2093 - 19.45% completed\n",
            "Completed row 408/2093 - 19.49% completed\n",
            "Completed row 409/2093 - 19.54% completed\n",
            "Error with article on link:  http://www.breitbart.com/Big-Journalism/2013/12/19/Daily-Beast-Obamacare-Spawning-White-Flight-Could-Cost-Dems-Senate\n",
            "Completed row 411/2093 - 19.64% completed\n",
            "Completed row 412/2093 - 19.68% completed\n",
            "Completed row 413/2093 - 19.73% completed\n",
            "Completed row 414/2093 - 19.78% completed\n",
            "Completed row 415/2093 - 19.83% completed\n",
            "Completed row 416/2093 - 19.88% completed\n",
            "Completed row 417/2093 - 19.92% completed\n",
            "Completed row 418/2093 - 19.97% completed\n",
            "Completed row 419/2093 - 20.02% completed\n",
            "Completed row 420/2093 - 20.07% completed\n",
            "Completed row 421/2093 - 20.11% completed\n",
            "Completed row 422/2093 - 20.16% completed\n",
            "Completed row 423/2093 - 20.21% completed\n",
            "Completed row 424/2093 - 20.26% completed\n",
            "Completed row 425/2093 - 20.31% completed\n",
            "Completed row 426/2093 - 20.35% completed\n",
            "Completed row 427/2093 - 20.40% completed\n",
            "Completed row 428/2093 - 20.45% completed\n",
            "Error with article on link:  http://www.washingtonpost.com/blogs/plum-line/wp/2013/09/09/no-a-loss-on-syria-would-not-destroy-the-obama-presidency/\n",
            "Completed row 430/2093 - 20.54% completed\n",
            "Completed row 431/2093 - 20.59% completed\n",
            "Completed row 432/2093 - 20.64% completed\n",
            "Completed row 433/2093 - 20.69% completed\n",
            "Completed row 434/2093 - 20.74% completed\n",
            "Error with article on link:  http://www.washingtonpost.com/blogs/the-fix/wp/2013/10/24/why-obama-is-racing-against-the-clock-on-immigration/\n",
            "Completed row 436/2093 - 20.83% completed\n",
            "Completed row 437/2093 - 20.88% completed\n",
            "Completed row 438/2093 - 20.93% completed\n",
            "Completed row 439/2093 - 20.97% completed\n",
            "Completed row 440/2093 - 21.02% completed\n",
            "Completed row 441/2093 - 21.07% completed\n",
            "Completed row 442/2093 - 21.12% completed\n",
            "Completed row 443/2093 - 21.17% completed\n",
            "Error with article on link:  http://www.washingtonpost.com/blogs/post-politics/wp/2013/03/13/scott-prouty-reveals-himself-as-man-who-shot-47-percent-video/\n",
            "Completed row 445/2093 - 21.26% completed\n",
            "Completed row 446/2093 - 21.31% completed\n",
            "Completed row 447/2093 - 21.36% completed\n",
            "Completed row 448/2093 - 21.40% completed\n",
            "Completed row 449/2093 - 21.45% completed\n",
            "Completed row 450/2093 - 21.50% completed\n",
            "Completed row 451/2093 - 21.55% completed\n",
            "Completed row 452/2093 - 21.60% completed\n",
            "Completed row 453/2093 - 21.64% completed\n",
            "Error with article on link:  http://www.washingtonpost.com/opinions/obama-the-fall/2013/05/02/6fa564c4-b348-11e2-9a98-4be1688d7d84_print.html\n",
            "Error with article on link:  http://www.washingtonpost.com/blogs/plum-line/wp/2013/10/24/happy-hour-roundup-218/\n",
            "Error with article on link:  http://www.reuters.com/article/2013/01/04/us-storm-sandy-aid-idUSBRE90001Q20130104\n",
            "Completed row 457/2093 - 21.83% completed\n",
            "Completed row 458/2093 - 21.88% completed\n",
            "Completed row 459/2093 - 21.93% completed\n",
            "Error with article on link:  http://www.chicagotribune.com/news/politics/chi-no-illinois-pension-deal-20130105,0,7396486.story\n",
            "Completed row 461/2093 - 22.03% completed\n",
            "Error with article on link:  http://www.washingtonpost.com/opinions/dana-milbank-standing-with-rand-nervously/2013/03/19/655c831a-90cc-11e2-9cfd-36d6c9b5d7ad_story.html\n",
            "Error with article on link:  http://www.reuters.com/article/2013/07/22/us-usa-tax-gaymarriage-idUSBRE96L0VZ20130722\n",
            "Completed row 464/2093 - 22.17% completed\n",
            "Completed row 465/2093 - 22.22% completed\n",
            "Error with article on link:  http://www.washingtonpost.com/blogs/the-fix/wp/2013/07/22/how-the-trayvon-martin-case-reveals-our-two-political-americas/\n",
            "Completed row 467/2093 - 22.31% completed\n",
            "Completed row 468/2093 - 22.36% completed\n",
            "Completed row 469/2093 - 22.41% completed\n",
            "Completed row 470/2093 - 22.46% completed\n",
            "Error with article on link:  http://www.breitbart.com/Big-Government/2013/08/09/Democrat-Anti-Gun-Guide-Urged-Using-The-Trayvon-Martin-Killing-To-Silence-NRA\n",
            "Completed row 472/2093 - 22.55% completed\n",
            "Completed row 473/2093 - 22.60% completed\n",
            "Error with article on link:  http://www.washingtonpost.com/opinions/ej-dionne-the-way-forward-on-guns/2013/04/21/ab74052a-a923-11e2-8302-3c7e0ea97057_story.html\n",
            "Completed row 475/2093 - 22.69% completed\n",
            "Completed row 476/2093 - 22.74% completed\n",
            "Completed row 477/2093 - 22.79% completed\n",
            "Completed row 478/2093 - 22.84% completed\n",
            "Completed row 479/2093 - 22.89% completed\n",
            "Completed row 480/2093 - 22.93% completed\n",
            "Completed row 481/2093 - 22.98% completed\n",
            "Completed row 482/2093 - 23.03% completed\n",
            "Completed row 483/2093 - 23.08% completed\n",
            "Completed row 484/2093 - 23.12% completed\n",
            "Completed row 485/2093 - 23.17% completed\n",
            "Completed row 486/2093 - 23.22% completed\n",
            "Completed row 487/2093 - 23.27% completed\n",
            "Completed row 488/2093 - 23.32% completed\n",
            "Completed row 489/2093 - 23.36% completed\n",
            "Error with article on link:  http://www.reuters.com/article/2013/01/09/us-usa-guns-northeast-idUSBRE90818I20130109\n",
            "Error with article on link:  http://news.yahoo.com/gabby-giffords-meets-george-h-w-bush-gun-004815931--abc-news-politics.html\n",
            "Completed row 492/2093 - 23.51% completed\n",
            "Error with article on link:  http://www.chicagotribune.com/news/sns-rt-us-usa-gunsbre93f00d-20130415,0,4643798.story\n",
            "Completed row 494/2093 - 23.60% completed\n",
            "Completed row 495/2093 - 23.65% completed\n",
            "Error with article on link:  http://www.breitbart.com/Big-Government/2013/02/15/Lars-Larson-Missouri-Gun-Control-Proposal-Raises-Constitutional-Problems\n",
            "Error with article on link:  http://www.reuters.com/article/2013/01/16/us-usa-guns-idUSBRE90F0NU20130116\n",
            "Completed row 498/2093 - 23.79% completed\n",
            "Error with article on link:  http://radio.foxnews.com/toddstarnes/top-stories/boy-suspended-for-bringing-swiss-army-knife-on-school-camping-trip.html\n",
            "Completed row 500/2093 - 23.89% completed\n",
            "Completed row 501/2093 - 23.94% completed\n",
            "Completed row 502/2093 - 23.98% completed\n",
            "Error with article on link:  http://www.washingtonpost.com/opinions/support-for-gun-control-helped-a-candidate-win-in-virginia/2013/12/01/42ec3704-5943-11e3-ba82-16ed03681809_story.html\n",
            "Completed row 504/2093 - 24.08% completed\n",
            "Completed row 505/2093 - 24.13% completed\n",
            "Completed row 506/2093 - 24.18% completed\n",
            "Completed row 507/2093 - 24.22% completed\n",
            "Error with article on link:  http://takingnote.blogs.nytimes.com/2013/03/20/baby-steps-on-gun-control/\n",
            "Completed row 509/2093 - 24.32% completed\n",
            "Completed row 510/2093 - 24.37% completed\n",
            "Completed row 511/2093 - 24.41% completed\n",
            "Completed row 512/2093 - 24.46% completed\n",
            "Completed row 513/2093 - 24.51% completed\n",
            "Error with article on link:  http://www.foxnews.com/us/2013/11/08/shakeup-at-guns-ammo-after-gun-control-editorial-backfires/\n",
            "Completed row 515/2093 - 24.61% completed\n",
            "Completed row 516/2093 - 24.65% completed\n",
            "Completed row 517/2093 - 24.70% completed\n",
            "Completed row 518/2093 - 24.75% completed\n",
            "Completed row 519/2093 - 24.80% completed\n",
            "Completed row 520/2093 - 24.84% completed\n",
            "Completed row 521/2093 - 24.89% completed\n",
            "Completed row 522/2093 - 24.94% completed\n",
            "Completed row 523/2093 - 24.99% completed\n",
            "Completed row 524/2093 - 25.04% completed\n",
            "Completed row 525/2093 - 25.08% completed\n",
            "Completed row 526/2093 - 25.13% completed\n",
            "Completed row 527/2093 - 25.18% completed\n",
            "Completed row 528/2093 - 25.23% completed\n",
            "Completed row 529/2093 - 25.27% completed\n",
            "Completed row 530/2093 - 25.32% completed\n",
            "Completed row 531/2093 - 25.37% completed\n",
            "Completed row 532/2093 - 25.42% completed\n",
            "Completed row 533/2093 - 25.47% completed\n",
            "Completed row 534/2093 - 25.51% completed\n",
            "Completed row 535/2093 - 25.56% completed\n",
            "Completed row 536/2093 - 25.61% completed\n",
            "Error with article on link:  http://www.foxnews.com/politics/2013/04/30/liberal-frustrations-grow-after-100-days-obama-20/\n",
            "Completed row 538/2093 - 25.70% completed\n",
            "Completed row 539/2093 - 25.75% completed\n",
            "Completed row 540/2093 - 25.80% completed\n",
            "Completed row 541/2093 - 25.85% completed\n",
            "Completed row 542/2093 - 25.90% completed\n",
            "Completed row 543/2093 - 25.94% completed\n",
            "Completed row 544/2093 - 25.99% completed\n",
            "Completed row 545/2093 - 26.04% completed\n",
            "Completed row 546/2093 - 26.09% completed\n",
            "Error with article on link:  http://www.breitbart.com/Big-Government/2013/02/26/Ex-offender-McKinley-wins-Illinois-GOP-Primary-to-Replace-Jesse-Jackson-Jr\n",
            "Completed row 548/2093 - 26.18% completed\n",
            "Completed row 549/2093 - 26.23% completed\n",
            "Error with article on link:  http://www.washingtonpost.com/blogs/the-fix/wp/2013/07/15/everything-you-need-to-know-about-stand-your-ground-laws/\n",
            "Completed row 551/2093 - 26.33% completed\n",
            "Completed row 552/2093 - 26.37% completed\n",
            "Error with article on link:  http://fr.news.yahoo.com/washington-fusillade-bureaux-lus-navy-au-moins-12-191706481.html\n",
            "Completed row 554/2093 - 26.47% completed\n",
            "Completed row 555/2093 - 26.52% completed\n",
            "Completed row 556/2093 - 26.56% completed\n",
            "Completed row 557/2093 - 26.61% completed\n",
            "Completed row 558/2093 - 26.66% completed\n",
            "Completed row 559/2093 - 26.71% completed\n",
            "Completed row 560/2093 - 26.76% completed\n",
            "Completed row 561/2093 - 26.80% completed\n",
            "Completed row 562/2093 - 26.85% completed\n",
            "Error with article on link:  http://www.foxnews.com/politics/2013/11/13/threat-plastic-guns-grows-as-undetectable-firearm-law-set-to-expire/\n",
            "Completed row 564/2093 - 26.95% completed\n",
            "Completed row 565/2093 - 26.99% completed\n",
            "Completed row 566/2093 - 27.04% completed\n",
            "Completed row 567/2093 - 27.09% completed\n",
            "Completed row 568/2093 - 27.14% completed\n",
            "Completed row 569/2093 - 27.19% completed\n",
            "Error with article on link:  http://www.reuters.com/article/2013/10/28/us-usa-abortions-texas-idUSBRE99R12M20131028\n",
            "Completed row 571/2093 - 27.28% completed\n",
            "Completed row 572/2093 - 27.33% completed\n",
            "Error with article on link:  http://www.reuters.com/article/2013/07/10/us-usa-abortion-texas-idUSBRE96805G20130710\n",
            "Completed row 574/2093 - 27.42% completed\n",
            "Completed row 575/2093 - 27.47% completed\n",
            "Completed row 576/2093 - 27.52% completed\n",
            "Completed row 577/2093 - 27.57% completed\n",
            "Error with article on link:  http://www.washingtonpost.com/politics/basics-of-the-government-deal-beyond-the-rhetoric/2013/10/16/636029a6-3692-11e3-ae46-e4248e75c8ea_story.html\n",
            "Completed row 579/2093 - 27.66% completed\n",
            "Completed row 580/2093 - 27.71% completed\n",
            "Error with article on link:  http://www.reuters.com/article/2013/10/11/us-usa-fiscal-idUSBRE98N11220131011\n",
            "Completed row 582/2093 - 27.81% completed\n",
            "Error with article on link:  http://www.washingtonpost.com/blogs/plum-line/wp/2013/03/05/more-evidence-gop-isnt-serious-about-reform/\n",
            "Completed row 584/2093 - 27.90% completed\n",
            "Completed row 585/2093 - 27.95% completed\n",
            "Completed row 586/2093 - 28.00% completed\n",
            "Error with article on link:  http://www.chicagotribune.com/news/columnists/ct-met-kass-1003-20131003,0,417264.column\n",
            "Completed row 588/2093 - 28.09% completed\n",
            "Completed row 589/2093 - 28.14% completed\n",
            "Completed row 590/2093 - 28.19% completed\n",
            "Completed row 591/2093 - 28.24% completed\n",
            "Error with article on link:  http://www.reuters.com/article/2013/09/19/us-usa-fiscal-idUSBRE98G0YI20130919\n",
            "Completed row 593/2093 - 28.33% completed\n",
            "Completed row 594/2093 - 28.38% completed\n",
            "Completed row 595/2093 - 28.43% completed\n",
            "Completed row 596/2093 - 28.48% completed\n",
            "Completed row 597/2093 - 28.52% completed\n",
            "Completed row 598/2093 - 28.57% completed\n",
            "Completed row 599/2093 - 28.62% completed\n",
            "Completed row 600/2093 - 28.67% completed\n",
            "Completed row 601/2093 - 28.71% completed\n",
            "Completed row 602/2093 - 28.76% completed\n",
            "Error with article on link:  http://www.washingtonpost.com/opinions/eric-cantor-divided-government-requires-bipartisan-negotiation/2013/10/08/98f6b7e6-3062-11e3-bbed-a8a60c601153_print.html\n",
            "Completed row 604/2093 - 28.86% completed\n",
            "Error with article on link:  http://www.reuters.com/article/2013/09/27/us-usa-fiscal-idUSBRE98N11220130927\n",
            "Completed row 606/2093 - 28.95% completed\n",
            "Completed row 607/2093 - 29.00% completed\n",
            "Completed row 608/2093 - 29.05% completed\n",
            "Completed row 609/2093 - 29.10% completed\n",
            "Completed row 610/2093 - 29.14% completed\n",
            "Error with article on link:  http://www.chicagotribune.com/news/local/breaking/chi-first-lady-brings-campaign-for-physical-education-to-chicago-20130228,0,5621863.story\n",
            "Completed row 612/2093 - 29.24% completed\n",
            "Error with article on link:  http://www.washingtonpost.com/politics/basics-of-the-government-deal-beyond-the-rhetoric/2013/10/16/636029a6-3692-11e3-ae46-e4248e75c8ea_story.html\n",
            "Completed row 614/2093 - 29.34% completed\n",
            "Error with article on link:  http://www.washingtonpost.com/opinions/eugene-robinson-the-gop-in-a-mood-to-fight/2013/12/26/a892fbec-6e74-11e3-aecc-85cb037b7236_story.html\n",
            "Completed row 616/2093 - 29.43% completed\n",
            "Completed row 617/2093 - 29.48% completed\n",
            "Error with article on link:  http://www.reuters.com/article/2013/11/17/us-usa-healthcare-politics-analysis-idUSBRE9AG0G920131117\n",
            "Completed row 619/2093 - 29.57% completed\n",
            "Completed row 620/2093 - 29.62% completed\n",
            "Completed row 621/2093 - 29.67% completed\n",
            "Completed row 622/2093 - 29.72% completed\n",
            "Completed row 623/2093 - 29.77% completed\n",
            "Completed row 624/2093 - 29.81% completed\n",
            "Completed row 625/2093 - 29.86% completed\n",
            "Completed row 626/2093 - 29.91% completed\n",
            "Completed row 627/2093 - 29.96% completed\n",
            "Completed row 628/2093 - 30.00% completed\n",
            "Completed row 629/2093 - 30.05% completed\n",
            "Completed row 630/2093 - 30.10% completed\n",
            "Completed row 631/2093 - 30.15% completed\n",
            "Completed row 632/2093 - 30.20% completed\n",
            "Completed row 633/2093 - 30.24% completed\n",
            "Completed row 634/2093 - 30.29% completed\n",
            "Error with article on link:  http://www.latimes.com/business/la-fi-health-sticker-shock-20131027,0,7448298,print.story\n",
            "Completed row 636/2093 - 30.39% completed\n",
            "Completed row 637/2093 - 30.43% completed\n",
            "Completed row 638/2093 - 30.48% completed\n",
            "Completed row 639/2093 - 30.53% completed\n",
            "Completed row 640/2093 - 30.58% completed\n",
            "Completed row 641/2093 - 30.63% completed\n",
            "Completed row 642/2093 - 30.67% completed\n",
            "Completed row 643/2093 - 30.72% completed\n",
            "Completed row 644/2093 - 30.77% completed\n",
            "Completed row 645/2093 - 30.82% completed\n",
            "Error with article on link:  http://www.washingtonpost.com/blogs/the-fix/wp/2013/09/06/president-obamas-syria-problem-congress-is-getting-an-earful-from-constituents/\n",
            "Completed row 647/2093 - 30.91% completed\n",
            "Completed row 648/2093 - 30.96% completed\n",
            "Completed row 649/2093 - 31.01% completed\n",
            "Error with article on link:  http://www.washingtonpost.com/opinions/anne-applebaum-the-gop-endangers-democracy/2013/10/02/a2e46c92-2b78-11e3-8ade-a1f23cda135e_story.html\n",
            "Completed row 651/2093 - 31.10% completed\n",
            "Completed row 652/2093 - 31.15% completed\n",
            "Completed row 653/2093 - 31.20% completed\n",
            "Completed row 654/2093 - 31.25% completed\n",
            "Completed row 655/2093 - 31.29% completed\n",
            "Completed row 656/2093 - 31.34% completed\n",
            "Completed row 657/2093 - 31.39% completed\n",
            "Completed row 658/2093 - 31.44% completed\n",
            "Completed row 659/2093 - 31.49% completed\n",
            "Completed row 660/2093 - 31.53% completed\n",
            "Completed row 661/2093 - 31.58% completed\n",
            "Completed row 662/2093 - 31.63% completed\n",
            "Completed row 663/2093 - 31.68% completed\n",
            "Error with article on link:  http://www.reuters.com/article/2013/04/22/us-usa-immigration-idUSBRE93L0ZO20130422\n",
            "Completed row 665/2093 - 31.77% completed\n",
            "Completed row 666/2093 - 31.82% completed\n",
            "Completed row 667/2093 - 31.87% completed\n",
            "Completed row 668/2093 - 31.92% completed\n",
            "Completed row 669/2093 - 31.96% completed\n",
            "Completed row 670/2093 - 32.01% completed\n",
            "Completed row 671/2093 - 32.06% completed\n",
            "Completed row 672/2093 - 32.11% completed\n",
            "Completed row 673/2093 - 32.15% completed\n",
            "Completed row 674/2093 - 32.20% completed\n",
            "Completed row 675/2093 - 32.25% completed\n",
            "Completed row 676/2093 - 32.30% completed\n",
            "Error with article on link:  http://www.washingtonpost.com/blogs/right-turn/wp/2013/08/16/obama-vs-bush/\n",
            "Completed row 678/2093 - 32.39% completed\n",
            "Completed row 679/2093 - 32.44% completed\n",
            "Completed row 680/2093 - 32.49% completed\n",
            "Completed row 681/2093 - 32.54% completed\n",
            "Error with article on link:  http://worldnews.nbcnews.com/_news/2013/11/24/21591860-historic-mistake-israelis-republicans-condemn-iran-nuclear-deal\n",
            "Completed row 683/2093 - 32.63% completed\n",
            "Error with article on link:  http://www.reuters.com/article/2013/05/24/us-usa-obama-speech-idUSBRE94M04Y20130524\n",
            "Completed row 685/2093 - 32.73% completed\n",
            "Error with article on link:  http://worldnews.nbcnews.com/_news/2013/08/08/19932260-suspected-us-drone-strikes-kill-12-alleged-militants-in-yemen-official-says\n",
            "Completed row 687/2093 - 32.82% completed\n",
            "Completed row 688/2093 - 32.87% completed\n",
            "Completed row 689/2093 - 32.92% completed\n",
            "Error with article on link:  http://www.washingtonpost.com/opinions/charles-krauthammer-the-fruits-of-epic-incompetence/2013/09/12/7e6771d2-1bdf-11e3-a628-7e6dde8f889d_story.html\n",
            "Completed row 691/2093 - 33.01% completed\n",
            "Completed row 692/2093 - 33.06% completed\n",
            "Completed row 693/2093 - 33.11% completed\n",
            "Completed row 694/2093 - 33.16% completed\n",
            "Completed row 695/2093 - 33.21% completed\n",
            "Completed row 696/2093 - 33.25% completed\n",
            "Completed row 697/2093 - 33.30% completed\n",
            "Completed row 698/2093 - 33.35% completed\n",
            "Completed row 699/2093 - 33.40% completed\n",
            "Completed row 700/2093 - 33.44% completed\n",
            "Completed row 701/2093 - 33.49% completed\n",
            "Completed row 702/2093 - 33.54% completed\n",
            "Completed row 703/2093 - 33.59% completed\n",
            "Completed row 704/2093 - 33.64% completed\n",
            "Error with article on link:  http://online.wsj.com/article/PR-CO-20130503-912959.html\n",
            "Completed row 706/2093 - 33.73% completed\n",
            "Completed row 707/2093 - 33.78% completed\n",
            "Completed row 708/2093 - 33.83% completed\n",
            "Completed row 709/2093 - 33.87% completed\n",
            "Error with article on link:  http://online.wsj.com/article/PR-CO-20130503-912959.html\n",
            "Completed row 711/2093 - 33.97% completed\n",
            "Completed row 712/2093 - 34.02% completed\n",
            "Error with article on link:  http://www.reuters.com/article/2013/02/05/us-usa-immigration-idUSBRE9130V620130205\n",
            "Completed row 714/2093 - 34.11% completed\n",
            "Completed row 715/2093 - 34.16% completed\n",
            "Error with article on link:  http://www.washingtonpost.com/blogs/plum-line/wp/2013/05/23/calling-conservatives-bluff-on-immigration-reform/\n",
            "Completed row 717/2093 - 34.26% completed\n",
            "Error with article on link:  http://www.washingtonpost.com/opinions/rough-times-for-obama-sure-but-nixonian-please/2013/05/17/910b1d98-bdac-11e2-89c9-3be8095fe767_story.html\n",
            "Completed row 719/2093 - 34.35% completed\n",
            "Completed row 720/2093 - 34.40% completed\n",
            "Completed row 721/2093 - 34.45% completed\n",
            "Completed row 722/2093 - 34.50% completed\n",
            "Completed row 723/2093 - 34.54% completed\n",
            "Completed row 724/2093 - 34.59% completed\n",
            "Completed row 725/2093 - 34.64% completed\n",
            "Completed row 726/2093 - 34.69% completed\n",
            "Completed row 727/2093 - 34.73% completed\n",
            "Completed row 728/2093 - 34.78% completed\n",
            "Error with article on link:  http://www.washingtonpost.com/blogs/right-turn/wp/2013/06/06/no-legal-exceptions-for-rice-and-panetta/\n",
            "Completed row 730/2093 - 34.88% completed\n",
            "Completed row 731/2093 - 34.93% completed\n",
            "Completed row 732/2093 - 34.97% completed\n",
            "Error with article on link:  http://www.chicagotribune.com/news/columnists/ct-oped-0127-page-20130127,0,3293979.column\n",
            "Completed row 734/2093 - 35.07% completed\n",
            "Completed row 735/2093 - 35.12% completed\n",
            "Error with article on link:  http://www.washingtonpost.com/politics/house-approves-97b-in-sandy-aid-with-some-republican-dissent/2013/01/04/6a232c1c-5681-11e2-bf3e-76c0a789346f_story.html\n",
            "Completed row 737/2093 - 35.21% completed\n",
            "Error with article on link:  http://www.washingtonpost.com/blogs/the-fix/wp/2013/02/05/who-is-responsible-for-the-sequester/\n",
            "Error with article on link:  http://www.washingtonpost.com/opinions/eugene-robinson-gop-is-not-acting-in-the-national-interest/2013/09/02/8e67608a-11b0-11e3-bdf6-e4fc677d94a1_story.html\n",
            "Completed row 740/2093 - 35.36% completed\n",
            "Completed row 741/2093 - 35.40% completed\n",
            "Completed row 742/2093 - 35.45% completed\n",
            "Completed row 743/2093 - 35.50% completed\n",
            "Completed row 744/2093 - 35.55% completed\n",
            "Completed row 745/2093 - 35.59% completed\n",
            "Error with article on link:  http://www.foxnews.com/opinion/2013/09/18/is-there-con-man-in-oval-office/\n",
            "Completed row 747/2093 - 35.69% completed\n",
            "Completed row 748/2093 - 35.74% completed\n",
            "Completed row 749/2093 - 35.79% completed\n",
            "Completed row 750/2093 - 35.83% completed\n",
            "Completed row 751/2093 - 35.88% completed\n",
            "Error with article on link:  http://www.washingtonpost.com/opinions/george-will-obama-seeks-an-accomplice-for-syria-action/2013/09/03/675e4f74-14be-11e3-a100-66fa8fd9a50c_story.html\n",
            "Error with article on link:  http://www.reuters.com/article/2013/10/22/us-saudi-usa-idUSBRE99L0K120131022\n",
            "Completed row 754/2093 - 36.02% completed\n",
            "Completed row 755/2093 - 36.07% completed\n",
            "Error with article on link:  http://worldnews.nbcnews.com/_news/2013/07/06/19318588-29-boarding-school-students-burned-alive-shot-dead-by-islamist-militants-in-nigeria\n",
            "Completed row 757/2093 - 36.17% completed\n",
            "Completed row 758/2093 - 36.22% completed\n",
            "Error with article on link:  http://www.foxnews.com/on-air/hannity/2013/11/27/iran-nuclear-deal-shows-americas-weakness-world-stage\n",
            "Completed row 760/2093 - 36.31% completed\n",
            "Completed row 761/2093 - 36.36% completed\n",
            "Completed row 762/2093 - 36.41% completed\n",
            "Completed row 763/2093 - 36.45% completed\n",
            "Error with article on link:  http://www.reuters.com/article/2013/08/25/us-syria-crisis-usa-poll-idUSBRE97O00E20130825\n",
            "Completed row 765/2093 - 36.55% completed\n",
            "Error with article on link:  http://www.reuters.com/article/2013/05/27/us-syria-crisis-usa-mccain-idUSBRE94Q0HU20130527\n",
            "Completed row 767/2093 - 36.65% completed\n",
            "Error with article on link:  http://www.reuters.com/article/2013/07/24/us-egypt-protests-usa-f16s-idUSBRE96N0VI20130724\n",
            "Completed row 769/2093 - 36.74% completed\n",
            "Completed row 770/2093 - 36.79% completed\n",
            "Completed row 771/2093 - 36.84% completed\n",
            "Completed row 772/2093 - 36.88% completed\n",
            "Completed row 773/2093 - 36.93% completed\n",
            "Completed row 774/2093 - 36.98% completed\n",
            "Error with article on link:  http://worldnews.nbcnews.com/_news/2013/01/07/16393614-detained-american-internet-freedom-on-agenda-as-google-boss-visits-north-korea\n",
            "Error with article on link:  http://www.chicagotribune.com/news/columnists/ct-oped-0127-page-20130127,0,3293979.column\n",
            "Completed row 777/2093 - 37.12% completed\n",
            "Completed row 778/2093 - 37.17% completed\n",
            "Completed row 779/2093 - 37.22% completed\n",
            "Completed row 780/2093 - 37.27% completed\n",
            "Completed row 781/2093 - 37.31% completed\n",
            "Completed row 782/2093 - 37.36% completed\n",
            "Error with article on link:  http://www.washingtonpost.com/blogs/plum-line/wp/2013/08/16/the-morning-plum-gop-elites-in-full-blown-panic/\n",
            "Completed row 784/2093 - 37.46% completed\n",
            "Completed row 785/2093 - 37.51% completed\n",
            "Completed row 786/2093 - 37.55% completed\n",
            "Completed row 787/2093 - 37.60% completed\n",
            "Error with article on link:  http://www.reuters.com/article/2013/04/16/usa-immigration-congress-idUSL2N0D306N20130416\n",
            "Completed row 789/2093 - 37.70% completed\n",
            "Completed row 790/2093 - 37.74% completed\n",
            "Completed row 791/2093 - 37.79% completed\n",
            "Completed row 792/2093 - 37.84% completed\n",
            "Completed row 793/2093 - 37.89% completed\n",
            "Completed row 794/2093 - 37.94% completed\n",
            "Completed row 795/2093 - 37.98% completed\n",
            "Completed row 796/2093 - 38.03% completed\n",
            "Completed row 797/2093 - 38.08% completed\n",
            "Error with article on link:  http://www.latimes.com/news/opinion/editorials/la-ed-dna-20130604,0,2983670.story\n",
            "Completed row 799/2093 - 38.17% completed\n",
            "Completed row 800/2093 - 38.22% completed\n",
            "Completed row 801/2093 - 38.27% completed\n",
            "Completed row 802/2093 - 38.32% completed\n",
            "Completed row 803/2093 - 38.37% completed\n",
            "Completed row 804/2093 - 38.41% completed\n",
            "Completed row 805/2093 - 38.46% completed\n",
            "Completed row 806/2093 - 38.51% completed\n",
            "Error with article on link:  http://www.chicagotribune.com/news/columnists/ct-oped-0414-page-20130413,0,2835224.column\n",
            "Completed row 808/2093 - 38.60% completed\n",
            "Completed row 809/2093 - 38.65% completed\n",
            "Completed row 810/2093 - 38.70% completed\n",
            "Completed row 811/2093 - 38.75% completed\n",
            "Error with article on link:  http://www.washingtonpost.com/blogs/post-politics/wp/2013/08/30/marco-rubio-confronts-fallout-from-immigration-stance/\n",
            "Error with article on link:  http://www.chicagotribune.com/news/columnists/ct-oped-0414-page-20130413,0,2835224.column\n",
            "Completed row 814/2093 - 38.89% completed\n",
            "Completed row 815/2093 - 38.94% completed\n",
            "Completed row 816/2093 - 38.99% completed\n",
            "Completed row 817/2093 - 39.03% completed\n",
            "Completed row 818/2093 - 39.08% completed\n",
            "Completed row 819/2093 - 39.13% completed\n",
            "Error with article on link:  http://www.reuters.com/article/2013/05/24/us-usa-arizona-sheriff-idUSBRE94N0Y320130524\n",
            "Completed row 821/2093 - 39.23% completed\n",
            "Completed row 822/2093 - 39.27% completed\n",
            "Error with article on link:  http://www.washingtonpost.com/opinions/50-years-after-the-march-on-washington-what-would-mlk-march-for-today/2013/08/22/f5fb5474-037b-11e3-88d6-d5795fab4637_story_1.html\n",
            "Error with article on link:  http://www.reuters.com/article/2013/06/17/us-usa-court-voters-idUSBRE95G0K720130617\n",
            "Completed row 825/2093 - 39.42% completed\n",
            "Error with article on link:  http://www.breitbart.com/Big-Journalism/2013/04/04/Conservative-Leaders-Demand-MSM-End-Censorship-of-House-of-Horrors-Abortion-Doc-On-Trial-for-Infanticide\n",
            "Completed row 827/2093 - 39.51% completed\n",
            "Completed row 828/2093 - 39.56% completed\n",
            "Completed row 829/2093 - 39.61% completed\n",
            "Completed row 830/2093 - 39.66% completed\n",
            "Completed row 831/2093 - 39.70% completed\n",
            "Completed row 832/2093 - 39.75% completed\n",
            "Error with article on link:  http://www.washingtonpost.com/opinions/george-f-will-doma-infringes-on-states-rights/2013/03/20/fa845348-90bb-11e2-bdea-e32ad90da239_story.html\n",
            "Error with article on link:  http://www.reuters.com/article/2013/06/23/us-usa-immigration-idUSBRE95K10H20130623\n",
            "Completed row 835/2093 - 39.89% completed\n",
            "Completed row 836/2093 - 39.94% completed\n",
            "Completed row 837/2093 - 39.99% completed\n",
            "Completed row 838/2093 - 40.04% completed\n",
            "Completed row 839/2093 - 40.09% completed\n",
            "Error with article on link:  http://www.chicagotribune.com/news/columnists/ct-met-kass-1003-20131003,0,417264.column\n",
            "Error with article on link:  http://www.washingtonpost.com/politics/in-the-clintons-talk-of-brokering-compromise-an-implicit-rebuke-of-obama-years/2013/10/31/f8cf7d66-40a1-11e3-a751-f032898f2dbc_story.html\n",
            "Completed row 842/2093 - 40.23% completed\n",
            "Completed row 843/2093 - 40.28% completed\n",
            "Completed row 844/2093 - 40.32% completed\n",
            "Completed row 845/2093 - 40.37% completed\n",
            "Completed row 846/2093 - 40.42% completed\n",
            "Completed row 847/2093 - 40.47% completed\n",
            "Completed row 848/2093 - 40.52% completed\n",
            "Error with article on link:  http://www.breitbart.com/Big-Government/2013/07/25/Obama-Admin-s-Radical-Agenda-on-Race-and-Government-Power\n",
            "Completed row 850/2093 - 40.61% completed\n",
            "Error with article on link:  http://www.foxnews.com/politics/2013/07/17/how-high-did-it-go-republicans-to-step-up-pressure-on-irs-at-scandal-hearing/\n",
            "Completed row 852/2093 - 40.71% completed\n",
            "Completed row 853/2093 - 40.75% completed\n",
            "Completed row 854/2093 - 40.80% completed\n",
            "Completed row 855/2093 - 40.85% completed\n",
            "Completed row 856/2093 - 40.90% completed\n",
            "Completed row 857/2093 - 40.95% completed\n",
            "Completed row 858/2093 - 40.99% completed\n",
            "Completed row 859/2093 - 41.04% completed\n",
            "Completed row 860/2093 - 41.09% completed\n",
            "Completed row 861/2093 - 41.14% completed\n",
            "Completed row 862/2093 - 41.18% completed\n",
            "Error with article on link:  http://www.breitbart.com/Big-Government/2013/10/04/Obama-s-disgraceful-insult-to-the-greatest-generation\n",
            "Error with article on link:  http://www.breitbart.com/Big-Government/2013/01/08/Meet-the-Bullies-Breitbart-Editor-Exposes-Obamas-Army-of-Thugs-in-New-Book\n",
            "Completed row 865/2093 - 41.33% completed\n",
            "Completed row 866/2093 - 41.38% completed\n",
            "Completed row 867/2093 - 41.42% completed\n",
            "Error with article on link:  http://www.washingtonpost.com/blogs/federal-eye/wp/2013/09/13/republicans-say-irs-e-mails-from-lois-lerner-show-abuse-of-power/\n",
            "Error with article on link:  http://www.washingtonpost.com/politics/obama-vows-to-hold-irs-officials-accountable/2013/05/16/c8fe72e4-be3e-11e2-97d4-a479289a31f9_story.html\n",
            "Completed row 870/2093 - 41.57% completed\n",
            "Completed row 871/2093 - 41.61% completed\n",
            "Error with article on link:  http://www.reuters.com/article/2013/09/11/us-usa-politics-newyork-idUSBRE9891GA20130911\n",
            "Error with article on link:  http://www.foxnews.com/on-air/oreilly/2013/05/23/bill-oreilly-irs-scandal-getting-even-more-intense\n",
            "Completed row 874/2093 - 41.76% completed\n",
            "Completed row 875/2093 - 41.81% completed\n",
            "Completed row 876/2093 - 41.85% completed\n",
            "Completed row 877/2093 - 41.90% completed\n",
            "Completed row 878/2093 - 41.95% completed\n",
            "Error with article on link:  http://news.yahoo.com/white-house-bungles-leak-gop-leader-trashing-obama-190830772--abc-news-politics.html\n",
            "Completed row 880/2093 - 42.04% completed\n",
            "Completed row 881/2093 - 42.09% completed\n",
            "Completed row 882/2093 - 42.14% completed\n",
            "Completed row 883/2093 - 42.19% completed\n",
            "Error with article on link:  http://www.dailykos.com/story/2013/04/22/1203898/-The-Siegelman-Case-and-why-it-should-trouble-you\n",
            "Error with article on link:  http://www.reuters.com/article/2013/05/12/us-usa-behghazi-idUSBRE94B0B120130512\n",
            "Error with article on link:  http://www.foxnews.com/on-air/oreilly/2013/05/23/bill-oreilly-irs-scandal-getting-even-more-intense\n",
            "Completed row 887/2093 - 42.38% completed\n",
            "Completed row 888/2093 - 42.43% completed\n",
            "Completed row 889/2093 - 42.47% completed\n",
            "Completed row 890/2093 - 42.52% completed\n",
            "Completed row 891/2093 - 42.57% completed\n",
            "Completed row 892/2093 - 42.62% completed\n",
            "Completed row 893/2093 - 42.67% completed\n",
            "Completed row 894/2093 - 42.71% completed\n",
            "Completed row 895/2093 - 42.76% completed\n",
            "Completed row 896/2093 - 42.81% completed\n",
            "Completed row 897/2093 - 42.86% completed\n",
            "Completed row 898/2093 - 42.90% completed\n",
            "Completed row 899/2093 - 42.95% completed\n",
            "Error with article on link:  http://www.foxnews.com/opinion/2013/10/20/obamas-fingerpints-all-over-irs-tea-party-scandal/print\n",
            "Completed row 901/2093 - 43.05% completed\n",
            "Completed row 902/2093 - 43.10% completed\n",
            "Completed row 903/2093 - 43.14% completed\n",
            "Error with article on link:  http://www.washingtonpost.com/opinions/dana-milbank-the-democrats-naked-power-grab/2013/11/21/60ef049a-5306-11e3-9e2c-e1d01116fd98_story.html\n",
            "Completed row 905/2093 - 43.24% completed\n",
            "Completed row 906/2093 - 43.29% completed\n",
            "Error with article on link:  http://news.yahoo.com/7-jeopardy-blunders-obamas-top-consumer-watchdog-151509313--abc-news-politics.html\n",
            "Completed row 908/2093 - 43.38% completed\n",
            "Completed row 909/2093 - 43.43% completed\n",
            "Completed row 910/2093 - 43.48% completed\n",
            "Completed row 911/2093 - 43.53% completed\n",
            "Completed row 912/2093 - 43.57% completed\n",
            "Error with article on link:  http://www.chicagotribune.com/news/politics/obama/ct-oped-0303-krauthammer-20130304-7,0,7430782.story\n",
            "Completed row 914/2093 - 43.67% completed\n",
            "Completed row 915/2093 - 43.72% completed\n",
            "Completed row 916/2093 - 43.76% completed\n",
            "Completed row 917/2093 - 43.81% completed\n",
            "Error with article on link:  http://www.reuters.com/article/2013/07/30/us-usa-obama-idUSBRE96T0F820130730\n",
            "Error with article on link:  http://news.yahoo.com/sen-ted-cruz-blames-obama-reid-government-shutdown-191200023--abc-news-topstories.html\n",
            "Completed row 920/2093 - 43.96% completed\n",
            "Completed row 921/2093 - 44.00% completed\n",
            "Completed row 922/2093 - 44.05% completed\n",
            "Completed row 923/2093 - 44.10% completed\n",
            "Error with article on link:  http://www.reuters.com/article/2013/09/19/us-usa-agriculture-food-idUSBRE98I16720130919\n",
            "Completed row 925/2093 - 44.19% completed\n",
            "Error with article on link:  http://www.washingtonpost.com/business/economy/as-red-ink-recedes-pressure-fades-for-budget-deal/2013/05/07/5eaaf8b2-b71e-11e2-92f3-f291801936b8_story.html\n",
            "Error with article on link:  http://www.washingtonpost.com/opinions/marc-thiessen-the-tea-party-needs-a-general-washington/2013/10/21/05df3fea-3a4f-11e3-a94f-b58017bfee6c_story_1.html\n",
            "Completed row 928/2093 - 44.34% completed\n",
            "Completed row 929/2093 - 44.39% completed\n",
            "Completed row 930/2093 - 44.43% completed\n",
            "Error with article on link:  http://www.washingtonpost.com/opinions/lawrence-summers-tax-reform-can-aid-multinationals-cut-deficit/2013/07/07/72d500be-e593-11e2-aef3-339619eab080_story.html\n",
            "Error with article on link:  http://www.chicagotribune.com/news/chi-government-shutdown-20130930,0,2495049.story\n",
            "Completed row 933/2093 - 44.58% completed\n",
            "Error with article on link:  http://finance.fortune.cnn.com/2013/05/01/obama-retirement-package/\n",
            "Completed row 935/2093 - 44.67% completed\n",
            "Completed row 936/2093 - 44.72% completed\n",
            "Error with article on link:  http://www.washingtonpost.com/blogs/plum-line/wp/2013/02/25/its-as-if-the-election-never-happened/\n",
            "Completed row 938/2093 - 44.82% completed\n",
            "Completed row 939/2093 - 44.86% completed\n",
            "Completed row 940/2093 - 44.91% completed\n",
            "Error with article on link:  http://www.washingtonpost.com/business/economy/house-republicans-plant-to-keep-debt-limit-but-suspend-it-until-may/2013/01/22/14bc4f3e-64ae-11e2-85f5-a8a9228e55e7_story.html\n",
            "Completed row 942/2093 - 45.01% completed\n",
            "Completed row 943/2093 - 45.05% completed\n",
            "Completed row 944/2093 - 45.10% completed\n",
            "Completed row 945/2093 - 45.15% completed\n",
            "Completed row 946/2093 - 45.20% completed\n",
            "Completed row 947/2093 - 45.25% completed\n",
            "Completed row 948/2093 - 45.29% completed\n",
            "Completed row 949/2093 - 45.34% completed\n",
            "Completed row 950/2093 - 45.39% completed\n",
            "Error with article on link:  http://www.chicagotribune.com/news/chi-government-shutdown-20131003,0,791105.story\n",
            "Completed row 952/2093 - 45.48% completed\n",
            "Completed row 953/2093 - 45.53% completed\n",
            "Completed row 954/2093 - 45.58% completed\n",
            "Completed row 955/2093 - 45.63% completed\n",
            "Error with article on link:  http://www.washingtonpost.com/business/economy/obama-wants-to-link-corporate-tax-reform-jobs-spending/2013/07/30/02fd652c-f918-11e2-b018-5b8251f0c56e_story.html\n",
            "Completed row 957/2093 - 45.72% completed\n",
            "Completed row 958/2093 - 45.77% completed\n",
            "Completed row 959/2093 - 45.82% completed\n",
            "Error with article on link:  http://www.reuters.com/article/2013/02/19/us-usa-obama-budget-idUSBRE91I0EM20130219\n",
            "Completed row 961/2093 - 45.91% completed\n",
            "Completed row 962/2093 - 45.96% completed\n",
            "Completed row 963/2093 - 46.01% completed\n",
            "Completed row 964/2093 - 46.06% completed\n",
            "Completed row 965/2093 - 46.11% completed\n",
            "Completed row 966/2093 - 46.15% completed\n",
            "Error with article on link:  http://www.breitbart.com/Big-Government/2013/10/03/Obama-Forcing-Shut-Down-of-Parks-the-Feds-Don-t-Even-Fund\n",
            "Completed row 968/2093 - 46.25% completed\n",
            "Completed row 969/2093 - 46.30% completed\n",
            "Completed row 970/2093 - 46.34% completed\n",
            "Completed row 971/2093 - 46.39% completed\n",
            "Completed row 972/2093 - 46.44% completed\n",
            "Completed row 973/2093 - 46.49% completed\n",
            "Completed row 974/2093 - 46.54% completed\n",
            "Completed row 975/2093 - 46.58% completed\n",
            "Completed row 976/2093 - 46.63% completed\n",
            "Completed row 977/2093 - 46.68% completed\n",
            "Completed row 978/2093 - 46.73% completed\n",
            "Completed row 979/2093 - 46.77% completed\n",
            "Completed row 980/2093 - 46.82% completed\n",
            "Completed row 981/2093 - 46.87% completed\n",
            "Completed row 982/2093 - 46.92% completed\n",
            "Completed row 983/2093 - 46.97% completed\n",
            "Completed row 984/2093 - 47.01% completed\n",
            "Error with article on link:  http://www.washingtonpost.com/opinions/charles-krauthammer-call-obamas-sequester-bluff/2013/02/07/5f64a24e-7150-11e2-ac36-3d8d9dcaa2e2_story.html\n",
            "Error with article on link:  http://www.washingtonpost.com/opinions/ej-dionne-boehners-house-implodes-over-flawed-farm-bill/2013/06/23/b6807272-dc41-11e2-bd83-e99e43c336ed_story.html\n",
            "Error with article on link:  http://www.washingtonpost.com/opinions/ej-dionne-in-budget-debate-republicans-are-stalling-obama/2013/02/20/26c298e6-7b8d-11e2-82e8-61a46c2cde3d_story.html\n",
            "Completed row 988/2093 - 47.20% completed\n",
            "Completed row 989/2093 - 47.25% completed\n",
            "Completed row 990/2093 - 47.30% completed\n",
            "Error with article on link:  http://www.foxnews.com/politics/2013/09/16/obama-to-tout-economy-while-marking-lehman-fall/\n",
            "Error with article on link:  http://www.washingtonpost.com/opinions/charles-krauthammer-return-of-the-real-obama/2013/01/03/9f5f9b0c-55d9-11e2-8b9e-dd8773594efc_story.html\n",
            "Completed row 993/2093 - 47.44% completed\n",
            "Completed row 994/2093 - 47.49% completed\n",
            "Error with article on link:  http://www.reuters.com/article/2013/10/30/us-usa-nutrition-food-stamps-idUSBRE99T0ZI20131030\n",
            "Completed row 996/2093 - 47.59% completed\n",
            "Completed row 997/2093 - 47.63% completed\n",
            "Error with article on link:  http://www.breitbart.com/Big-Government/2013/02/14/Like-a-Good-Neighbor-State-Farm-is-No-Longer-There-in-Illinois\n",
            "Completed row 999/2093 - 47.73% completed\n",
            "Error with article on link:  http://www.reuters.com/article/2013/02/25/us-usa-fiscal-obama-strategy-idUSBRE91O1CS20130225\n",
            "Completed row 1001/2093 - 47.83% completed\n",
            "Completed row 1002/2093 - 47.87% completed\n",
            "Error with article on link:  http://www.breitbart.com/Big-Journalism/2013/02/20/Obama-Resorts-to-Local-TV-Interviews-to-Push-Tax-Hikes\n",
            "Error with article on link:  http://news.yahoo.com/brink-budget-sequester-more-damage-gop-obama-121007509--abc-news-politics.html\n",
            "Completed row 1005/2093 - 48.02% completed\n",
            "Completed row 1006/2093 - 48.06% completed\n",
            "Error with article on link:  http://www.washingtonpost.com/business/economy/house-members-meet-to-review-senate-passed-cliff-deal/2013/01/01/6e4373cc-5435-11e2-bf3e-76c0a789346f_story.html\n",
            "Error with article on link:  http://www.washingtonpost.com/blogs/wonkblog/wp/2013/04/11/the-three-best-ideas-in-obamas-budget/\n",
            "Completed row 1009/2093 - 48.21% completed\n",
            "Completed row 1010/2093 - 48.26% completed\n",
            "Error with article on link:  http://www.reuters.com/article/2013/10/08/us-usa-fiscal-republicans-idUSBRE9970KY20131008\n",
            "Error with article on link:  http://www.breitbart.com/Big-Government/2013/02/14/Like-a-Good-Neighbor-State-Farm-is-No-Longer-There-in-Illinois\n",
            "Error with article on link:  http://www.chicagotribune.com/news/opinion/editorials/ct-edit-tax-20130707,0,7665487.story\n",
            "Completed row 1014/2093 - 48.45% completed\n",
            "Completed row 1015/2093 - 48.49% completed\n",
            "Error with article on link:  http://www.washingtonpost.com/opinions/charles-krauthammer-call-obamas-sequester-bluff/2013/02/07/5f64a24e-7150-11e2-ac36-3d8d9dcaa2e2_story.html\n",
            "Completed row 1017/2093 - 48.59% completed\n",
            "Completed row 1018/2093 - 48.64% completed\n",
            "Completed row 1019/2093 - 48.69% completed\n",
            "Completed row 1020/2093 - 48.73% completed\n",
            "Completed row 1021/2093 - 48.78% completed\n",
            "Completed row 1022/2093 - 48.83% completed\n",
            "Completed row 1023/2093 - 48.88% completed\n",
            "Completed row 1024/2093 - 48.92% completed\n",
            "Completed row 1025/2093 - 48.97% completed\n",
            "Completed row 1026/2093 - 49.02% completed\n",
            "Completed row 1027/2093 - 49.07% completed\n",
            "Completed row 1028/2093 - 49.12% completed\n",
            "Error with article on link:  http://www.foxnews.com/politics/2013/07/30/obama-proposes-grand-bargain-for-jobs/\n",
            "Completed row 1030/2093 - 49.21% completed\n",
            "Error with article on link:  http://www.chicagotribune.com/news/local/ct-met-mike-madigan-pension-reform-0131-20130131,0,2265962.story\n",
            "Completed row 1032/2093 - 49.31% completed\n",
            "Completed row 1033/2093 - 49.35% completed\n",
            "Error with article on link:  http://www.washingtonpost.com/business/economy/obama-wants-to-link-corporate-tax-reform-jobs-spending/2013/07/30/02fd652c-f918-11e2-b018-5b8251f0c56e_story.html\n",
            "Error with article on link:  http://www.washingtonpost.com/opinions/ej-dionne-in-state-of-union-obama-tries-to-change-the-direction-of-our-politics/2013/02/13/7394c3e0-7612-11e2-aa12-e6cf1d31106b_story.html\n",
            "Completed row 1036/2093 - 49.50% completed\n",
            "Completed row 1037/2093 - 49.55% completed\n",
            "Error with article on link:  http://www.washingtonpost.com/blogs/plum-line/wp/2013/10/07/the-morning-plum-john-boehner-doesnt-really-want-to-negotiate-with-obama/\n",
            "Error with article on link:  http://www.chicagotribune.com/news/opinion/editorials/ct-edit-debt-1017-jm-20131017,0,1915393.story\n",
            "Completed row 1040/2093 - 49.69% completed\n",
            "Completed row 1041/2093 - 49.74% completed\n",
            "Error with article on link:  http://www.washingtonpost.com/blogs/plum-line/wp/2013/02/25/its-as-if-the-election-never-happened/\n",
            "Completed row 1043/2093 - 49.83% completed\n",
            "Completed row 1044/2093 - 49.88% completed\n",
            "Completed row 1045/2093 - 49.93% completed\n",
            "Completed row 1046/2093 - 49.98% completed\n",
            "Completed row 1047/2093 - 50.02% completed\n",
            "Completed row 1048/2093 - 50.07% completed\n",
            "Completed row 1049/2093 - 50.12% completed\n",
            "Completed row 1050/2093 - 50.17% completed\n",
            "Completed row 1051/2093 - 50.22% completed\n",
            "Error with article on link:  http://www.breitbart.com/Big-Government/2013/08/20/Exclusive-Obamanomics-101-GOP-establishment-uses-Obama-s-Left-s-data-to-argue-amnesty-creates-jobs\n",
            "Completed row 1053/2093 - 50.31% completed\n",
            "Completed row 1054/2093 - 50.36% completed\n",
            "Error with article on link:  http://www.reuters.com/article/2013/10/03/us-usa-fiscal-idUSBRE98N11220131003\n",
            "Completed row 1056/2093 - 50.45% completed\n",
            "Completed row 1057/2093 - 50.50% completed\n",
            "Error with article on link:  http://www.washingtonpost.com/politics/obama-throws-opening-move-in-this-years-debt-ceiling-debate/2013/01/14/03156b76-5e78-11e2-9940-6fc488f3fecd_story.html\n",
            "Completed row 1059/2093 - 50.60% completed\n",
            "Completed row 1060/2093 - 50.65% completed\n",
            "Completed row 1061/2093 - 50.69% completed\n",
            "Completed row 1062/2093 - 50.74% completed\n",
            "Error with article on link:  http://www.chicagotribune.com/news/opinion/editorials/ct-edit-deficits-20130220,0,1191274.story\n",
            "Completed row 1064/2093 - 50.84% completed\n",
            "Error with article on link:  http://www.washingtonpost.com/politics/cliff-bill-is-a-bitter-pill-for-houses-tea-party-adherents-to-swallow/2013/01/01/5345286e-544d-11e2-8e84-e933f677fe68_story.html\n",
            "Error with article on link:  http://www.chicagotribune.com/news/local/ct-met-illinois-pension-reform-0604-20130604,0,2761655.story\n",
            "Completed row 1067/2093 - 50.98% completed\n",
            "Completed row 1068/2093 - 51.03% completed\n",
            "Completed row 1069/2093 - 51.08% completed\n",
            "Error with article on link:  http://takingnote.blogs.nytimes.com/2013/12/11/what-about-unemployment-insurance/\n",
            "Completed row 1071/2093 - 51.17% completed\n",
            "Completed row 1072/2093 - 51.22% completed\n",
            "Completed row 1073/2093 - 51.27% completed\n",
            "Completed row 1074/2093 - 51.31% completed\n",
            "Completed row 1075/2093 - 51.36% completed\n",
            "Error with article on link:  http://www.washingtonpost.com/opinions/ej-dionne-in-state-of-union-obama-tries-to-change-the-direction-of-our-politics/2013/02/13/7394c3e0-7612-11e2-aa12-e6cf1d31106b_story.html\n",
            "Completed row 1077/2093 - 51.46% completed\n",
            "Completed row 1078/2093 - 51.51% completed\n",
            "Completed row 1079/2093 - 51.55% completed\n",
            "Completed row 1080/2093 - 51.60% completed\n",
            "Error with article on link:  http://www.chicagotribune.com/news/local/ct-illinois-pensions-met-1208-20131207,0,7554970.story\n",
            "Completed row 1082/2093 - 51.70% completed\n",
            "Completed row 1083/2093 - 51.74% completed\n",
            "Completed row 1084/2093 - 51.79% completed\n",
            "Completed row 1085/2093 - 51.84% completed\n",
            "Completed row 1086/2093 - 51.89% completed\n",
            "Error with article on link:  http://www.reuters.com/article/2013/02/12/us-obama-speech-idUSBRE91711L20130212\n",
            "Completed row 1088/2093 - 51.98% completed\n",
            "Error with article on link:  http://articles.washingtonpost.com/2013-02-28/opinions/37352791_1_sequester-budget-cuts-future-cuts\n",
            "Completed row 1090/2093 - 52.08% completed\n",
            "Completed row 1091/2093 - 52.13% completed\n",
            "Completed row 1092/2093 - 52.17% completed\n",
            "Completed row 1093/2093 - 52.22% completed\n",
            "Completed row 1094/2093 - 52.27% completed\n",
            "Error with article on link:  http://www.chicagotribune.com/news/opinion/editorials/ct-edit-faa-20130424,0,5057809.story\n",
            "Completed row 1096/2093 - 52.37% completed\n",
            "Completed row 1097/2093 - 52.41% completed\n",
            "Error with article on link:  http://www.reuters.com/article/2013/04/24/us-usa-fiscal-debt-idUSBRE93N1AS20130424\n",
            "Completed row 1099/2093 - 52.51% completed\n",
            "Error with article on link:  http://news.yahoo.com/analysis-obama-proposal-irks-both-sides-202207226.html\n",
            "Completed row 1101/2093 - 52.60% completed\n",
            "Completed row 1102/2093 - 52.65% completed\n",
            "Completed row 1103/2093 - 52.70% completed\n",
            "Completed row 1104/2093 - 52.75% completed\n",
            "Completed row 1105/2093 - 52.80% completed\n",
            "Error with article on link:  http://www.washingtonpost.com/blogs/plum-line/wp/2013/02/15/how-republicans-can-win-the-sequester-fight/\n",
            "Error with article on link:  http://www.breitbart.com/Big-Government/2013/08/20/Exclusive-Obamanomics-101-GOP-establishment-uses-Obama-s-Left-s-data-to-argue-amnesty-creates-jobs\n",
            "Completed row 1108/2093 - 52.94% completed\n",
            "Error with article on link:  http://www.washingtonpost.com/blogs/post-partisan/wp/2013/09/20/the-insiders-the-president-only-adds-confusion/\n",
            "Completed row 1110/2093 - 53.03% completed\n",
            "Completed row 1111/2093 - 53.08% completed\n",
            "Completed row 1112/2093 - 53.13% completed\n",
            "Completed row 1113/2093 - 53.18% completed\n",
            "Error with article on link:  http://www.chicagotribune.com/news/chi-government-shutdown-20131009,0,1184327.story\n",
            "Error with article on link:  http://www.chicagotribune.com/news/chi-government-shutdown-20131011,0,791104.story\n",
            "Error with article on link:  http://www.reuters.com/article/2013/12/06/us-boeing-777x-analysis-idUSBRE9B501S20131206\n",
            "Completed row 1117/2093 - 53.37% completed\n",
            "Completed row 1118/2093 - 53.42% completed\n",
            "Error with article on link:  http://www.chicagotribune.com/news/opinion/editorials/ct-edit-budget-0317-jm-20130317,0,4774848.story\n",
            "Completed row 1120/2093 - 53.51% completed\n",
            "Completed row 1121/2093 - 53.56% completed\n",
            "Completed row 1122/2093 - 53.61% completed\n",
            "Completed row 1123/2093 - 53.66% completed\n",
            "Completed row 1124/2093 - 53.70% completed\n",
            "Error with article on link:  http://www.washingtonpost.com/blogs/the-fix/wp/2013/07/11/the-fight-over-food-stamps-explained/\n",
            "Completed row 1126/2093 - 53.80% completed\n",
            "Completed row 1127/2093 - 53.85% completed\n",
            "Completed row 1128/2093 - 53.89% completed\n",
            "Completed row 1129/2093 - 53.94% completed\n",
            "Completed row 1130/2093 - 53.99% completed\n",
            "Completed row 1131/2093 - 54.04% completed\n",
            "Completed row 1132/2093 - 54.09% completed\n",
            "Completed row 1133/2093 - 54.13% completed\n",
            "Completed row 1134/2093 - 54.18% completed\n",
            "Completed row 1135/2093 - 54.23% completed\n",
            "Completed row 1136/2093 - 54.28% completed\n",
            "Completed row 1137/2093 - 54.32% completed\n",
            "Error with article on link:  http://www.washingtonpost.com/politics/attempts-to-reduce-wasteful-government-spending-show-austerity-is-a-hard-nut-to-crack/2013/12/27/f5dcebfc-681f-11e3-8b5b-a77187b716a3_story.html\n",
            "Completed row 1139/2093 - 54.42% completed\n",
            "Error with article on link:  http://www.reuters.com/article/2013/12/10/usa-fiscal-idUSL1N0JP15H20131210\n",
            "Completed row 1141/2093 - 54.52% completed\n",
            "Completed row 1142/2093 - 54.56% completed\n",
            "Completed row 1143/2093 - 54.61% completed\n",
            "Completed row 1144/2093 - 54.66% completed\n",
            "Completed row 1145/2093 - 54.71% completed\n",
            "Completed row 1146/2093 - 54.75% completed\n",
            "Completed row 1147/2093 - 54.80% completed\n",
            "Completed row 1148/2093 - 54.85% completed\n",
            "Completed row 1149/2093 - 54.90% completed\n",
            "Error with article on link:  http://www.washingtonpost.com/opinions/eric-cantor-divided-government-requires-bipartisan-negotiation/2013/10/08/98f6b7e6-3062-11e3-bbed-a8a60c601153_print.html\n",
            "Completed row 1151/2093 - 54.99% completed\n",
            "Error with article on link:  http://finance.fortune.cnn.com/2013/10/22/big-business-tea-party/\n",
            "Completed row 1153/2093 - 55.09% completed\n",
            "Completed row 1154/2093 - 55.14% completed\n",
            "Error with article on link:  http://www.nytimes.com/news/fiscal-crisis/\n",
            "Completed row 1156/2093 - 55.23% completed\n",
            "Completed row 1157/2093 - 55.28% completed\n",
            "Error with article on link:  http://www.foxnews.com/politics/2013/10/14/republicans-accuse-dems-overplaying-hand-as-budget-debate-shifts-to-sequester/\n",
            "Completed row 1159/2093 - 55.38% completed\n",
            "Completed row 1160/2093 - 55.42% completed\n",
            "Completed row 1161/2093 - 55.47% completed\n",
            "Completed row 1162/2093 - 55.52% completed\n",
            "Completed row 1163/2093 - 55.57% completed\n",
            "Completed row 1164/2093 - 55.61% completed\n",
            "Completed row 1165/2093 - 55.66% completed\n",
            "Error with article on link:  http://www.chicagotribune.com/news/chi-government-shutdown-20131005,0,922179.story\n",
            "Completed row 1167/2093 - 55.76% completed\n",
            "Completed row 1168/2093 - 55.81% completed\n",
            "Completed row 1169/2093 - 55.85% completed\n",
            "Completed row 1170/2093 - 55.90% completed\n",
            "Completed row 1171/2093 - 55.95% completed\n",
            "Completed row 1172/2093 - 56.00% completed\n",
            "Error with article on link:  http://www.washingtonpost.com/blogs/wonkblog/wp/2013/12/10/heres-whats-in-paul-ryan-and-patty-murrays-mini-budget-deal/\n",
            "Error with article on link:  http://www.washingtonpost.com/opinions/ej-dionne-when-republicans-were-problem-solvers/2013/02/17/98b9f0cc-792e-11e2-9a75-dab0201670da_story.html\n",
            "Completed row 1175/2093 - 56.14% completed\n",
            "Error with article on link:  http://www.foxnews.com/politics/2013/10/24/gop-senator-questions-neh-on-oking-grants-to-study-meaning-life/\n",
            "Completed row 1177/2093 - 56.24% completed\n",
            "Completed row 1178/2093 - 56.28% completed\n",
            "Completed row 1179/2093 - 56.33% completed\n",
            "Completed row 1180/2093 - 56.38% completed\n",
            "Completed row 1181/2093 - 56.43% completed\n",
            "Completed row 1182/2093 - 56.47% completed\n",
            "Completed row 1183/2093 - 56.52% completed\n",
            "Completed row 1184/2093 - 56.57% completed\n",
            "Completed row 1185/2093 - 56.62% completed\n",
            "Completed row 1186/2093 - 56.67% completed\n",
            "Completed row 1187/2093 - 56.71% completed\n",
            "Completed row 1188/2093 - 56.76% completed\n",
            "Completed row 1189/2093 - 56.81% completed\n",
            "Completed row 1190/2093 - 56.86% completed\n",
            "Completed row 1191/2093 - 56.90% completed\n",
            "Completed row 1192/2093 - 56.95% completed\n",
            "Completed row 1193/2093 - 57.00% completed\n",
            "Completed row 1194/2093 - 57.05% completed\n",
            "Error with article on link:  http://www.foxnews.com/politics/2013/11/05/democrat-terry-mcauliffe-projected-to-win-va-governor-race-in-surprisingly/\n",
            "Error with article on link:  http://www.washingtonpost.com/blogs/plum-line/wp/2013/07/19/the-morning-plum-among-senate-republicans-a-new-compromise-caucus-emerges/\n",
            "Error with article on link:  http://www.washingtonpost.com/opinions/charles-krauthammer-a-new-strategy-for-the-gop/2013/01/17/e751be18-60d3-11e2-9940-6fc488f3fecd_story.html\n",
            "Completed row 1198/2093 - 57.24% completed\n",
            "Completed row 1199/2093 - 57.29% completed\n",
            "Completed row 1200/2093 - 57.33% completed\n",
            "Completed row 1201/2093 - 57.38% completed\n",
            "Completed row 1202/2093 - 57.43% completed\n",
            "Completed row 1203/2093 - 57.48% completed\n",
            "Completed row 1204/2093 - 57.53% completed\n",
            "Completed row 1205/2093 - 57.57% completed\n",
            "Completed row 1206/2093 - 57.62% completed\n",
            "Completed row 1207/2093 - 57.67% completed\n",
            "Error with article on link:  http://nbcpolitics.nbcnews.com/_news/2013/03/22/17404360-gop-path-to-reinvention-riddled-with-potholes\n",
            "Completed row 1209/2093 - 57.76% completed\n",
            "Completed row 1210/2093 - 57.81% completed\n",
            "Error with article on link:  http://firstread.nbcnews.com/_news/2013/05/31/18654759-first-thoughts-hillarys-2016-numbers-come-back-down-to-earth\n",
            "Completed row 1212/2093 - 57.91% completed\n",
            "Completed row 1213/2093 - 57.96% completed\n",
            "Error with article on link:  http://www.chicagotribune.com/news/opinion/editorials/ct-edit-voting-20130304,0,1731658.story\n",
            "Error with article on link:  http://www.washingtonpost.com/business/economy/in-north-carolina-unimpeded-gop-drives-state-hard-to-the-right/2013/05/25/a9c9ccd2-c3c7-11e2-914f-a7aba60512a7_story.html\n",
            "Completed row 1216/2093 - 58.10% completed\n",
            "Completed row 1217/2093 - 58.15% completed\n",
            "Completed row 1218/2093 - 58.19% completed\n",
            "Completed row 1219/2093 - 58.24% completed\n",
            "Completed row 1220/2093 - 58.29% completed\n",
            "Completed row 1221/2093 - 58.34% completed\n",
            "Completed row 1222/2093 - 58.39% completed\n",
            "Completed row 1223/2093 - 58.43% completed\n",
            "Completed row 1224/2093 - 58.48% completed\n",
            "Completed row 1225/2093 - 58.53% completed\n",
            "Completed row 1226/2093 - 58.58% completed\n",
            "Completed row 1227/2093 - 58.62% completed\n",
            "Error with article on link:  http://firstread.nbcnews.com/_news/2012/05/22/11809426-first-thoughts-obama-unloads-on-romney\n",
            "Completed row 1229/2093 - 58.72% completed\n",
            "Completed row 1230/2093 - 58.77% completed\n",
            "Completed row 1231/2093 - 58.82% completed\n",
            "Completed row 1232/2093 - 58.86% completed\n",
            "Completed row 1233/2093 - 58.91% completed\n",
            "Error with article on link:  http://www.washingtonpost.com/politics/gop-rifts-exposed-in-south-carolina/2013/05/04/bb5ec53c-b4d7-11e2-9a98-4be1688d7d84_story.html\n",
            "Completed row 1235/2093 - 59.01% completed\n",
            "Completed row 1236/2093 - 59.05% completed\n",
            "Completed row 1237/2093 - 59.10% completed\n",
            "Error with article on link:  http://www.breitbart.com/Big-Government/2013/09/13/Obama-s-GOP-Cousin-May-Primary-Kansas-Senator\n",
            "Completed row 1239/2093 - 59.20% completed\n",
            "Error with article on link:  http://www.washingtonpost.com/blogs/post-politics/wp/2013/08/13/cory-booker-wins-new-jersey-democrat-primary-election/\n",
            "Completed row 1241/2093 - 59.29% completed\n",
            "Completed row 1242/2093 - 59.34% completed\n",
            "Completed row 1243/2093 - 59.39% completed\n",
            "Completed row 1244/2093 - 59.44% completed\n",
            "Completed row 1245/2093 - 59.48% completed\n",
            "Error with article on link:  http://www.washingtonpost.com/local/md-politics/texas-governor-is-all-hat-and-no-cattle-omalley-tells-democratic-crowd-in-md/2013/09/12/3afddf16-1c21-11e3-8685-5021e0c41964_story.html\n",
            "Completed row 1247/2093 - 59.58% completed\n",
            "Completed row 1248/2093 - 59.63% completed\n",
            "Error with article on link:  http://www.chicagotribune.com/news/columnists/ct-met-kass-0127-20130127,0,3653893,full.column\n",
            "Error with article on link:  http://nbcpolitics.nbcnews.com/_news/2013/11/05/21322371-nbc-news-projects-chris-christie-will-win-new-jersey-governors-race\n",
            "Completed row 1251/2093 - 59.77% completed\n",
            "Error with article on link:  http://www.reuters.com/article/2013/01/21/us-usa-inauguration-idUSBRE90I04I20130121\n",
            "Completed row 1253/2093 - 59.87% completed\n",
            "Error with article on link:  http://www.washingtonpost.com/opinions/eugene-robinson-the-gop-is-too-juvenile-to-govern/2013/05/30/469607e2-c959-11e2-9245-773c0123c027_story.html\n",
            "Completed row 1255/2093 - 59.96% completed\n",
            "Completed row 1256/2093 - 60.01% completed\n",
            "Completed row 1257/2093 - 60.06% completed\n",
            "Error with article on link:  http://www.breitbart.com/Big-Journalism/2013/02/07/CBS-ABC-Chicago-Completely-Black-Out-GOP-Primary-Debate-to-Replace-Jesse-Jackson-Jr\n",
            "Completed row 1259/2093 - 60.15% completed\n",
            "Error with article on link:  http://firstread.nbcnews.com/_news/2013/03/04/17182057-la-mayors-race-digs-deep-for-dirt\n",
            "Completed row 1261/2093 - 60.25% completed\n",
            "Completed row 1262/2093 - 60.30% completed\n",
            "Completed row 1263/2093 - 60.34% completed\n",
            "Completed row 1264/2093 - 60.39% completed\n",
            "Completed row 1265/2093 - 60.44% completed\n",
            "Completed row 1266/2093 - 60.49% completed\n",
            "Completed row 1267/2093 - 60.54% completed\n",
            "Completed row 1268/2093 - 60.58% completed\n",
            "Error with article on link:  http://www.washingtonpost.com/blogs/post-politics/wp/2013/08/12/north-carolina-governor-signs-extensive-voter-id-law/\n",
            "Completed row 1270/2093 - 60.68% completed\n",
            "Completed row 1271/2093 - 60.73% completed\n",
            "Completed row 1272/2093 - 60.77% completed\n",
            "Completed row 1273/2093 - 60.82% completed\n",
            "Completed row 1274/2093 - 60.87% completed\n",
            "Completed row 1275/2093 - 60.92% completed\n",
            "Completed row 1276/2093 - 60.97% completed\n",
            "Completed row 1277/2093 - 61.01% completed\n",
            "Completed row 1278/2093 - 61.06% completed\n",
            "Error with article on link:  http://firstread.nbcnews.com/_news/2013/06/06/18803535-christie-selects-new-jersey-ag-to-fill-senate-vacancy\n",
            "Completed row 1280/2093 - 61.16% completed\n",
            "Error with article on link:  http://www.breitbart.com/Big-Journalism/2013/02/07/CBS-ABC-Chicago-Completely-Black-Out-GOP-Primary-Debate-to-Replace-Jesse-Jackson-Jr\n",
            "Error with article on link:  http://www.washingtonpost.com/opinions/eugene-robinson-gop-obstruction-as-the-new-normal/2013/07/25/26bbbcea-f56a-11e2-9434-60440856fadf_story.html\n",
            "Completed row 1283/2093 - 61.30% completed\n",
            "Completed row 1284/2093 - 61.35% completed\n",
            "Completed row 1285/2093 - 61.40% completed\n",
            "Completed row 1286/2093 - 61.44% completed\n",
            "Error with article on link:  http://www.washingtonpost.com/opinions/dana-milbank-republicans-see-one-remedy-for-obama--impeachment/2013/12/03/e623d61e-5c65-11e3-be07-006c776266ed_story.html\n",
            "Completed row 1288/2093 - 61.54% completed\n",
            "Completed row 1289/2093 - 61.59% completed\n",
            "Completed row 1290/2093 - 61.63% completed\n",
            "Completed row 1291/2093 - 61.68% completed\n",
            "Completed row 1292/2093 - 61.73% completed\n",
            "Completed row 1293/2093 - 61.78% completed\n",
            "Completed row 1294/2093 - 61.83% completed\n",
            "Completed row 1295/2093 - 61.87% completed\n",
            "Error with article on link:  http://www.reuters.com/article/2013/01/16/us-usa-politics-hillary-idUSBRE90F0A820130116\n",
            "Completed row 1297/2093 - 61.97% completed\n",
            "Completed row 1298/2093 - 62.02% completed\n",
            "Completed row 1299/2093 - 62.06% completed\n",
            "Error with article on link:  http://www.washingtonpost.com/politics/republican-party-could-learn-a-lot-from-the-democrats-of-1989/2013/09/22/a8e66922-239b-11e3-b3e9-d97fb087acd6_story_1.html\n",
            "Completed row 1301/2093 - 62.16% completed\n",
            "Completed row 1302/2093 - 62.21% completed\n",
            "Completed row 1303/2093 - 62.26% completed\n",
            "Completed row 1304/2093 - 62.30% completed\n",
            "Completed row 1305/2093 - 62.35% completed\n",
            "Error with article on link:  http://www.breitbart.com/Big-Government/2013/02/13/Republicans-Immigration-Texas\n",
            "Completed row 1307/2093 - 62.45% completed\n",
            "Completed row 1308/2093 - 62.49% completed\n",
            "Error with article on link:  http://www.chicagotribune.com/news/columnists/ct-met-kass-1023-20131023,0,2121204.column\n",
            "Completed row 1310/2093 - 62.59% completed\n",
            "Error with article on link:  http://www.breitbart.com/Big-Government/2013/11/18/Exclusive-Gov-Scott-Walker-Recalls-Battle-With-Wisconsin-s-Precursor-To-Occupy\n",
            "Completed row 1312/2093 - 62.69% completed\n",
            "Completed row 1313/2093 - 62.73% completed\n",
            "Error with article on link:  http://www.foxnews.com/politics/2013/04/30/liberal-frustrations-grow-after-100-days-obama-20/\n",
            "Completed row 1315/2093 - 62.83% completed\n",
            "Error with article on link:  http://www.reuters.com/article/2013/01/20/us-usa-inauguration-idUSBRE90I04I20130120\n",
            "Completed row 1317/2093 - 62.92% completed\n",
            "Completed row 1318/2093 - 62.97% completed\n",
            "Completed row 1319/2093 - 63.02% completed\n",
            "Completed row 1320/2093 - 63.07% completed\n",
            "Error with article on link:  http://www.breitbart.com/Big-Journalism/2013/03/07/Public-Backlash-Hits-Chicago-Media-after-Attempting-to-Re-Convict-GOP-s-McKinley\n",
            "Error with article on link:  http://www.washingtonpost.com/blogs/the-fix/wp/2013/05/28/bob-dole-is-right-but-republicans-cant-follow-his-advice/\n",
            "Completed row 1323/2093 - 63.21% completed\n",
            "Completed row 1324/2093 - 63.26% completed\n",
            "Completed row 1325/2093 - 63.31% completed\n",
            "Completed row 1326/2093 - 63.35% completed\n",
            "Completed row 1327/2093 - 63.40% completed\n",
            "Completed row 1328/2093 - 63.45% completed\n",
            "Completed row 1329/2093 - 63.50% completed\n",
            "Error with article on link:  http://www.washingtonpost.com/opinions/rachel-maddow-presidents-must-nurture-the-next-generation-of-political-leadership/2013/12/11/210bf702-60f3-11e3-94ad-004fefa61ee6_story.html\n",
            "Completed row 1331/2093 - 63.59% completed\n",
            "Completed row 1332/2093 - 63.64% completed\n",
            "Completed row 1333/2093 - 63.69% completed\n",
            "Completed row 1334/2093 - 63.74% completed\n",
            "Error with article on link:  http://opinionator.blogs.nytimes.com/2013/01/23/can-republicans-change-their-spots/\n",
            "Completed row 1336/2093 - 63.83% completed\n",
            "Error with article on link:  http://www.reuters.com/article/2013/01/22/us-usa-inauguration-idUSBRE90I04I20130122\n",
            "Completed row 1338/2093 - 63.93% completed\n",
            "Completed row 1339/2093 - 63.98% completed\n",
            "Completed row 1340/2093 - 64.02% completed\n",
            "Completed row 1341/2093 - 64.07% completed\n",
            "Completed row 1342/2093 - 64.12% completed\n",
            "Completed row 1343/2093 - 64.17% completed\n",
            "Completed row 1344/2093 - 64.21% completed\n",
            "Completed row 1345/2093 - 64.26% completed\n",
            "Completed row 1346/2093 - 64.31% completed\n",
            "Completed row 1347/2093 - 64.36% completed\n",
            "Completed row 1348/2093 - 64.41% completed\n",
            "Completed row 1349/2093 - 64.45% completed\n",
            "Error with article on link:  http://www.washingtonpost.com/politics/new-york-readies-for-a-left-turn-at-city-hall/2013/10/19/ba1e33be-383b-11e3-8a0e-4e2cf80831fc_story.html\n",
            "Completed row 1351/2093 - 64.55% completed\n",
            "Completed row 1352/2093 - 64.60% completed\n",
            "Completed row 1353/2093 - 64.64% completed\n",
            "Completed row 1354/2093 - 64.69% completed\n",
            "Completed row 1355/2093 - 64.74% completed\n",
            "Completed row 1356/2093 - 64.79% completed\n",
            "Completed row 1357/2093 - 64.84% completed\n",
            "Completed row 1358/2093 - 64.88% completed\n",
            "Completed row 1359/2093 - 64.93% completed\n",
            "Completed row 1360/2093 - 64.98% completed\n",
            "Completed row 1361/2093 - 65.03% completed\n",
            "Completed row 1362/2093 - 65.07% completed\n",
            "Completed row 1363/2093 - 65.12% completed\n",
            "Completed row 1364/2093 - 65.17% completed\n",
            "Completed row 1365/2093 - 65.22% completed\n",
            "Completed row 1366/2093 - 65.27% completed\n",
            "Completed row 1367/2093 - 65.31% completed\n",
            "Error with article on link:  http://news.yahoo.com/blogs/power-players-abc-news/computer-geeks-save-gop-meet-guys-trying-party-115212714.html\n",
            "Completed row 1369/2093 - 65.41% completed\n",
            "Completed row 1370/2093 - 65.46% completed\n",
            "Error with article on link:  http://www.washingtonpost.com/blogs/post-politics/wp/2013/06/25/markey-wins-massachusetts-senate-race/\n",
            "Completed row 1372/2093 - 65.55% completed\n",
            "Completed row 1373/2093 - 65.60% completed\n",
            "Completed row 1374/2093 - 65.65% completed\n",
            "Completed row 1375/2093 - 65.70% completed\n",
            "Error with article on link:  http://www.washingtonpost.com/blogs/plum-line/wp/2013/07/29/why-yes-ted-cruz-is-a-demagogue/\n",
            "Completed row 1377/2093 - 65.79% completed\n",
            "Completed row 1378/2093 - 65.84% completed\n",
            "Error with article on link:  http://www.washingtonpost.com/blogs/wonkblog/wp/2013/08/21/this-map-is-how-the-united-states-would-look-if-life-were-fair/\n",
            "Error with article on link:  http://www.washingtonpost.com/blogs/the-fix/wp/2013/08/21/why-terry-mcauliffe-is-winning-the-virginia-governors-race/\n",
            "Completed row 1381/2093 - 65.98% completed\n",
            "Completed row 1382/2093 - 66.03% completed\n",
            "Completed row 1383/2093 - 66.08% completed\n",
            "Completed row 1384/2093 - 66.13% completed\n",
            "Completed row 1385/2093 - 66.17% completed\n",
            "Completed row 1386/2093 - 66.22% completed\n",
            "Completed row 1387/2093 - 66.27% completed\n",
            "Completed row 1388/2093 - 66.32% completed\n",
            "Completed row 1389/2093 - 66.36% completed\n",
            "Completed row 1390/2093 - 66.41% completed\n",
            "Completed row 1391/2093 - 66.46% completed\n",
            "Error with article on link:  http://www.dailykos.com/story/2013/01/03/1175909/-O-The-President\n",
            "Error with article on link:  http://www.chicagotribune.com/news/local/ct-met-oberweis-republicans-20131103,0,4684221.story\n",
            "Error with article on link:  http://www.washingtonpost.com/blogs/the-fix/wp/2013/07/31/gop-finds-its-own-war-on-women/\n",
            "Completed row 1395/2093 - 66.65% completed\n",
            "Completed row 1396/2093 - 66.70% completed\n",
            "Completed row 1397/2093 - 66.75% completed\n",
            "Completed row 1398/2093 - 66.79% completed\n",
            "Completed row 1399/2093 - 66.84% completed\n",
            "Completed row 1400/2093 - 66.89% completed\n",
            "Error with article on link:  http://www.reuters.com/article/2013/08/19/us-usa-politics-cruz-idUSBRE97I0QV20130819\n",
            "Completed row 1402/2093 - 66.99% completed\n",
            "Error with article on link:  http://www.washingtonpost.com/opinions/rachel-maddow-presidents-must-nurture-the-next-generation-of-political-leadership/2013/12/11/210bf702-60f3-11e3-94ad-004fefa61ee6_story.html\n",
            "Completed row 1404/2093 - 67.08% completed\n",
            "Completed row 1405/2093 - 67.13% completed\n",
            "Error with article on link:  http://www.nbcnews.com/id/52581502/t/sad-reality-far-rights-blind-obama-hatred/\n",
            "Completed row 1407/2093 - 67.22% completed\n",
            "Error with article on link:  http://www.washingtonpost.com/blogs/plum-line/wp/2013/03/18/a-cool-gop-still-wont-win-young-voters/\n",
            "Completed row 1409/2093 - 67.32% completed\n",
            "Completed row 1410/2093 - 67.37% completed\n",
            "Completed row 1411/2093 - 67.42% completed\n",
            "Completed row 1412/2093 - 67.46% completed\n",
            "Completed row 1413/2093 - 67.51% completed\n",
            "Completed row 1414/2093 - 67.56% completed\n",
            "Completed row 1415/2093 - 67.61% completed\n",
            "Completed row 1416/2093 - 67.65% completed\n",
            "Completed row 1417/2093 - 67.70% completed\n",
            "Completed row 1418/2093 - 67.75% completed\n",
            "Completed row 1419/2093 - 67.80% completed\n",
            "Completed row 1420/2093 - 67.85% completed\n",
            "Completed row 1421/2093 - 67.89% completed\n",
            "Error with article on link:  http://www.washingtonpost.com/politics/house-approves-97b-in-sandy-aid-with-some-republican-dissent/2013/01/04/6a232c1c-5681-11e2-bf3e-76c0a789346f_story.html\n",
            "Completed row 1423/2093 - 67.99% completed\n",
            "Completed row 1424/2093 - 68.04% completed\n",
            "Completed row 1425/2093 - 68.08% completed\n",
            "Completed row 1426/2093 - 68.13% completed\n",
            "Completed row 1427/2093 - 68.18% completed\n",
            "Completed row 1428/2093 - 68.23% completed\n",
            "Completed row 1429/2093 - 68.28% completed\n",
            "Completed row 1430/2093 - 68.32% completed\n",
            "Completed row 1431/2093 - 68.37% completed\n",
            "Completed row 1432/2093 - 68.42% completed\n",
            "Completed row 1433/2093 - 68.47% completed\n",
            "Completed row 1434/2093 - 68.51% completed\n",
            "Completed row 1435/2093 - 68.56% completed\n",
            "Completed row 1436/2093 - 68.61% completed\n",
            "Error with article on link:  http://www.washingtonpost.com/blogs/reliable-source/wp/2013/09/25/george-h-w-bush-is-witness-at-same-sex-marriage-in-maine/\n",
            "Completed row 1438/2093 - 68.71% completed\n",
            "Completed row 1439/2093 - 68.75% completed\n",
            "Completed row 1440/2093 - 68.80% completed\n",
            "Completed row 1441/2093 - 68.85% completed\n",
            "Completed row 1442/2093 - 68.90% completed\n",
            "Completed row 1443/2093 - 68.94% completed\n",
            "Completed row 1444/2093 - 68.99% completed\n",
            "Completed row 1445/2093 - 69.04% completed\n",
            "Completed row 1446/2093 - 69.09% completed\n",
            "Completed row 1447/2093 - 69.14% completed\n",
            "Completed row 1448/2093 - 69.18% completed\n",
            "Completed row 1449/2093 - 69.23% completed\n",
            "Completed row 1450/2093 - 69.28% completed\n",
            "Completed row 1451/2093 - 69.33% completed\n",
            "Completed row 1452/2093 - 69.37% completed\n",
            "Completed row 1453/2093 - 69.42% completed\n",
            "Completed row 1454/2093 - 69.47% completed\n",
            "Completed row 1455/2093 - 69.52% completed\n",
            "Completed row 1456/2093 - 69.57% completed\n",
            "Completed row 1457/2093 - 69.61% completed\n",
            "Completed row 1458/2093 - 69.66% completed\n",
            "Completed row 1459/2093 - 69.71% completed\n",
            "Completed row 1460/2093 - 69.76% completed\n",
            "Completed row 1461/2093 - 69.80% completed\n",
            "Completed row 1462/2093 - 69.85% completed\n",
            "Completed row 1463/2093 - 69.90% completed\n",
            "Completed row 1464/2093 - 69.95% completed\n",
            "Completed row 1465/2093 - 70.00% completed\n",
            "Completed row 1466/2093 - 70.04% completed\n",
            "Completed row 1467/2093 - 70.09% completed\n",
            "Completed row 1468/2093 - 70.14% completed\n",
            "Error with article on link:  http://www.reuters.com/article/2013/01/26/us-usa-guns-march-idUSBRE90P0DE20130126\n",
            "Completed row 1470/2093 - 70.23% completed\n",
            "Completed row 1471/2093 - 70.28% completed\n",
            "Error with article on link:  http://www.reuters.com/article/2013/10/12/us-usa-california-guns-idUSBRE99A0TX20131012\n",
            "Completed row 1473/2093 - 70.38% completed\n",
            "Completed row 1474/2093 - 70.43% completed\n",
            "Completed row 1475/2093 - 70.47% completed\n",
            "Error with article on link:  http://www.breitbart.com/Big-Government/2013/02/18/College-Students-Seek-Right-to-Concealed-Carry-on-Campus\n",
            "Error with article on link:  http://radio.foxnews.com/toddstarnes/top-stories/school-americans-dont-have-right-to-bear-arms.html\n",
            "Completed row 1478/2093 - 70.62% completed\n",
            "Completed row 1479/2093 - 70.66% completed\n",
            "Completed row 1480/2093 - 70.71% completed\n",
            "Completed row 1481/2093 - 70.76% completed\n",
            "Error with article on link:  http://www.washingtonpost.com/blogs/fact-checker/post/ted-cruzs-claim-on-gun-background-check-prosecutions/2013/04/11/e4c4fa6e-a2ed-11e2-82bc-511538ae90a4_blog.html\n",
            "Error with article on link:  http://www.reuters.com/article/2013/07/09/usa-shooting-newtown-idUSL1N0FE1XM20130709\n",
            "Completed row 1484/2093 - 70.90% completed\n",
            "Error with article on link:  http://www.reuters.com/article/2013/01/09/us-usa-guns-biden-idUSBRE9080UA20130109\n",
            "Completed row 1486/2093 - 71.00% completed\n",
            "Error with article on link:  http://www.washingtonpost.com/blogs/plum-line/wp/2013/02/11/the-problem-runs-a-lot-deeper-than-ted-nugent/\n",
            "Completed row 1488/2093 - 71.09% completed\n",
            "Error with article on link:  http://www.washingtonpost.com/blogs/post-politics/wp/2013/01/15/nra-obama-ad/\n",
            "Completed row 1490/2093 - 71.19% completed\n",
            "Completed row 1491/2093 - 71.24% completed\n",
            "Completed row 1492/2093 - 71.29% completed\n",
            "Error with article on link:  http://www.chicagotribune.com/news/local/breaking/chi-attorney-general-wants-time-to-consider-concealed-weapons-appeal-20130429,0,3010431.story\n",
            "Error with article on link:  http://www.washingtonpost.com/blogs/post-politics/wp/2013/04/17/senate-to-vote-on-amendments-to-gun-bill-with-background-check-plan-in-doubt/\n",
            "Completed row 1495/2093 - 71.43% completed\n",
            "Completed row 1496/2093 - 71.48% completed\n",
            "Completed row 1497/2093 - 71.52% completed\n",
            "Completed row 1498/2093 - 71.57% completed\n",
            "Completed row 1499/2093 - 71.62% completed\n",
            "Completed row 1500/2093 - 71.67% completed\n",
            "Completed row 1501/2093 - 71.72% completed\n",
            "Completed row 1502/2093 - 71.76% completed\n",
            "Completed row 1503/2093 - 71.81% completed\n",
            "Completed row 1504/2093 - 71.86% completed\n",
            "Completed row 1505/2093 - 71.91% completed\n",
            "Error with article on link:  http://www.foxnews.com/politics/2013/02/04/obama-to-appeal-to-public-law-enforcement-for-support-on-new-gun-control-laws/print\n",
            "Completed row 1507/2093 - 72.00% completed\n",
            "Error with article on link:  http://www.reuters.com/article/2013/09/22/us-usa-guns-idUSBRE98L0C920130922\n",
            "Completed row 1509/2093 - 72.10% completed\n",
            "Completed row 1510/2093 - 72.15% completed\n",
            "Completed row 1511/2093 - 72.19% completed\n",
            "Completed row 1512/2093 - 72.24% completed\n",
            "Completed row 1513/2093 - 72.29% completed\n",
            "Error with article on link:  http://www.washingtonpost.com/politics/in-campaign-for-tougher-gun-laws-obama-and-allies-work-to-tilt-public-opinion/2013/01/09/64b07be0-5a8c-11e2-9fa9-5fbdc9530eb9_story.html\n",
            "Completed row 1515/2093 - 72.38% completed\n",
            "Error with article on link:  http://www.breitbart.com/Big-Government/2013/01/17/Hundreds-of-Death-Threats-Reflect-Obama-s-Tactics-Says-NRA-President-Keene\n",
            "Completed row 1517/2093 - 72.48% completed\n",
            "Completed row 1518/2093 - 72.53% completed\n",
            "Completed row 1519/2093 - 72.58% completed\n",
            "Completed row 1520/2093 - 72.62% completed\n",
            "Completed row 1521/2093 - 72.67% completed\n",
            "Completed row 1522/2093 - 72.72% completed\n",
            "Error with article on link:  http://www.washingtonpost.com/politics/nra-celebrates-recent-gains-on-guns-faces-long-term-challenges/2013/05/06/ae4444c2-b66b-11e2-92f3-f291801936b8_story.html\n",
            "Completed row 1524/2093 - 72.81% completed\n",
            "Error with article on link:  http://www.washingtonpost.com/politics/obama-in-conn-to-push-for-gun-control-as-critical-week-begins-in-congress/2013/04/08/2dbadd0a-a060-11e2-9c03-6952ff305f35_story.html\n",
            "Completed row 1526/2093 - 72.91% completed\n",
            "Completed row 1527/2093 - 72.96% completed\n",
            "Completed row 1528/2093 - 73.01% completed\n",
            "Completed row 1529/2093 - 73.05% completed\n",
            "Completed row 1530/2093 - 73.10% completed\n",
            "Completed row 1531/2093 - 73.15% completed\n",
            "Completed row 1532/2093 - 73.20% completed\n",
            "Error with article on link:  http://www.washingtonpost.com/opinions/eugene-robinson-obamacare-the-gop-nightmare/2013/09/23/fd29187a-246a-11e3-b75d-5b7f66349852_story.html\n",
            "Completed row 1534/2093 - 73.29% completed\n",
            "Error with article on link:  http://www.latimes.com/business/la-fi-health-sticker-shock-20131027,0,4888906,full.story\n",
            "Completed row 1536/2093 - 73.39% completed\n",
            "Completed row 1537/2093 - 73.44% completed\n",
            "Completed row 1538/2093 - 73.48% completed\n",
            "Completed row 1539/2093 - 73.53% completed\n",
            "Completed row 1540/2093 - 73.58% completed\n",
            "Completed row 1541/2093 - 73.63% completed\n",
            "Completed row 1542/2093 - 73.67% completed\n",
            "Completed row 1543/2093 - 73.72% completed\n",
            "Completed row 1544/2093 - 73.77% completed\n",
            "Completed row 1545/2093 - 73.82% completed\n",
            "Completed row 1546/2093 - 73.87% completed\n",
            "Completed row 1547/2093 - 73.91% completed\n",
            "Completed row 1548/2093 - 73.96% completed\n",
            "Completed row 1549/2093 - 74.01% completed\n",
            "Error with article on link:  http://www.breitbart.com/Big-Government/2013/10/11/The-True-Purpose-Of-ObamaCare-A-Single-Payer-Trojan-Horse\n",
            "Completed row 1551/2093 - 74.10% completed\n",
            "Error with article on link:  http://www.washingtonpost.com/business/on-small-business/delayed-employer-mandate-the-latest-setback-for-increasingly-volatile-health-care-law/2013/07/03/ad1393b8-e38a-11e2-aef3-339619eab080_story.html\n",
            "Completed row 1553/2093 - 74.20% completed\n",
            "Completed row 1554/2093 - 74.25% completed\n",
            "Completed row 1555/2093 - 74.30% completed\n",
            "Completed row 1556/2093 - 74.34% completed\n",
            "Completed row 1557/2093 - 74.39% completed\n",
            "Error with article on link:  http://news.yahoo.com/obama-blasts-government-shutdown-threat-gop-wants-individual-181621512--abc-news-politics.html\n",
            "Completed row 1559/2093 - 74.49% completed\n",
            "Completed row 1560/2093 - 74.53% completed\n",
            "Completed row 1561/2093 - 74.58% completed\n",
            "Completed row 1562/2093 - 74.63% completed\n",
            "Completed row 1563/2093 - 74.68% completed\n",
            "Completed row 1564/2093 - 74.73% completed\n",
            "Completed row 1565/2093 - 74.77% completed\n",
            "Completed row 1566/2093 - 74.82% completed\n",
            "Completed row 1567/2093 - 74.87% completed\n",
            "Completed row 1568/2093 - 74.92% completed\n",
            "Completed row 1569/2093 - 74.96% completed\n",
            "Completed row 1570/2093 - 75.01% completed\n",
            "Completed row 1571/2093 - 75.06% completed\n",
            "Completed row 1572/2093 - 75.11% completed\n",
            "Completed row 1573/2093 - 75.16% completed\n",
            "Completed row 1574/2093 - 75.20% completed\n",
            "Completed row 1575/2093 - 75.25% completed\n",
            "Completed row 1576/2093 - 75.30% completed\n",
            "Completed row 1577/2093 - 75.35% completed\n",
            "Completed row 1578/2093 - 75.39% completed\n",
            "Completed row 1579/2093 - 75.44% completed\n",
            "Completed row 1580/2093 - 75.49% completed\n",
            "Completed row 1581/2093 - 75.54% completed\n",
            "Completed row 1582/2093 - 75.59% completed\n",
            "Completed row 1583/2093 - 75.63% completed\n",
            "Completed row 1584/2093 - 75.68% completed\n",
            "Completed row 1585/2093 - 75.73% completed\n",
            "Completed row 1586/2093 - 75.78% completed\n",
            "Completed row 1587/2093 - 75.82% completed\n",
            "Completed row 1588/2093 - 75.87% completed\n",
            "Completed row 1589/2093 - 75.92% completed\n",
            "Completed row 1590/2093 - 75.97% completed\n",
            "Completed row 1591/2093 - 76.02% completed\n",
            "Completed row 1592/2093 - 76.06% completed\n",
            "Completed row 1593/2093 - 76.11% completed\n",
            "Completed row 1594/2093 - 76.16% completed\n",
            "Completed row 1595/2093 - 76.21% completed\n",
            "Completed row 1596/2093 - 76.25% completed\n",
            "Completed row 1597/2093 - 76.30% completed\n",
            "Completed row 1598/2093 - 76.35% completed\n",
            "Completed row 1599/2093 - 76.40% completed\n",
            "Completed row 1600/2093 - 76.45% completed\n",
            "Completed row 1601/2093 - 76.49% completed\n",
            "Completed row 1602/2093 - 76.54% completed\n",
            "Completed row 1603/2093 - 76.59% completed\n",
            "Completed row 1604/2093 - 76.64% completed\n",
            "Completed row 1605/2093 - 76.68% completed\n",
            "Completed row 1606/2093 - 76.73% completed\n",
            "Completed row 1607/2093 - 76.78% completed\n",
            "Completed row 1608/2093 - 76.83% completed\n",
            "Completed row 1609/2093 - 76.88% completed\n",
            "Error with article on link:  http://www.washingtonpost.com/blogs/fact-checker/wp/2013/09/11/the-gop-attack-on-a-dubious-obama-health-care-pledge/\n",
            "Completed row 1611/2093 - 76.97% completed\n",
            "Completed row 1612/2093 - 77.02% completed\n",
            "Completed row 1613/2093 - 77.07% completed\n",
            "Completed row 1614/2093 - 77.11% completed\n",
            "Completed row 1615/2093 - 77.16% completed\n",
            "Completed row 1616/2093 - 77.21% completed\n",
            "Completed row 1617/2093 - 77.26% completed\n",
            "Completed row 1618/2093 - 77.31% completed\n",
            "Completed row 1619/2093 - 77.35% completed\n",
            "Completed row 1620/2093 - 77.40% completed\n",
            "Error with article on link:  http://www.breitbart.com/Big-Government/2013/09/05/Conservatives-Rallying-To-Exempt-America\n",
            "Completed row 1622/2093 - 77.50% completed\n",
            "Completed row 1623/2093 - 77.54% completed\n",
            "Completed row 1624/2093 - 77.59% completed\n",
            "Completed row 1625/2093 - 77.64% completed\n",
            "Completed row 1626/2093 - 77.69% completed\n",
            "Error with article on link:  http://www.washingtonpost.com/blogs/the-switch/wp/2013/10/18/heres-how-obamas-first-chief-technology-officer-defends-the-healthcare-gov-launch/\n",
            "Completed row 1628/2093 - 77.78% completed\n",
            "Completed row 1629/2093 - 77.83% completed\n",
            "Completed row 1630/2093 - 77.88% completed\n",
            "Completed row 1631/2093 - 77.93% completed\n",
            "Completed row 1632/2093 - 77.97% completed\n",
            "Completed row 1633/2093 - 78.02% completed\n",
            "Error with article on link:  http://www.washingtonpost.com/opinions/dana-milbank-in-kathleen-sebelius-hearings-on-obamacare-a-party-without-a-brain/2013/10/30/6d9713da-41af-11e3-a624-41d661b0bb78_story.html\n",
            "Completed row 1635/2093 - 78.12% completed\n",
            "Completed row 1636/2093 - 78.17% completed\n",
            "Completed row 1637/2093 - 78.21% completed\n",
            "Completed row 1638/2093 - 78.26% completed\n",
            "Completed row 1639/2093 - 78.31% completed\n",
            "Completed row 1640/2093 - 78.36% completed\n",
            "Error with article on link:  http://www.washingtonpost.com/opinions/marc-thiessen-the-tea-party-needs-a-general-washington/2013/10/21/05df3fea-3a4f-11e3-a94f-b58017bfee6c_story_1.html\n",
            "Completed row 1642/2093 - 78.45% completed\n",
            "Completed row 1643/2093 - 78.50% completed\n",
            "Completed row 1644/2093 - 78.55% completed\n",
            "Completed row 1645/2093 - 78.60% completed\n",
            "Completed row 1646/2093 - 78.64% completed\n",
            "Completed row 1647/2093 - 78.69% completed\n",
            "Completed row 1648/2093 - 78.74% completed\n",
            "Error with article on link:  http://www.washingtonpost.com/opinions/eugene-robinson-obamacare-the-gop-nightmare/2013/09/23/fd29187a-246a-11e3-b75d-5b7f66349852_story.html\n",
            "Completed row 1650/2093 - 78.83% completed\n",
            "Completed row 1651/2093 - 78.88% completed\n",
            "Completed row 1652/2093 - 78.93% completed\n",
            "Completed row 1653/2093 - 78.98% completed\n",
            "Completed row 1654/2093 - 79.03% completed\n",
            "Completed row 1655/2093 - 79.07% completed\n",
            "Completed row 1656/2093 - 79.12% completed\n",
            "Completed row 1657/2093 - 79.17% completed\n",
            "Completed row 1658/2093 - 79.22% completed\n",
            "Error with article on link:  http://www.washingtonpost.com/opinions/matt-miller-the-gops-obamacare-youth-hoax/2013/08/21/39a5a3a2-0a5a-11e3-8974-f97ab3b3c677_story.html\n",
            "Completed row 1660/2093 - 79.31% completed\n",
            "Completed row 1661/2093 - 79.36% completed\n",
            "Completed row 1662/2093 - 79.41% completed\n",
            "Completed row 1663/2093 - 79.46% completed\n",
            "Completed row 1664/2093 - 79.50% completed\n",
            "Completed row 1665/2093 - 79.55% completed\n",
            "Completed row 1666/2093 - 79.60% completed\n",
            "Completed row 1667/2093 - 79.65% completed\n",
            "Error with article on link:  http://www.chicagotribune.com/news/opinion/editorials/ct-edit-obamacare-20130705,0,324356.story\n",
            "Error with article on link:  http://www.washingtonpost.com/blogs/wonkblog/wp/2013/05/31/the-cost-curve-is-bending-does-obamacare-deserve-the-credit/\n",
            "Completed row 1670/2093 - 79.79% completed\n",
            "Error with article on link:  http://www.breitbart.com/Big-Government/2013/09/23/Hannity-to-Ted-Cruz-Obamacare-defunding-a-tipping-point-for-the-country\n",
            "Completed row 1672/2093 - 79.89% completed\n",
            "Completed row 1673/2093 - 79.93% completed\n",
            "Completed row 1674/2093 - 79.98% completed\n",
            "Completed row 1675/2093 - 80.03% completed\n",
            "Completed row 1676/2093 - 80.08% completed\n",
            "Completed row 1677/2093 - 80.12% completed\n",
            "Completed row 1678/2093 - 80.17% completed\n",
            "Error with article on link:  http://www.foxnews.com/on-air/oreilly/2013/04/08/bill-oreilly-it-looks-obamacare-already-descending-chaos\n",
            "Error with article on link:  http://www.reuters.com/article/2013/05/16/us-usa-healthcare-repeal-idUSBRE94F1CE20130516\n",
            "Completed row 1681/2093 - 80.32% completed\n",
            "Error with article on link:  http://www.washingtonpost.com/blogs/wonkblog/wp/2013/05/10/budget-request-denied-sebelius-turns-to-health-executives-to-finance-obamacare/\n",
            "Completed row 1683/2093 - 80.41% completed\n",
            "Completed row 1684/2093 - 80.46% completed\n",
            "Completed row 1685/2093 - 80.51% completed\n",
            "Completed row 1686/2093 - 80.55% completed\n",
            "Completed row 1687/2093 - 80.60% completed\n",
            "Completed row 1688/2093 - 80.65% completed\n",
            "Completed row 1689/2093 - 80.70% completed\n",
            "Completed row 1690/2093 - 80.75% completed\n",
            "Completed row 1691/2093 - 80.79% completed\n",
            "Completed row 1692/2093 - 80.84% completed\n",
            "Completed row 1693/2093 - 80.89% completed\n",
            "Completed row 1694/2093 - 80.94% completed\n",
            "Completed row 1695/2093 - 80.98% completed\n",
            "Completed row 1696/2093 - 81.03% completed\n",
            "Completed row 1697/2093 - 81.08% completed\n",
            "Completed row 1698/2093 - 81.13% completed\n",
            "Completed row 1699/2093 - 81.18% completed\n",
            "Completed row 1700/2093 - 81.22% completed\n",
            "Error with article on link:  http://www.breitbart.com/Big-Government/2013/09/13/A-Battle-Won-But-The-War-Continues-To-Defund-Obamacare\n",
            "Completed row 1702/2093 - 81.32% completed\n",
            "Completed row 1703/2093 - 81.37% completed\n",
            "Completed row 1704/2093 - 81.41% completed\n",
            "Completed row 1705/2093 - 81.46% completed\n",
            "Completed row 1706/2093 - 81.51% completed\n",
            "Completed row 1707/2093 - 81.56% completed\n",
            "Error with article on link:  http://www.reuters.com/article/2013/03/04/usa-florida-medicaid-idUSL1N0BWHH420130304\n",
            "Error with article on link:  http://www.latimes.com/business/la-fi-health-sticker-shock-20131027,0,4888906,full.story\n",
            "Completed row 1710/2093 - 81.70% completed\n",
            "Error with article on link:  http://www.washingtonpost.com/politics/washington-braces-for-the-first-shutdown-of-the-national-government-in-17-years/2013/09/30/977ebca2-29bd-11e3-97a3-ff2758228523_story_2.html\n",
            "Completed row 1712/2093 - 81.80% completed\n",
            "Completed row 1713/2093 - 81.84% completed\n",
            "Completed row 1714/2093 - 81.89% completed\n",
            "Completed row 1715/2093 - 81.94% completed\n",
            "Completed row 1716/2093 - 81.99% completed\n",
            "Completed row 1717/2093 - 82.04% completed\n",
            "Completed row 1718/2093 - 82.08% completed\n",
            "Completed row 1719/2093 - 82.13% completed\n",
            "Completed row 1720/2093 - 82.18% completed\n",
            "Completed row 1721/2093 - 82.23% completed\n",
            "Completed row 1722/2093 - 82.27% completed\n",
            "Completed row 1723/2093 - 82.32% completed\n",
            "Completed row 1724/2093 - 82.37% completed\n",
            "Completed row 1725/2093 - 82.42% completed\n",
            "Error with article on link:  http://www.reuters.com/article/2013/11/19/net-us-usa-healthcare-security-idUSBRE9AI0NR20131119\n",
            "Error with article on link:  http://www.washingtonpost.com/opinions/dana-milbank-republicans-obamacare-search-and-destroy-mission/2013/07/10/8e32d920-e9a9-11e2-8f22-de4bd2a2bd39_story.html\n",
            "Completed row 1728/2093 - 82.56% completed\n",
            "Completed row 1729/2093 - 82.61% completed\n",
            "Error with article on link:  http://www.reuters.com/article/2013/10/27/us-usa-healthcare-congress-idUSBRE99Q00Z20131027\n",
            "Completed row 1731/2093 - 82.70% completed\n",
            "Completed row 1732/2093 - 82.75% completed\n",
            "Completed row 1733/2093 - 82.80% completed\n",
            "Error with article on link:  http://www.breitbart.com/Big-Peace/2013/03/02/Report-FBI-Benghazi-Survivor-Interviews-Delivered-To-Senate-Intel-Committee\n",
            "Completed row 1735/2093 - 82.90% completed\n",
            "Completed row 1736/2093 - 82.94% completed\n",
            "Completed row 1737/2093 - 82.99% completed\n",
            "Completed row 1738/2093 - 83.04% completed\n",
            "Completed row 1739/2093 - 83.09% completed\n",
            "Completed row 1740/2093 - 83.13% completed\n",
            "Completed row 1741/2093 - 83.18% completed\n",
            "Completed row 1742/2093 - 83.23% completed\n",
            "Completed row 1743/2093 - 83.28% completed\n",
            "Error with article on link:  http://www.breitbart.com/Big-Journalism/2013/03/19/Pamela-Geller-s-Uninvited-Panel-Presentation-an-Attack-on-Stealth-Jihad\n",
            "Completed row 1745/2093 - 83.37% completed\n",
            "Completed row 1746/2093 - 83.42% completed\n",
            "Completed row 1747/2093 - 83.47% completed\n",
            "Completed row 1748/2093 - 83.52% completed\n",
            "Completed row 1749/2093 - 83.56% completed\n",
            "Error with article on link:  http://www.chicagotribune.com/news/opinion/editorials/ct-edit-hagel-20130115,0,7209039.story\n",
            "Completed row 1751/2093 - 83.66% completed\n",
            "Completed row 1752/2093 - 83.71% completed\n",
            "Completed row 1753/2093 - 83.76% completed\n",
            "Completed row 1754/2093 - 83.80% completed\n",
            "Completed row 1755/2093 - 83.85% completed\n",
            "Completed row 1756/2093 - 83.90% completed\n",
            "Completed row 1757/2093 - 83.95% completed\n",
            "Completed row 1758/2093 - 83.99% completed\n",
            "Completed row 1759/2093 - 84.04% completed\n",
            "Completed row 1760/2093 - 84.09% completed\n",
            "Error with article on link:  http://www.washingtonpost.com/opinions/five-myths-about-chuck-hagel/2013/01/10/72933f44-58e4-11e2-88d0-c4cf65c3ad15_story.html\n",
            "Error with article on link:  http://www.washingtonpost.com/blogs/plum-line/wp/2013/05/29/paul-ryan-admits-gop-cant-govern-without-a-hostage-crisis/\n",
            "Completed row 1763/2093 - 84.23% completed\n",
            "Error with article on link:  http://www.washingtonpost.com/lifestyle/style/cia-whistleblower-kiriakou-gets-posh-send-off-to-prison/2013/02/21/b3f0a2b8-7c7c-11e2-a044-676856536b40_print.html\n",
            "Error with article on link:  http://www.reuters.com/article/2013/05/24/us-usa-obama-speech-idUSBRE94M04Y20130524\n",
            "Completed row 1766/2093 - 84.38% completed\n",
            "Completed row 1767/2093 - 84.42% completed\n",
            "Completed row 1768/2093 - 84.47% completed\n",
            "Completed row 1769/2093 - 84.52% completed\n",
            "Completed row 1770/2093 - 84.57% completed\n",
            "Completed row 1771/2093 - 84.62% completed\n",
            "Completed row 1772/2093 - 84.66% completed\n",
            "Completed row 1773/2093 - 84.71% completed\n",
            "Completed row 1774/2093 - 84.76% completed\n",
            "Completed row 1775/2093 - 84.81% completed\n",
            "Completed row 1776/2093 - 84.85% completed\n",
            "Completed row 1777/2093 - 84.90% completed\n",
            "Completed row 1778/2093 - 84.95% completed\n",
            "Completed row 1779/2093 - 85.00% completed\n",
            "Error with article on link:  http://www.chicagotribune.com/news/sns-rt-us-usa-justice-apbre94c0zw-20130513,0,2384590.story\n",
            "Completed row 1781/2093 - 85.09% completed\n",
            "Completed row 1782/2093 - 85.14% completed\n",
            "Completed row 1783/2093 - 85.19% completed\n",
            "Error with article on link:  http://firstread.nbcnews.com/_news/2013/06/27/19172371-senate-poised-to-pass-sweeping-immigration-bill\n",
            "Error with article on link:  http://www.washingtonpost.com/politics/senate-republicans-have-the-votes-to-filibuster-on-hagel/2013/02/14/91afab0c-76c5-11e2-8f84-3e4b513b1a13_print.html\n",
            "Completed row 1786/2093 - 85.33% completed\n",
            "Error with article on link:  http://usnews.nbcnews.com/_news/2013/03/14/17315534-us-border-patrol-reports-70-percent-spike-in-assaults-on-agents\n",
            "Completed row 1788/2093 - 85.43% completed\n",
            "Completed row 1789/2093 - 85.48% completed\n",
            "Error with article on link:  http://www.reuters.com/article/2013/02/13/us-usa-guantanamo-idUSBRE91C1MW20130213\n",
            "Error with article on link:  http://www.washingtonpost.com/opinions/george-will-delay-of-obamacare-mandate-augurs-a-similar-approach-to-immigration/2013/07/05/4144fc06-e58a-11e2-aef3-339619eab080_story.html\n",
            "Error with article on link:  http://www.washingtonpost.com/opinions/dana-milbank-battle-tested-for-a-fight/2013/01/07/5fa3825a-591f-11e2-88d0-c4cf65c3ad15_story.html\n",
            "Error with article on link:  http://www.foxnews.com/politics/2013/05/30/holder-runs-into-roadblocks-on-off-record-meetings-on-scandals/\n",
            "Completed row 1794/2093 - 85.71% completed\n",
            "Completed row 1795/2093 - 85.76% completed\n",
            "Completed row 1796/2093 - 85.81% completed\n",
            "Error with article on link:  http://www.washingtonpost.com/world/national-security/for-nsa-chief-terrorist-threat-drives-passion-to-collect-it-all/2013/07/14/3d26ef80-ea49-11e2-a301-ea5a8116d211_story.html\n",
            "Completed row 1798/2093 - 85.91% completed\n",
            "Completed row 1799/2093 - 85.95% completed\n",
            "Completed row 1800/2093 - 86.00% completed\n",
            "Completed row 1801/2093 - 86.05% completed\n",
            "Error with article on link:  http://www.washingtonpost.com/blogs/post-politics/wp/2013/03/16/palin-delights-cpac-crowd-with-string-of-obama-one-liners/\n",
            "Completed row 1803/2093 - 86.14% completed\n",
            "Error with article on link:  http://www.washingtonpost.com/opinions/ej-dionne-in-budget-debate-republicans-are-stalling-obama/2013/02/20/26c298e6-7b8d-11e2-82e8-61a46c2cde3d_story.html\n",
            "Completed row 1805/2093 - 86.24% completed\n",
            "Completed row 1806/2093 - 86.29% completed\n",
            "Completed row 1807/2093 - 86.34% completed\n",
            "Error with article on link:  http://www.washingtonpost.com/blogs/wonkblog/wp/2013/01/24/harry-reid-explains-why-he-killed-filibuster-reform/\n",
            "Completed row 1809/2093 - 86.43% completed\n",
            "Completed row 1810/2093 - 86.48% completed\n",
            "Completed row 1811/2093 - 86.53% completed\n",
            "Completed row 1812/2093 - 86.57% completed\n",
            "Error with article on link:  http://www.breitbart.com/Big-Government/2013/01/08/Meet-the-Bullies-Breitbart-Editor-Exposes-Obamas-Army-of-Thugs-in-New-Book\n",
            "Error with article on link:  http://www.washingtonpost.com/opinions/michael-gerson-obama-shoves-idealism-into-its-grave/2013/01/21/3c8847bc-6412-11e2-85f5-a8a9228e55e7_story.html\n",
            "Completed row 1815/2093 - 86.72% completed\n",
            "Completed row 1816/2093 - 86.77% completed\n",
            "Completed row 1817/2093 - 86.81% completed\n",
            "Error with article on link:  http://www.foxnews.com/politics/2013/06/20/republicans-battle-over-immigration-security-as-bill-cruises-toward-senate-vote/\n",
            "Completed row 1819/2093 - 86.91% completed\n",
            "Error with article on link:  http://www.washingtonpost.com/blogs/the-fix/wp/2013/02/21/how-immigration-threatens-to-tear-the-gop-apart/\n",
            "Completed row 1821/2093 - 87.00% completed\n",
            "Completed row 1822/2093 - 87.05% completed\n",
            "Completed row 1823/2093 - 87.10% completed\n",
            "Completed row 1824/2093 - 87.15% completed\n",
            "Completed row 1825/2093 - 87.20% completed\n",
            "Completed row 1826/2093 - 87.24% completed\n",
            "Completed row 1827/2093 - 87.29% completed\n",
            "Completed row 1828/2093 - 87.34% completed\n",
            "Completed row 1829/2093 - 87.39% completed\n",
            "Completed row 1830/2093 - 87.43% completed\n",
            "Completed row 1831/2093 - 87.48% completed\n",
            "Error with article on link:  http://www.reuters.com/article/2013/06/11/usa-agriculture-farm-bill-idUSL2N0EM24020130611\n",
            "Completed row 1833/2093 - 87.58% completed\n",
            "Completed row 1834/2093 - 87.63% completed\n",
            "Completed row 1835/2093 - 87.67% completed\n",
            "Error with article on link:  http://www.washingtonpost.com/blogs/the-fix/wp/2013/05/08/how-mark-sanford-won-2/\n",
            "Completed row 1837/2093 - 87.77% completed\n",
            "Completed row 1838/2093 - 87.82% completed\n",
            "Error with article on link:  http://www.chicagotribune.com/news/politics/obama/ct-oped-0303-krauthammer-20130304-7,0,7430782.story\n",
            "Completed row 1840/2093 - 87.91% completed\n",
            "Error with article on link:  http://www.reuters.com/article/2013/02/02/us-obama-guns-idUSBRE9110AP20130202\n",
            "Completed row 1842/2093 - 88.01% completed\n",
            "Completed row 1843/2093 - 88.06% completed\n",
            "Completed row 1844/2093 - 88.10% completed\n",
            "Error with article on link:  http://www.washingtonpost.com/politics/republican-party-could-learn-a-lot-from-the-democrats-of-1989/2013/09/22/a8e66922-239b-11e3-b3e9-d97fb087acd6_story.html\n",
            "Error with article on link:  http://www.reuters.com/article/2013/07/20/us-helenthomas-idUSBRE96J05K20130720\n",
            "Completed row 1847/2093 - 88.25% completed\n",
            "Completed row 1848/2093 - 88.29% completed\n",
            "Completed row 1849/2093 - 88.34% completed\n",
            "Completed row 1850/2093 - 88.39% completed\n",
            "Completed row 1851/2093 - 88.44% completed\n",
            "Completed row 1852/2093 - 88.49% completed\n",
            "Completed row 1853/2093 - 88.53% completed\n",
            "Completed row 1854/2093 - 88.58% completed\n",
            "Completed row 1855/2093 - 88.63% completed\n",
            "Completed row 1856/2093 - 88.68% completed\n",
            "Error with article on link:  http://www.breitbart.com/Big-Government/2013/08/27/Democrats-La-Raza-MSNBC-Left-team-to-invoke-civil-rights-to-drive-amnesty-agenda\n",
            "Error with article on link:  http://www.washingtonpost.com/blogs/wonkblog/wp/2013/01/24/harry-reid-explains-why-he-killed-filibuster-reform/\n",
            "Completed row 1859/2093 - 88.82% completed\n",
            "Completed row 1860/2093 - 88.87% completed\n",
            "Completed row 1861/2093 - 88.92% completed\n",
            "Completed row 1862/2093 - 88.96% completed\n",
            "Completed row 1863/2093 - 89.01% completed\n",
            "Completed row 1864/2093 - 89.06% completed\n",
            "Completed row 1865/2093 - 89.11% completed\n",
            "Completed row 1866/2093 - 89.15% completed\n",
            "Completed row 1867/2093 - 89.20% completed\n",
            "Completed row 1868/2093 - 89.25% completed\n",
            "Completed row 1869/2093 - 89.30% completed\n",
            "Completed row 1870/2093 - 89.35% completed\n",
            "Error with article on link:  http://www.foxnews.com/politics/2013/08/10/feds-arizona-request-for-disaster-relief-funds-to-help-wildfire-victims/\n",
            "Completed row 1872/2093 - 89.44% completed\n",
            "Completed row 1873/2093 - 89.49% completed\n",
            "Completed row 1874/2093 - 89.54% completed\n",
            "Completed row 1875/2093 - 89.58% completed\n",
            "Error with article on link:  http://www.washingtonpost.com/opinions/kathleen-parker-recalling-all-mavericks/2013/08/02/5baef0f0-fbb1-11e2-8752-b41d7ed1f685_story.html\n",
            "Completed row 1877/2093 - 89.68% completed\n",
            "Completed row 1878/2093 - 89.73% completed\n",
            "Completed row 1879/2093 - 89.78% completed\n",
            "Completed row 1880/2093 - 89.82% completed\n",
            "Completed row 1881/2093 - 89.87% completed\n",
            "Completed row 1882/2093 - 89.92% completed\n",
            "Completed row 1883/2093 - 89.97% completed\n",
            "Completed row 1884/2093 - 90.01% completed\n",
            "Completed row 1885/2093 - 90.06% completed\n",
            "Completed row 1886/2093 - 90.11% completed\n",
            "Completed row 1887/2093 - 90.16% completed\n",
            "Completed row 1888/2093 - 90.21% completed\n",
            "Completed row 1889/2093 - 90.25% completed\n",
            "Error with article on link:  http://www.washingtonpost.com/opinions/ej-dionne-boehners-house-implodes-over-flawed-farm-bill/2013/06/23/b6807272-dc41-11e2-bd83-e99e43c336ed_story.html\n",
            "Error with article on link:  http://www.chicagotribune.com/news/sns-rt-us-usa-obama-dinnerbre93r013-20130427,0,4862225.story\n",
            "Completed row 1892/2093 - 90.40% completed\n",
            "Completed row 1893/2093 - 90.44% completed\n",
            "Completed row 1894/2093 - 90.49% completed\n",
            "Completed row 1895/2093 - 90.54% completed\n",
            "Completed row 1896/2093 - 90.59% completed\n",
            "Completed row 1897/2093 - 90.64% completed\n",
            "Completed row 1898/2093 - 90.68% completed\n",
            "Error with article on link:  http://www.breitbart.com/Big-Journalism/2013/12/08/WaPo-Media-Reporter-Bashir-Fired-over-Palin-Remarks-Because-Outrage-Never-Abated\n",
            "Completed row 1900/2093 - 90.78% completed\n",
            "Completed row 1901/2093 - 90.83% completed\n",
            "Completed row 1902/2093 - 90.87% completed\n",
            "Completed row 1903/2093 - 90.92% completed\n",
            "Completed row 1904/2093 - 90.97% completed\n",
            "Completed row 1905/2093 - 91.02% completed\n",
            "Completed row 1906/2093 - 91.07% completed\n",
            "Completed row 1907/2093 - 91.11% completed\n",
            "Completed row 1908/2093 - 91.16% completed\n",
            "Completed row 1909/2093 - 91.21% completed\n",
            "Error with article on link:  http://www.chicagotribune.com/news/local/suburbs/highland_park_deerfield/ct-tl-lk-0207-highland-park-corgan-fallout-20130204,0,429411.story\n",
            "Completed row 1911/2093 - 91.30% completed\n",
            "Error with article on link:  http://www.chicagotribune.com/news/local/ct-met-immigration-rule-react-20130103,0,4410560.story\n",
            "Completed row 1913/2093 - 91.40% completed\n",
            "Error with article on link:  http://science.nbcnews.com/_news/2013/05/06/18086556-congress-urged-to-fund-private-astronaut-taxis\n",
            "Completed row 1915/2093 - 91.50% completed\n",
            "Error with article on link:  http://www.washingtonpost.com/blogs/right-turn/wp/2013/04/30/obama-press-conference-does-he-believe-what-he-is-saying/\n",
            "Error with article on link:  http://www.chicagotribune.com/news/politics/sns-rt-us-usa-fiscal-congress-20130917,0,6983746.story\n",
            "Error with article on link:  http://www.chicagotribune.com/news/local/ct-met-illegal-immigrant-drivers-licenses-0108-20130108,0,4714794.story\n",
            "Completed row 1919/2093 - 91.69% completed\n",
            "Completed row 1920/2093 - 91.73% completed\n",
            "Completed row 1921/2093 - 91.78% completed\n",
            "Completed row 1922/2093 - 91.83% completed\n",
            "Completed row 1923/2093 - 91.88% completed\n",
            "Completed row 1924/2093 - 91.93% completed\n",
            "Completed row 1925/2093 - 91.97% completed\n",
            "Completed row 1926/2093 - 92.02% completed\n",
            "Completed row 1927/2093 - 92.07% completed\n",
            "Completed row 1928/2093 - 92.12% completed\n",
            "Completed row 1929/2093 - 92.16% completed\n",
            "Error with article on link:  http://usnews.nbcnews.com/_news/2013/03/15/17330537-judge-strikes-down-secrecy-provision-of-controversial-counterterrorism-orders\n",
            "Error with article on link:  http://www.washingtonpost.com/opinions/dana-milbank-embracing-misinformation-on-obama/2013/08/27/bb73493a-0f4f-11e3-bdf6-e4fc677d94a1_story.html\n",
            "Completed row 1932/2093 - 92.31% completed\n",
            "Completed row 1933/2093 - 92.36% completed\n",
            "Completed row 1934/2093 - 92.40% completed\n",
            "Completed row 1935/2093 - 92.45% completed\n",
            "Completed row 1936/2093 - 92.50% completed\n",
            "Error with article on link:  http://www.breitbart.com/Big-Government/2013/09/06/Politico-s-Mike-Allen-and-Jim-VandeHei-Amnesty-dead-until-2017\n",
            "Error with article on link:  http://www.washingtonpost.com/blogs/plum-line/wp/2013/01/30/happy-hour-roundup-41/\n",
            "Completed row 1939/2093 - 92.64% completed\n",
            "Completed row 1940/2093 - 92.69% completed\n",
            "Completed row 1941/2093 - 92.74% completed\n",
            "Error with article on link:  http://www.washingtonpost.com/blogs/post-partisan/wp/2013/11/21/republicans-have-only-themselves-to-blame-for-reids-nuclear-option/\n",
            "Completed row 1943/2093 - 92.83% completed\n",
            "Completed row 1944/2093 - 92.88% completed\n",
            "Error with article on link:  http://www.washingtonpost.com/local/dc-politics/dc-council-candidate-asks-opponent-to-exit-race-as-at-large-election-nears/2013/04/21/7333ffd8-aab0-11e2-a8b9-2a63d75b5459_story.html\n",
            "Completed row 1946/2093 - 92.98% completed\n",
            "Completed row 1947/2093 - 93.02% completed\n",
            "Completed row 1948/2093 - 93.07% completed\n",
            "Completed row 1949/2093 - 93.12% completed\n",
            "Completed row 1950/2093 - 93.17% completed\n",
            "Completed row 1951/2093 - 93.22% completed\n",
            "Completed row 1952/2093 - 93.26% completed\n",
            "Completed row 1953/2093 - 93.31% completed\n",
            "Completed row 1954/2093 - 93.36% completed\n",
            "Completed row 1955/2093 - 93.41% completed\n",
            "Error with article on link:  http://www.washingtonpost.com/politics/federal_government/house-panel-moves-to-fire-workers-with-overdue-tax-liens-union-protests-budget-cuts/2013/03/20/ec2d08ea-9196-11e2-bdea-e32ad90da239_story.html\n",
            "Completed row 1957/2093 - 93.50% completed\n",
            "Completed row 1958/2093 - 93.55% completed\n",
            "Completed row 1959/2093 - 93.60% completed\n",
            "Error with article on link:  http://latino.foxnews.com/latino/politics/2013/12/17/sen-marco-rubio-about-signing-up-for-federal-health-care-exchange-dont-endorse/\n",
            "Error with article on link:  http://www.breitbart.com/Big-Journalism/2013/04/04/Conservative-Leaders-Demand-MSM-End-Censorship-of-House-of-Horrors-Abortion-Doc-On-Trial-for-Infanticide\n",
            "Completed row 1962/2093 - 93.74% completed\n",
            "Completed row 1963/2093 - 93.79% completed\n",
            "Completed row 1964/2093 - 93.84% completed\n",
            "Completed row 1965/2093 - 93.88% completed\n",
            "Error with article on link:  http://www.washingtonpost.com/blogs/right-turn/wp/2013/06/06/no-legal-exceptions-for-rice-and-panetta/\n",
            "Completed row 1967/2093 - 93.98% completed\n",
            "Error with article on link:  http://nbcpolitics.nbcnews.com/_news/2013/10/26/21175199-republican-senator-ted-cruz-on-cheney-shooting-incident-look-it-happens\n",
            "Error with article on link:  http://www.breitbart.com/Big-Government/2013/11/18/Exclusive-Gov-Scott-Walker-Recalls-Battle-With-Wisconsin-s-Precursor-To-Occupy\n",
            "Completed row 1970/2093 - 94.12% completed\n",
            "Completed row 1971/2093 - 94.17% completed\n",
            "Completed row 1972/2093 - 94.22% completed\n",
            "Completed row 1973/2093 - 94.27% completed\n",
            "Completed row 1974/2093 - 94.31% completed\n",
            "Completed row 1975/2093 - 94.36% completed\n",
            "Completed row 1976/2093 - 94.41% completed\n",
            "Completed row 1977/2093 - 94.46% completed\n",
            "Completed row 1978/2093 - 94.51% completed\n",
            "Error with article on link:  http://www.breitbart.com/Big-Government/2013/04/27/Obama-Calls-Bachmann-A-Book-Burner\n",
            "Completed row 1980/2093 - 94.60% completed\n",
            "Completed row 1981/2093 - 94.65% completed\n",
            "Completed row 1982/2093 - 94.70% completed\n",
            "Error with article on link:  http://www.washingtonpost.com/blogs/plum-line/wp/2013/06/04/the-morning-plum-behind-jubilation-about-scandals-gop-is-rudderless-and-adrift/\n",
            "Completed row 1984/2093 - 94.79% completed\n",
            "Completed row 1985/2093 - 94.84% completed\n",
            "Error with article on link:  http://www.washingtonpost.com/politics/politics-is-a-team-sport-but-not-for-house-republicans/2013/06/30/9620aa76-e18a-11e2-aef3-339619eab080_story_1.html\n",
            "Completed row 1987/2093 - 94.94% completed\n",
            "Completed row 1988/2093 - 94.98% completed\n",
            "Completed row 1989/2093 - 95.03% completed\n",
            "Completed row 1990/2093 - 95.08% completed\n",
            "Completed row 1991/2093 - 95.13% completed\n",
            "Completed row 1992/2093 - 95.17% completed\n",
            "Completed row 1993/2093 - 95.22% completed\n",
            "Error with article on link:  http://www.washingtonpost.com/blogs/plum-line/wp/2013/07/18/is-mitch-mcconnell-losing-control-of-his-caucus/\n",
            "Completed row 1995/2093 - 95.32% completed\n",
            "Completed row 1996/2093 - 95.37% completed\n",
            "Error with article on link:  http://www.washingtonpost.com/blogs/wonkblog/wp/2013/10/01/why-boehner-doesnt-just-ditch-the-right/\n",
            "Completed row 1998/2093 - 95.46% completed\n",
            "Completed row 1999/2093 - 95.51% completed\n",
            "Error with article on link:  http://www.washingtonpost.com/opinions/the-numbers-prove-it-the-republican-party-is-estranged-from-america/2013/03/22/3050734c-900a-11e2-9abd-e4c5c9dc5e90_story_1.html\n",
            "Completed row 2001/2093 - 95.60% completed\n",
            "Completed row 2002/2093 - 95.65% completed\n",
            "Completed row 2003/2093 - 95.70% completed\n",
            "Completed row 2004/2093 - 95.75% completed\n",
            "Completed row 2005/2093 - 95.80% completed\n",
            "Error with article on link:  http://www.washingtonpost.com/blogs/right-turn/wp/2013/09/26/the-gops-fork-in-the-road/\n",
            "Completed row 2007/2093 - 95.89% completed\n",
            "Completed row 2008/2093 - 95.94% completed\n",
            "Completed row 2009/2093 - 95.99% completed\n",
            "Completed row 2010/2093 - 96.03% completed\n",
            "Completed row 2011/2093 - 96.08% completed\n",
            "Completed row 2012/2093 - 96.13% completed\n",
            "Completed row 2013/2093 - 96.18% completed\n",
            "Completed row 2014/2093 - 96.23% completed\n",
            "Completed row 2015/2093 - 96.27% completed\n",
            "Completed row 2016/2093 - 96.32% completed\n",
            "Error with article on link:  http://firstread.nbcnews.com/_news/2013/07/18/19540023-first-thoughts-trying-to-sell-health-care-again\n",
            "Completed row 2018/2093 - 96.42% completed\n",
            "Error with article on link:  http://www.chicagotribune.com/news/opinion/editorials/ct-senate-goes-nuclear-edit-20131122,0,6774345.story\n",
            "Completed row 2020/2093 - 96.51% completed\n",
            "Completed row 2021/2093 - 96.56% completed\n",
            "Completed row 2022/2093 - 96.61% completed\n",
            "Error with article on link:  http://www.reuters.com/article/2013/10/16/us-usa-fiscal-companies-idUSBRE99F0JT20131016\n",
            "Completed row 2024/2093 - 96.70% completed\n",
            "Completed row 2025/2093 - 96.75% completed\n",
            "Completed row 2026/2093 - 96.80% completed\n",
            "Completed row 2027/2093 - 96.85% completed\n",
            "Completed row 2028/2093 - 96.89% completed\n",
            "Error with article on link:  http://www.washingtonpost.com/opinions/five-myths-about-the-sequester/2013/02/28/6e670260-804a-11e2-a350-49866afab584_story_1.html\n",
            "Completed row 2030/2093 - 96.99% completed\n",
            "Completed row 2031/2093 - 97.04% completed\n",
            "Completed row 2032/2093 - 97.09% completed\n",
            "Error with article on link:  http://www.washingtonpost.com/blogs/post-partisan/wp/2013/07/23/the-republicans-are-losing-the-economic-argument/\n",
            "Completed row 2034/2093 - 97.18% completed\n",
            "Completed row 2035/2093 - 97.23% completed\n",
            "Completed row 2036/2093 - 97.28% completed\n",
            "Completed row 2037/2093 - 97.32% completed\n",
            "Completed row 2038/2093 - 97.37% completed\n",
            "Completed row 2039/2093 - 97.42% completed\n",
            "Completed row 2040/2093 - 97.47% completed\n",
            "Error with article on link:  http://www.reuters.com/article/2013/03/23/us-usa-fiscal-budget-idUSBRE92M02D20130323\n",
            "Completed row 2042/2093 - 97.56% completed\n",
            "Completed row 2043/2093 - 97.61% completed\n",
            "Completed row 2044/2093 - 97.66% completed\n",
            "Completed row 2045/2093 - 97.71% completed\n",
            "Completed row 2046/2093 - 97.75% completed\n",
            "Completed row 2047/2093 - 97.80% completed\n",
            "Completed row 2048/2093 - 97.85% completed\n",
            "Completed row 2049/2093 - 97.90% completed\n",
            "Completed row 2050/2093 - 97.95% completed\n",
            "Error with article on link:  http://news.yahoo.com/shutdown-gave-democrats-foolproof-strategy-2014-062700013.html\n",
            "Completed row 2052/2093 - 98.04% completed\n",
            "Completed row 2053/2093 - 98.09% completed\n",
            "Completed row 2054/2093 - 98.14% completed\n",
            "Error with article on link:  http://news.yahoo.com/blogs/power-players-abc-news/2013-s-top-political-ads-the-campaign-winning-afro-shaq-went-political-and-duck-dynasty-quacked-192548977.html\n",
            "Completed row 2056/2093 - 98.23% completed\n",
            "Completed row 2057/2093 - 98.28% completed\n",
            "Completed row 2058/2093 - 98.33% completed\n",
            "Completed row 2059/2093 - 98.38% completed\n",
            "Completed row 2060/2093 - 98.42% completed\n",
            "Completed row 2061/2093 - 98.47% completed\n",
            "Completed row 2062/2093 - 98.52% completed\n",
            "Error with article on link:  http://www.washingtonpost.com/blogs/post-partisan/wp/2013/11/26/dinesh-dsouza-and-his-vile-trayvon-tweet/\n",
            "Completed row 2064/2093 - 98.61% completed\n",
            "Completed row 2065/2093 - 98.66% completed\n",
            "Completed row 2066/2093 - 98.71% completed\n",
            "Completed row 2067/2093 - 98.76% completed\n",
            "Completed row 2068/2093 - 98.81% completed\n",
            "Completed row 2069/2093 - 98.85% completed\n",
            "Completed row 2070/2093 - 98.90% completed\n",
            "Completed row 2071/2093 - 98.95% completed\n",
            "Completed row 2072/2093 - 99.00% completed\n",
            "Completed row 2073/2093 - 99.04% completed\n",
            "Completed row 2074/2093 - 99.09% completed\n",
            "Completed row 2075/2093 - 99.14% completed\n",
            "Error with article on link:  http://www.washingtonpost.com/opinions/kathleen-parker-the-white-house-comedy-club/2013/10/25/4765e700-3db2-11e3-b6a9-da62c264f40e_story.html\n",
            "Completed row 2077/2093 - 99.24% completed\n",
            "Error with article on link:  http://www.breitbart.com/Big-Journalism/2013/09/21/Liberals-Furious-at-MSNBC-s-Chuck-Todd-Over-Obamacare-Comments\n",
            "Completed row 2079/2093 - 99.33% completed\n",
            "Completed row 2080/2093 - 99.38% completed\n",
            "Completed row 2081/2093 - 99.43% completed\n",
            "Completed row 2082/2093 - 99.47% completed\n",
            "Completed row 2083/2093 - 99.52% completed\n",
            "Completed row 2084/2093 - 99.57% completed\n",
            "Completed row 2085/2093 - 99.62% completed\n",
            "Completed row 2086/2093 - 99.67% completed\n",
            "Completed row 2087/2093 - 99.71% completed\n",
            "Error with article on link:  http://www.chicagotribune.com/news/chi-state-of-the-union-obama-20130213,0,4371415.story\n",
            "Completed row 2089/2093 - 99.81% completed\n",
            "Error with article on link:  http://www.washingtonpost.com/opinions/dana-milbank-senators-turn-the-tables-on-caymans-investor-jack-lew/2013/02/13/d01cac80-7631-11e2-95e4-6148e45d7adb_story.html\n",
            "Completed row 2091/2093 - 99.90% completed\n",
            "Error with article on link:  http://www.washingtonpost.com/opinions/ej-dionne-when-republicans-were-problem-solvers/2013/02/17/98b9f0cc-792e-11e2-9a75-dab0201670da_story.html\n",
            "Completed row 2093/2093 - 100.00% completed\n"
          ],
          "name": "stdout"
        }
      ]
    },
    {
      "cell_type": "code",
      "metadata": {
        "id": "a0CmvnUXY3cK"
      },
      "source": [
        "df_news.to_csv('bias_news.csv', index=False)"
      ],
      "execution_count": null,
      "outputs": []
    },
    {
      "cell_type": "code",
      "metadata": {
        "id": "wdOysJmWY-hf",
        "colab": {
          "base_uri": "https://localhost:8080/"
        },
        "outputId": "48e1c8ee-bbac-4500-a700-8547c0b2beaf"
      },
      "source": [
        "save_file_to_drive(\"bias_news.csv\", 'bias_news.csv')"
      ],
      "execution_count": null,
      "outputs": [
        {
          "output_type": "stream",
          "text": [
            "File ID: 1kb_bfCWGLlaX0hZHIUMmRsBSCdXF40jW\n"
          ],
          "name": "stdout"
        },
        {
          "output_type": "execute_result",
          "data": {
            "text/plain": [
              "{'id': '1kb_bfCWGLlaX0hZHIUMmRsBSCdXF40jW'}"
            ]
          },
          "metadata": {
            "tags": []
          },
          "execution_count": 21
        }
      ]
    },
    {
      "cell_type": "code",
      "metadata": {
        "id": "qYPrNGAXKane",
        "colab": {
          "base_uri": "https://localhost:8080/"
        },
        "outputId": "8e0ef194-2b12-4edc-b6e9-b31c903281d3"
      },
      "source": [
        "len(df_news[df_news['text'] != 'None'])"
      ],
      "execution_count": null,
      "outputs": [
        {
          "output_type": "execute_result",
          "data": {
            "text/plain": [
              "1672"
            ]
          },
          "metadata": {
            "tags": []
          },
          "execution_count": 23
        }
      ]
    },
    {
      "cell_type": "code",
      "metadata": {
        "id": "0As-mhEbKjlk"
      },
      "source": [
        "df_news = df_news[df_news['text'] != \"None\"]"
      ],
      "execution_count": null,
      "outputs": []
    },
    {
      "cell_type": "markdown",
      "metadata": {
        "id": "GdnPzfhtpsi6"
      },
      "source": [
        "### Second newspaper dataset\n",
        "This dataset comes from Kaggle - you can find the first version [here](https://www.kaggle.com/snapcrack/all-the-news). A second, much larger version, can be found [here](https://components.one/datasets/all-the-news-2-news-articles-dataset/). This dataset is very big (~2.7million articles), but the articles are not labelled for their political leaning. Following the method explained in [this article](https://www.thebipartisanpress.com/politics/calculating-political-bias-and-fighting-partisanship-with-ai/), I'm going to label them following the general bias showed by the publisher on average. The publishers' bias will be retrieved from [Media Bias/Fact Check](https://mediabiasfactcheck.com/)"
      ]
    },
    {
      "cell_type": "code",
      "metadata": {
        "id": "1Y1uKQttsM-5",
        "colab": {
          "base_uri": "https://localhost:8080/"
        },
        "outputId": "b37f0402-9cfa-406a-9bf0-3d913c801a22"
      },
      "source": [
        "!wget https://www.dropbox.com/s/cn2utnr5ipathhh/all-the-news-2-1.zip?dl=0"
      ],
      "execution_count": null,
      "outputs": [
        {
          "output_type": "stream",
          "text": [
            "--2020-10-07 15:32:04--  https://www.dropbox.com/s/cn2utnr5ipathhh/all-the-news-2-1.zip?dl=0\n",
            "Resolving www.dropbox.com (www.dropbox.com)... 162.125.65.1, 2620:100:6021:1::a27d:4101\n",
            "Connecting to www.dropbox.com (www.dropbox.com)|162.125.65.1|:443... connected.\n",
            "HTTP request sent, awaiting response... 301 Moved Permanently\n",
            "Location: /s/raw/cn2utnr5ipathhh/all-the-news-2-1.zip [following]\n",
            "--2020-10-07 15:32:05--  https://www.dropbox.com/s/raw/cn2utnr5ipathhh/all-the-news-2-1.zip\n",
            "Reusing existing connection to www.dropbox.com:443.\n",
            "HTTP request sent, awaiting response... 302 Found\n",
            "Location: https://uc7d6b977b7741c1a0d2e7d84cc7.dl.dropboxusercontent.com/cd/0/inline/BA1MFqfQtDc-X4M_Cr_czgeZLpZXJwIWEw56ntNs-B6RSNvjK2Jgw7I7I65sQT0rYq8MtO7MRc76UGPJ1I9dL_iDm4nQEiMSOvQci4EG7ky3-dunEESY25iX1x0rI2DMmh4/file# [following]\n",
            "--2020-10-07 15:32:05--  https://uc7d6b977b7741c1a0d2e7d84cc7.dl.dropboxusercontent.com/cd/0/inline/BA1MFqfQtDc-X4M_Cr_czgeZLpZXJwIWEw56ntNs-B6RSNvjK2Jgw7I7I65sQT0rYq8MtO7MRc76UGPJ1I9dL_iDm4nQEiMSOvQci4EG7ky3-dunEESY25iX1x0rI2DMmh4/file\n",
            "Resolving uc7d6b977b7741c1a0d2e7d84cc7.dl.dropboxusercontent.com (uc7d6b977b7741c1a0d2e7d84cc7.dl.dropboxusercontent.com)... 162.125.65.15, 2620:100:6021:15::a27d:410f\n",
            "Connecting to uc7d6b977b7741c1a0d2e7d84cc7.dl.dropboxusercontent.com (uc7d6b977b7741c1a0d2e7d84cc7.dl.dropboxusercontent.com)|162.125.65.15|:443... connected.\n",
            "HTTP request sent, awaiting response... 302 Found\n",
            "Location: /cd/0/inline2/BA3_VSSzvld0NP0zPk4OB9J_zn1oZ4hhPl2sKrUqxgRY1BeCK5qF6H7B9CWJoaOdMd-e7Z2MeXRYd5QnXuwsfRqnTuHt5MNiGDx7BnxeLBSD0MwH2ZmRQ-B86h-dQN_joCuQIwPc3lT00SeZP8_7Z87L2wked48XBAdUtsWqvGYVmj3Pd9z20tsGouURbcpV_P5YbWByDWsv8EM1A2zUPwfernLdGpg664_eUWAcIoDfA03PPN8hBq9rQldmUhnx7JMey8vSMHKb3vIO5FlFlRQ-C4ST31XE3YfAavlQZ-qG1m7bJM0yvfGtBBOEniUCqPH243XUi6gkZGedu_JKXPdn89pRbU-X73IJvSwuoBjVtg/file [following]\n",
            "--2020-10-07 15:32:06--  https://uc7d6b977b7741c1a0d2e7d84cc7.dl.dropboxusercontent.com/cd/0/inline2/BA3_VSSzvld0NP0zPk4OB9J_zn1oZ4hhPl2sKrUqxgRY1BeCK5qF6H7B9CWJoaOdMd-e7Z2MeXRYd5QnXuwsfRqnTuHt5MNiGDx7BnxeLBSD0MwH2ZmRQ-B86h-dQN_joCuQIwPc3lT00SeZP8_7Z87L2wked48XBAdUtsWqvGYVmj3Pd9z20tsGouURbcpV_P5YbWByDWsv8EM1A2zUPwfernLdGpg664_eUWAcIoDfA03PPN8hBq9rQldmUhnx7JMey8vSMHKb3vIO5FlFlRQ-C4ST31XE3YfAavlQZ-qG1m7bJM0yvfGtBBOEniUCqPH243XUi6gkZGedu_JKXPdn89pRbU-X73IJvSwuoBjVtg/file\n",
            "Reusing existing connection to uc7d6b977b7741c1a0d2e7d84cc7.dl.dropboxusercontent.com:443.\n",
            "HTTP request sent, awaiting response... 200 OK\n",
            "Length: 3362085662 (3.1G) [application/zip]\n",
            "Saving to: ‘all-the-news-2-1.zip?dl=0’\n",
            "\n",
            "all-the-news-2-1.zi 100%[===================>]   3.13G  22.0MB/s    in 2m 33s  \n",
            "\n",
            "2020-10-07 15:34:39 (21.0 MB/s) - ‘all-the-news-2-1.zip?dl=0’ saved [3362085662/3362085662]\n",
            "\n"
          ],
          "name": "stdout"
        }
      ]
    },
    {
      "cell_type": "code",
      "metadata": {
        "id": "1JhhhoGKs2fE",
        "colab": {
          "base_uri": "https://localhost:8080/"
        },
        "outputId": "13f8a59b-2915-478c-f32a-24cb8db43e96"
      },
      "source": [
        "!unzip all-the-news-2-1.zip"
      ],
      "execution_count": null,
      "outputs": [
        {
          "output_type": "stream",
          "text": [
            "Archive:  all-the-news-2-1.zip\n",
            "  inflating: all-the-news-2-1.csv    \n"
          ],
          "name": "stdout"
        }
      ]
    },
    {
      "cell_type": "code",
      "metadata": {
        "id": "M31I4u2kv3By"
      },
      "source": [
        "import pandas as pd\n",
        "import random\n",
        "\n",
        "total = 2700000\n",
        "sample = 500000 #File is too big to read it entirely\n",
        "skip = sorted(random.sample(range(1,total),total-sample))\n",
        "df = pd.read_csv('all-the-news-2-1.csv', skiprows=skip)"
      ],
      "execution_count": null,
      "outputs": []
    },
    {
      "cell_type": "markdown",
      "metadata": {
        "id": "-ycrgmOF1czX"
      },
      "source": [
        "Since the dataset is extremely large, we make it a little bit smaller by only selecting the most recent articles"
      ]
    },
    {
      "cell_type": "code",
      "metadata": {
        "id": "OrjqTXVm1yU8"
      },
      "source": [
        "df = df[~df['publication'].isna()]"
      ],
      "execution_count": null,
      "outputs": []
    },
    {
      "cell_type": "code",
      "metadata": {
        "id": "DdX6QHQ93fpV"
      },
      "source": [
        "df = df[~df['article'].isna()]"
      ],
      "execution_count": null,
      "outputs": []
    },
    {
      "cell_type": "code",
      "metadata": {
        "id": "7ItLpiag1r2J",
        "colab": {
          "base_uri": "https://localhost:8080/"
        },
        "outputId": "e2f063bf-4a70-4a57-dab2-974a8395e0f9"
      },
      "source": [
        "len(df)"
      ],
      "execution_count": null,
      "outputs": [
        {
          "output_type": "execute_result",
          "data": {
            "text/plain": [
              "478530"
            ]
          },
          "metadata": {
            "tags": []
          },
          "execution_count": 24
        }
      ]
    },
    {
      "cell_type": "code",
      "metadata": {
        "id": "1hEw9tSg3akb",
        "colab": {
          "base_uri": "https://localhost:8080/"
        },
        "outputId": "e5a3c224-ba29-4971-ab5a-af50067cc081"
      },
      "source": [
        "df.info()"
      ],
      "execution_count": null,
      "outputs": [
        {
          "output_type": "stream",
          "text": [
            "<class 'pandas.core.frame.DataFrame'>\n",
            "Int64Index: 478530 entries, 0 to 497901\n",
            "Data columns (total 12 columns):\n",
            " #   Column        Non-Null Count   Dtype  \n",
            "---  ------        --------------   -----  \n",
            " 0   Unnamed: 0    478530 non-null  int64  \n",
            " 1   Unnamed: 0.1  478530 non-null  int64  \n",
            " 2   date          478530 non-null  object \n",
            " 3   year          478530 non-null  int64  \n",
            " 4   month         478530 non-null  float64\n",
            " 5   day           478530 non-null  int64  \n",
            " 6   author        307464 non-null  object \n",
            " 7   title         478526 non-null  object \n",
            " 8   article       478530 non-null  object \n",
            " 9   url           478530 non-null  object \n",
            " 10  section       324446 non-null  object \n",
            " 11  publication   478530 non-null  object \n",
            "dtypes: float64(1), int64(4), object(7)\n",
            "memory usage: 47.5+ MB\n"
          ],
          "name": "stdout"
        }
      ]
    },
    {
      "cell_type": "code",
      "metadata": {
        "id": "GiseLMLM3l3K",
        "colab": {
          "base_uri": "https://localhost:8080/"
        },
        "outputId": "444e7732-5636-4dfa-9832-b42da40ee565"
      },
      "source": [
        "df['publication'].unique()"
      ],
      "execution_count": null,
      "outputs": [
        {
          "output_type": "execute_result",
          "data": {
            "text/plain": [
              "array(['Reuters', 'TMZ', 'Vox', 'Vice', 'Hyperallergic', 'Vice News',\n",
              "       'Business Insider', 'TechCrunch', 'Axios', 'Refinery 29',\n",
              "       'The Verge', 'Mashable', 'People', 'Economist', 'CNN', 'Gizmodo',\n",
              "       'New Yorker', 'Wired', 'CNBC', 'New Republic', 'Fox News',\n",
              "       'The Hill', 'Politico', 'The New York Times', 'Buzzfeed News',\n",
              "       'Washington Post'], dtype=object)"
            ]
          },
          "metadata": {
            "tags": []
          },
          "execution_count": 28
        }
      ]
    },
    {
      "cell_type": "code",
      "metadata": {
        "id": "iGMv8Vw-2Soc",
        "colab": {
          "base_uri": "https://localhost:8080/",
          "height": 641
        },
        "outputId": "98c0f279-3da3-46aa-a366-36b6d17c6cea"
      },
      "source": [
        "import matplotlib.pyplot as plt\n",
        "import seaborn as sns\n",
        "\n",
        "plt.figure(figsize = (15,8))\n",
        "plt.xticks(rotation=90, fontsize=10)\n",
        "g = sns.countplot(data=df, x='publication')\n",
        "g.set_xlabel('', fontsize = 20)\n",
        "g.set_ylabel('', fontsize = 20)\n",
        "g.set_title('Number of articles per publisher', fontsize = 40, pad=20)"
      ],
      "execution_count": null,
      "outputs": [
        {
          "output_type": "execute_result",
          "data": {
            "text/plain": [
              "Text(0.5, 1.0, 'Number of articles per publisher')"
            ]
          },
          "metadata": {
            "tags": []
          },
          "execution_count": 30
        },
        {
          "output_type": "display_data",
          "data": {
            "image/png": "[encoded data removed]",
            "text/plain": [
              "<Figure size 1080x576 with 1 Axes>"
            ]
          },
          "metadata": {
            "tags": [],
            "needs_background": "light"
          }
        }
      ]
    },
    {
      "cell_type": "code",
      "metadata": {
        "id": "ZPXWEgQF3TUi",
        "colab": {
          "base_uri": "https://localhost:8080/",
          "height": 566
        },
        "outputId": "e176a942-946f-4776-eae5-a43782c7eedb"
      },
      "source": [
        "plt.figure(figsize = (15,8))\n",
        "plt.xticks(rotation=45, fontsize=10)\n",
        "g = sns.countplot(data=df, x='year', order=[2016,2017,2018,2019,2020])\n",
        "g.set_xlabel('', fontsize = 20)\n",
        "g.set_ylabel('', fontsize = 20)\n",
        "g.set_title('Number of articles per publisher', fontsize = 40, pad=20)"
      ],
      "execution_count": null,
      "outputs": [
        {
          "output_type": "execute_result",
          "data": {
            "text/plain": [
              "Text(0.5, 1.0, 'Number of articles per publisher')"
            ]
          },
          "metadata": {
            "tags": []
          },
          "execution_count": 21
        },
        {
          "output_type": "display_data",
          "data": {
            "image/png": "[encoded data removed]",
            "text/plain": [
              "<Figure size 1080x576 with 1 Axes>"
            ]
          },
          "metadata": {
            "tags": [],
            "needs_background": "light"
          }
        }
      ]
    },
    {
      "cell_type": "markdown",
      "metadata": {
        "id": "Bth3fr_23zdx"
      },
      "source": [
        "Using the Media Bias Check rating, we give every publisher a rating between -1 and 1, where -1 is extreme left and 1 is extreme right"
      ]
    },
    {
      "cell_type": "code",
      "metadata": {
        "id": "aJ1al3nR4OJ2",
        "colab": {
          "base_uri": "https://localhost:8080/"
        },
        "outputId": "e262f058-9442-4e76-c8d9-b51209d960b2"
      },
      "source": [
        "df['publication'].unique()"
      ],
      "execution_count": null,
      "outputs": [
        {
          "output_type": "execute_result",
          "data": {
            "text/plain": [
              "array(['Reuters', 'TMZ', 'Vox', 'Vice', 'Hyperallergic', 'Vice News',\n",
              "       'Business Insider', 'TechCrunch', 'Axios', 'Refinery 29',\n",
              "       'The Verge', 'Mashable', 'People', 'Economist', 'CNN', 'Gizmodo',\n",
              "       'New Yorker', 'Wired', 'CNBC', 'New Republic', 'Fox News',\n",
              "       'The Hill', 'Politico', 'The New York Times', 'Buzzfeed News',\n",
              "       'Washington Post'], dtype=object)"
            ]
          },
          "metadata": {
            "tags": []
          },
          "execution_count": 31
        }
      ]
    },
    {
      "cell_type": "code",
      "metadata": {
        "id": "qpwgsPng6c5j"
      },
      "source": [
        "excluded_publication = ['Hyperallergic', 'TechCrunch']\n",
        "df = df[~df['publication'].isin(excluded_publication)]"
      ],
      "execution_count": null,
      "outputs": []
    },
    {
      "cell_type": "code",
      "metadata": {
        "id": "lDCz6Z3G3_QF"
      },
      "source": [
        "def rate_publisher(publisher):\n",
        "  if publisher == 'Reuters':\n",
        "    return 0\n",
        "  if publisher == 'TMZ':\n",
        "    return -0.25\n",
        "  if publisher == 'Vox':\n",
        "    return -0.6\n",
        "  if publisher == 'Vice':\n",
        "    return -0.25\n",
        "  if publisher == 'Vice News':\n",
        "    return -0.25\n",
        "  if publisher == 'Business Insider':\n",
        "    return -0.25\n",
        "  if publisher == 'Axios':\n",
        "    return -0.15\n",
        "  if publisher == 'Refinery 29':\n",
        "    return -0.6\n",
        "  if publisher == 'The Verge':\n",
        "    return -0.15\n",
        "  if publisher == 'Mashable':\n",
        "    return -0.5\n",
        "  if publisher == 'People':\n",
        "    return -0.5\n",
        "  if publisher == 'Economist':\n",
        "    return 0\n",
        "  if publisher == 'CNN':\n",
        "    return -0.5\n",
        "  if publisher == 'Gizmodo':\n",
        "    return -0.5\n",
        "  if publisher == 'New Yorker':\n",
        "    return -0.6\n",
        "  if publisher == 'Wired':\n",
        "    return -0.15\n",
        "  if publisher == 'CNBC':\n",
        "    return -0.15\n",
        "  if publisher == 'New Republic':\n",
        "    return -0.6\n",
        "  if publisher == 'Fox News':\n",
        "    return 0.7\n",
        "  if publisher == 'The Hill':\n",
        "    return 0\n",
        "  if publisher == 'Politico':\n",
        "    return -0.15\n",
        "  if publisher == 'The New York Times':\n",
        "    return -0.15\n",
        "  if publisher == 'Buzzfeed News':\n",
        "    return -0.5\n",
        "  if publisher == 'Washington Post':\n",
        "    return -0.25\n",
        "  return None\n",
        "\n",
        "\n",
        "df['rating'] = df['publication'].apply(rate_publisher)"
      ],
      "execution_count": null,
      "outputs": []
    },
    {
      "cell_type": "code",
      "metadata": {
        "id": "fOCVOA33-PfM"
      },
      "source": [
        "df = df.drop(df.columns.difference(['title', 'article', 'publication', 'rating']), axis=1)"
      ],
      "execution_count": null,
      "outputs": []
    },
    {
      "cell_type": "code",
      "metadata": {
        "id": "iHD7qUuc-Kjl"
      },
      "source": [
        "df.to_csv('news_dataset.csv', index=False)"
      ],
      "execution_count": null,
      "outputs": []
    },
    {
      "cell_type": "code",
      "metadata": {
        "id": "s0rgRsyH-ouh",
        "colab": {
          "base_uri": "https://localhost:8080/"
        },
        "outputId": "24a67d9c-7303-47e1-e322-72d45a9b6221"
      },
      "source": [
        "save_file_to_drive('news_dataset.csv', 'news_dataset.csv')"
      ],
      "execution_count": null,
      "outputs": [
        {
          "output_type": "stream",
          "text": [
            "File ID: 1x0PKaiV0Kdw4M0vSU2Zxm8lbqt2QiCa_\n"
          ],
          "name": "stdout"
        },
        {
          "output_type": "execute_result",
          "data": {
            "text/plain": [
              "{'id': '1x0PKaiV0Kdw4M0vSU2Zxm8lbqt2QiCa_'}"
            ]
          },
          "metadata": {
            "tags": []
          },
          "execution_count": 45
        }
      ]
    },
    {
      "cell_type": "markdown",
      "metadata": {
        "id": "uWTikDXY6NbW"
      },
      "source": [
        "Given that the newspaper dataset is quite big, but only contains left-leaning sources, I decided to merge it with a dataset manually built of right-leaning articles. These articles are retrieved from linked sources on subreddit *r/conservative* (there's another notebook where the process is shown). As before, bias is retrieved from [Media Bias/Fact Check](https://mediabiasfactcheck.com/).\n",
        "NOTICE: This approach could be extended to more subreddits, both right/left leaning ([here's a list that could be used](https://www.reddit.com/user/userleansbot/comments/ihkbvm/list_of_political_subreddits_used_by_userleansbot/))"
      ]
    },
    {
      "cell_type": "markdown",
      "metadata": {
        "id": "VIcDEnc89MxK"
      },
      "source": [
        "Right-wing articles are stored on my drive"
      ]
    },
    {
      "cell_type": "code",
      "metadata": {
        "id": "LIBv_A4i6-Br"
      },
      "source": [
        "upload_from_drive('https://drive.google.com/file/d/16zFlbQEPUQfQFO-olGXlVYfYzqGRA2Nc/view?usp=sharing', 'conservativeArticles.csv')\n",
        "df_right = pd.read_csv('conservativeArticles.csv')"
      ],
      "execution_count": null,
      "outputs": []
    },
    {
      "cell_type": "markdown",
      "metadata": {
        "id": "JgrtDqd19P1g"
      },
      "source": [
        "We retrieve the other articles from the previous dataset"
      ]
    },
    {
      "cell_type": "code",
      "metadata": {
        "id": "cOMR-_d59Lr9",
        "colab": {
          "base_uri": "https://localhost:8080/"
        },
        "outputId": "3d040303-5be4-4c8f-bb84-52b6732d49d0"
      },
      "source": [
        "!wget https://www.dropbox.com/s/cn2utnr5ipathhh/all-the-news-2-1.zip?dl=0"
      ],
      "execution_count": null,
      "outputs": [
        {
          "output_type": "stream",
          "text": [
            "--2020-11-08 19:15:00--  https://www.dropbox.com/s/cn2utnr5ipathhh/all-the-news-2-1.zip?dl=0\n",
            "Resolving www.dropbox.com (www.dropbox.com)... 162.125.82.1, 2620:100:6032:1::a27d:5201\n",
            "Connecting to www.dropbox.com (www.dropbox.com)|162.125.82.1|:443... connected.\n",
            "HTTP request sent, awaiting response... 301 Moved Permanently\n",
            "Location: /s/raw/cn2utnr5ipathhh/all-the-news-2-1.zip [following]\n",
            "--2020-11-08 19:15:00--  https://www.dropbox.com/s/raw/cn2utnr5ipathhh/all-the-news-2-1.zip\n",
            "Reusing existing connection to www.dropbox.com:443.\n",
            "HTTP request sent, awaiting response... 302 Found\n",
            "Location: https://ucf5a7bcb3337b39dbe5492aab05.dl.dropboxusercontent.com/cd/0/inline/BC34ii9UDvjHTtXfWGbeqHcuPAycDu1LrPAkppQcpcXt-B4YHkwlnCjhweezMwHPp-reSJSfR3_1jwppJy_Tfe26gZyX03IwQDIIixYVDUeIulKOzrSKNkWcn_Wov8Ihm40/file# [following]\n",
            "--2020-11-08 19:15:00--  https://ucf5a7bcb3337b39dbe5492aab05.dl.dropboxusercontent.com/cd/0/inline/BC34ii9UDvjHTtXfWGbeqHcuPAycDu1LrPAkppQcpcXt-B4YHkwlnCjhweezMwHPp-reSJSfR3_1jwppJy_Tfe26gZyX03IwQDIIixYVDUeIulKOzrSKNkWcn_Wov8Ihm40/file\n",
            "Resolving ucf5a7bcb3337b39dbe5492aab05.dl.dropboxusercontent.com (ucf5a7bcb3337b39dbe5492aab05.dl.dropboxusercontent.com)... 162.125.82.15, 2620:100:6032:15::a27d:520f\n",
            "Connecting to ucf5a7bcb3337b39dbe5492aab05.dl.dropboxusercontent.com (ucf5a7bcb3337b39dbe5492aab05.dl.dropboxusercontent.com)|162.125.82.15|:443... connected.\n",
            "HTTP request sent, awaiting response... 302 Found\n",
            "Location: /cd/0/inline2/BC2JFPRc_w0IVkoc61hG0uhXokMOGwdd6en47KFF2J-5zAaKuXGDJ1wPyzWK5QmFhD8olsNvPhc4Nu7v_6WZ_vvVkR3ZKI9ocelICLjWT3sUuTs1rRxuncB9Gjxk1yHbXSJU5r9qQyO_SMbxfUaAJLTZDiE-fkxvZ9xgwVDAB5jtc4gge6vjPxXQEJZdJqhS3GI-cULsk4lO2RHLbAPPIfuuH1i6pqK5d9LYbc-dQrfkxsAxSp25i2uDbeExgqMtFmJ9a0gwonUwCwKhl_fj68d4QeLv-AjwIT0KF_N8t5EK34LLqCab-X_KgL1RmFoHiDvlcQIes0HAePPmWWySiJ9yutjNmwIPQ_-prKia53lmDw/file [following]\n",
            "--2020-11-08 19:15:02--  https://ucf5a7bcb3337b39dbe5492aab05.dl.dropboxusercontent.com/cd/0/inline2/BC2JFPRc_w0IVkoc61hG0uhXokMOGwdd6en47KFF2J-5zAaKuXGDJ1wPyzWK5QmFhD8olsNvPhc4Nu7v_6WZ_vvVkR3ZKI9ocelICLjWT3sUuTs1rRxuncB9Gjxk1yHbXSJU5r9qQyO_SMbxfUaAJLTZDiE-fkxvZ9xgwVDAB5jtc4gge6vjPxXQEJZdJqhS3GI-cULsk4lO2RHLbAPPIfuuH1i6pqK5d9LYbc-dQrfkxsAxSp25i2uDbeExgqMtFmJ9a0gwonUwCwKhl_fj68d4QeLv-AjwIT0KF_N8t5EK34LLqCab-X_KgL1RmFoHiDvlcQIes0HAePPmWWySiJ9yutjNmwIPQ_-prKia53lmDw/file\n",
            "Reusing existing connection to ucf5a7bcb3337b39dbe5492aab05.dl.dropboxusercontent.com:443.\n",
            "HTTP request sent, awaiting response... 200 OK\n",
            "Length: 3362085662 (3.1G) [application/zip]\n",
            "Saving to: ‘all-the-news-2-1.zip?dl=0’\n",
            "\n",
            "all-the-news-2-1.zi 100%[===================>]   3.13G  13.9MB/s    in 4m 20s  \n",
            "\n",
            "2020-11-08 19:19:23 (12.3 MB/s) - ‘all-the-news-2-1.zip?dl=0’ saved [3362085662/3362085662]\n",
            "\n"
          ],
          "name": "stdout"
        }
      ]
    },
    {
      "cell_type": "code",
      "metadata": {
        "id": "DT_c5MyJ9LsB",
        "colab": {
          "base_uri": "https://localhost:8080/"
        },
        "outputId": "9ea19ed0-5ebc-4ff6-f4d3-3596a6d61c90"
      },
      "source": [
        "!unzip all-the-news-2-1.zip?dl=0"
      ],
      "execution_count": null,
      "outputs": [
        {
          "output_type": "stream",
          "text": [
            "Archive:  all-the-news-2-1.zip?dl=0\n",
            "  inflating: all-the-news-2-1.csv    \n"
          ],
          "name": "stdout"
        }
      ]
    },
    {
      "cell_type": "markdown",
      "metadata": {
        "id": "F7ybkMlfD54y"
      },
      "source": [
        "We sample the dataset"
      ]
    },
    {
      "cell_type": "code",
      "metadata": {
        "id": "pZJHt0Ts9LsD",
        "colab": {
          "base_uri": "https://localhost:8080/"
        },
        "outputId": "8616b281-9d93-4279-ef0a-e7f366823a87"
      },
      "source": [
        "total = 2700000\n",
        "sample = 500000 #File is too big to read it entirely\n",
        "skip = sorted(random.sample(range(1,total),total-sample))\n",
        "df_left = pd.read_csv('all-the-news-2-1.csv', skiprows=skip)"
      ],
      "execution_count": null,
      "outputs": [
        {
          "output_type": "stream",
          "text": [
            "/usr/local/lib/python3.6/dist-packages/IPython/core/interactiveshell.py:2718: DtypeWarning: Columns (1,3,5) have mixed types.Specify dtype option on import or set low_memory=False.\n",
            "  interactivity=interactivity, compiler=compiler, result=result)\n"
          ],
          "name": "stderr"
        }
      ]
    },
    {
      "cell_type": "code",
      "metadata": {
        "id": "kw8OQaC89LsF"
      },
      "source": [
        "df_left = df_left[~df_left['publication'].isna()]\n",
        "df_left = df_left[~df_left['article'].isna()]\n",
        "df_left = df_left.drop(df_left.columns.difference(['article', 'publication', 'url']), axis=1)\n",
        "df_left = df_left.rename(columns={'publication': 'publisher'})"
      ],
      "execution_count": null,
      "outputs": []
    },
    {
      "cell_type": "markdown",
      "metadata": {
        "id": "43O5bqJlBN4Q"
      },
      "source": [
        "In the old dataset we could still find articles from foxnews (right leaning) and news agencies like Reuters (non-biased). Let's move them to separate datasets."
      ]
    },
    {
      "cell_type": "code",
      "metadata": {
        "id": "XoNEwTgWBMa3"
      },
      "source": [
        "df_right = pd.concat([df_right, df_left[df_left['publisher'] == 'Fox News']])"
      ],
      "execution_count": null,
      "outputs": []
    },
    {
      "cell_type": "code",
      "metadata": {
        "id": "q0V7cLfnBxg9"
      },
      "source": [
        "df_neutral = df_left[df_left['publisher'].isin(['Reuters'])]"
      ],
      "execution_count": null,
      "outputs": []
    },
    {
      "cell_type": "code",
      "metadata": {
        "id": "Xc6e6ePMCI8Z"
      },
      "source": [
        "df_left = df_left[~df_left['publisher'].isin(['Fox News', 'Reuters', 'Economist', 'The Hill', 'TechCrunch', 'Hyperallergic'])]"
      ],
      "execution_count": null,
      "outputs": []
    },
    {
      "cell_type": "code",
      "metadata": {
        "id": "lWXA62c6CQsR",
        "colab": {
          "base_uri": "https://localhost:8080/"
        },
        "outputId": "67366772-6362-420a-c620-831ac57a52ba"
      },
      "source": [
        "print(\"Number of right leaning articles: \", len(df_right))\n",
        "print(\"Number of non-biased articles: \", len(df_neutral))\n",
        "print(\"Number of left leaning articles: \", len(df_left))"
      ],
      "execution_count": null,
      "outputs": [
        {
          "output_type": "stream",
          "text": [
            "Number of right leaning articles:  56528\n",
            "Number of non-biased articles:  152606\n",
            "Number of left leaning articles:  267099\n"
          ],
          "name": "stdout"
        }
      ]
    },
    {
      "cell_type": "markdown",
      "metadata": {
        "id": "VusoSjv2CdRM"
      },
      "source": [
        "The distribution of articles is still heavily skewed, so we downsample the left-leaning and non-biased articles"
      ]
    },
    {
      "cell_type": "code",
      "metadata": {
        "id": "0SFTu0jUCm6O"
      },
      "source": [
        "df_neutral = df_neutral.sample(n=56451)\n",
        "df_left = df_left.sample(n=56451)"
      ],
      "execution_count": null,
      "outputs": []
    },
    {
      "cell_type": "markdown",
      "metadata": {
        "id": "CQ6DfhD4DViz"
      },
      "source": [
        "Now we specify the bias with a number from -1 to 1 for each of the publishers"
      ]
    },
    {
      "cell_type": "code",
      "metadata": {
        "id": "sOtQ_79VDS7v"
      },
      "source": [
        "def rate_publisher(publisher):\n",
        "  if publisher == 'TMZ':\n",
        "    return -0.25\n",
        "  if publisher == 'Vox':\n",
        "    return -0.6\n",
        "  if publisher == 'Vice':\n",
        "    return -0.25\n",
        "  if publisher == 'Vice News':\n",
        "    return -0.25\n",
        "  if publisher == 'Business Insider':\n",
        "    return -0.25\n",
        "  if publisher == 'Axios':\n",
        "    return -0.15\n",
        "  if publisher == 'Refinery 29':\n",
        "    return -0.6\n",
        "  if publisher == 'The Verge':\n",
        "    return -0.15\n",
        "  if publisher == 'Mashable':\n",
        "    return -0.5\n",
        "  if publisher == 'People':\n",
        "    return -0.5\n",
        "  if publisher == 'CNN':\n",
        "    return -0.5\n",
        "  if publisher == 'Gizmodo':\n",
        "    return -0.5\n",
        "  if publisher == 'New Yorker':\n",
        "    return -0.6\n",
        "  if publisher == 'Wired':\n",
        "    return -0.15\n",
        "  if publisher == 'CNBC':\n",
        "    return -0.15\n",
        "  if publisher == 'New Republic':\n",
        "    return -0.6\n",
        "  if publisher == 'Fox News':\n",
        "    return 0.7\n",
        "  if publisher == 'Politico':\n",
        "    return -0.15\n",
        "  if publisher == 'The New York Times':\n",
        "    return -0.15\n",
        "  if publisher == 'Buzzfeed News':\n",
        "    return -0.5\n",
        "  if publisher == 'Washington Post':\n",
        "    return -0.25\n",
        "  return None\n",
        "\n",
        "\n",
        "df_left['rating'] = df_left['publisher'].apply(rate_publisher)"
      ],
      "execution_count": null,
      "outputs": []
    },
    {
      "cell_type": "code",
      "metadata": {
        "id": "4VznS8YHD_S1"
      },
      "source": [
        "df_neutral['rating'] = 0"
      ],
      "execution_count": null,
      "outputs": []
    },
    {
      "cell_type": "code",
      "metadata": {
        "id": "MeLQhTEeEB6r"
      },
      "source": [
        "def rate_publisher(publisher):\n",
        "  if publisher == 'nypost.com':\n",
        "    return 0.6\n",
        "  if publisher == 'foxnews.com':\n",
        "    return 0.7\n",
        "  if publisher == 'breitbart.com':\n",
        "    return 1.0\n",
        "  if publisher == 'thehill.com':\n",
        "    return 0.1\n",
        "  if publisher == 'newsbusters.org':\n",
        "    return 0.85\n",
        "  if publisher == 'twitchy.com':\n",
        "    return 0.7\n",
        "  if publisher == 'zerohedge.com':\n",
        "    return 1.0\n",
        "  if publisher == 'thegatewaypundit.com':\n",
        "    return 1.0\n",
        "  if publisher == 'dailymail.co.uk':\n",
        "    return 0.7\n",
        "  if publisher == 'washingtonexaminer.com':\n",
        "    return 0.7\n",
        "  if publisher == 'nbcnews.com':\n",
        "    return -0.2\n",
        "  if publisher == 'dailywire.com':\n",
        "    return 0.8\n",
        "  if publisher == 'nationalreview.com':\n",
        "    return 0.7\n",
        "  if publisher == 'redstate.com':\n",
        "    return 0.9\n",
        "  if publisher == 'townhall.com':\n",
        "    return 0.8\n",
        "  if publisher == 'thefederalist.com':\n",
        "    return 0.8\n",
        "  if publisher == 'theblaze.com':\n",
        "    return 0.9\n",
        "  if publisher == 'spectator.org':\n",
        "    return 0.3\n",
        "  if publisher == 'babylonbee.com': #Satire\n",
        "    return None\n",
        "  if publisher == 'justthenews.com':\n",
        "    return 0.5\n",
        "  if publisher == 'pjmedia.com':\n",
        "    return 0.9\n",
        "  if publisher == 'americanthinker.com':\n",
        "    return 1.0\n",
        "  if publisher == 'freebeacon.com':\n",
        "    return 0.8\n",
        "  if publisher == 'issuesinsights.com':\n",
        "    return 0.7\n",
        "  if publisher == 'amgreatness.com':\n",
        "    return 0.8\n",
        "  if publisher == 'wsj.com':\n",
        "    return 0.3\n",
        "  if publisher == 'dailycaller.com':\n",
        "    return 0.5\n",
        "  if publisher == 'washingtontimes.com':\n",
        "    return 0.35\n",
        "  if publisher == 'apnews.com':\n",
        "    return 0.0\n",
        "  if publisher == 'cnsnews.com':\n",
        "    return 0.9\n",
        "  if publisher == 'cnbc.com':\n",
        "    return -0.15\n",
        "  if publisher == 'hotair.com':\n",
        "    return 0.5\n",
        "  if publisher == 'dailysignal.com':\n",
        "    return 0.8\n",
        "  if publisher == 'cnn.com':\n",
        "    return -0.5\n",
        "  if publisher == 'nytimes.com':\n",
        "    return -0.15\n",
        "  if publisher == 'Fox News':\n",
        "    return 0.7\n",
        "  return None\n",
        "\n",
        "df_right['rating'] = df_right['publisher'].apply(rate_publisher)"
      ],
      "execution_count": null,
      "outputs": []
    },
    {
      "cell_type": "code",
      "metadata": {
        "id": "ZPdOnj2lEFzC"
      },
      "source": [
        "df_right = df_right[~df_right['rating'].isna()]"
      ],
      "execution_count": null,
      "outputs": []
    },
    {
      "cell_type": "code",
      "metadata": {
        "id": "eG3jslZOJxvM",
        "colab": {
          "base_uri": "https://localhost:8080/"
        },
        "outputId": "9ed914b8-e521-483c-9077-e7cb313f04f8"
      },
      "source": [
        "df_right.info()"
      ],
      "execution_count": null,
      "outputs": [
        {
          "output_type": "stream",
          "text": [
            "<class 'pandas.core.frame.DataFrame'>\n",
            "Int64Index: 55038 entries, 0 to 311104\n",
            "Data columns (total 5 columns):\n",
            " #   Column     Non-Null Count  Dtype  \n",
            "---  ------     --------------  -----  \n",
            " 0   url        55038 non-null  object \n",
            " 1   publisher  55038 non-null  object \n",
            " 2   text       51209 non-null  object \n",
            " 3   article    3829 non-null   object \n",
            " 4   rating     55038 non-null  float64\n",
            "dtypes: float64(1), object(4)\n",
            "memory usage: 2.5+ MB\n"
          ],
          "name": "stdout"
        }
      ]
    },
    {
      "cell_type": "code",
      "metadata": {
        "id": "nGYUgYvDJ4eO"
      },
      "source": [
        "df_right['text_'] = df_right.apply(lambda row: row['article'] if pd.isnull(row['text']) else row['text'], axis=1)"
      ],
      "execution_count": null,
      "outputs": []
    },
    {
      "cell_type": "code",
      "metadata": {
        "id": "L3JtAJDLLSvl",
        "colab": {
          "base_uri": "https://localhost:8080/"
        },
        "outputId": "1cf1a2e9-6926-4705-c356-8648da739234"
      },
      "source": [
        "df_right.info()"
      ],
      "execution_count": null,
      "outputs": [
        {
          "output_type": "stream",
          "text": [
            "<class 'pandas.core.frame.DataFrame'>\n",
            "Int64Index: 55038 entries, 0 to 311104\n",
            "Data columns (total 6 columns):\n",
            " #   Column     Non-Null Count  Dtype  \n",
            "---  ------     --------------  -----  \n",
            " 0   url        55038 non-null  object \n",
            " 1   publisher  55038 non-null  object \n",
            " 2   text       51209 non-null  object \n",
            " 3   article    3829 non-null   object \n",
            " 4   rating     55038 non-null  float64\n",
            " 5   text_      55038 non-null  object \n",
            "dtypes: float64(1), object(5)\n",
            "memory usage: 2.9+ MB\n"
          ],
          "name": "stdout"
        }
      ]
    },
    {
      "cell_type": "code",
      "metadata": {
        "id": "a1C83YnWKHn3"
      },
      "source": [
        "df_right = df_right.drop(columns=['text', 'article'], axis=1)\n",
        "df_right = df_right.rename(columns={'text_':'article'})"
      ],
      "execution_count": null,
      "outputs": []
    },
    {
      "cell_type": "code",
      "metadata": {
        "id": "WMwp304hKVHf"
      },
      "source": [
        "df_news = pd.concat([df_left, df_neutral, df_right])"
      ],
      "execution_count": null,
      "outputs": []
    },
    {
      "cell_type": "code",
      "metadata": {
        "id": "ckeOR85MJI1d"
      },
      "source": [
        "df_news.to_csv('news_bias_second.csv', index=False)"
      ],
      "execution_count": null,
      "outputs": []
    },
    {
      "cell_type": "code",
      "metadata": {
        "id": "PINsDTYUJGH9"
      },
      "source": [
        "save_file_to_drive('news_bias_second.csv', 'news_bias_second.csv')"
      ],
      "execution_count": null,
      "outputs": []
    },
    {
      "cell_type": "markdown",
      "metadata": {
        "id": "Ydlyi5ErgtjH"
      },
      "source": [
        "### Third dataset: r/conservative + r/liberal + unbiased news\n",
        "\n",
        "This dataset is realized using articles from r/conservative and some liberal subreddits, plus articles from neutral publishers in the previous dataset"
      ]
    },
    {
      "cell_type": "markdown",
      "metadata": {
        "id": "V6u-_93ahpIN"
      },
      "source": [
        "First we retrieve unbiased articles from All the news dataset"
      ]
    },
    {
      "cell_type": "code",
      "metadata": {
        "id": "0u3v0Wi-hWnf",
        "colab": {
          "base_uri": "https://localhost:8080/"
        },
        "outputId": "44cd6c18-2fd6-46f7-e291-a3a194ae7321"
      },
      "source": [
        "!wget https://www.dropbox.com/s/cn2utnr5ipathhh/all-the-news-2-1.zip?dl=0"
      ],
      "execution_count": null,
      "outputs": [
        {
          "output_type": "stream",
          "text": [
            "--2020-11-07 16:24:01--  https://www.dropbox.com/s/cn2utnr5ipathhh/all-the-news-2-1.zip?dl=0\n",
            "Resolving www.dropbox.com (www.dropbox.com)... 162.125.67.1, 2620:100:6023:1::a27d:4301\n",
            "Connecting to www.dropbox.com (www.dropbox.com)|162.125.67.1|:443... connected.\n",
            "HTTP request sent, awaiting response... 301 Moved Permanently\n",
            "Location: /s/raw/cn2utnr5ipathhh/all-the-news-2-1.zip [following]\n",
            "--2020-11-07 16:24:02--  https://www.dropbox.com/s/raw/cn2utnr5ipathhh/all-the-news-2-1.zip\n",
            "Reusing existing connection to www.dropbox.com:443.\n",
            "HTTP request sent, awaiting response... 302 Found\n",
            "Location: https://uce2866fa063693cc199acde4e9b.dl.dropboxusercontent.com/cd/0/inline/BCzlgLh6duxEJM0-qDsLoRAbnVMU5L7jVGXQaFutLLc3dPdTNN3VQigl_vRsY22c4YT3K9d2lgUaNy8rCWkn53ts3jIkBRFa_i-d3SAxmbvUxSLWqc-kOAERn-AAC_5KyCw/file# [following]\n",
            "--2020-11-07 16:24:02--  https://uce2866fa063693cc199acde4e9b.dl.dropboxusercontent.com/cd/0/inline/BCzlgLh6duxEJM0-qDsLoRAbnVMU5L7jVGXQaFutLLc3dPdTNN3VQigl_vRsY22c4YT3K9d2lgUaNy8rCWkn53ts3jIkBRFa_i-d3SAxmbvUxSLWqc-kOAERn-AAC_5KyCw/file\n",
            "Resolving uce2866fa063693cc199acde4e9b.dl.dropboxusercontent.com (uce2866fa063693cc199acde4e9b.dl.dropboxusercontent.com)... 162.125.65.15, 2620:100:6021:15::a27d:410f\n",
            "Connecting to uce2866fa063693cc199acde4e9b.dl.dropboxusercontent.com (uce2866fa063693cc199acde4e9b.dl.dropboxusercontent.com)|162.125.65.15|:443... connected.\n",
            "HTTP request sent, awaiting response... 302 Found\n",
            "Location: /cd/0/inline2/BCyUX9UvYLjdRSZ23B6aL85vSFOy6fjgaj4nkTvMRUIlQDHNBtPnDiQDeR5MtyJqoywqBbVJzEh-akKnOdqKynVQ7t_GDuwtl3h4CnrqsWbufHiTLqSkTLulzHaBBsXINwt7WSHf_9VYiyrVxpPSqr1wDMYYoIOG89XmIL7mzK4f39Za7HxhvVfsxQR-WmZpAZNkH5CVhb5qJhLjNsUSmerdfCx4jPo6_LVUurgIaSiyLHe-FHNFVNxxvRixCFIFu8qjsLQmK0uyDAfL7lxcuXlnge9QtxldwsYVCkJb8_W4DpqgWcJA1ZpGJWGVnCIJBM_OX_vrBOZomTNyDVIA9tXIqJppdwJheay6u-v6IuMqHA/file [following]\n",
            "--2020-11-07 16:24:03--  https://uce2866fa063693cc199acde4e9b.dl.dropboxusercontent.com/cd/0/inline2/BCyUX9UvYLjdRSZ23B6aL85vSFOy6fjgaj4nkTvMRUIlQDHNBtPnDiQDeR5MtyJqoywqBbVJzEh-akKnOdqKynVQ7t_GDuwtl3h4CnrqsWbufHiTLqSkTLulzHaBBsXINwt7WSHf_9VYiyrVxpPSqr1wDMYYoIOG89XmIL7mzK4f39Za7HxhvVfsxQR-WmZpAZNkH5CVhb5qJhLjNsUSmerdfCx4jPo6_LVUurgIaSiyLHe-FHNFVNxxvRixCFIFu8qjsLQmK0uyDAfL7lxcuXlnge9QtxldwsYVCkJb8_W4DpqgWcJA1ZpGJWGVnCIJBM_OX_vrBOZomTNyDVIA9tXIqJppdwJheay6u-v6IuMqHA/file\n",
            "Reusing existing connection to uce2866fa063693cc199acde4e9b.dl.dropboxusercontent.com:443.\n",
            "HTTP request sent, awaiting response... 200 OK\n",
            "Length: 3362085662 (3.1G) [application/zip]\n",
            "Saving to: ‘all-the-news-2-1.zip?dl=0’\n",
            "\n",
            "all-the-news-2-1.zi 100%[===================>]   3.13G  29.4MB/s    in 2m 0s   \n",
            "\n",
            "2020-11-07 16:26:04 (26.8 MB/s) - ‘all-the-news-2-1.zip?dl=0’ saved [3362085662/3362085662]\n",
            "\n"
          ],
          "name": "stdout"
        }
      ]
    },
    {
      "cell_type": "code",
      "metadata": {
        "id": "mF0Q2HQehWni",
        "colab": {
          "base_uri": "https://localhost:8080/"
        },
        "outputId": "72ff8caf-2172-4f7f-ebe0-adce02b2e941"
      },
      "source": [
        "!unzip all-the-news-2-1.zip?dl=0"
      ],
      "execution_count": null,
      "outputs": [
        {
          "output_type": "stream",
          "text": [
            "Archive:  all-the-news-2-1.zip?dl=0\n",
            "  inflating: all-the-news-2-1.csv    \n"
          ],
          "name": "stdout"
        }
      ]
    },
    {
      "cell_type": "code",
      "metadata": {
        "id": "-ryeQp7shWnl"
      },
      "source": [
        "total = 2700000\n",
        "sample = 500000 #File is too big to read it entirely\n",
        "skip = sorted(random.sample(range(1,total),total-sample))\n",
        "df_neutral = pd.read_csv('all-the-news-2-1.csv', skiprows=skip)\n",
        "df_neutral = df_neutral[df_neutral['publication'].isin(['Reuters'])]"
      ],
      "execution_count": null,
      "outputs": []
    },
    {
      "cell_type": "code",
      "metadata": {
        "id": "3pp7JyhLo0zL"
      },
      "source": [
        "df_neutral = df_neutral.sample(n=55000)"
      ],
      "execution_count": null,
      "outputs": []
    },
    {
      "cell_type": "markdown",
      "metadata": {
        "id": "BVvnIacDhutU"
      },
      "source": [
        "Then we retrieve the conservative articles previously scraped"
      ]
    },
    {
      "cell_type": "code",
      "metadata": {
        "id": "m-BbEy2Chn7o"
      },
      "source": [
        "upload_from_drive('https://drive.google.com/file/d/16zFlbQEPUQfQFO-olGXlVYfYzqGRA2Nc/view?usp=sharing', 'conservativeArticles.csv')\n",
        "df_right = pd.read_csv('conservativeArticles.csv')"
      ],
      "execution_count": null,
      "outputs": []
    },
    {
      "cell_type": "markdown",
      "metadata": {
        "id": "YFxGRrARh1b6"
      },
      "source": [
        "Finally we retrieve the liberal articles"
      ]
    },
    {
      "cell_type": "code",
      "metadata": {
        "id": "GM9KQNfQh5ev"
      },
      "source": [
        "upload_from_drive('https://drive.google.com/file/d/1pn7W2SBtakU9z7myVUYOKkCIZ8ymGVsb/view?usp=sharing', 'liberalArticlesReddit.csv')\n",
        "df_left = pd.read_csv('liberalArticlesReddit.csv')"
      ],
      "execution_count": null,
      "outputs": []
    },
    {
      "cell_type": "code",
      "metadata": {
        "id": "4ySxi-eXlf2m"
      },
      "source": [
        "df_left = df_left.drop_duplicates()\n",
        "df_left = df_left[df_left['text'].isna() == False]\n",
        "df_left['wordcount'] = df_left['text'].apply(lambda row: len(row.split(' ')))\n",
        "df_left = df_left[df_left['wordcount'] >= 25]"
      ],
      "execution_count": null,
      "outputs": []
    },
    {
      "cell_type": "code",
      "metadata": {
        "id": "aLAApyFml3ei"
      },
      "source": [
        "df_neutral['lean_right'] = 0\n",
        "df_right['lean_right'] = 1\n",
        "df_left['lean_right'] = -1"
      ],
      "execution_count": null,
      "outputs": []
    },
    {
      "cell_type": "code",
      "metadata": {
        "id": "BxY-sdCwmnaQ"
      },
      "source": [
        "#df_neutral['text'] = df_neutral['article']\n",
        "df_neutral = df_neutral.drop(df_neutral.columns.difference(['text', 'lean_right']), axis=1)\n",
        "df_right = df_right.drop(df_right.columns.difference(['text', 'lean_right']), axis=1)\n",
        "df_left = df_left.drop(df_left.columns.difference(['text', 'lean_right']), axis=1)"
      ],
      "execution_count": null,
      "outputs": []
    },
    {
      "cell_type": "code",
      "metadata": {
        "id": "p0MDgq7PnLJY",
        "colab": {
          "base_uri": "https://localhost:8080/"
        },
        "outputId": "21460db0-8a71-449f-ed4b-2ad7ddfc614a"
      },
      "source": [
        "df_news = pd.concat([df_neutral, df_right, df_left])\n",
        "df_news.to_csv('third_bias_dataset_reddit_reuters.csv', index=False)\n",
        "save_file_to_drive('third_bias_dataset_reddit_reuters.csv', 'third_bias_dataset_reddit_reuters.csv')"
      ],
      "execution_count": null,
      "outputs": [
        {
          "output_type": "stream",
          "text": [
            "File ID: 1jSCMH2FltI19PNowoEgMKumrt42UdGXO\n"
          ],
          "name": "stdout"
        },
        {
          "output_type": "execute_result",
          "data": {
            "text/plain": [
              "{'id': '1jSCMH2FltI19PNowoEgMKumrt42UdGXO'}"
            ]
          },
          "metadata": {
            "tags": []
          },
          "execution_count": 50
        }
      ]
    },
    {
      "cell_type": "markdown",
      "metadata": {
        "id": "WlNyLAvT4oy1"
      },
      "source": [
        "## Training the models\n",
        "We will be training two models:\n",
        " - One to detect whether there is a bias (the final predictor for this model will work on *sentence* level)\n",
        " - One to detect whether the bias is left or right leaning on the political spectrum"
      ]
    },
    {
      "cell_type": "markdown",
      "metadata": {
        "id": "0Zi_ICURK3Mr"
      },
      "source": [
        "### Bias detector"
      ]
    },
    {
      "cell_type": "markdown",
      "metadata": {
        "id": "egnf9Eg-Kdgq"
      },
      "source": [
        "#### First try: Wikipedia dataset"
      ]
    },
    {
      "cell_type": "code",
      "metadata": {
        "id": "nuoVBMJdAiNJ"
      },
      "source": [
        "df_wikipedia_sample = df_wikipedia.sample(frac=0.2)"
      ],
      "execution_count": null,
      "outputs": []
    },
    {
      "cell_type": "code",
      "metadata": {
        "id": "YNt6sp-X45gE",
        "colab": {
          "base_uri": "https://localhost:8080/",
          "height": 185
        },
        "outputId": "0518bbd4-f3c0-4c3b-d21c-b29171424a0a"
      },
      "source": [
        "#Preprocess text\n",
        "(x_train, y_train), (x_test, y_test), preproc = text.texts_from_df(train_df=df_wikipedia_sample, \n",
        "                                                                   text_column='sentence',\n",
        "                                                                   label_columns=[\"biased\"],\n",
        "                                                                   val_pct=0.2, \n",
        "                                                                   max_features=100000, \n",
        "                                                                   maxlen=128,\n",
        "                                                                   preprocess_mode='bert',\n",
        "                                                                   ngram_range=3)\n",
        "\n",
        "#Build learner\n",
        "model = text.text_classifier('bert', (x_train, y_train), preproc=preproc, )\n",
        "learner = ktrain.get_learner(model, train_data=(x_train, y_train), val_data=(x_test, y_test), batch_size=24)"
      ],
      "execution_count": null,
      "outputs": [
        {
          "output_type": "stream",
          "text": [
            "preprocessing train...\n",
            "language: en\n"
          ],
          "name": "stdout"
        },
        {
          "output_type": "display_data",
          "data": {
            "text/html": [
              "done."
            ],
            "text/plain": [
              "<IPython.core.display.HTML object>"
            ]
          },
          "metadata": {
            "tags": []
          }
        },
        {
          "output_type": "stream",
          "text": [
            "Is Multi-Label? False\n",
            "preprocessing test...\n",
            "language: en\n"
          ],
          "name": "stdout"
        },
        {
          "output_type": "display_data",
          "data": {
            "text/html": [
              "done."
            ],
            "text/plain": [
              "<IPython.core.display.HTML object>"
            ]
          },
          "metadata": {
            "tags": []
          }
        },
        {
          "output_type": "stream",
          "text": [
            "Is Multi-Label? False\n",
            "maxlen is 128\n",
            "done.\n"
          ],
          "name": "stdout"
        }
      ]
    },
    {
      "cell_type": "code",
      "metadata": {
        "id": "t-iVlBbM5v2E",
        "colab": {
          "base_uri": "https://localhost:8080/",
          "height": 767
        },
        "outputId": "1ef61dbb-839b-430b-a00a-5dbd9ae7bc48"
      },
      "source": [
        "#Find optimal learning rate\n",
        "learner.lr_find(show_plot=True, max_epochs=5)\n",
        "learner.lr_plot() "
      ],
      "execution_count": null,
      "outputs": [
        {
          "output_type": "stream",
          "text": [
            "simulating training for different learning rates... this may take a few moments...\n",
            "Epoch 1/5\n",
            "1210/1210 [==============================] - 538s 444ms/step - loss: 0.7584 - accuracy: 0.5120\n",
            "Epoch 2/5\n",
            "1210/1210 [==============================] - 535s 442ms/step - loss: 0.6431 - accuracy: 0.6182\n",
            "Epoch 3/5\n",
            "1210/1210 [==============================] - 534s 442ms/step - loss: 0.7103 - accuracy: 0.5138\n",
            "Epoch 4/5\n",
            "1210/1210 [==============================] - 533s 440ms/step - loss: 3.5823 - accuracy: 0.5073\n",
            "\n",
            "\n",
            "done.\n",
            "Visually inspect loss plot and select learning rate associated with falling loss\n"
          ],
          "name": "stdout"
        },
        {
          "output_type": "display_data",
          "data": {
            "image/png": "[encoded data removed]",
            "text/plain": [
              "<Figure size 432x288 with 1 Axes>"
            ]
          },
          "metadata": {
            "tags": [],
            "needs_background": "light"
          }
        },
        {
          "output_type": "display_data",
          "data": {
            "image/png": "[encoded data removed]",
            "text/plain": [
              "<Figure size 432x288 with 1 Axes>"
            ]
          },
          "metadata": {
            "tags": [],
            "needs_background": "light"
          }
        }
      ]
    },
    {
      "cell_type": "code",
      "metadata": {
        "id": "Z7-zDCPj50JY",
        "colab": {
          "base_uri": "https://localhost:8080/",
          "height": 218
        },
        "outputId": "d1dc75fa-4949-4803-a265-2f5f025074b1"
      },
      "source": [
        "#Fit model\n",
        "learner.fit_onecycle(5e-4, 4)"
      ],
      "execution_count": null,
      "outputs": [
        {
          "output_type": "stream",
          "text": [
            "\n",
            "\n",
            "begin training using onecycle policy with max lr of 0.0005...\n",
            "Epoch 1/4\n",
            "1210/1210 [==============================] - 565s 467ms/step - loss: 0.6879 - accuracy: 0.5473 - val_loss: 0.6953 - val_accuracy: 0.4873\n",
            "Epoch 2/4\n",
            "1210/1210 [==============================] - 575s 475ms/step - loss: 0.7081 - accuracy: 0.4968 - val_loss: 0.7035 - val_accuracy: 0.4873\n",
            "Epoch 3/4\n",
            "1210/1210 [==============================] - 571s 472ms/step - loss: 0.7005 - accuracy: 0.4988 - val_loss: 0.6928 - val_accuracy: 0.5127\n",
            "Epoch 4/4\n",
            "1210/1210 [==============================] - 566s 468ms/step - loss: 0.6954 - accuracy: 0.5014 - val_loss: 0.6955 - val_accuracy: 0.4873\n"
          ],
          "name": "stdout"
        },
        {
          "output_type": "execute_result",
          "data": {
            "text/plain": [
              "<tensorflow.python.keras.callbacks.History at 0x7fdbd0a0e940>"
            ]
          },
          "metadata": {
            "tags": []
          },
          "execution_count": 27
        }
      ]
    },
    {
      "cell_type": "code",
      "metadata": {
        "id": "Ph9rKp4M5_tI",
        "colab": {
          "base_uri": "https://localhost:8080/",
          "height": 255
        },
        "outputId": "af18c338-b3f9-488a-caad-cf0b0d06d50e"
      },
      "source": [
        "#Validate\n",
        "learner.validate()"
      ],
      "execution_count": null,
      "outputs": [
        {
          "output_type": "stream",
          "text": [
            "              precision    recall  f1-score   support\n",
            "\n",
            "           0       0.00      0.00      0.00      3722\n",
            "           1       0.49      1.00      0.66      3537\n",
            "\n",
            "    accuracy                           0.49      7259\n",
            "   macro avg       0.24      0.50      0.33      7259\n",
            "weighted avg       0.24      0.49      0.32      7259\n",
            "\n"
          ],
          "name": "stdout"
        },
        {
          "output_type": "stream",
          "text": [
            "/usr/local/lib/python3.6/dist-packages/sklearn/metrics/_classification.py:1272: UndefinedMetricWarning: Precision and F-score are ill-defined and being set to 0.0 in labels with no predicted samples. Use `zero_division` parameter to control this behavior.\n",
            "  _warn_prf(average, modifier, msg_start, len(result))\n"
          ],
          "name": "stderr"
        },
        {
          "output_type": "execute_result",
          "data": {
            "text/plain": [
              "array([[   0, 3722],\n",
              "       [   0, 3537]])"
            ]
          },
          "metadata": {
            "tags": []
          },
          "execution_count": 28
        }
      ]
    },
    {
      "cell_type": "code",
      "metadata": {
        "id": "FXZApRJU5267"
      },
      "source": [
        "#Get predictor\n",
        "predictor = ktrain.get_predictor(learner.model, preproc=preproc)"
      ],
      "execution_count": null,
      "outputs": []
    },
    {
      "cell_type": "markdown",
      "metadata": {
        "id": "u80XymHMKjmP"
      },
      "source": [
        "#### Second try: news dataset"
      ]
    },
    {
      "cell_type": "code",
      "metadata": {
        "id": "nxTggcROKpNI"
      },
      "source": [
        "df_news_bias = df_news\n",
        "df_news_bias['is_biased'] = df_news_bias['rating'].apply(lambda row: 1 if row != 0.0 else 0)"
      ],
      "execution_count": null,
      "outputs": []
    },
    {
      "cell_type": "code",
      "metadata": {
        "id": "8Fikt0HdK3dO",
        "colab": {
          "base_uri": "https://localhost:8080/",
          "height": 34
        },
        "outputId": "af6be063-b7ae-4315-fc59-b5c120b5974b"
      },
      "source": [
        "len(df_news_bias[df_news_bias['is_biased'] == 0])"
      ],
      "execution_count": null,
      "outputs": [
        {
          "output_type": "execute_result",
          "data": {
            "text/plain": [
              "56615"
            ]
          },
          "metadata": {
            "tags": []
          },
          "execution_count": 77
        }
      ]
    },
    {
      "cell_type": "code",
      "metadata": {
        "id": "iw5F9q93K_8o",
        "colab": {
          "base_uri": "https://localhost:8080/",
          "height": 221
        },
        "outputId": "98576f98-5f9b-4237-f0bf-b6c124d8816d"
      },
      "source": [
        "df_news_bias.info()"
      ],
      "execution_count": null,
      "outputs": [
        {
          "output_type": "stream",
          "text": [
            "<class 'pandas.core.frame.DataFrame'>\n",
            "Int64Index: 167863 entries, 301885 to 310898\n",
            "Data columns (total 5 columns):\n",
            " #   Column     Non-Null Count   Dtype  \n",
            "---  ------     --------------   -----  \n",
            " 0   article    167863 non-null  object \n",
            " 1   url        167863 non-null  object \n",
            " 2   publisher  167863 non-null  object \n",
            " 3   rating     167863 non-null  float64\n",
            " 4   is_biased  167863 non-null  int64  \n",
            "dtypes: float64(1), int64(1), object(3)\n",
            "memory usage: 7.7+ MB\n"
          ],
          "name": "stdout"
        }
      ]
    },
    {
      "cell_type": "code",
      "metadata": {
        "id": "1qRxaIROKm67",
        "colab": {
          "base_uri": "https://localhost:8080/",
          "height": 323
        },
        "outputId": "bed25ace-e318-442a-acce-38be0de89901"
      },
      "source": [
        "#Preprocess text\n",
        "(x_train, y_train), (x_test, y_test), preproc = text.texts_from_df(train_df=df_news_bias, \n",
        "                                                                   text_column='article',\n",
        "                                                                   label_columns=[\"is_biased\"],\n",
        "                                                                   val_pct=0.2, \n",
        "                                                                   max_features=100000, \n",
        "                                                                   maxlen=128,\n",
        "                                                                   preprocess_mode='bert',\n",
        "                                                                   ngram_range=3)\n",
        "\n",
        "#Build learner\n",
        "model = text.text_classifier('bert', (x_train, y_train), preproc=preproc, )\n",
        "learner = ktrain.get_learner(model, train_data=(x_train, y_train), val_data=(x_test, y_test), batch_size=24)"
      ],
      "execution_count": null,
      "outputs": [
        {
          "output_type": "stream",
          "text": [
            "downloading pretrained BERT model (uncased_L-12_H-768_A-12.zip)...\n",
            "[██████████████████████████████████████████████████]\n",
            "extracting pretrained BERT model...\n",
            "done.\n",
            "\n",
            "cleanup downloaded zip...\n",
            "done.\n",
            "\n",
            "preprocessing train...\n",
            "language: en\n"
          ],
          "name": "stdout"
        },
        {
          "output_type": "display_data",
          "data": {
            "text/html": [
              "done."
            ],
            "text/plain": [
              "<IPython.core.display.HTML object>"
            ]
          },
          "metadata": {
            "tags": []
          }
        },
        {
          "output_type": "stream",
          "text": [
            "Is Multi-Label? False\n",
            "preprocessing test...\n",
            "language: en\n"
          ],
          "name": "stdout"
        },
        {
          "output_type": "display_data",
          "data": {
            "text/html": [
              "done."
            ],
            "text/plain": [
              "<IPython.core.display.HTML object>"
            ]
          },
          "metadata": {
            "tags": []
          }
        },
        {
          "output_type": "stream",
          "text": [
            "Is Multi-Label? False\n",
            "maxlen is 128\n",
            "done.\n"
          ],
          "name": "stdout"
        }
      ]
    },
    {
      "cell_type": "code",
      "metadata": {
        "id": "cRPcSwfOLqta",
        "colab": {
          "base_uri": "https://localhost:8080/",
          "height": 736
        },
        "outputId": "dcfd038c-0b8c-4f32-a511-0e37163e4a3c"
      },
      "source": [
        "#Find optimal learning rate\n",
        "learner.lr_find(show_plot=True, max_epochs=5)\n",
        "learner.lr_plot() "
      ],
      "execution_count": null,
      "outputs": [
        {
          "output_type": "stream",
          "text": [
            "simulating training for different learning rates... this may take a few moments...\n",
            "Epoch 1/5\n",
            "5596/5596 [==============================] - 2500s 447ms/step - loss: 0.1441 - accuracy: 0.9482\n",
            "Epoch 2/5\n",
            "5596/5596 [==============================] - 2489s 445ms/step - loss: 0.0642 - accuracy: 0.9743\n",
            "Epoch 3/5\n",
            "5596/5596 [==============================] - 2471s 442ms/step - loss: 0.6449 - accuracy: 0.6622\n",
            "\n",
            "\n",
            "done.\n",
            "Visually inspect loss plot and select learning rate associated with falling loss\n"
          ],
          "name": "stdout"
        },
        {
          "output_type": "display_data",
          "data": {
            "image/png": "[encoded data removed]",
            "text/plain": [
              "<Figure size 432x288 with 1 Axes>"
            ]
          },
          "metadata": {
            "tags": [],
            "needs_background": "light"
          }
        },
        {
          "output_type": "display_data",
          "data": {
            "image/png": "[encoded data removed]",
            "text/plain": [
              "<Figure size 432x288 with 1 Axes>"
            ]
          },
          "metadata": {
            "tags": [],
            "needs_background": "light"
          }
        }
      ]
    },
    {
      "cell_type": "code",
      "metadata": {
        "id": "AmKcgt1YLvWF",
        "colab": {
          "base_uri": "https://localhost:8080/",
          "height": 221
        },
        "outputId": "12a23865-d32f-4e5f-8779-91c58eb562c6"
      },
      "source": [
        "#Fit model\n",
        "learner.fit_onecycle(5e-5, 4)"
      ],
      "execution_count": null,
      "outputs": [
        {
          "output_type": "stream",
          "text": [
            "\n",
            "\n",
            "begin training using onecycle policy with max lr of 5e-05...\n",
            "Epoch 1/4\n",
            "5596/5596 [==============================] - 2645s 473ms/step - loss: 0.0369 - accuracy: 0.9885 - val_loss: 0.0213 - val_accuracy: 0.9937\n",
            "Epoch 2/4\n",
            "5596/5596 [==============================] - 2656s 475ms/step - loss: 0.0220 - accuracy: 0.9936 - val_loss: 0.0262 - val_accuracy: 0.9913\n",
            "Epoch 3/4\n",
            "5596/5596 [==============================] - 2656s 475ms/step - loss: 0.0174 - accuracy: 0.9950 - val_loss: 0.0208 - val_accuracy: 0.9954\n",
            "Epoch 4/4\n",
            "5596/5596 [==============================] - 2657s 475ms/step - loss: 0.0069 - accuracy: 0.9979 - val_loss: 0.0205 - val_accuracy: 0.9951\n"
          ],
          "name": "stdout"
        },
        {
          "output_type": "execute_result",
          "data": {
            "text/plain": [
              "<tensorflow.python.keras.callbacks.History at 0x7fc2ed9d2e80>"
            ]
          },
          "metadata": {
            "tags": []
          },
          "execution_count": 81
        }
      ]
    },
    {
      "cell_type": "code",
      "metadata": {
        "id": "O6IczXFgLvWJ",
        "colab": {
          "base_uri": "https://localhost:8080/",
          "height": 204
        },
        "outputId": "10b37623-4fc4-43c0-c00d-1e1649f2d663"
      },
      "source": [
        "#Validate\n",
        "learner.validate()"
      ],
      "execution_count": null,
      "outputs": [
        {
          "output_type": "stream",
          "text": [
            "              precision    recall  f1-score   support\n",
            "\n",
            "           0       0.99      0.99      0.99     11375\n",
            "           1       1.00      1.00      1.00     22198\n",
            "\n",
            "    accuracy                           1.00     33573\n",
            "   macro avg       0.99      0.99      0.99     33573\n",
            "weighted avg       1.00      1.00      1.00     33573\n",
            "\n"
          ],
          "name": "stdout"
        },
        {
          "output_type": "execute_result",
          "data": {
            "text/plain": [
              "array([[11294,    81],\n",
              "       [   83, 22115]])"
            ]
          },
          "metadata": {
            "tags": []
          },
          "execution_count": 82
        }
      ]
    },
    {
      "cell_type": "code",
      "metadata": {
        "id": "hms1hv0vxGwE"
      },
      "source": [
        "#Get predictor\n",
        "predictor = ktrain.get_predictor(learner.model, preproc=preproc)"
      ],
      "execution_count": null,
      "outputs": []
    },
    {
      "cell_type": "code",
      "metadata": {
        "id": "PQhp9-U7xIiq",
        "colab": {
          "base_uri": "https://localhost:8080/",
          "height": 68
        },
        "outputId": "9633e76c-4e24-4ac9-9e0b-1e1651497715"
      },
      "source": [
        "#Save model\n",
        "#predictor.save('/tmp/bias_predictor')\n",
        "\n",
        "#Save to drive\n",
        "save_file_to_drive(\"tf_model.h5\", '/tmp/bias_predictor/tf_model.h5')\n",
        "save_file_to_drive(\"tf_model.preproc\", '/tmp/bias_predictor/tf_model.preproc')"
      ],
      "execution_count": null,
      "outputs": [
        {
          "output_type": "stream",
          "text": [
            "File ID: 1Yb6JGMdY6bcywpXZ5gXEzUjjJfQAYzPT\n",
            "File ID: 1vbTvDLR-0SATsBbQ5XlqECKuuk3Tl-z3\n"
          ],
          "name": "stdout"
        },
        {
          "output_type": "execute_result",
          "data": {
            "text/plain": [
              "{'id': '1vbTvDLR-0SATsBbQ5XlqECKuuk3Tl-z3'}"
            ]
          },
          "metadata": {
            "tags": []
          },
          "execution_count": 86
        }
      ]
    },
    {
      "cell_type": "markdown",
      "metadata": {
        "id": "fF41CP9vndQi"
      },
      "source": [
        "#### Third try: news dataset Reddit"
      ]
    },
    {
      "cell_type": "code",
      "metadata": {
        "id": "QC8s2DbsII_u"
      },
      "source": [
        "upload_from_drive('https://drive.google.com/file/d/1jSCMH2FltI19PNowoEgMKumrt42UdGXO/view?usp=sharing', 'third_bias_dataset_reddit_reuters.csv')"
      ],
      "execution_count": null,
      "outputs": []
    },
    {
      "cell_type": "code",
      "metadata": {
        "id": "JZ0IZfZGnkWx"
      },
      "source": [
        "df_news_bias = pd.read_csv('third_bias_dataset_reddit_reuters.csv')\n",
        "df_news_bias['is_biased'] = df_news_bias['lean_right'].apply(lambda row: 1 if row != 0 else 0)\n",
        "df_news_bias = df_news_bias[df_news_bias['text'].isna() == False]"
      ],
      "execution_count": null,
      "outputs": []
    },
    {
      "cell_type": "code",
      "metadata": {
        "id": "9SYeRpBxnkW3",
        "colab": {
          "base_uri": "https://localhost:8080/"
        },
        "outputId": "a25e9f44-069d-4ad5-c00a-aafe5ffc21bb"
      },
      "source": [
        "df_news_bias.info()"
      ],
      "execution_count": null,
      "outputs": [
        {
          "output_type": "stream",
          "text": [
            "<class 'pandas.core.frame.DataFrame'>\n",
            "Int64Index: 143379 entries, 0 to 144346\n",
            "Data columns (total 3 columns):\n",
            " #   Column      Non-Null Count   Dtype \n",
            "---  ------      --------------   ----- \n",
            " 0   lean_right  143379 non-null  int64 \n",
            " 1   text        143379 non-null  object\n",
            " 2   is_biased   143379 non-null  int64 \n",
            "dtypes: int64(2), object(1)\n",
            "memory usage: 4.4+ MB\n"
          ],
          "name": "stdout"
        }
      ]
    },
    {
      "cell_type": "code",
      "metadata": {
        "id": "rLGnh31Won2L",
        "colab": {
          "base_uri": "https://localhost:8080/",
          "height": 166
        },
        "outputId": "5da06e21-5152-464c-843e-f08dcee4fcf5"
      },
      "source": [
        "df_news_bias.groupby(by='lean_right').count()"
      ],
      "execution_count": null,
      "outputs": [
        {
          "output_type": "execute_result",
          "data": {
            "text/html": [
              "<div>\n",
              "<style scoped>\n",
              "    .dataframe tbody tr th:only-of-type {\n",
              "        vertical-align: middle;\n",
              "    }\n",
              "\n",
              "    .dataframe tbody tr th {\n",
              "        vertical-align: top;\n",
              "    }\n",
              "\n",
              "    .dataframe thead th {\n",
              "        text-align: right;\n",
              "    }\n",
              "</style>\n",
              "<table border=\"1\" class=\"dataframe\">\n",
              "  <thead>\n",
              "    <tr style=\"text-align: right;\">\n",
              "      <th></th>\n",
              "      <th>text</th>\n",
              "      <th>is_biased</th>\n",
              "    </tr>\n",
              "    <tr>\n",
              "      <th>lean_right</th>\n",
              "      <th></th>\n",
              "      <th></th>\n",
              "    </tr>\n",
              "  </thead>\n",
              "  <tbody>\n",
              "    <tr>\n",
              "      <th>-1</th>\n",
              "      <td>36648</td>\n",
              "      <td>36648</td>\n",
              "    </tr>\n",
              "    <tr>\n",
              "      <th>0</th>\n",
              "      <td>54032</td>\n",
              "      <td>54032</td>\n",
              "    </tr>\n",
              "    <tr>\n",
              "      <th>1</th>\n",
              "      <td>52699</td>\n",
              "      <td>52699</td>\n",
              "    </tr>\n",
              "  </tbody>\n",
              "</table>\n",
              "</div>"
            ],
            "text/plain": [
              "             text  is_biased\n",
              "lean_right                  \n",
              "-1          36648      36648\n",
              " 0          54032      54032\n",
              " 1          52699      52699"
            ]
          },
          "metadata": {
            "tags": []
          },
          "execution_count": 15
        }
      ]
    },
    {
      "cell_type": "code",
      "metadata": {
        "id": "DT9wbwvBnkW6",
        "colab": {
          "base_uri": "https://localhost:8080/",
          "height": 319
        },
        "outputId": "0751bbfa-cfb8-4e61-8685-89356a949c6d"
      },
      "source": [
        "#Preprocess text\n",
        "(x_train, y_train), (x_test, y_test), preproc = text.texts_from_df(train_df=df_news_bias, \n",
        "                                                                   text_column='text',\n",
        "                                                                   label_columns=[\"is_biased\"],\n",
        "                                                                   val_pct=0.2, \n",
        "                                                                   max_features=100000, \n",
        "                                                                   maxlen=128,\n",
        "                                                                   preprocess_mode='bert',\n",
        "                                                                   ngram_range=3)\n",
        "\n",
        "#Build learner\n",
        "model = text.text_classifier('bert', (x_train, y_train), preproc=preproc, )\n",
        "learner = ktrain.get_learner(model, train_data=(x_train, y_train), val_data=(x_test, y_test), batch_size=24)"
      ],
      "execution_count": null,
      "outputs": [
        {
          "output_type": "stream",
          "text": [
            "downloading pretrained BERT model (uncased_L-12_H-768_A-12.zip)...\n",
            "[██████████████████████████████████████████████████]\n",
            "extracting pretrained BERT model...\n",
            "done.\n",
            "\n",
            "cleanup downloaded zip...\n",
            "done.\n",
            "\n",
            "preprocessing train...\n",
            "language: en\n"
          ],
          "name": "stdout"
        },
        {
          "output_type": "display_data",
          "data": {
            "text/html": [
              "done."
            ],
            "text/plain": [
              "<IPython.core.display.HTML object>"
            ]
          },
          "metadata": {
            "tags": []
          }
        },
        {
          "output_type": "stream",
          "text": [
            "Is Multi-Label? False\n",
            "preprocessing test...\n",
            "language: en\n"
          ],
          "name": "stdout"
        },
        {
          "output_type": "display_data",
          "data": {
            "text/html": [
              "done."
            ],
            "text/plain": [
              "<IPython.core.display.HTML object>"
            ]
          },
          "metadata": {
            "tags": []
          }
        },
        {
          "output_type": "stream",
          "text": [
            "Is Multi-Label? False\n",
            "maxlen is 128\n",
            "done.\n"
          ],
          "name": "stdout"
        }
      ]
    },
    {
      "cell_type": "code",
      "metadata": {
        "id": "nebQzDj6nkW7",
        "colab": {
          "base_uri": "https://localhost:8080/",
          "height": 700
        },
        "outputId": "dd213c64-1e3e-4441-b6c2-3b4652fe7602"
      },
      "source": [
        "#Find optimal learning rate\n",
        "learner.lr_find(show_plot=True, max_epochs=5)\n",
        "learner.lr_plot() "
      ],
      "execution_count": null,
      "outputs": [
        {
          "output_type": "stream",
          "text": [
            "simulating training for different learning rates... this may take a few moments...\n",
            "Epoch 1/5\n",
            "4780/4780 [==============================] - 2047s 428ms/step - loss: 0.1320 - accuracy: 0.9591\n",
            "Epoch 2/5\n",
            "4780/4780 [==============================] - 2008s 420ms/step - loss: 0.0542 - accuracy: 0.9770\n",
            "\n",
            "\n",
            "done.\n",
            "Visually inspect loss plot and select learning rate associated with falling loss\n"
          ],
          "name": "stdout"
        },
        {
          "output_type": "display_data",
          "data": {
            "image/png": "[encoded data removed]",
            "text/plain": [
              "<Figure size 432x288 with 1 Axes>"
            ]
          },
          "metadata": {
            "tags": [],
            "needs_background": "light"
          }
        },
        {
          "output_type": "display_data",
          "data": {
            "image/png": "[encoded data removed]",
            "text/plain": [
              "<Figure size 432x288 with 1 Axes>"
            ]
          },
          "metadata": {
            "tags": [],
            "needs_background": "light"
          }
        }
      ]
    },
    {
      "cell_type": "code",
      "metadata": {
        "id": "BqyfsGO0nkW-",
        "colab": {
          "base_uri": "https://localhost:8080/"
        },
        "outputId": "dc3393a9-fd36-42bb-9a23-761c7e79d5bd"
      },
      "source": [
        "#Fit model\n",
        "learner.fit_onecycle(5e-5, 4)"
      ],
      "execution_count": null,
      "outputs": [
        {
          "output_type": "stream",
          "text": [
            "\n",
            "\n",
            "begin training using onecycle policy with max lr of 5e-05...\n",
            "Epoch 1/4\n",
            "4780/4780 [==============================] - 2147s 449ms/step - loss: 0.0216 - accuracy: 0.9946 - val_loss: 0.0131 - val_accuracy: 0.9968\n",
            "Epoch 2/4\n",
            "4780/4780 [==============================] - 2145s 449ms/step - loss: 0.0151 - accuracy: 0.9963 - val_loss: 0.0235 - val_accuracy: 0.9950\n",
            "Epoch 3/4\n",
            "4780/4780 [==============================] - 2135s 447ms/step - loss: 0.0126 - accuracy: 0.9970 - val_loss: 0.0137 - val_accuracy: 0.9968\n",
            "Epoch 4/4\n",
            "4780/4780 [==============================] - 2132s 446ms/step - loss: 0.0052 - accuracy: 0.9986 - val_loss: 0.0127 - val_accuracy: 0.9974\n"
          ],
          "name": "stdout"
        },
        {
          "output_type": "execute_result",
          "data": {
            "text/plain": [
              "<tensorflow.python.keras.callbacks.History at 0x7f0bd1459668>"
            ]
          },
          "metadata": {
            "tags": []
          },
          "execution_count": 18
        }
      ]
    },
    {
      "cell_type": "code",
      "metadata": {
        "id": "DkflvSSynkXA",
        "colab": {
          "base_uri": "https://localhost:8080/"
        },
        "outputId": "053d7622-ce60-4335-9b39-147897afa375"
      },
      "source": [
        "#Validate\n",
        "learner.validate()"
      ],
      "execution_count": null,
      "outputs": [
        {
          "output_type": "stream",
          "text": [
            "              precision    recall  f1-score   support\n",
            "\n",
            "           0       1.00      1.00      1.00     10777\n",
            "           1       1.00      1.00      1.00     17899\n",
            "\n",
            "    accuracy                           1.00     28676\n",
            "   macro avg       1.00      1.00      1.00     28676\n",
            "weighted avg       1.00      1.00      1.00     28676\n",
            "\n"
          ],
          "name": "stdout"
        },
        {
          "output_type": "execute_result",
          "data": {
            "text/plain": [
              "array([[10737,    40],\n",
              "       [   35, 17864]])"
            ]
          },
          "metadata": {
            "tags": []
          },
          "execution_count": 19
        }
      ]
    },
    {
      "cell_type": "code",
      "metadata": {
        "id": "6TL_ATwKnkXC"
      },
      "source": [
        "#Get predictor\n",
        "predictor = ktrain.get_predictor(learner.model, preproc=preproc)"
      ],
      "execution_count": null,
      "outputs": []
    },
    {
      "cell_type": "code",
      "metadata": {
        "id": "QTz1gUpDnkXE",
        "colab": {
          "base_uri": "https://localhost:8080/"
        },
        "outputId": "855b1749-88a7-47f7-dc78-1c6926e6a382"
      },
      "source": [
        "#Save model\n",
        "predictor.save('/tmp/bias_predictor')\n",
        "\n",
        "#Save to drive\n",
        "save_file_to_drive(\"tf_model.h5\", '/tmp/bias_predictor/tf_model.h5')\n",
        "save_file_to_drive(\"tf_model.preproc\", '/tmp/bias_predictor/tf_model.preproc')"
      ],
      "execution_count": null,
      "outputs": [
        {
          "output_type": "stream",
          "text": [
            "File ID: 1URAq2pSMuVIHLpRmEpGYHkSvP4U2U-jD\n",
            "File ID: 1HBDQ8a-veE9k30mFwy40hGcGC9QQrfsk\n"
          ],
          "name": "stdout"
        },
        {
          "output_type": "execute_result",
          "data": {
            "text/plain": [
              "{'id': '1HBDQ8a-veE9k30mFwy40hGcGC9QQrfsk'}"
            ]
          },
          "metadata": {
            "tags": []
          },
          "execution_count": 21
        }
      ]
    },
    {
      "cell_type": "markdown",
      "metadata": {
        "id": "PUV4dPCXK90l"
      },
      "source": [
        "### Political leaning ideology"
      ]
    },
    {
      "cell_type": "markdown",
      "metadata": {
        "id": "73nfBX44hway"
      },
      "source": [
        "#### First try: manually labeled dataset"
      ]
    },
    {
      "cell_type": "code",
      "metadata": {
        "id": "SoaszxJcLKud",
        "colab": {
          "base_uri": "https://localhost:8080/",
          "height": 319
        },
        "outputId": "5e967d61-de30-4baa-a4a7-5b1b06e0bdf1"
      },
      "source": [
        "#Preprocess text\n",
        "(x_train, y_train), (x_test, y_test), preproc = text.texts_from_df(train_df=df_news, \n",
        "                                                                   text_column='text',\n",
        "                                                                   label_columns=[\"lean_left\"],\n",
        "                                                                   val_pct=0.2, \n",
        "                                                                   max_features=100000, \n",
        "                                                                   maxlen=128,\n",
        "                                                                   preprocess_mode='bert',\n",
        "                                                                   ngram_range=3)\n",
        "\n",
        "#Build learner\n",
        "model = text.text_classifier('bert', (x_train, y_train), preproc=preproc, )\n",
        "learner = ktrain.get_learner(model, train_data=(x_train, y_train), val_data=(x_test, y_test), batch_size=24)"
      ],
      "execution_count": null,
      "outputs": [
        {
          "output_type": "stream",
          "text": [
            "downloading pretrained BERT model (uncased_L-12_H-768_A-12.zip)...\n",
            "[██████████████████████████████████████████████████]\n",
            "extracting pretrained BERT model...\n",
            "done.\n",
            "\n",
            "cleanup downloaded zip...\n",
            "done.\n",
            "\n",
            "preprocessing train...\n",
            "language: en\n"
          ],
          "name": "stdout"
        },
        {
          "output_type": "display_data",
          "data": {
            "text/html": [
              "done."
            ],
            "text/plain": [
              "<IPython.core.display.HTML object>"
            ]
          },
          "metadata": {
            "tags": []
          }
        },
        {
          "output_type": "stream",
          "text": [
            "Is Multi-Label? False\n",
            "preprocessing test...\n",
            "language: en\n"
          ],
          "name": "stdout"
        },
        {
          "output_type": "display_data",
          "data": {
            "text/html": [
              "done."
            ],
            "text/plain": [
              "<IPython.core.display.HTML object>"
            ]
          },
          "metadata": {
            "tags": []
          }
        },
        {
          "output_type": "stream",
          "text": [
            "Is Multi-Label? False\n",
            "maxlen is 128\n",
            "done.\n"
          ],
          "name": "stdout"
        }
      ]
    },
    {
      "cell_type": "code",
      "metadata": {
        "id": "T82x1y_KLKup",
        "colab": {
          "base_uri": "https://localhost:8080/",
          "height": 801
        },
        "outputId": "4ee41f22-b99a-4ea9-f6e2-38a07e393cc0"
      },
      "source": [
        "#Find optimal learning rate\n",
        "learner.lr_find(show_plot=True, max_epochs=5)\n",
        "learner.lr_plot() "
      ],
      "execution_count": null,
      "outputs": [
        {
          "output_type": "stream",
          "text": [
            "simulating training for different learning rates... this may take a few moments...\n",
            "Epoch 1/5\n",
            "56/56 [==============================] - 32s 576ms/step - loss: 0.7575 - accuracy: 0.4533\n",
            "Epoch 2/5\n",
            "56/56 [==============================] - 32s 567ms/step - loss: 0.6888 - accuracy: 0.5901\n",
            "Epoch 3/5\n",
            "56/56 [==============================] - 32s 566ms/step - loss: 0.9556 - accuracy: 0.5206\n",
            "Epoch 4/5\n",
            "56/56 [==============================] - 32s 565ms/step - loss: 8.3418 - accuracy: 0.5228\n",
            "Epoch 5/5\n",
            "56/56 [==============================] - 32s 566ms/step - loss: 41.7381 - accuracy: 0.4944\n",
            "\n",
            "\n",
            "done.\n",
            "Visually inspect loss plot and select learning rate associated with falling loss\n"
          ],
          "name": "stdout"
        },
        {
          "output_type": "display_data",
          "data": {
            "image/png": "[encoded data removed]",
            "text/plain": [
              "<Figure size 432x288 with 1 Axes>"
            ]
          },
          "metadata": {
            "tags": [],
            "needs_background": "light"
          }
        },
        {
          "output_type": "display_data",
          "data": {
            "image/png": "[encoded data removed]",
            "text/plain": [
              "<Figure size 432x288 with 1 Axes>"
            ]
          },
          "metadata": {
            "tags": [],
            "needs_background": "light"
          }
        }
      ]
    },
    {
      "cell_type": "code",
      "metadata": {
        "id": "E8UP-83tLKuv",
        "colab": {
          "base_uri": "https://localhost:8080/"
        },
        "outputId": "ac61c6b9-4ca7-4546-b3d6-5bfddd2bc309"
      },
      "source": [
        "#Fit model\n",
        "learner.fit_onecycle(5e-5, 10)"
      ],
      "execution_count": null,
      "outputs": [
        {
          "output_type": "stream",
          "text": [
            "\n",
            "\n",
            "begin training using onecycle policy with max lr of 5e-05...\n",
            "Epoch 1/10\n",
            "56/56 [==============================] - 35s 623ms/step - loss: 0.1738 - accuracy: 0.9260 - val_loss: 0.9131 - val_accuracy: 0.6716\n",
            "Epoch 2/10\n",
            "56/56 [==============================] - 35s 620ms/step - loss: 0.1667 - accuracy: 0.9282 - val_loss: 1.0788 - val_accuracy: 0.6925\n",
            "Epoch 3/10\n",
            "56/56 [==============================] - 35s 619ms/step - loss: 0.1643 - accuracy: 0.9357 - val_loss: 1.0019 - val_accuracy: 0.6507\n",
            "Epoch 4/10\n",
            "56/56 [==============================] - 35s 617ms/step - loss: 0.1502 - accuracy: 0.9334 - val_loss: 1.1399 - val_accuracy: 0.6896\n",
            "Epoch 5/10\n",
            "56/56 [==============================] - 35s 616ms/step - loss: 0.1645 - accuracy: 0.9304 - val_loss: 1.1917 - val_accuracy: 0.6507\n",
            "Epoch 6/10\n",
            "56/56 [==============================] - 35s 619ms/step - loss: 0.2421 - accuracy: 0.8863 - val_loss: 0.9649 - val_accuracy: 0.6687\n",
            "Epoch 7/10\n",
            "56/56 [==============================] - 34s 616ms/step - loss: 0.1735 - accuracy: 0.9215 - val_loss: 1.1880 - val_accuracy: 0.6866\n",
            "Epoch 8/10\n",
            "56/56 [==============================] - 35s 617ms/step - loss: 0.1251 - accuracy: 0.9409 - val_loss: 1.4657 - val_accuracy: 0.6836\n",
            "Epoch 9/10\n",
            "56/56 [==============================] - 35s 617ms/step - loss: 0.1167 - accuracy: 0.9387 - val_loss: 1.5435 - val_accuracy: 0.6836\n",
            "Epoch 10/10\n",
            "56/56 [==============================] - 34s 615ms/step - loss: 0.1138 - accuracy: 0.9424 - val_loss: 1.5219 - val_accuracy: 0.6866\n"
          ],
          "name": "stdout"
        },
        {
          "output_type": "execute_result",
          "data": {
            "text/plain": [
              "<tensorflow.python.keras.callbacks.History at 0x7f0e5ae74780>"
            ]
          },
          "metadata": {
            "tags": []
          },
          "execution_count": 40
        }
      ]
    },
    {
      "cell_type": "code",
      "metadata": {
        "id": "qB93vLgxLKu3",
        "colab": {
          "base_uri": "https://localhost:8080/"
        },
        "outputId": "2b430ecc-afa3-46e2-a105-3dcb8f008644"
      },
      "source": [
        "#Validate\n",
        "learner.validate()"
      ],
      "execution_count": null,
      "outputs": [
        {
          "output_type": "stream",
          "text": [
            "              precision    recall  f1-score   support\n",
            "\n",
            "           0       0.68      0.56      0.62       142\n",
            "           1       0.71      0.80      0.76       193\n",
            "\n",
            "    accuracy                           0.70       335\n",
            "   macro avg       0.70      0.68      0.69       335\n",
            "weighted avg       0.70      0.70      0.70       335\n",
            "\n"
          ],
          "name": "stdout"
        },
        {
          "output_type": "execute_result",
          "data": {
            "text/plain": [
              "array([[ 80,  62],\n",
              "       [ 38, 155]])"
            ]
          },
          "metadata": {
            "tags": []
          },
          "execution_count": 31
        }
      ]
    },
    {
      "cell_type": "code",
      "metadata": {
        "id": "UsisoECsLKu8"
      },
      "source": [
        "#Get predictor\n",
        "predictor = ktrain.get_predictor(learner.model, preproc=preproc)"
      ],
      "execution_count": null,
      "outputs": []
    },
    {
      "cell_type": "code",
      "metadata": {
        "id": "LW4wUI8BNUIV"
      },
      "source": [
        "#Save model\n",
        "predictor.save('/tmp/ideology_predictor')"
      ],
      "execution_count": null,
      "outputs": []
    },
    {
      "cell_type": "code",
      "metadata": {
        "id": "W87nAh2-Nm40",
        "colab": {
          "base_uri": "https://localhost:8080/"
        },
        "outputId": "b7fd59b3-2580-4149-c175-b2dda25975f0"
      },
      "source": [
        "#Save to drive\n",
        "save_file_to_drive(\"tf_model.h5\", '/tmp/ideology_predictor/tf_model.h5')\n",
        "save_file_to_drive(\"tf_model.preproc\", '/tmp/ideology_predictor/tf_model.preproc')"
      ],
      "execution_count": null,
      "outputs": [
        {
          "output_type": "stream",
          "text": [
            "File ID: 1aWb_a1597Cw2ChmkTr6SJ5-iqci59A15\n",
            "File ID: 1rstcDHmqec5vHtOq1CFgOpqTnEzqd5uv\n"
          ],
          "name": "stdout"
        },
        {
          "output_type": "execute_result",
          "data": {
            "text/plain": [
              "{'id': '1rstcDHmqec5vHtOq1CFgOpqTnEzqd5uv'}"
            ]
          },
          "metadata": {
            "tags": []
          },
          "execution_count": 35
        }
      ]
    },
    {
      "cell_type": "code",
      "metadata": {
        "id": "Yi1Ofgn4QxrK",
        "colab": {
          "base_uri": "https://localhost:8080/",
          "height": 35
        },
        "outputId": "d4b36656-341d-4487-9aa8-89fe808b897a"
      },
      "source": [
        "predictor.predict('Obama is the best')"
      ],
      "execution_count": null,
      "outputs": [
        {
          "output_type": "display_data",
          "data": {
            "text/html": [
              ""
            ],
            "text/plain": [
              "<IPython.core.display.HTML object>"
            ]
          },
          "metadata": {
            "tags": []
          }
        },
        {
          "output_type": "execute_result",
          "data": {
            "application/vnd.google.colaboratory.intrinsic+json": {
              "type": "string"
            },
            "text/plain": [
              "'lean_left'"
            ]
          },
          "metadata": {
            "tags": []
          },
          "execution_count": 39
        }
      ]
    },
    {
      "cell_type": "code",
      "metadata": {
        "id": "jYBQY55Egzfq",
        "colab": {
          "base_uri": "https://localhost:8080/",
          "height": 35
        },
        "outputId": "fe2521fb-6c9a-4b81-c7c5-1d74ac2eeb95"
      },
      "source": [
        "predictor.predict('Russia’s Putin Praises ‘Ideological’ Links Between Democrats, Soviet Communism')"
      ],
      "execution_count": null,
      "outputs": [
        {
          "output_type": "display_data",
          "data": {
            "text/html": [
              ""
            ],
            "text/plain": [
              "<IPython.core.display.HTML object>"
            ]
          },
          "metadata": {
            "tags": []
          }
        },
        {
          "output_type": "execute_result",
          "data": {
            "application/vnd.google.colaboratory.intrinsic+json": {
              "type": "string"
            },
            "text/plain": [
              "'not_lean_left'"
            ]
          },
          "metadata": {
            "tags": []
          },
          "execution_count": 43
        }
      ]
    },
    {
      "cell_type": "code",
      "metadata": {
        "id": "PFMT5-dYhklW",
        "colab": {
          "base_uri": "https://localhost:8080/",
          "height": 50
        },
        "outputId": "8c7b22d0-c4db-448d-83a5-cd0c70f415d4"
      },
      "source": [
        "article = Article(url='https://edition.cnn.com/2020/10/06/opinions/us-election-biden-pennsylvania-nutter/index.html', config=config)\n",
        "article.download()\n",
        "article.parse()\n",
        "article.nlp()\n",
        "print(predictor.predict(article.text))\n",
        "predictor.predict_proba(article.text)"
      ],
      "execution_count": null,
      "outputs": [
        {
          "output_type": "display_data",
          "data": {
            "text/html": [
              ""
            ],
            "text/plain": [
              "<IPython.core.display.HTML object>"
            ]
          },
          "metadata": {
            "tags": []
          }
        },
        {
          "output_type": "stream",
          "text": [
            "lean_left\n"
          ],
          "name": "stdout"
        },
        {
          "output_type": "display_data",
          "data": {
            "text/html": [
              ""
            ],
            "text/plain": [
              "<IPython.core.display.HTML object>"
            ]
          },
          "metadata": {
            "tags": []
          }
        },
        {
          "output_type": "execute_result",
          "data": {
            "text/plain": [
              "array([0.01566783, 0.9843322 ], dtype=float32)"
            ]
          },
          "metadata": {
            "tags": []
          },
          "execution_count": 63
        }
      ]
    },
    {
      "cell_type": "code",
      "metadata": {
        "id": "6bcvRdaqiXaN",
        "colab": {
          "base_uri": "https://localhost:8080/",
          "height": 50
        },
        "outputId": "80dc411e-9a82-43b1-dab2-49053db368a3"
      },
      "source": [
        "article = Article(url='https://www.breitbart.com/national-security/2020/10/07/russias-putin-praises-ideological-links-between-democrats-soviet-communism/', config=config)\n",
        "article.download()\n",
        "article.parse()\n",
        "article.nlp()\n",
        "print(predictor.predict(article.text))\n",
        "predictor.predict_proba(article.text)"
      ],
      "execution_count": null,
      "outputs": [
        {
          "output_type": "display_data",
          "data": {
            "text/html": [
              ""
            ],
            "text/plain": [
              "<IPython.core.display.HTML object>"
            ]
          },
          "metadata": {
            "tags": []
          }
        },
        {
          "output_type": "stream",
          "text": [
            "not_lean_left\n"
          ],
          "name": "stdout"
        },
        {
          "output_type": "display_data",
          "data": {
            "text/html": [
              ""
            ],
            "text/plain": [
              "<IPython.core.display.HTML object>"
            ]
          },
          "metadata": {
            "tags": []
          }
        },
        {
          "output_type": "execute_result",
          "data": {
            "text/plain": [
              "array([0.9920557 , 0.00794431], dtype=float32)"
            ]
          },
          "metadata": {
            "tags": []
          },
          "execution_count": 64
        }
      ]
    },
    {
      "cell_type": "markdown",
      "metadata": {
        "id": "RcfVq5-UrXgk"
      },
      "source": [
        "#### Second try: news dataset\n",
        "We use the dataset built from Kaggle + r/conservative"
      ]
    },
    {
      "cell_type": "code",
      "metadata": {
        "id": "o5Y3Wzpfrdzi",
        "colab": {
          "base_uri": "https://localhost:8080/"
        },
        "outputId": "10751db1-419b-41f4-e3f9-e53a3129f4b1"
      },
      "source": [
        "df_ideology = df_news[df_news['rating'] != 0]\n",
        "df_ideology['is_left'] = df_ideology['rating'].apply(lambda row: 1 if row < 0 else 0)"
      ],
      "execution_count": null,
      "outputs": [
        {
          "output_type": "stream",
          "text": [
            "/usr/local/lib/python3.6/dist-packages/ipykernel_launcher.py:2: SettingWithCopyWarning: \n",
            "A value is trying to be set on a copy of a slice from a DataFrame.\n",
            "Try using .loc[row_indexer,col_indexer] = value instead\n",
            "\n",
            "See the caveats in the documentation: https://pandas.pydata.org/pandas-docs/stable/user_guide/indexing.html#returning-a-view-versus-a-copy\n",
            "  \n"
          ],
          "name": "stderr"
        }
      ]
    },
    {
      "cell_type": "code",
      "metadata": {
        "id": "C-cbdOhuSNhj",
        "colab": {
          "base_uri": "https://localhost:8080/"
        },
        "outputId": "e56e0f81-7b0a-4be8-c27a-39a16c7bbcc2"
      },
      "source": [
        "df_ideology.info()"
      ],
      "execution_count": null,
      "outputs": [
        {
          "output_type": "stream",
          "text": [
            "<class 'pandas.core.frame.DataFrame'>\n",
            "Int64Index: 111325 entries, 122794 to 311104\n",
            "Data columns (total 5 columns):\n",
            " #   Column     Non-Null Count   Dtype  \n",
            "---  ------     --------------   -----  \n",
            " 0   article    111325 non-null  object \n",
            " 1   url        111325 non-null  object \n",
            " 2   publisher  111325 non-null  object \n",
            " 3   rating     111325 non-null  float64\n",
            " 4   is_left    111325 non-null  int64  \n",
            "dtypes: float64(1), int64(1), object(3)\n",
            "memory usage: 5.1+ MB\n"
          ],
          "name": "stdout"
        }
      ]
    },
    {
      "cell_type": "code",
      "metadata": {
        "id": "UbH4YrxQSQxd",
        "colab": {
          "base_uri": "https://localhost:8080/",
          "height": 136
        },
        "outputId": "406ecbda-e4a2-4dfd-99a5-c8c8eb04948d"
      },
      "source": [
        "df_ideology.groupby(by='is_left').count()"
      ],
      "execution_count": null,
      "outputs": [
        {
          "output_type": "execute_result",
          "data": {
            "text/html": [
              "<div>\n",
              "<style scoped>\n",
              "    .dataframe tbody tr th:only-of-type {\n",
              "        vertical-align: middle;\n",
              "    }\n",
              "\n",
              "    .dataframe tbody tr th {\n",
              "        vertical-align: top;\n",
              "    }\n",
              "\n",
              "    .dataframe thead th {\n",
              "        text-align: right;\n",
              "    }\n",
              "</style>\n",
              "<table border=\"1\" class=\"dataframe\">\n",
              "  <thead>\n",
              "    <tr style=\"text-align: right;\">\n",
              "      <th></th>\n",
              "      <th>article</th>\n",
              "      <th>url</th>\n",
              "      <th>publisher</th>\n",
              "      <th>rating</th>\n",
              "    </tr>\n",
              "    <tr>\n",
              "      <th>is_left</th>\n",
              "      <th></th>\n",
              "      <th></th>\n",
              "      <th></th>\n",
              "      <th></th>\n",
              "    </tr>\n",
              "  </thead>\n",
              "  <tbody>\n",
              "    <tr>\n",
              "      <th>0</th>\n",
              "      <td>53807</td>\n",
              "      <td>53807</td>\n",
              "      <td>53807</td>\n",
              "      <td>53807</td>\n",
              "    </tr>\n",
              "    <tr>\n",
              "      <th>1</th>\n",
              "      <td>57518</td>\n",
              "      <td>57518</td>\n",
              "      <td>57518</td>\n",
              "      <td>57518</td>\n",
              "    </tr>\n",
              "  </tbody>\n",
              "</table>\n",
              "</div>"
            ],
            "text/plain": [
              "         article    url  publisher  rating\n",
              "is_left                                   \n",
              "0          53807  53807      53807   53807\n",
              "1          57518  57518      57518   57518"
            ]
          },
          "metadata": {
            "tags": []
          },
          "execution_count": 30
        }
      ]
    },
    {
      "cell_type": "code",
      "metadata": {
        "id": "UKdvZLtZrvPQ",
        "colab": {
          "base_uri": "https://localhost:8080/",
          "height": 319
        },
        "outputId": "10c95a4e-e098-4f12-9898-12cf27b13d99"
      },
      "source": [
        "#Preprocess text\n",
        "(x_train, y_train), (x_test, y_test), preproc = text.texts_from_df(train_df=df_ideology, \n",
        "                                                                   text_column='article',\n",
        "                                                                   label_columns=['is_left'],\n",
        "                                                                   val_pct=0.2, \n",
        "                                                                   max_features=100000, \n",
        "                                                                   maxlen=128,\n",
        "                                                                   preprocess_mode='bert',\n",
        "                                                                   ngram_range=1)\n",
        "\n",
        "#Build learner\n",
        "model = text.text_classifier('bert', (x_train, y_train), preproc=preproc, )\n",
        "learner = ktrain.get_learner(model, train_data=(x_train, y_train), val_data=(x_test, y_test), batch_size=24)"
      ],
      "execution_count": null,
      "outputs": [
        {
          "output_type": "stream",
          "text": [
            "downloading pretrained BERT model (uncased_L-12_H-768_A-12.zip)...\n",
            "[██████████████████████████████████████████████████]\n",
            "extracting pretrained BERT model...\n",
            "done.\n",
            "\n",
            "cleanup downloaded zip...\n",
            "done.\n",
            "\n",
            "preprocessing train...\n",
            "language: en\n"
          ],
          "name": "stdout"
        },
        {
          "output_type": "display_data",
          "data": {
            "text/html": [
              "done."
            ],
            "text/plain": [
              "<IPython.core.display.HTML object>"
            ]
          },
          "metadata": {
            "tags": []
          }
        },
        {
          "output_type": "stream",
          "text": [
            "Is Multi-Label? False\n",
            "preprocessing test...\n",
            "language: en\n"
          ],
          "name": "stdout"
        },
        {
          "output_type": "display_data",
          "data": {
            "text/html": [
              "done."
            ],
            "text/plain": [
              "<IPython.core.display.HTML object>"
            ]
          },
          "metadata": {
            "tags": []
          }
        },
        {
          "output_type": "stream",
          "text": [
            "Is Multi-Label? False\n",
            "maxlen is 128\n",
            "done.\n"
          ],
          "name": "stdout"
        }
      ]
    },
    {
      "cell_type": "code",
      "metadata": {
        "id": "mcrPcF2Mr1Q8",
        "colab": {
          "base_uri": "https://localhost:8080/",
          "height": 770
        },
        "outputId": "90245549-1836-4e64-963d-6fdfcc38c1e9"
      },
      "source": [
        "#Find optimal learning rate\n",
        "learner.lr_find(show_plot=True, max_epochs=5)\n",
        "learner.lr_plot() "
      ],
      "execution_count": null,
      "outputs": [
        {
          "output_type": "stream",
          "text": [
            "simulating training for different learning rates... this may take a few moments...\n",
            "Epoch 1/5\n",
            "3708/3708 [==============================] - 2248s 606ms/step - loss: 0.4555 - accuracy: 0.7805\n",
            "Epoch 2/5\n",
            "3708/3708 [==============================] - 2259s 609ms/step - loss: 0.2042 - accuracy: 0.9179\n",
            "Epoch 3/5\n",
            "3708/3708 [==============================] - 2265s 611ms/step - loss: 0.6914 - accuracy: 0.5202\n",
            "Epoch 4/5\n",
            "3708/3708 [==============================] - 2257s 609ms/step - loss: 1.7301 - accuracy: 0.5029\n",
            "\n",
            "\n",
            "done.\n",
            "Visually inspect loss plot and select learning rate associated with falling loss\n"
          ],
          "name": "stdout"
        },
        {
          "output_type": "display_data",
          "data": {
            "image/png": "[encoded data removed]",
            "text/plain": [
              "<Figure size 432x288 with 1 Axes>"
            ]
          },
          "metadata": {
            "tags": [],
            "needs_background": "light"
          }
        },
        {
          "output_type": "display_data",
          "data": {
            "image/png": "[encoded data removed]",
            "text/plain": [
              "<Figure size 432x288 with 1 Axes>"
            ]
          },
          "metadata": {
            "tags": [],
            "needs_background": "light"
          }
        }
      ]
    },
    {
      "cell_type": "code",
      "metadata": {
        "id": "8V8bGWU8r248",
        "colab": {
          "base_uri": "https://localhost:8080/"
        },
        "outputId": "1022c45e-7b46-426d-af5b-94b3b09f7cee"
      },
      "source": [
        "#Fit model\n",
        "learner.fit_onecycle(5e-4, 4)"
      ],
      "execution_count": null,
      "outputs": [
        {
          "output_type": "stream",
          "text": [
            "\n",
            "\n",
            "begin training using onecycle policy with max lr of 0.0005...\n",
            "Epoch 1/4\n",
            "3711/3711 [==============================] - 1769s 477ms/step - loss: 0.5578 - accuracy: 0.6368 - val_loss: 0.6944 - val_accuracy: 0.4864\n",
            "Epoch 2/4\n",
            "3711/3711 [==============================] - 1761s 474ms/step - loss: 0.7052 - accuracy: 0.5037 - val_loss: 0.6928 - val_accuracy: 0.5136\n",
            "Epoch 3/4\n",
            "3711/3711 [==============================] - 1759s 474ms/step - loss: 0.7035 - accuracy: 0.5034 - val_loss: 0.6986 - val_accuracy: 0.4864\n",
            "Epoch 4/4\n",
            "3711/3711 [==============================] - 1754s 473ms/step - loss: 0.6973 - accuracy: 0.5072 - val_loss: 0.6928 - val_accuracy: 0.5136\n"
          ],
          "name": "stdout"
        },
        {
          "output_type": "execute_result",
          "data": {
            "text/plain": [
              "<tensorflow.python.keras.callbacks.History at 0x7fb22ee8ea90>"
            ]
          },
          "metadata": {
            "tags": []
          },
          "execution_count": 32
        }
      ]
    },
    {
      "cell_type": "code",
      "metadata": {
        "id": "2dG0DRY-MZaH",
        "colab": {
          "base_uri": "https://localhost:8080/"
        },
        "outputId": "481bb5e3-2a01-4ba7-e7da-f60dea4364e0"
      },
      "source": [
        "learner.validate()"
      ],
      "execution_count": null,
      "outputs": [
        {
          "output_type": "stream",
          "text": [
            "              precision    recall  f1-score   support\n",
            "\n",
            "           0       0.00      0.00      0.00     10829\n",
            "           1       0.51      1.00      0.68     11436\n",
            "\n",
            "    accuracy                           0.51     22265\n",
            "   macro avg       0.26      0.50      0.34     22265\n",
            "weighted avg       0.26      0.51      0.35     22265\n",
            "\n"
          ],
          "name": "stdout"
        },
        {
          "output_type": "stream",
          "text": [
            "/usr/local/lib/python3.6/dist-packages/sklearn/metrics/_classification.py:1272: UndefinedMetricWarning: Precision and F-score are ill-defined and being set to 0.0 in labels with no predicted samples. Use `zero_division` parameter to control this behavior.\n",
            "  _warn_prf(average, modifier, msg_start, len(result))\n"
          ],
          "name": "stderr"
        },
        {
          "output_type": "execute_result",
          "data": {
            "text/plain": [
              "array([[    0, 10829],\n",
              "       [    0, 11436]])"
            ]
          },
          "metadata": {
            "tags": []
          },
          "execution_count": 33
        }
      ]
    },
    {
      "cell_type": "code",
      "metadata": {
        "id": "omiub08ska2W"
      },
      "source": [
        "#Get predictor\n",
        "predictor = ktrain.get_predictor(learner.model, preproc=preproc)"
      ],
      "execution_count": null,
      "outputs": []
    },
    {
      "cell_type": "code",
      "metadata": {
        "id": "mc-fATafka2Z"
      },
      "source": [
        "#Save model\n",
        "predictor.save('/tmp/ideology_predictor')"
      ],
      "execution_count": null,
      "outputs": []
    },
    {
      "cell_type": "code",
      "metadata": {
        "id": "v1sPCXpfka2b",
        "colab": {
          "base_uri": "https://localhost:8080/",
          "height": 67
        },
        "outputId": "dcf49867-157a-48af-ef20-e12c45bde22f"
      },
      "source": [
        "#Save to drive\n",
        "save_file_to_drive(\"tf_model.h5\", '/tmp/ideology_predictor/tf_model.h5')\n",
        "save_file_to_drive(\"tf_model.preproc\", '/tmp/ideology_predictor/tf_model.preproc')"
      ],
      "execution_count": null,
      "outputs": [
        {
          "output_type": "stream",
          "text": [
            "File ID: 1QfpfUQBHb-7ZA5G55xh6YDuGs5U3VZlJ\n",
            "File ID: 1GyrUpPCUuKj209jlLMiv3UF8o7eOk3ul\n"
          ],
          "name": "stdout"
        },
        {
          "output_type": "execute_result",
          "data": {
            "text/plain": [
              "{'id': '1GyrUpPCUuKj209jlLMiv3UF8o7eOk3ul'}"
            ]
          },
          "metadata": {
            "tags": []
          },
          "execution_count": 33
        }
      ]
    },
    {
      "cell_type": "markdown",
      "metadata": {
        "id": "D65lSsHHHDIH"
      },
      "source": [
        "#### Reddit dataset\n",
        "Dataset entirely from Reddit"
      ]
    },
    {
      "cell_type": "code",
      "metadata": {
        "id": "OSV-cGtLHH5u"
      },
      "source": [
        "upload_from_drive('https://drive.google.com/file/d/1jSCMH2FltI19PNowoEgMKumrt42UdGXO/view?usp=sharing', 'third_bias_dataset_reddit_reuters.csv')"
      ],
      "execution_count": null,
      "outputs": []
    },
    {
      "cell_type": "code",
      "metadata": {
        "id": "4rZzyGyoHW_t"
      },
      "source": [
        "df_news_bias = pd.read_csv('third_bias_dataset_reddit_reuters.csv')\n",
        "df_news_bias = df_news_bias[df_news_bias['lean_right'] != 0]\n",
        "df_news_bias['lean_left'] = df_news_bias['lean_right'].apply(lambda row: 1 if row == -1 else 0)"
      ],
      "execution_count": null,
      "outputs": []
    },
    {
      "cell_type": "code",
      "metadata": {
        "id": "xrkyi-QKHoXx",
        "colab": {
          "base_uri": "https://localhost:8080/"
        },
        "outputId": "b7c489c4-96b3-4827-c42b-45a9b9b729ba"
      },
      "source": [
        "df_news_bias.info()"
      ],
      "execution_count": null,
      "outputs": [
        {
          "output_type": "stream",
          "text": [
            "<class 'pandas.core.frame.DataFrame'>\n",
            "Int64Index: 89347 entries, 55000 to 144346\n",
            "Data columns (total 3 columns):\n",
            " #   Column      Non-Null Count  Dtype \n",
            "---  ------      --------------  ----- \n",
            " 0   lean_right  89347 non-null  int64 \n",
            " 1   text        89347 non-null  object\n",
            " 2   lean_left   89347 non-null  int64 \n",
            "dtypes: int64(2), object(1)\n",
            "memory usage: 2.7+ MB\n"
          ],
          "name": "stdout"
        }
      ]
    },
    {
      "cell_type": "code",
      "metadata": {
        "id": "L5XXG5h9HwX3",
        "colab": {
          "base_uri": "https://localhost:8080/",
          "height": 319
        },
        "outputId": "5146d1f2-b418-437c-caec-16591fef020b"
      },
      "source": [
        "#Preprocess text\n",
        "(x_train, y_train), (x_test, y_test), preproc = text.texts_from_df(train_df=df_news_bias, \n",
        "                                                                   text_column='text',\n",
        "                                                                   label_columns=['lean_left'],\n",
        "                                                                   val_pct=0.2, \n",
        "                                                                   max_features=100000, \n",
        "                                                                   maxlen=128,\n",
        "                                                                   preprocess_mode='bert',\n",
        "                                                                   ngram_range=1)\n",
        "\n",
        "#Build learner\n",
        "model = text.text_classifier('bert', (x_train, y_train), preproc=preproc, )\n",
        "learner = ktrain.get_learner(model, train_data=(x_train, y_train), val_data=(x_test, y_test), batch_size=24)"
      ],
      "execution_count": null,
      "outputs": [
        {
          "output_type": "stream",
          "text": [
            "downloading pretrained BERT model (uncased_L-12_H-768_A-12.zip)...\n",
            "[██████████████████████████████████████████████████]\n",
            "extracting pretrained BERT model...\n",
            "done.\n",
            "\n",
            "cleanup downloaded zip...\n",
            "done.\n",
            "\n",
            "preprocessing train...\n",
            "language: en\n"
          ],
          "name": "stdout"
        },
        {
          "output_type": "display_data",
          "data": {
            "text/html": [
              "done."
            ],
            "text/plain": [
              "<IPython.core.display.HTML object>"
            ]
          },
          "metadata": {
            "tags": []
          }
        },
        {
          "output_type": "stream",
          "text": [
            "Is Multi-Label? False\n",
            "preprocessing test...\n",
            "language: en\n"
          ],
          "name": "stdout"
        },
        {
          "output_type": "display_data",
          "data": {
            "text/html": [
              "done."
            ],
            "text/plain": [
              "<IPython.core.display.HTML object>"
            ]
          },
          "metadata": {
            "tags": []
          }
        },
        {
          "output_type": "stream",
          "text": [
            "Is Multi-Label? False\n",
            "maxlen is 128\n",
            "done.\n"
          ],
          "name": "stdout"
        }
      ]
    },
    {
      "cell_type": "code",
      "metadata": {
        "id": "-QZFaBflHwX_",
        "colab": {
          "base_uri": "https://localhost:8080/",
          "height": 767
        },
        "outputId": "208a57eb-17bf-4178-a89b-dc1c58c153c4"
      },
      "source": [
        "#Find optimal learning rate\n",
        "learner.lr_find(show_plot=True, max_epochs=5)\n",
        "learner.lr_plot() "
      ],
      "execution_count": null,
      "outputs": [
        {
          "output_type": "stream",
          "text": [
            "simulating training for different learning rates... this may take a few moments...\n",
            "Epoch 1/5\n",
            "2979/2979 [==============================] - 1294s 434ms/step - loss: 0.5800 - accuracy: 0.6878\n",
            "Epoch 2/5\n",
            "2979/2979 [==============================] - 1294s 434ms/step - loss: 0.3296 - accuracy: 0.8585\n",
            "Epoch 3/5\n",
            "2979/2979 [==============================] - 1291s 433ms/step - loss: 0.6771 - accuracy: 0.5927\n",
            "Epoch 4/5\n",
            "2979/2979 [==============================] - 1291s 434ms/step - loss: 1.5167 - accuracy: 0.5200\n",
            "\n",
            "\n",
            "done.\n",
            "Visually inspect loss plot and select learning rate associated with falling loss\n"
          ],
          "name": "stdout"
        },
        {
          "output_type": "display_data",
          "data": {
            "image/png": "[encoded data removed]",
            "text/plain": [
              "<Figure size 432x288 with 1 Axes>"
            ]
          },
          "metadata": {
            "tags": [],
            "needs_background": "light"
          }
        },
        {
          "output_type": "display_data",
          "data": {
            "image/png": "[encoded data removed]",
            "text/plain": [
              "<Figure size 432x288 with 1 Axes>"
            ]
          },
          "metadata": {
            "tags": [],
            "needs_background": "light"
          }
        }
      ]
    },
    {
      "cell_type": "code",
      "metadata": {
        "id": "U5yZEdTvHwYF",
        "colab": {
          "base_uri": "https://localhost:8080/"
        },
        "outputId": "9b94c75a-26b8-47e6-8b00-9d61d4589fc9"
      },
      "source": [
        "#Fit model\n",
        "learner.fit_onecycle(1e-4, 4)"
      ],
      "execution_count": null,
      "outputs": [
        {
          "output_type": "stream",
          "text": [
            "\n",
            "\n",
            "begin training using onecycle policy with max lr of 0.0001...\n",
            "Epoch 1/4\n",
            "2979/2979 [==============================] - 1315s 441ms/step - loss: 0.0437 - accuracy: 0.9858 - val_loss: 0.4089 - val_accuracy: 0.8834\n",
            "Epoch 2/4\n",
            "2979/2979 [==============================] - 1309s 439ms/step - loss: 0.0940 - accuracy: 0.9658 - val_loss: 0.3596 - val_accuracy: 0.8913\n",
            "Epoch 3/4\n",
            "2979/2979 [==============================] - 1314s 441ms/step - loss: 0.0845 - accuracy: 0.9698 - val_loss: 0.3438 - val_accuracy: 0.8922\n",
            "Epoch 4/4\n",
            "2979/2979 [==============================] - 1325s 445ms/step - loss: 0.0269 - accuracy: 0.9913 - val_loss: 0.4510 - val_accuracy: 0.8959\n"
          ],
          "name": "stdout"
        },
        {
          "output_type": "execute_result",
          "data": {
            "text/plain": [
              "<tensorflow.python.keras.callbacks.History at 0x7f66eb242e48>"
            ]
          },
          "metadata": {
            "tags": []
          },
          "execution_count": 17
        }
      ]
    },
    {
      "cell_type": "code",
      "metadata": {
        "id": "2aviPhopHwYK",
        "colab": {
          "base_uri": "https://localhost:8080/"
        },
        "outputId": "1bf52a61-751f-40c6-c950-46ba3a509a82"
      },
      "source": [
        "learner.validate()"
      ],
      "execution_count": null,
      "outputs": [
        {
          "output_type": "stream",
          "text": [
            "              precision    recall  f1-score   support\n",
            "\n",
            "           0       0.91      0.91      0.91     10548\n",
            "           1       0.87      0.87      0.87      7322\n",
            "\n",
            "    accuracy                           0.90     17870\n",
            "   macro avg       0.89      0.89      0.89     17870\n",
            "weighted avg       0.90      0.90      0.90     17870\n",
            "\n"
          ],
          "name": "stdout"
        },
        {
          "output_type": "execute_result",
          "data": {
            "text/plain": [
              "array([[9616,  932],\n",
              "       [ 928, 6394]])"
            ]
          },
          "metadata": {
            "tags": []
          },
          "execution_count": 19
        }
      ]
    },
    {
      "cell_type": "code",
      "metadata": {
        "id": "-RXFlEl6IBvn"
      },
      "source": [
        "#Get predictor\n",
        "predictor = ktrain.get_predictor(learner.model, preproc=preproc)"
      ],
      "execution_count": null,
      "outputs": []
    },
    {
      "cell_type": "code",
      "metadata": {
        "id": "M4A5xHeBIBvv"
      },
      "source": [
        "#Save model\n",
        "predictor.save('/tmp/ideology_predictor')"
      ],
      "execution_count": null,
      "outputs": []
    },
    {
      "cell_type": "code",
      "metadata": {
        "id": "asBAKXMSIBv0",
        "colab": {
          "base_uri": "https://localhost:8080/"
        },
        "outputId": "51ac9f9c-33f6-4c76-a932-20f93f67f3ba"
      },
      "source": [
        "#Save to drive\n",
        "save_file_to_drive(\"tf_model.h5\", '/tmp/ideology_predictor/tf_model.h5')\n",
        "save_file_to_drive(\"tf_model.preproc\", '/tmp/ideology_predictor/tf_model.preproc')"
      ],
      "execution_count": null,
      "outputs": [
        {
          "output_type": "stream",
          "text": [
            "File ID: 1q2o4Xo_4y871Ja080xO08sVlQDj95C2J\n",
            "File ID: 1l3yocewbkS9neFHzyMLPi7rk8kUJDO7x\n"
          ],
          "name": "stdout"
        },
        {
          "output_type": "execute_result",
          "data": {
            "text/plain": [
              "{'id': '1l3yocewbkS9neFHzyMLPi7rk8kUJDO7x'}"
            ]
          },
          "metadata": {
            "tags": []
          },
          "execution_count": 22
        }
      ]
    },
    {
      "cell_type": "code",
      "metadata": {
        "id": "VX2z7l77LuC3"
      },
      "source": [
        ""
      ],
      "execution_count": null,
      "outputs": []
    }
  ]
}